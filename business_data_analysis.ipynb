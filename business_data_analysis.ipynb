{
 "cells": [
  {
   "cell_type": "markdown",
   "metadata": {},
   "source": [
    "## Part 1"
   ]
  },
  {
   "cell_type": "code",
   "execution_count": 139,
   "metadata": {},
   "outputs": [],
   "source": [
    "import pandas as pd\n",
    "import numpy as np\n",
    "import ast\n",
    "import re\n",
    "from collections import defaultdict"
   ]
  },
  {
   "cell_type": "markdown",
   "metadata": {},
   "source": [
    "### load business data and review data"
   ]
  },
  {
   "cell_type": "code",
   "execution_count": 140,
   "metadata": {},
   "outputs": [],
   "source": [
    "trainSize=10000\n",
    "business_train = pd.read_json('..//data//business_train.json',orient = 'records',lines = True)\n",
    "review_train=pd.read_json('..//data//review_train.json',orient='records',lines=True,chunksize=trainSize)"
   ]
  },
  {
   "cell_type": "markdown",
   "metadata": {},
   "source": [
    "### first look at the data structure of business_train"
   ]
  },
  {
   "cell_type": "markdown",
   "metadata": {},
   "source": [
    "category:"
   ]
  },
  {
   "cell_type": "code",
   "execution_count": 141,
   "metadata": {},
   "outputs": [
    {
     "data": {
      "text/plain": [
       "0                                    Golf, Active Life\n",
       "1                    Sushi Bars, Restaurants, Japanese\n",
       "2                        Insurance, Financial Services\n",
       "3    Plumbing, Shopping, Local Services, Home Servi...\n",
       "4                           Beauty & Spas, Hair Salons\n",
       "Name: categories, dtype: object"
      ]
     },
     "execution_count": 141,
     "metadata": {},
     "output_type": "execute_result"
    }
   ],
   "source": [
    "business_train.categories.iloc[:5]"
   ]
  },
  {
   "cell_type": "code",
   "execution_count": 142,
   "metadata": {},
   "outputs": [],
   "source": [
    "businessCategory=business_train.categories.map(lambda x: x.split(',') if x!=None else [])\n",
    "res=defaultdict(int)\n",
    "for i in businessCategory:\n",
    "    for j in i:\n",
    "        res[j]+=1\n",
    "\n",
    "res=sorted(res.items(),key=lambda x:x[1],reverse=True)"
   ]
  },
  {
   "cell_type": "markdown",
   "metadata": {},
   "source": [
    "By term appearance frequency, we have:"
   ]
  },
  {
   "cell_type": "code",
   "execution_count": 143,
   "metadata": {},
   "outputs": [
    {
     "name": "stdout",
     "output_type": "stream",
     "text": [
      " Restaurants appears 33024 times in the category column.\n",
      " Shopping appears 19337 times in the category column.\n",
      " Food appears 17582 times in the category column.\n",
      "Restaurants appears 14482 times in the category column.\n",
      " Home Services appears 11677 times in the category column.\n",
      " Beauty & Spas appears 10936 times in the category column.\n",
      " Health & Medical appears 10210 times in the category column.\n",
      " Local Services appears 8449 times in the category column.\n",
      " Nightlife appears 8242 times in the category column.\n",
      " Bars appears 7334 times in the category column.\n"
     ]
    }
   ],
   "source": [
    "for i in res[:10]:\n",
    "    print(\"{} appears {} times in the category column.\".format(i[0],i[1]))\n",
    "    \n"
   ]
  },
  {
   "cell_type": "markdown",
   "metadata": {},
   "source": [
    "In this document, we mainly focus on the Restaurants, the analysis logic can also be applied on other types of business entities."
   ]
  },
  {
   "cell_type": "markdown",
   "metadata": {},
   "source": [
    "### filter all the Restaurants"
   ]
  },
  {
   "cell_type": "code",
   "execution_count": 144,
   "metadata": {},
   "outputs": [],
   "source": [
    "business_train=business_train[business_train.categories.map(lambda x:\"Restaurants\" in x if x else False)]"
   ]
  },
  {
   "cell_type": "markdown",
   "metadata": {},
   "source": [
    "### preserve business_id, stars columns and save it to local json files"
   ]
  },
  {
   "cell_type": "code",
   "execution_count": 145,
   "metadata": {},
   "outputs": [],
   "source": [
    "# count=2\n",
    "# res=next(review_train).iloc[:,[0,2]]\n",
    "# for reviewTrainChunk in review_train:\n",
    "#     print(\"processing {} th chunk ...\".format(count))\n",
    "#     res=res.append(reviewTrainChunk.iloc[:,[0,2]])\n",
    "#     count+=1\n",
    "# print(\"finished\")"
   ]
  },
  {
   "cell_type": "code",
   "execution_count": 146,
   "metadata": {},
   "outputs": [],
   "source": [
    "# res.shape\n",
    "# res.columns\n",
    "\n",
    "# res=res.groupby('business_id',as_index=False).mean()\n",
    "\n",
    "# res.to_json(\"average_star_by_shops.json\",orient='records')"
   ]
  },
  {
   "cell_type": "code",
   "execution_count": 147,
   "metadata": {},
   "outputs": [],
   "source": [
    "shop_stars=pd.read_json(\"average_star_by_shops.json\",orient=\"records\")"
   ]
  },
  {
   "cell_type": "markdown",
   "metadata": {},
   "source": [
    "### Extract nested json data from business attribute data"
   ]
  },
  {
   "cell_type": "code",
   "execution_count": 148,
   "metadata": {},
   "outputs": [],
   "source": [
    "def nestedValue(x:str):\n",
    "    \"\"\"judge if a string contains nested json information\"\"\"\n",
    "    return re.match(u'{.*}',x)\n",
    "\n",
    "### first extract the column names from nested json\n",
    "colnames=[]\n",
    "for attribute in business_train.attributes:\n",
    "    if attribute==None:\n",
    "        continue\n",
    "    for key,value in attribute.items():\n",
    "        if not nestedValue(value):\n",
    "            colnames.append(key)\n",
    "        else:\n",
    "            for nestKey,nestValue in ast.literal_eval(value).items():\n",
    "                colnames.append(nestKey)\n",
    "colnames=set(colnames)\n",
    "\n",
    "### second extract the value from nested json file\n",
    "res=defaultdict(list)\n",
    "count=0\n",
    "for attribute in business_train.attributes:\n",
    "    \n",
    "    \n",
    "    for i in colnames:\n",
    "        res[i].append(None)\n",
    "    if attribute==None:\n",
    "        count+=1\n",
    "        continue\n",
    "    for key,value in attribute.items():\n",
    "        if not nestedValue(value):\n",
    "            res[key][count]=value\n",
    "        else:\n",
    "            for nestKey,nestValue in ast.literal_eval(value).items():\n",
    "                res[nestKey][count]=nestValue\n",
    "            \n",
    "        \n",
    "    count+=1 \n",
    "\n",
    "attributeTrain=pd.DataFrame(res)\n",
    "\n",
    "attributeTrain.shape\n",
    "\n",
    "attributeTrain['business_id']=business_train.business_id.tolist()"
   ]
  },
  {
   "cell_type": "markdown",
   "metadata": {},
   "source": [
    "### join business data and review rating on business_id"
   ]
  },
  {
   "cell_type": "code",
   "execution_count": 149,
   "metadata": {},
   "outputs": [],
   "source": [
    "attributeTrain=attributeTrain.join(shop_stars.set_index('business_id'),on=\"business_id\",how='left')"
   ]
  },
  {
   "cell_type": "markdown",
   "metadata": {},
   "source": [
    "### data cleaning, drop columns with many NAs, convert string to category "
   ]
  },
  {
   "cell_type": "code",
   "execution_count": 150,
   "metadata": {},
   "outputs": [
    {
     "name": "stdout",
     "output_type": "stream",
     "text": [
      "<class 'pandas.core.frame.DataFrame'>\n",
      "RangeIndex: 47506 entries, 0 to 47505\n",
      "Data columns (total 9 columns):\n",
      "RestaurantsPriceRange2      41706 non-null object\n",
      "RestaurantsTakeOut          41884 non-null object\n",
      "RestaurantsReservations     40332 non-null object\n",
      "RestaurantsGoodForGroups    40791 non-null object\n",
      "RestaurantsDelivery         39863 non-null object\n",
      "RestaurantsAttire           38879 non-null object\n",
      "OutdoorSeating              38660 non-null object\n",
      "GoodForKids                 40545 non-null object\n",
      "stars                       47506 non-null float64\n",
      "dtypes: float64(1), object(8)\n",
      "memory usage: 3.3+ MB\n"
     ]
    }
   ],
   "source": [
    "attributeTrainReduced=attributeTrain.dropna(thresh=len(attributeTrain)*0.8, axis=1)\n",
    "\n",
    "attributeTrainReduced=attributeTrainReduced.drop(\"business_id\",axis=1);\n",
    "\n",
    "attributeTrainReduced.info()"
   ]
  },
  {
   "cell_type": "code",
   "execution_count": 151,
   "metadata": {},
   "outputs": [],
   "source": [
    "for colName in attributeTrainReduced.columns[:-1]:\n",
    "    attributeTrainReduced[colName]=attributeTrainReduced[colName].astype('category')"
   ]
  },
  {
   "cell_type": "code",
   "execution_count": 152,
   "metadata": {},
   "outputs": [
    {
     "data": {
      "text/plain": [
       "[2, 1, 2, 2, 1, ..., 2, 2, NaN, 1, 3]\n",
       "Length: 47506\n",
       "Categories (5, object): [1, 2, 3, 4, None]"
      ]
     },
     "execution_count": 152,
     "metadata": {},
     "output_type": "execute_result"
    }
   ],
   "source": [
    "attributeTrainReduced.iloc[:,0].values"
   ]
  },
  {
   "cell_type": "markdown",
   "metadata": {},
   "source": [
    "### try fit a simple linear regression"
   ]
  },
  {
   "cell_type": "code",
   "execution_count": 153,
   "metadata": {},
   "outputs": [
    {
     "data": {
      "text/html": [
       "<div>\n",
       "<style scoped>\n",
       "    .dataframe tbody tr th:only-of-type {\n",
       "        vertical-align: middle;\n",
       "    }\n",
       "\n",
       "    .dataframe tbody tr th {\n",
       "        vertical-align: top;\n",
       "    }\n",
       "\n",
       "    .dataframe thead th {\n",
       "        text-align: right;\n",
       "    }\n",
       "</style>\n",
       "<table border=\"1\" class=\"dataframe\">\n",
       "  <thead>\n",
       "    <tr style=\"text-align: right;\">\n",
       "      <th></th>\n",
       "      <th>stars</th>\n",
       "      <th>RestaurantsPriceRange2_1</th>\n",
       "      <th>RestaurantsPriceRange2_2</th>\n",
       "      <th>RestaurantsPriceRange2_3</th>\n",
       "      <th>RestaurantsPriceRange2_4</th>\n",
       "      <th>RestaurantsPriceRange2_None</th>\n",
       "      <th>RestaurantsTakeOut_False</th>\n",
       "      <th>RestaurantsTakeOut_None</th>\n",
       "      <th>RestaurantsTakeOut_True</th>\n",
       "      <th>RestaurantsReservations_False</th>\n",
       "      <th>...</th>\n",
       "      <th>RestaurantsAttire_None</th>\n",
       "      <th>RestaurantsAttire_u'casual'</th>\n",
       "      <th>RestaurantsAttire_u'dressy'</th>\n",
       "      <th>RestaurantsAttire_u'formal'</th>\n",
       "      <th>OutdoorSeating_False</th>\n",
       "      <th>OutdoorSeating_None</th>\n",
       "      <th>OutdoorSeating_True</th>\n",
       "      <th>GoodForKids_False</th>\n",
       "      <th>GoodForKids_None</th>\n",
       "      <th>GoodForKids_True</th>\n",
       "    </tr>\n",
       "  </thead>\n",
       "  <tbody>\n",
       "    <tr>\n",
       "      <th>0</th>\n",
       "      <td>4.073034</td>\n",
       "      <td>0</td>\n",
       "      <td>1</td>\n",
       "      <td>0</td>\n",
       "      <td>0</td>\n",
       "      <td>0</td>\n",
       "      <td>0</td>\n",
       "      <td>0</td>\n",
       "      <td>1</td>\n",
       "      <td>0</td>\n",
       "      <td>...</td>\n",
       "      <td>0</td>\n",
       "      <td>0</td>\n",
       "      <td>0</td>\n",
       "      <td>0</td>\n",
       "      <td>1</td>\n",
       "      <td>0</td>\n",
       "      <td>0</td>\n",
       "      <td>0</td>\n",
       "      <td>0</td>\n",
       "      <td>1</td>\n",
       "    </tr>\n",
       "    <tr>\n",
       "      <th>1</th>\n",
       "      <td>2.894737</td>\n",
       "      <td>1</td>\n",
       "      <td>0</td>\n",
       "      <td>0</td>\n",
       "      <td>0</td>\n",
       "      <td>0</td>\n",
       "      <td>0</td>\n",
       "      <td>0</td>\n",
       "      <td>1</td>\n",
       "      <td>1</td>\n",
       "      <td>...</td>\n",
       "      <td>0</td>\n",
       "      <td>1</td>\n",
       "      <td>0</td>\n",
       "      <td>0</td>\n",
       "      <td>1</td>\n",
       "      <td>0</td>\n",
       "      <td>0</td>\n",
       "      <td>0</td>\n",
       "      <td>0</td>\n",
       "      <td>1</td>\n",
       "    </tr>\n",
       "    <tr>\n",
       "      <th>2</th>\n",
       "      <td>4.333333</td>\n",
       "      <td>0</td>\n",
       "      <td>1</td>\n",
       "      <td>0</td>\n",
       "      <td>0</td>\n",
       "      <td>0</td>\n",
       "      <td>0</td>\n",
       "      <td>0</td>\n",
       "      <td>1</td>\n",
       "      <td>1</td>\n",
       "      <td>...</td>\n",
       "      <td>0</td>\n",
       "      <td>1</td>\n",
       "      <td>0</td>\n",
       "      <td>0</td>\n",
       "      <td>1</td>\n",
       "      <td>0</td>\n",
       "      <td>0</td>\n",
       "      <td>0</td>\n",
       "      <td>0</td>\n",
       "      <td>1</td>\n",
       "    </tr>\n",
       "    <tr>\n",
       "      <th>3</th>\n",
       "      <td>4.097561</td>\n",
       "      <td>0</td>\n",
       "      <td>1</td>\n",
       "      <td>0</td>\n",
       "      <td>0</td>\n",
       "      <td>0</td>\n",
       "      <td>0</td>\n",
       "      <td>0</td>\n",
       "      <td>1</td>\n",
       "      <td>0</td>\n",
       "      <td>...</td>\n",
       "      <td>0</td>\n",
       "      <td>0</td>\n",
       "      <td>0</td>\n",
       "      <td>0</td>\n",
       "      <td>1</td>\n",
       "      <td>0</td>\n",
       "      <td>0</td>\n",
       "      <td>0</td>\n",
       "      <td>0</td>\n",
       "      <td>1</td>\n",
       "    </tr>\n",
       "    <tr>\n",
       "      <th>4</th>\n",
       "      <td>4.243243</td>\n",
       "      <td>1</td>\n",
       "      <td>0</td>\n",
       "      <td>0</td>\n",
       "      <td>0</td>\n",
       "      <td>0</td>\n",
       "      <td>0</td>\n",
       "      <td>0</td>\n",
       "      <td>1</td>\n",
       "      <td>1</td>\n",
       "      <td>...</td>\n",
       "      <td>0</td>\n",
       "      <td>0</td>\n",
       "      <td>0</td>\n",
       "      <td>0</td>\n",
       "      <td>1</td>\n",
       "      <td>0</td>\n",
       "      <td>0</td>\n",
       "      <td>0</td>\n",
       "      <td>0</td>\n",
       "      <td>1</td>\n",
       "    </tr>\n",
       "  </tbody>\n",
       "</table>\n",
       "<p>5 rows × 31 columns</p>\n",
       "</div>"
      ],
      "text/plain": [
       "      stars  RestaurantsPriceRange2_1  RestaurantsPriceRange2_2  \\\n",
       "0  4.073034                         0                         1   \n",
       "1  2.894737                         1                         0   \n",
       "2  4.333333                         0                         1   \n",
       "3  4.097561                         0                         1   \n",
       "4  4.243243                         1                         0   \n",
       "\n",
       "   RestaurantsPriceRange2_3  RestaurantsPriceRange2_4  \\\n",
       "0                         0                         0   \n",
       "1                         0                         0   \n",
       "2                         0                         0   \n",
       "3                         0                         0   \n",
       "4                         0                         0   \n",
       "\n",
       "   RestaurantsPriceRange2_None  RestaurantsTakeOut_False  \\\n",
       "0                            0                         0   \n",
       "1                            0                         0   \n",
       "2                            0                         0   \n",
       "3                            0                         0   \n",
       "4                            0                         0   \n",
       "\n",
       "   RestaurantsTakeOut_None  RestaurantsTakeOut_True  \\\n",
       "0                        0                        1   \n",
       "1                        0                        1   \n",
       "2                        0                        1   \n",
       "3                        0                        1   \n",
       "4                        0                        1   \n",
       "\n",
       "   RestaurantsReservations_False        ...         RestaurantsAttire_None  \\\n",
       "0                              0        ...                              0   \n",
       "1                              1        ...                              0   \n",
       "2                              1        ...                              0   \n",
       "3                              0        ...                              0   \n",
       "4                              1        ...                              0   \n",
       "\n",
       "   RestaurantsAttire_u'casual'  RestaurantsAttire_u'dressy'  \\\n",
       "0                            0                            0   \n",
       "1                            1                            0   \n",
       "2                            1                            0   \n",
       "3                            0                            0   \n",
       "4                            0                            0   \n",
       "\n",
       "   RestaurantsAttire_u'formal'  OutdoorSeating_False  OutdoorSeating_None  \\\n",
       "0                            0                     1                    0   \n",
       "1                            0                     1                    0   \n",
       "2                            0                     1                    0   \n",
       "3                            0                     1                    0   \n",
       "4                            0                     1                    0   \n",
       "\n",
       "   OutdoorSeating_True  GoodForKids_False  GoodForKids_None  GoodForKids_True  \n",
       "0                    0                  0                 0                 1  \n",
       "1                    0                  0                 0                 1  \n",
       "2                    0                  0                 0                 1  \n",
       "3                    0                  0                 0                 1  \n",
       "4                    0                  0                 0                 1  \n",
       "\n",
       "[5 rows x 31 columns]"
      ]
     },
     "execution_count": 153,
     "metadata": {},
     "output_type": "execute_result"
    }
   ],
   "source": [
    "pd.get_dummies(attributeTrainReduced).iloc[:5,:]"
   ]
  },
  {
   "cell_type": "code",
   "execution_count": 154,
   "metadata": {},
   "outputs": [],
   "source": [
    "from sklearn.linear_model import LogisticRegression\n",
    "from sklearn.model_selection import train_test_split\n",
    "\n",
    "from sklearn.metrics import mean_squared_error\n",
    "from sklearn.linear_model import LinearRegression\n",
    "\n",
    "\n",
    "\n",
    "X_train, X_test, y_train, y_test = train_test_split(pd.get_dummies(attributeTrainReduced).iloc[:,1:],pd.get_dummies(attributeTrainReduced).iloc[:,0],  random_state=0)"
   ]
  },
  {
   "cell_type": "code",
   "execution_count": 155,
   "metadata": {},
   "outputs": [
    {
     "name": "stdout",
     "output_type": "stream",
     "text": [
      "the score(rmse) is 0.772897920927657\n"
     ]
    }
   ],
   "source": [
    "modelSlr = LinearRegression().fit(X_train, y_train)\n",
    "pred=modelSlr.predict(X_test)\n",
    "print(\"the score(rmse) is {}\".format(np.sqrt(mean_squared_error(pred,y_test))))"
   ]
  },
  {
   "cell_type": "markdown",
   "metadata": {},
   "source": [
    "### round the rating value and use a multioutcome logistic regression"
   ]
  },
  {
   "cell_type": "code",
   "execution_count": 156,
   "metadata": {},
   "outputs": [
    {
     "name": "stdout",
     "output_type": "stream",
     "text": [
      "the score is 1.0063989222867729\n"
     ]
    }
   ],
   "source": [
    "# here, we need to make continuous ylabel to be categorical variable\n",
    "y_train_class=np.round(y_train)\n",
    "y_test_class=np.round(y_test)\n",
    "from sklearn.linear_model import LogisticRegression\n",
    "\n",
    "modelLr=LogisticRegression(multi_class='multinomial',solver='newton-cg')\n",
    "modelLr.fit(X_train,y_train_class)\n",
    "pred=modelLr.predict(X_test)\n",
    "print(\"the score is {}\".format(mean_squared_error(pred,y_test_class)))"
   ]
  },
  {
   "cell_type": "markdown",
   "metadata": {},
   "source": [
    "### Linear Discriminant Analysis  (different from latent dirichlet allocation topic model)\n",
    "Here, we would like to select a few dimensions, each dimension is a linear combination of the business attribute, that separate the most of five classes."
   ]
  },
  {
   "cell_type": "code",
   "execution_count": 157,
   "metadata": {},
   "outputs": [
    {
     "name": "stdout",
     "output_type": "stream",
     "text": [
      "[[-0.65605133  1.08297415]\n",
      " [-1.38859902  1.62475809]\n",
      " [-0.09525673  1.21068002]\n",
      " ...\n",
      " [ 0.95767289  0.74735597]\n",
      " [-0.44731994  1.20638682]\n",
      " [ 1.09497859  0.19703957]]\n",
      "the score(rmse) is 1.0115939836754513\n"
     ]
    }
   ],
   "source": [
    "from sklearn.discriminant_analysis import LinearDiscriminantAnalysis\n",
    "modelLda = LinearDiscriminantAnalysis(n_components=2)\n",
    "\n",
    "modelLda.fit(X_train,y_train_class)\n",
    "temp=modelLda.transform(X_test)\n",
    "print(temp)\n",
    "\n",
    "modelLda.fit(X_train,y_train_class)\n",
    "pred=modelLda.predict(X_test)\n",
    "print(\"the score(rmse) is {}\".format(np.sqrt(mean_squared_error(pred,y_test_class))))"
   ]
  },
  {
   "cell_type": "code",
   "execution_count": 158,
   "metadata": {},
   "outputs": [
    {
     "name": "stdout",
     "output_type": "stream",
     "text": [
      "explained variance ratio (first two components): [0.69930716 0.21894569]\n"
     ]
    },
    {
     "data": {
      "image/png": "[encoded data removed]",
      "text/plain": [
       "<Figure size 432x288 with 1 Axes>"
      ]
     },
     "metadata": {
      "needs_background": "light"
     },
     "output_type": "display_data"
    }
   ],
   "source": [
    "import matplotlib.pyplot as plt\n",
    "X_test_transform= modelLda.transform(X_test)\n",
    "target_names=[1,2,3,4,5]\n",
    "# Percentage of variance explained for each components\n",
    "print('explained variance ratio (first two components): %s'\n",
    "      % str(modelLda.explained_variance_ratio_))\n",
    "\n",
    "plt.figure()\n",
    "colors = ['navy', 'turquoise', 'darkorange','red','blue']\n",
    "lw = 2\n",
    "\n",
    "for color, i, target_name in zip(colors, [0, 1, 2,3,4], target_names):\n",
    "    plt.scatter(X_test_transform[y_test == i, 0], X_test_transform[y_test == i, 1], color=color, alpha=.8, lw=lw,\n",
    "                label=target_name)\n",
    "plt.legend(loc='best', shadow=False, scatterpoints=1)\n",
    "\n",
    "plt.legend(loc='best', shadow=False, scatterpoints=1)\n",
    "plt.title('LDA of IRIS dataset')\n",
    "\n",
    "plt.show()"
   ]
  },
  {
   "cell_type": "code",
   "execution_count": 159,
   "metadata": {},
   "outputs": [
    {
     "name": "stdout",
     "output_type": "stream",
     "text": [
      "1 3\n",
      "2 4\n"
     ]
    }
   ],
   "source": [
    "for i,j in zip([1,2],[3,4]):\n",
    "    print(i,j)"
   ]
  },
  {
   "cell_type": "markdown",
   "metadata": {},
   "source": [
    "### use randomforest to have a glimpse at feature importance"
   ]
  },
  {
   "cell_type": "code",
   "execution_count": 160,
   "metadata": {},
   "outputs": [
    {
     "name": "stderr",
     "output_type": "stream",
     "text": [
      "C:\\ProgramData\\Anaconda3\\lib\\site-packages\\sklearn\\ensemble\\forest.py:246: FutureWarning: The default value of n_estimators will change from 10 in version 0.20 to 100 in 0.22.\n",
      "  \"10 in version 0.20 to 100 in 0.22.\", FutureWarning)\n"
     ]
    },
    {
     "name": "stdout",
     "output_type": "stream",
     "text": [
      "the score(rmse) is 1.0170724189871352\n"
     ]
    }
   ],
   "source": [
    "from sklearn.ensemble import RandomForestClassifier\n",
    "%matplotlib inline            \n",
    "\n",
    "modelRfc = RandomForestClassifier()\n",
    "modelRfc.fit(X_train, y_train_class)\n",
    "\n",
    "pred=modelRfc.predict(X_test)\n",
    "print(\"the score(rmse) is {}\".format(np.sqrt(mean_squared_error(pred,y_test_class))))"
   ]
  },
  {
   "cell_type": "markdown",
   "metadata": {},
   "source": [
    "the prediction is better than logistic regression"
   ]
  },
  {
   "cell_type": "code",
   "execution_count": 161,
   "metadata": {},
   "outputs": [
    {
     "data": {
      "text/plain": [
       "<matplotlib.axes._subplots.AxesSubplot at 0x149bc822400>"
      ]
     },
     "execution_count": 161,
     "metadata": {},
     "output_type": "execute_result"
    },
    {
     "data": {
      "image/png": "[encoded data removed]",
      "text/plain": [
       "<Figure size 432x288 with 1 Axes>"
      ]
     },
     "metadata": {
      "needs_background": "light"
     },
     "output_type": "display_data"
    }
   ],
   "source": [
    "pd.Series(modelRfc.feature_importances_, index=X_train.columns).nlargest(10).plot(kind='barh')"
   ]
  },
  {
   "cell_type": "markdown",
   "metadata": {},
   "source": [
    "some variables actually make sense, so we extract a single tree from the forest to visualize it."
   ]
  },
  {
   "cell_type": "code",
   "execution_count": 162,
   "metadata": {},
   "outputs": [],
   "source": [
    "# from sklearn.tree import export_graphviz\n",
    "# # Extract single tree\n",
    "# estimator = modelRfc.estimators_[5]\n",
    "\n",
    "# # Export to dot file\n",
    "# export_graphviz(estimator, \n",
    "#                 out_file='tree.dot', \n",
    "#                 feature_names = X_train.columns,\n",
    "                \n",
    "#                 rounded = True, proportion = False, \n",
    "#                 precision = 2, filled = True)\n",
    "# # Convert to png\n",
    "# import os\n",
    "# os.system('dot -Tpng tree.dot -o tree.png')\n",
    "\n",
    "# # Display in jupyter notebook\n",
    "# from IPython.display import Image\n",
    "# Image(filename = 'tree.png')"
   ]
  },
  {
   "cell_type": "markdown",
   "metadata": {},
   "source": [
    "### check the meaning of each variable and do variable selection"
   ]
  },
  {
   "cell_type": "code",
   "execution_count": 163,
   "metadata": {},
   "outputs": [
    {
     "name": "stdout",
     "output_type": "stream",
     "text": [
      "--------------------------------------------------------------------\n",
      "For RestaurantsPriceRange2,46.69% shops are 2, the average ratings are 3.48\n",
      "For RestaurantsPriceRange2,35.3% shops are 1, the average ratings are 3.39\n",
      "For RestaurantsPriceRange2,4.85% shops are 3, the average ratings are 3.61\n",
      "For RestaurantsPriceRange2,0.0% shops are nan, the average ratings are nan\n",
      "For RestaurantsPriceRange2,0.87% shops are 4, the average ratings are 3.65\n",
      "For RestaurantsPriceRange2,0.08% shops are None, the average ratings are 3.1\n",
      "--------------------------------------------------------------------\n",
      "For RestaurantsTakeOut,82.38% shops are True, the average ratings are 3.44\n",
      "For RestaurantsTakeOut,5.69% shops are False, the average ratings are 3.58\n",
      "For RestaurantsTakeOut,0.0% shops are nan, the average ratings are nan\n",
      "For RestaurantsTakeOut,0.09% shops are None, the average ratings are 3.46\n",
      "Shops have False value for RestaurantsTakeOut tend to have higher ratings\n",
      "--------------------------------------------------------------------\n",
      "For RestaurantsReservations,32.91% shops are True, the average ratings are 3.55\n",
      "For RestaurantsReservations,51.92% shops are False, the average ratings are 3.38\n",
      "For RestaurantsReservations,0.0% shops are nan, the average ratings are nan\n",
      "For RestaurantsReservations,0.07% shops are None, the average ratings are 3.34\n",
      "Shops have True value for RestaurantsReservations tend to have higher ratings\n",
      "--------------------------------------------------------------------\n",
      "For RestaurantsGoodForGroups,73.95% shops are True, the average ratings are 3.45\n",
      "For RestaurantsGoodForGroups,11.85% shops are False, the average ratings are 3.37\n",
      "For RestaurantsGoodForGroups,0.0% shops are nan, the average ratings are nan\n",
      "For RestaurantsGoodForGroups,0.07% shops are None, the average ratings are 3.38\n",
      "Shops have True value for RestaurantsGoodForGroups tend to have higher ratings\n",
      "--------------------------------------------------------------------\n",
      "For RestaurantsDelivery,62.34% shops are False, the average ratings are 3.45\n",
      "For RestaurantsDelivery,21.48% shops are True, the average ratings are 3.45\n",
      "For RestaurantsDelivery,0.0% shops are nan, the average ratings are nan\n",
      "For RestaurantsDelivery,0.09% shops are None, the average ratings are 3.38\n",
      "Shops have False value for RestaurantsDelivery tend to have higher ratings\n",
      "--------------------------------------------------------------------\n",
      "For RestaurantsAttire,31.55% shops are 'casual', the average ratings are 3.46\n",
      "For RestaurantsAttire,47.64% shops are u'casual', the average ratings are 3.41\n",
      "For RestaurantsAttire,0.0% shops are nan, the average ratings are nan\n",
      "For RestaurantsAttire,0.75% shops are 'dressy', the average ratings are 3.76\n",
      "For RestaurantsAttire,1.61% shops are u'dressy', the average ratings are 3.67\n",
      "For RestaurantsAttire,0.13% shops are u'formal', the average ratings are 3.11\n",
      "For RestaurantsAttire,0.07% shops are None, the average ratings are 3.22\n",
      "For RestaurantsAttire,0.09% shops are 'formal', the average ratings are 3.5\n",
      "--------------------------------------------------------------------\n",
      "For OutdoorSeating,49.43% shops are False, the average ratings are 3.41\n",
      "For OutdoorSeating,31.85% shops are True, the average ratings are 3.54\n",
      "For OutdoorSeating,0.0% shops are nan, the average ratings are nan\n",
      "For OutdoorSeating,0.09% shops are None, the average ratings are 3.38\n",
      "Shops have True value for OutdoorSeating tend to have higher ratings\n",
      "--------------------------------------------------------------------\n",
      "For GoodForKids,70.86% shops are True, the average ratings are 3.43\n",
      "For GoodForKids,14.39% shops are False, the average ratings are 3.47\n",
      "For GoodForKids,0.0% shops are nan, the average ratings are nan\n",
      "For GoodForKids,0.09% shops are None, the average ratings are 3.5\n",
      "Shops have False value for GoodForKids tend to have higher ratings\n"
     ]
    }
   ],
   "source": [
    "for i in attributeTrainReduced.columns[:-1]:\n",
    "    print(\"--------------------------------------------------------------------\")\n",
    "    category=pd.unique(attributeTrainReduced[i])\n",
    "    if (True in category and False in category) or (\"True\" in category and \"False\" in category):\n",
    "        for subClass in category:\n",
    "            subClassRate=round(np.sum(attributeTrainReduced[i]==subClass)/attributeTrainReduced.shape[0]*100,2)\n",
    "            subClassStar=round(np.mean(attributeTrainReduced.stars[attributeTrainReduced[i]==subClass]),2)\n",
    "            print(\"For {},{}% shops are {}, the average ratings are {}\".format(i,subClassRate,subClass,subClassStar))\n",
    "        if np.mean(attributeTrainReduced.stars[attributeTrainReduced[i].isin([True,\"True\"])])>np.mean(attributeTrainReduced.stars[attributeTrainReduced[i].isin([\"False\",False])]):\n",
    "            print(\"Shops have True value for {} tend to have higher ratings\".format(i))\n",
    "        else:\n",
    "            print(\"Shops have False value for {} tend to have higher ratings\".format(i))\n",
    "    else:\n",
    "        for subClass in category:\n",
    "            subClassRate=round(np.sum(attributeTrainReduced[i]==subClass)/attributeTrainReduced.shape[0]*100,2)\n",
    "            subClassStar=round(np.mean(attributeTrainReduced.stars[attributeTrainReduced[i]==subClass]),2)\n",
    "            print(\"For {},{}% shops are {}, the average ratings are {}\".format(i,subClassRate,subClass,subClassStar))\n",
    "\n"
   ]
  },
  {
   "cell_type": "markdown",
   "metadata": {},
   "source": [
    "Conclusion:\n",
    "\n",
    "RestaurantsTakeOut: False is better\n",
    "\n",
    "touristy: False is better\n",
    "\n",
    "BusinessAcceptsCreditCards : False is better (why)\n",
    "\n",
    "RestaurantsAttire: formal is better\n",
    "\n",
    "NoiseLevel: quiet is better"
   ]
  },
  {
   "cell_type": "markdown",
   "metadata": {},
   "source": [
    "### PCA"
   ]
  },
  {
   "cell_type": "code",
   "execution_count": 164,
   "metadata": {},
   "outputs": [
    {
     "name": "stdout",
     "output_type": "stream",
     "text": [
      "(2, 30)\n",
      "[0.19542214 0.16214315]\n",
      "[-4.73349831e-01  3.27634924e-01  5.85755551e-02  1.09853255e-02\n",
      "  4.18435124e-05  6.48478835e-02  5.64808980e-04 -1.72890765e-01\n",
      " -5.18322876e-01  2.50438943e-04  4.10821387e-01 -8.80159145e-02\n",
      "  3.17116102e-04 -4.91836219e-03 -1.00370346e-01  2.99197606e-04\n",
      " -6.99740097e-03 -1.03177970e-01  1.12096436e-02  3.87376378e-04\n",
      "  4.78235292e-05 -3.92299512e-02  2.50621110e-02  1.57780567e-04\n",
      " -2.30259074e-01  8.64714737e-05  1.49728591e-01  1.47540260e-01\n",
      "  2.02240416e-04 -2.55880465e-01]\n"
     ]
    }
   ],
   "source": [
    "import numpy as np\n",
    "from sklearn.decomposition import PCA\n",
    "modelPca = PCA(n_components=2)\n",
    "modelPca.fit(X_train)\n",
    "print(modelPca.components_.shape)\n",
    "print(modelPca.explained_variance_ratio_)\n",
    "print(modelPca.components_[0,:])"
   ]
  },
  {
   "cell_type": "markdown",
   "metadata": {},
   "source": [
    "### Latent dirichlet allocation for review topic extraction based on tfidf vector"
   ]
  },
  {
   "cell_type": "markdown",
   "metadata": {},
   "source": [
    "First step is to do data preprocessing. See our Tfidf.ipynb for more details. To make things simple, we import some packages here. When submitting the final version, pay attention not to use these packages !"
   ]
  },
  {
   "cell_type": "code",
   "execution_count": 165,
   "metadata": {},
   "outputs": [
    {
     "name": "stderr",
     "output_type": "stream",
     "text": [
      "[nltk_data] Downloading package wordnet to\n",
      "[nltk_data]     C:\\Users\\ykh\\AppData\\Roaming\\nltk_data...\n",
      "[nltk_data]   Package wordnet is already up-to-date!\n"
     ]
    },
    {
     "data": {
      "text/plain": [
       "True"
      ]
     },
     "execution_count": 165,
     "metadata": {},
     "output_type": "execute_result"
    }
   ],
   "source": [
    "# load supported packages\n",
    "import gensim\n",
    "from gensim.utils import simple_preprocess\n",
    "from gensim.parsing.preprocessing import STOPWORDS\n",
    "from nltk.stem import WordNetLemmatizer, SnowballStemmer\n",
    "from nltk.stem.porter import *\n",
    "import numpy as np\n",
    "np.random.seed(2018)\n",
    "import nltk\n",
    "nltk.download('wordnet')"
   ]
  },
  {
   "cell_type": "markdown",
   "metadata": {},
   "source": [
    "load reviews about restaurants."
   ]
  },
  {
   "cell_type": "code",
   "execution_count": 166,
   "metadata": {},
   "outputs": [
    {
     "name": "stdout",
     "output_type": "stream",
     "text": [
      "the total number of reviews we use here is 2718.\n"
     ]
    }
   ],
   "source": [
    "# load a small fractio of review data\n",
    "reviewTrain=next(review_train)\n",
    "\n",
    "# make sure all reviews are about restaurants, map is a filter function to select reviews based on business_id\n",
    "reviewTrain=reviewTrain[reviewTrain.business_id.map(lambda x:x in business_train.business_id)]\n",
    "print(\"the total number of reviews we use here is {}.\".format(reviewTrain.shape[0]))"
   ]
  },
  {
   "cell_type": "markdown",
   "metadata": {},
   "source": [
    "do data cleaning."
   ]
  },
  {
   "cell_type": "code",
   "execution_count": 167,
   "metadata": {},
   "outputs": [],
   "source": [
    "stemmer = SnowballStemmer('english') # use english\n",
    "def lemmatize_stemming(text):\n",
    "    return stemmer.stem(WordNetLemmatizer().lemmatize(text, pos='v'))\n",
    "\n",
    "def preprocess(text): # tokenize\n",
    "    result = []\n",
    "    for token in gensim.utils.simple_preprocess(text):\n",
    "        if token not in gensim.parsing.preprocessing.STOPWORDS and len(token) > 3:\n",
    "            result.append(lemmatize_stemming(token))\n",
    "    return result\n",
    "reviewProcessed = reviewTrain.text.map(preprocess)"
   ]
  },
  {
   "cell_type": "markdown",
   "metadata": {},
   "source": [
    "after data preprocessing ... looks like this."
   ]
  },
  {
   "cell_type": "code",
   "execution_count": 168,
   "metadata": {},
   "outputs": [
    {
     "data": {
      "text/plain": [
       "5     [admit, excit, go, tavolta, food, snob, group,...\n",
       "7     [place, go, hill, clear, staff, food, qualiti,...\n",
       "14    [wrong, place, pasta, pizza, amaz, high, quali...\n",
       "15    [great, lunch, today, staff, help, assist, sel...\n",
       "16    [huge, slim, open, texa, year, live, place, di...\n",
       "18    [food, good, price, reason, exact, restaur, li...\n",
       "19    [pick, meat, planet, chef, mexican, style, dis...\n",
       "28    [best, chines, resto, high, recommend, star, s...\n",
       "34    [satisfi, freez, yogurt, crave, kiwispoon, inv...\n",
       "36    [dinner, bellagio, buffet, night, servic, serv...\n",
       "Name: text, dtype: object"
      ]
     },
     "execution_count": 168,
     "metadata": {},
     "output_type": "execute_result"
    }
   ],
   "source": [
    "reviewProcessed[:10]"
   ]
  },
  {
   "cell_type": "markdown",
   "metadata": {},
   "source": [
    "do further data cleaning."
   ]
  },
  {
   "cell_type": "code",
   "execution_count": 169,
   "metadata": {},
   "outputs": [],
   "source": [
    "reviewDict= gensim.corpora.Dictionary(reviewProcessed)\n",
    "reviewDict.filter_extremes(no_below=15, no_above=0.5, keep_n=100000) # filter extreme values, which occurs very few"
   ]
  },
  {
   "cell_type": "code",
   "execution_count": 178,
   "metadata": {},
   "outputs": [],
   "source": [
    "reviewCorpus = [reviewDict.doc2bow(review) for review in reviewProcessed]\n",
    "reviewCorpus[0];"
   ]
  },
  {
   "cell_type": "markdown",
   "metadata": {},
   "source": [
    "For example:"
   ]
  },
  {
   "cell_type": "code",
   "execution_count": 180,
   "metadata": {},
   "outputs": [
    {
     "name": "stdout",
     "output_type": "stream",
     "text": [
      "Word 0 (\"amaz\") appears 1 time.\n",
      "Word 1 (\"check\") appears 1 time.\n",
      "Word 2 (\"downtown\") appears 3 time.\n",
      "Word 3 (\"food\") appears 1 time.\n",
      "Word 4 (\"friend\") appears 1 time.\n",
      "Word 5 (\"high\") appears 1 time.\n",
      "Word 6 (\"lot\") appears 1 time.\n",
      "Word 7 (\"option\") appears 1 time.\n",
      "Word 8 (\"owner\") appears 1 time.\n",
      "Word 9 (\"peopl\") appears 1 time.\n",
      "Word 10 (\"pizza\") appears 1 time.\n",
      "......\n"
     ]
    }
   ],
   "source": [
    "reviewFirst=reviewCorpus[0]\n",
    "for i in range(len(reviewFirst)):\n",
    "    if i>10:\n",
    "        print(\"......\")\n",
    "        break\n",
    "    print(\"Word {} (\\\"{}\\\") appears {} time.\".format(reviewFirst[i][0], \n",
    "                                                     reviewDict[reviewFirst[i][0]], \n",
    "                                                     reviewFirst[i][1]))"
   ]
  },
  {
   "cell_type": "markdown",
   "metadata": {},
   "source": [
    "Second step is to apply tfidf on text column, and get a tfidf vector."
   ]
  },
  {
   "cell_type": "code",
   "execution_count": 181,
   "metadata": {},
   "outputs": [
    {
     "name": "stdout",
     "output_type": "stream",
     "text": [
      "(0, 0.09111189493213412)\n",
      "(1, 0.1530329875180127)\n",
      "(2, 0.7271533328550337)\n",
      "(3, 0.06506638971842466)\n",
      "(4, 0.08473474213626288)\n",
      "(5, 0.12599865577840239)\n",
      "(6, 0.21825747262306103)\n",
      "(7, 0.17468892580847162)\n",
      "(8, 0.16201773001731729)\n",
      "(9, 0.1530329875180127)\n"
     ]
    }
   ],
   "source": [
    "from gensim import corpora, models\n",
    "\n",
    "reviewTfidf = models.TfidfModel(reviewCorpus)\n",
    "reviewTfidfVec=reviewTfidf[reviewCorpus] # convert to tfidf vector \n",
    "\n",
    "\n",
    "for review in reviewTfidfVec[0][:10]: # see the tfidf score of the first review\n",
    "    print(review)\n"
   ]
  },
  {
   "cell_type": "markdown",
   "metadata": {},
   "source": [
    "Finally, we run LDA using Bags of Words."
   ]
  },
  {
   "cell_type": "code",
   "execution_count": 182,
   "metadata": {},
   "outputs": [],
   "source": [
    "# because we have used linear discriminant analysis above, here we call the model modelTopic\n",
    "modelTopic = gensim.models.LdaMulticore(reviewCorpus, num_topics=5, id2word=reviewDict, passes=2, workers=2)"
   ]
  },
  {
   "cell_type": "code",
   "execution_count": 174,
   "metadata": {
    "scrolled": true
   },
   "outputs": [
    {
     "name": "stdout",
     "output_type": "stream",
     "text": [
      "Topic: 0 \n",
      "Words: 0.021*\"place\" + 0.017*\"food\" + 0.017*\"good\" + 0.016*\"like\" + 0.012*\"time\" + 0.010*\"servic\" + 0.010*\"order\" + 0.009*\"come\" + 0.008*\"sushi\" + 0.008*\"go\"\n",
      "Topic: 1 \n",
      "Words: 0.023*\"time\" + 0.023*\"come\" + 0.014*\"food\" + 0.012*\"love\" + 0.011*\"good\" + 0.010*\"order\" + 0.010*\"like\" + 0.009*\"room\" + 0.008*\"think\" + 0.008*\"tell\"\n",
      "Topic: 2 \n",
      "Words: 0.017*\"go\" + 0.012*\"like\" + 0.011*\"servic\" + 0.010*\"time\" + 0.009*\"know\" + 0.009*\"call\" + 0.008*\"need\" + 0.008*\"love\" + 0.008*\"say\" + 0.007*\"food\"\n",
      "Topic: 3 \n",
      "Words: 0.018*\"place\" + 0.016*\"like\" + 0.014*\"room\" + 0.013*\"great\" + 0.012*\"time\" + 0.010*\"come\" + 0.010*\"go\" + 0.009*\"stay\" + 0.008*\"vega\" + 0.008*\"good\"\n",
      "Topic: 4 \n",
      "Words: 0.028*\"food\" + 0.025*\"good\" + 0.017*\"chicken\" + 0.016*\"place\" + 0.014*\"time\" + 0.013*\"order\" + 0.011*\"great\" + 0.010*\"servic\" + 0.010*\"like\" + 0.010*\"delici\"\n",
      "Topic: 5 \n",
      "Words: 0.031*\"food\" + 0.019*\"time\" + 0.017*\"place\" + 0.016*\"great\" + 0.013*\"friend\" + 0.013*\"restaur\" + 0.012*\"servic\" + 0.011*\"love\" + 0.009*\"definit\" + 0.009*\"like\"\n",
      "Topic: 6 \n",
      "Words: 0.028*\"great\" + 0.018*\"good\" + 0.018*\"place\" + 0.012*\"food\" + 0.012*\"servic\" + 0.011*\"time\" + 0.009*\"nice\" + 0.009*\"friend\" + 0.009*\"come\" + 0.009*\"need\"\n",
      "Topic: 7 \n",
      "Words: 0.019*\"order\" + 0.017*\"come\" + 0.016*\"good\" + 0.015*\"food\" + 0.013*\"servic\" + 0.013*\"place\" + 0.011*\"time\" + 0.009*\"say\" + 0.009*\"want\" + 0.009*\"great\"\n",
      "Topic: 8 \n",
      "Words: 0.016*\"friend\" + 0.014*\"place\" + 0.012*\"hotel\" + 0.010*\"tell\" + 0.009*\"staff\" + 0.009*\"price\" + 0.008*\"room\" + 0.008*\"look\" + 0.008*\"take\" + 0.008*\"like\"\n",
      "Topic: 9 \n",
      "Words: 0.021*\"food\" + 0.017*\"servic\" + 0.014*\"place\" + 0.014*\"amaz\" + 0.012*\"order\" + 0.012*\"come\" + 0.011*\"like\" + 0.011*\"great\" + 0.010*\"best\" + 0.010*\"friend\"\n"
     ]
    }
   ],
   "source": [
    "for index, topic in modelTopic.print_topics(-1):\n",
    "    print('Topic: {} \\nWords: {}'.format(index, topic))"
   ]
  },
  {
   "cell_type": "markdown",
   "metadata": {},
   "source": [
    "We cannot manully separate the topics, that's annoying !!!!!!!!!"
   ]
  },
  {
   "cell_type": "markdown",
   "metadata": {},
   "source": [
    "Why not group by stars first and then do topic modeling under each group? Let's try it. (code are exactly the same, except the input data are different.)"
   ]
  },
  {
   "cell_type": "code",
   "execution_count": 175,
   "metadata": {},
   "outputs": [
    {
     "name": "stdout",
     "output_type": "stream",
     "text": [
      "-----------------------------------------------------------\n",
      "The following topic model is based on 1 star reviews\n",
      "-*-*-*-*-*-*-*-*-*-*-*-*-*-*-*-*-*-*-*-*-*-*-*-*-*-*-*-*-*-*\n",
      "Topic: 0 \n",
      "Words: 0.027*\"food\" + 0.026*\"say\" + 0.020*\"come\" + 0.020*\"place\" + 0.020*\"go\" + 0.018*\"tell\" + 0.015*\"peopl\" + 0.015*\"tabl\" + 0.015*\"want\" + 0.014*\"wait\"\n",
      "Topic: 1 \n",
      "Words: 0.028*\"servic\" + 0.026*\"like\" + 0.025*\"custom\" + 0.024*\"order\" + 0.023*\"time\" + 0.017*\"tell\" + 0.016*\"place\" + 0.014*\"know\" + 0.013*\"compani\" + 0.013*\"food\"\n",
      "Topic: 2 \n",
      "Words: 0.028*\"time\" + 0.025*\"tell\" + 0.024*\"go\" + 0.023*\"order\" + 0.022*\"come\" + 0.018*\"servic\" + 0.017*\"place\" + 0.017*\"say\" + 0.015*\"hour\" + 0.014*\"need\"\n",
      "-----------------------------------------------------------\n",
      "The following topic model is based on 2 star reviews\n",
      "-*-*-*-*-*-*-*-*-*-*-*-*-*-*-*-*-*-*-*-*-*-*-*-*-*-*-*-*-*-*\n",
      "Topic: 0 \n",
      "Words: 0.042*\"food\" + 0.041*\"place\" + 0.041*\"time\" + 0.032*\"go\" + 0.029*\"good\" + 0.025*\"restaur\" + 0.025*\"order\" + 0.024*\"servic\" + 0.022*\"wait\" + 0.020*\"price\"\n",
      "Topic: 1 \n",
      "Words: 0.049*\"come\" + 0.041*\"time\" + 0.034*\"servic\" + 0.032*\"say\" + 0.031*\"go\" + 0.029*\"order\" + 0.027*\"ask\" + 0.027*\"want\" + 0.026*\"like\" + 0.026*\"good\"\n",
      "Topic: 2 \n",
      "Words: 0.078*\"food\" + 0.059*\"like\" + 0.038*\"place\" + 0.033*\"better\" + 0.033*\"good\" + 0.031*\"order\" + 0.027*\"tast\" + 0.025*\"chicken\" + 0.025*\"servic\" + 0.021*\"drink\"\n",
      "-----------------------------------------------------------\n",
      "The following topic model is based on 3 star reviews\n",
      "-*-*-*-*-*-*-*-*-*-*-*-*-*-*-*-*-*-*-*-*-*-*-*-*-*-*-*-*-*-*\n",
      "Topic: 0 \n",
      "Words: 0.050*\"food\" + 0.046*\"place\" + 0.034*\"good\" + 0.022*\"time\" + 0.022*\"servic\" + 0.021*\"like\" + 0.020*\"buffet\" + 0.018*\"go\" + 0.018*\"price\" + 0.016*\"better\"\n",
      "Topic: 1 \n",
      "Words: 0.027*\"good\" + 0.026*\"come\" + 0.026*\"like\" + 0.025*\"food\" + 0.025*\"nice\" + 0.022*\"order\" + 0.020*\"chicken\" + 0.016*\"friend\" + 0.016*\"place\" + 0.016*\"fri\"\n",
      "Topic: 2 \n",
      "Words: 0.044*\"good\" + 0.028*\"order\" + 0.024*\"place\" + 0.023*\"pretti\" + 0.023*\"come\" + 0.021*\"like\" + 0.019*\"burger\" + 0.018*\"time\" + 0.018*\"food\" + 0.017*\"great\"\n",
      "-----------------------------------------------------------\n",
      "The following topic model is based on 4 star reviews\n",
      "-*-*-*-*-*-*-*-*-*-*-*-*-*-*-*-*-*-*-*-*-*-*-*-*-*-*-*-*-*-*\n",
      "Topic: 0 \n",
      "Words: 0.030*\"time\" + 0.028*\"food\" + 0.021*\"come\" + 0.021*\"place\" + 0.019*\"good\" + 0.018*\"like\" + 0.015*\"great\" + 0.014*\"servic\" + 0.013*\"order\" + 0.012*\"wait\"\n",
      "Topic: 1 \n",
      "Words: 0.040*\"good\" + 0.031*\"great\" + 0.028*\"place\" + 0.026*\"food\" + 0.015*\"nice\" + 0.014*\"servic\" + 0.013*\"order\" + 0.012*\"room\" + 0.012*\"friend\" + 0.011*\"love\"\n",
      "Topic: 2 \n",
      "Words: 0.023*\"like\" + 0.023*\"good\" + 0.016*\"time\" + 0.015*\"food\" + 0.013*\"great\" + 0.013*\"come\" + 0.012*\"sauc\" + 0.012*\"place\" + 0.011*\"pretti\" + 0.011*\"order\"\n",
      "-----------------------------------------------------------\n",
      "The following topic model is based on 5 star reviews\n",
      "-*-*-*-*-*-*-*-*-*-*-*-*-*-*-*-*-*-*-*-*-*-*-*-*-*-*-*-*-*-*\n",
      "Topic: 0 \n",
      "Words: 0.027*\"food\" + 0.023*\"place\" + 0.023*\"great\" + 0.019*\"come\" + 0.019*\"good\" + 0.013*\"servic\" + 0.013*\"time\" + 0.013*\"love\" + 0.013*\"like\" + 0.012*\"delici\"\n",
      "Topic: 1 \n",
      "Words: 0.025*\"time\" + 0.018*\"best\" + 0.017*\"servic\" + 0.015*\"great\" + 0.013*\"go\" + 0.011*\"come\" + 0.011*\"room\" + 0.011*\"love\" + 0.011*\"hotel\" + 0.010*\"place\"\n",
      "Topic: 2 \n",
      "Words: 0.027*\"great\" + 0.020*\"place\" + 0.017*\"food\" + 0.013*\"love\" + 0.013*\"good\" + 0.013*\"price\" + 0.012*\"amaz\" + 0.012*\"chicken\" + 0.012*\"friend\" + 0.011*\"time\"\n"
     ]
    }
   ],
   "source": [
    "for i in range(1,6):\n",
    "    print(\"-----------------------------------------------------------\")\n",
    "    print(\"The following topic model is based on {} star reviews\".format(i))\n",
    "    print(\"-*-*-*-*-*-*-*-*-*-*-*-*-*-*-*-*-*-*-*-*-*-*-*-*-*-*-*-*-*-*\")\n",
    "    reviewTrainFraction=reviewTrain[reviewTrain.stars==i]\n",
    "    reviewProcessed = reviewTrainFraction.text.map(preprocess)\n",
    "    reviewDict= gensim.corpora.Dictionary(reviewProcessed)\n",
    "    reviewDict.filter_extremes(no_below=15, no_above=0.5, keep_n=100000) # filter extreme values, which occurs very few\n",
    "    reviewCorpus = [reviewDict.doc2bow(review) for review in reviewProcessed]\n",
    "    reviewCorpus[0]\n",
    "#     reviewFirst=reviewCorpus[0]\n",
    "#     for i in range(len(reviewFirst)):\n",
    "#         print(\"Word {} (\\\"{}\\\") appears {} time.\".format(reviewFirst[i][0], \n",
    "#                                                          reviewDict[reviewFirst[i][0]], \n",
    "#                                                          reviewFirst[i][1]))\n",
    "\n",
    "    reviewTfidf = models.TfidfModel(reviewCorpus)\n",
    "    reviewTfidfVec=reviewTfidf[reviewCorpus] # convert to tfidf vector \n",
    "#     for review in reviewTfidfVec[0]: # see the tfidf score of the first review\n",
    "#         print(review)\n",
    "\n",
    "    modelTopic = gensim.models.LdaMulticore(reviewCorpus, num_topics=3, id2word=reviewDict, passes=2, workers=2)\n",
    "    for index, topic in modelTopic.print_topics(-1):\n",
    "        print('Topic: {} \\nWords: {}'.format(index, topic))\n"
   ]
  },
  {
   "cell_type": "markdown",
   "metadata": {},
   "source": [
    "Let's see some reviews from 1 star to 5 star, and see if the topic makes some sense."
   ]
  },
  {
   "cell_type": "code",
   "execution_count": 176,
   "metadata": {},
   "outputs": [
    {
     "name": "stdout",
     "output_type": "stream",
     "text": [
      "----------------------------------------------------------------------------------------------\n",
      "This place has gone down hill.  Clearly they have cut back on staff and food quality\n",
      "\n",
      "Many of the reviews were written before the menu changed.  I've been going for years and the food quality has gone down hill.\n",
      "\n",
      "The service is slow & my salad, which was $15, was as bad as it gets.\n",
      "\n",
      "It's just not worth spending the money on this place when there are so many other options.\n",
      "----------------------------------------------------------------------------------------------\n",
      "We had dinner at the Bellagio Buffet last night. The service was OK. Our server was great but kind of forgot about us towards the end of our visit. The food was cold. The only good thing there was the crab legs because they're suppose to be cold and the tacos because it was freshly made. The food was under a single lamp that didn't heat the food at all. We let the server know that the food was cold and he told the manager that was in charge. All she did was come over to ask what the problem was and said she was going to talk to the chief. Have no idea what actually happened though because we didn't see her after that. Half the buffet was closed as well so there wasn't that many options. I must say i rather go to the Rio buffet. For a high end casino this was a horrible experience.\n",
      "----------------------------------------------------------------------------------------------\n",
      "I've never experienced discrimination as I did last night at this place. I was with 2 other females...we had on dresses and heels. The place was very diverse as far as how everyone was dressed. Dresses, heels, jeans, flip flops, shorts, etc. Immediately we noticed large groups of people of a particular race coming from the back of the line and going inside. We thought nothing of it...assumed they were all on lists. Then it just got weird. We noticed the guy working the door was walking back and fourth scanning the line for people he would pull out and let go inside. Every time it just happened to be groups with Caucasian people. 4 Caucasian girls were in front of us and behind a group of 4 black males. The girls were pulled out of the line and taken to the door to go inside, no talk of any lists. The guys were told they must be on a list or leave. The guys left. We watched this happen quite a few more times before we just gave up here and removed ourselves from the line. We were standing in the front for a really long time with no acknowledgement from the guy working the door. Funny thing is he didn't make a big announcement that we must be on a list to get inside. He was walking up to particular groups and telling them in a low tone so they would leave. I know it wasn't because of how we were dressed or looked....they were letting people in with jeans and flip flops. Ultimately we were let in by a bouncer at a side door. There was nothing so special going on in there that they had to be \"picky\" about who they let inside. It was like a night at Suite.  Safe to say, I will never step foot in this place again.\n",
      "----------------------------------------------------------------------------------------------\n",
      "Th service here is very hit or miss... Sometimes the staff is personable and attentive. Other times I ask myself, \"Why do I come here???\" The staff often has the  \"GTFOH\" stamp placed permanently across their foreheads, and we as patrons just have to go with it, otherwise we are deemed \"that guy.\"  I would say that my continuos visits were for the great HH, but there are several other options close to home, with the same food and drink options for me to choose from. I think today may be last visit...\n",
      "----------------------------------------------------------------------------------------------\n",
      "I just had a terrible experience with Dr. Jennifer Vonya-Novak's front office.  I changed my primary care to Dr. Novak.  It took me 3 weeks to get an appointment because she ONLY DOES 4 NEW PATIENTS A DAY.  I waited the 3 weeks for what I was told was a 7:45 am appt.  I got to her office at 7:45 (actually 7:47 am according to my cell phone).  The door was locked and the office hours posted were 8:00- to 5:00.  I could see through the glass doors that there wasn't anyone at the desk area.  l left ,went home and called a 8 am, no answer.  Called again at 8:10 and the lady said I missed my appointment and could not be seen today.  She argued that the door is always open at 7:45.  She was unapologetic and offered me a next day appointment, like she was doing me a favor since I \"MISSED\" my appointment.  She kept calling me \"my dear\" as if I was incapable of knowing the appointment time.  I found her very condescending.  Needless to say, I will not be going to Dr. Novak and will let my friends know the office procedures there and the unbendable and arrogant rules!\n"
     ]
    }
   ],
   "source": [
    "for index in range(5):\n",
    "    print(\"----------------------------------------------------------------------------------------------\")\n",
    "    print(reviewTrain.text[reviewTrain.stars==1].iloc[index])"
   ]
  },
  {
   "cell_type": "markdown",
   "metadata": {},
   "source": [
    "### EDA for other business data outside of business attributes"
   ]
  },
  {
   "cell_type": "code",
   "execution_count": 177,
   "metadata": {},
   "outputs": [
    {
     "data": {
      "text/plain": [
       "Index(['attributes', 'business_id', 'categories', 'city', 'hours', 'is_open',\n",
       "       'latitude', 'longitude', 'name', 'postal_code', 'state'],\n",
       "      dtype='object')"
      ]
     },
     "execution_count": 177,
     "metadata": {},
     "output_type": "execute_result"
    }
   ],
   "source": [
    "business_train.columns"
   ]
  }
 ],
 "metadata": {
  "kernelspec": {
   "display_name": "Python 3",
   "language": "python",
   "name": "python3"
  },
  "language_info": {
   "codemirror_mode": {
    "name": "ipython",
    "version": 3
   },
   "file_extension": ".py",
   "mimetype": "text/x-python",
   "name": "python",
   "nbconvert_exporter": "python",
   "pygments_lexer": "ipython3",
   "version": "3.7.1"
  }
 },
 "nbformat": 4,
 "nbformat_minor": 2
}
