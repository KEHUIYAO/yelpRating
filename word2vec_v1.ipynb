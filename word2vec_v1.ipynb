{
 "cells": [
  {
   "cell_type": "markdown",
   "metadata": {},
   "source": [
    "## Read first 10000 rows from json file"
   ]
  },
  {
   "cell_type": "code",
   "execution_count": 1,
   "metadata": {},
   "outputs": [],
   "source": [
    "import json\n",
    "import pandas as pd\n",
    "def read_json_nrows(nrows,filename):\n",
    "    n= 0\n",
    "    with open(filename) as f:\n",
    "        while n < nrows:\n",
    "            if n == 0:\n",
    "                line = f.readline()\n",
    "                line = json.loads(line.rstrip())\n",
    "                train = pd.DataFrame(line,index = [0])\n",
    "            else:\n",
    "                temp = pd.DataFrame(json.loads(f.readline().rstrip()),index = [n])\n",
    "                train = train.append(temp)\n",
    "            n = n+1\n",
    "    return train\n",
    "    "
   ]
  },
  {
   "cell_type": "code",
   "execution_count": 2,
   "metadata": {},
   "outputs": [],
   "source": [
    "train_10000 = read_json_nrows(10000,'review_train.json')"
   ]
  },
  {
   "cell_type": "code",
   "execution_count": 3,
   "metadata": {},
   "outputs": [
    {
     "data": {
      "text/html": [
       "<div>\n",
       "<style scoped>\n",
       "    .dataframe tbody tr th:only-of-type {\n",
       "        vertical-align: middle;\n",
       "    }\n",
       "\n",
       "    .dataframe tbody tr th {\n",
       "        vertical-align: top;\n",
       "    }\n",
       "\n",
       "    .dataframe thead th {\n",
       "        text-align: right;\n",
       "    }\n",
       "</style>\n",
       "<table border=\"1\" class=\"dataframe\">\n",
       "  <thead>\n",
       "    <tr style=\"text-align: right;\">\n",
       "      <th></th>\n",
       "      <th>business_id</th>\n",
       "      <th>stars</th>\n",
       "      <th>text</th>\n",
       "      <th>date</th>\n",
       "    </tr>\n",
       "  </thead>\n",
       "  <tbody>\n",
       "    <tr>\n",
       "      <th>0</th>\n",
       "      <td>31292</td>\n",
       "      <td>1.0</td>\n",
       "      <td>Total bill for this horrible service? Over $8G...</td>\n",
       "      <td>2013-05-07 04:34:36</td>\n",
       "    </tr>\n",
       "    <tr>\n",
       "      <th>1</th>\n",
       "      <td>35344</td>\n",
       "      <td>5.0</td>\n",
       "      <td>I *adore* Travis at the Hard Rock's new Kelly ...</td>\n",
       "      <td>2017-01-14 21:30:33</td>\n",
       "    </tr>\n",
       "    <tr>\n",
       "      <th>2</th>\n",
       "      <td>152538</td>\n",
       "      <td>5.0</td>\n",
       "      <td>I have to say that this office really has it t...</td>\n",
       "      <td>2016-11-09 20:09:03</td>\n",
       "    </tr>\n",
       "    <tr>\n",
       "      <th>3</th>\n",
       "      <td>71871</td>\n",
       "      <td>5.0</td>\n",
       "      <td>Went in for a lunch. Steak sandwich was delici...</td>\n",
       "      <td>2018-01-09 20:56:38</td>\n",
       "    </tr>\n",
       "    <tr>\n",
       "      <th>4</th>\n",
       "      <td>64913</td>\n",
       "      <td>1.0</td>\n",
       "      <td>Today was my second out of three sessions I ha...</td>\n",
       "      <td>2018-01-30 23:07:38</td>\n",
       "    </tr>\n",
       "  </tbody>\n",
       "</table>\n",
       "</div>"
      ],
      "text/plain": [
       "   business_id  stars                                               text  \\\n",
       "0        31292    1.0  Total bill for this horrible service? Over $8G...   \n",
       "1        35344    5.0  I *adore* Travis at the Hard Rock's new Kelly ...   \n",
       "2       152538    5.0  I have to say that this office really has it t...   \n",
       "3        71871    5.0  Went in for a lunch. Steak sandwich was delici...   \n",
       "4        64913    1.0  Today was my second out of three sessions I ha...   \n",
       "\n",
       "                  date  \n",
       "0  2013-05-07 04:34:36  \n",
       "1  2017-01-14 21:30:33  \n",
       "2  2016-11-09 20:09:03  \n",
       "3  2018-01-09 20:56:38  \n",
       "4  2018-01-30 23:07:38  "
      ]
     },
     "execution_count": 3,
     "metadata": {},
     "output_type": "execute_result"
    }
   ],
   "source": [
    "train_10000.head(5)"
   ]
  },
  {
   "cell_type": "markdown",
   "metadata": {},
   "source": [
    "## Cleaning data"
   ]
  },
  {
   "cell_type": "code",
   "execution_count": 4,
   "metadata": {},
   "outputs": [],
   "source": [
    "from collections import Counter\n",
    "from nltk.util import ngrams\n",
    "import re\n",
    "import numpy as np \n",
    "from nltk.corpus import words\n",
    "from nltk.corpus import brown\n",
    "from nltk.corpus import wordnet\n",
    "from nltk import wordpunct_tokenize"
   ]
  },
  {
   "cell_type": "markdown",
   "metadata": {},
   "source": [
    "### Languages"
   ]
  },
  {
   "cell_type": "markdown",
   "metadata": {},
   "source": [
    "When I first tried to apply the *detect* function I got a 'No features in text' error. So I have to find out which review is empty."
   ]
  },
  {
   "cell_type": "code",
   "execution_count": 5,
   "metadata": {},
   "outputs": [
    {
     "data": {
      "text/plain": [
       "business_id                 137207\n",
       "stars                            1\n",
       "text                            :(\n",
       "date           2017-07-18 20:31:03\n",
       "Name: 6687, dtype: object"
      ]
     },
     "execution_count": 5,
     "metadata": {},
     "output_type": "execute_result"
    }
   ],
   "source": [
    "train_10000.loc[6687]"
   ]
  },
  {
   "cell_type": "markdown",
   "metadata": {},
   "source": [
    "This review is not language, but an emoticon."
   ]
  },
  {
   "cell_type": "code",
   "execution_count": 6,
   "metadata": {},
   "outputs": [],
   "source": [
    "def not_language(text):\n",
    "    # First delete all common emoticons.\n",
    "    text = re.sub('(?::|;|=)(?:-)?(?:\\)|\\(|D|P)','',text)\n",
    "    if re.sub('[\\W]+','',text) == '':\n",
    "        return True\n",
    "    else:\n",
    "        return False"
   ]
  },
  {
   "cell_type": "markdown",
   "metadata": {},
   "source": [
    "For simplicity, just consider emoticons as English."
   ]
  },
  {
   "cell_type": "code",
   "execution_count": 7,
   "metadata": {},
   "outputs": [],
   "source": [
    "not_lang = train_10000[train_10000.text.apply(not_language)].index.values"
   ]
  },
  {
   "cell_type": "code",
   "execution_count": 8,
   "metadata": {},
   "outputs": [],
   "source": [
    "train_10000.loc[not_lang,'lang_type'] = 'english'"
   ]
  },
  {
   "cell_type": "code",
   "execution_count": null,
   "metadata": {},
   "outputs": [],
   "source": [
    "from nltk.corpus import stopwords\n",
    "from nltk import wordpunct_tokenize\n",
    "languages_ratios = {}\n",
    "for i in range(10000):\n",
    "    tokens = wordpunct_tokenize(train_10000.text[i])\n",
    "    words = [word.lower() for word in tokens]\n",
    "    for language in stopwords.fileids():\n",
    "        stopwords_set = set(stopwords.words(language))\n",
    "        words_set = set(words)\n",
    "        common_elements = words_set.intersection(stopwords_set)\n",
    "        languages_ratios[language] = len(common_elements)\n",
    "    most_rated_language = max(languages_ratios, key=languages_ratios.get)\n",
    "    train_10000.loc[i,'lang_type'] = most_rated_language"
   ]
  },
  {
   "cell_type": "code",
   "execution_count": 9,
   "metadata": {},
   "outputs": [],
   "source": [
    "from langdetect import detect\n",
    "for i in range(10000):\n",
    "    if i in not_lang:\n",
    "        continue\n",
    "    else:\n",
    "        train_10000.loc[i,'lang_type'] = detect(train_10000.text[i])"
   ]
  },
  {
   "cell_type": "code",
   "execution_count": 10,
   "metadata": {},
   "outputs": [
    {
     "data": {
      "text/plain": [
       "[':(']"
      ]
     },
     "execution_count": 10,
     "metadata": {},
     "output_type": "execute_result"
    }
   ],
   "source": [
    "re.findall(':[\\W]{0,1}',':(nmsl')"
   ]
  },
  {
   "cell_type": "code",
   "execution_count": 11,
   "metadata": {},
   "outputs": [
    {
     "data": {
      "text/plain": [
       "en         9956\n",
       "fr           37\n",
       "es            3\n",
       "english       1\n",
       "de            1\n",
       "ja            1\n",
       "it            1\n",
       "Name: lang_type, dtype: int64"
      ]
     },
     "execution_count": 11,
     "metadata": {},
     "output_type": "execute_result"
    }
   ],
   "source": [
    "train_10000.lang_type.value_counts()"
   ]
  },
  {
   "cell_type": "markdown",
   "metadata": {},
   "source": [
    "Focus on English only at present."
   ]
  },
  {
   "cell_type": "code",
   "execution_count": 12,
   "metadata": {},
   "outputs": [],
   "source": [
    "train_10000_eng = train_10000[train_10000.lang_type == 'en']"
   ]
  },
  {
   "cell_type": "markdown",
   "metadata": {},
   "source": [
    "Most common words and phrases."
   ]
  },
  {
   "cell_type": "code",
   "execution_count": 13,
   "metadata": {},
   "outputs": [
    {
     "data": {
      "text/plain": [
       "[(('the',), 43484),\n",
       " (('and',), 36445),\n",
       " (('I',), 27219),\n",
       " (('a',), 26196),\n",
       " (('to',), 25807),\n",
       " (('was',), 18766),\n",
       " (('of',), 15249),\n",
       " (('is',), 12814),\n",
       " (('for',), 12221),\n",
       " (('in',), 11026),\n",
       " (('it',), 9188),\n",
       " (('The',), 9180),\n",
       " (('with',), 8640),\n",
       " (('my',), 8424),\n",
       " (('that',), 8146),\n",
       " (('but',), 7072),\n",
       " (('on',), 7003),\n",
       " (('have',), 6583),\n",
       " (('you',), 6540),\n",
       " (('this',), 6388)]"
      ]
     },
     "execution_count": 13,
     "metadata": {},
     "output_type": "execute_result"
    }
   ],
   "source": [
    "text = ' '.join(train_10000_eng.text.values)\n",
    "text_trigrams = [i for i in ngrams(text.split(), 1)]\n",
    "Counter(text_trigrams).most_common(20)"
   ]
  },
  {
   "cell_type": "code",
   "execution_count": 14,
   "metadata": {},
   "outputs": [
    {
     "data": {
      "text/plain": [
       "[(('of', 'the'), 3443),\n",
       " (('and', 'the'), 2772),\n",
       " (('in', 'the'), 2722),\n",
       " (('it', 'was'), 2336),\n",
       " (('I', 'was'), 2307),\n",
       " (('on', 'the'), 2107),\n",
       " (('and', 'I'), 2017),\n",
       " (('to', 'the'), 1836),\n",
       " (('for', 'the'), 1732),\n",
       " (('for', 'a'), 1732),\n",
       " (('I', 'had'), 1559),\n",
       " (('I', 'have'), 1490),\n",
       " (('is', 'a'), 1378),\n",
       " (('to', 'be'), 1358),\n",
       " (('was', 'a'), 1313),\n",
       " (('this', 'place'), 1278),\n",
       " (('with', 'the'), 1262),\n",
       " (('at', 'the'), 1245),\n",
       " (('with', 'a'), 1216),\n",
       " (('to', 'get'), 1206)]"
      ]
     },
     "execution_count": 14,
     "metadata": {},
     "output_type": "execute_result"
    }
   ],
   "source": [
    "text = ' '.join(train_10000_eng.text.values)\n",
    "text_trigrams = [i for i in ngrams(text.split(), 2)]\n",
    "Counter(text_trigrams).most_common(20)"
   ]
  },
  {
   "cell_type": "code",
   "execution_count": 15,
   "metadata": {},
   "outputs": [
    {
     "data": {
      "text/plain": [
       "[(('and', 'it', 'was'), 516),\n",
       " (('one', 'of', 'the'), 451),\n",
       " (('a', 'lot', 'of'), 392),\n",
       " (('I', 'had', 'the'), 338),\n",
       " (('This', 'place', 'is'), 316),\n",
       " (('I', 'have', 'been'), 265),\n",
       " (('I', 'had', 'to'), 262),\n",
       " (('the', 'food', 'was'), 254),\n",
       " (('I', 'ordered', 'the'), 247),\n",
       " (('it', 'was', 'a'), 244),\n",
       " (('of', 'the', 'best'), 239),\n",
       " (('The', 'food', 'was'), 237),\n",
       " (('I', 'had', 'a'), 236),\n",
       " (('some', 'of', 'the'), 206),\n",
       " (('The', 'food', 'is'), 199),\n",
       " (('this', 'place', 'is'), 198),\n",
       " (('The', 'service', 'was'), 187),\n",
       " (('the', 'food', 'is'), 187),\n",
       " (('to', 'get', 'a'), 182),\n",
       " (('This', 'is', 'a'), 181)]"
      ]
     },
     "execution_count": 15,
     "metadata": {},
     "output_type": "execute_result"
    }
   ],
   "source": [
    "text = ' '.join(train_10000_eng.text.values)\n",
    "text_trigrams = [i for i in ngrams(text.split(), 3)]\n",
    "Counter(text_trigrams).most_common(20)"
   ]
  },
  {
   "cell_type": "code",
   "execution_count": 16,
   "metadata": {},
   "outputs": [
    {
     "data": {
      "text/plain": [
       "[(('one', 'of', 'the', 'best'), 126),\n",
       " (('My', 'husband', 'and', 'I'), 88),\n",
       " (('I', 'will', 'definitely', 'be'), 77),\n",
       " (('is', 'one', 'of', 'the'), 73),\n",
       " (('the', 'end', 'of', 'the'), 67),\n",
       " (('in', 'the', 'middle', 'of'), 65),\n",
       " (('for', 'the', 'first', 'time'), 65),\n",
       " (('a', 'great', 'place', 'to'), 62),\n",
       " (('some', 'of', 'the', 'best'), 60),\n",
       " (('and', 'the', 'service', 'was'), 56),\n",
       " (('you', 'are', 'looking', 'for'), 55),\n",
       " (('was', 'one', 'of', 'the'), 54),\n",
       " (('and', 'the', 'food', 'was'), 53),\n",
       " (('I', 'have', 'to', 'say'), 52),\n",
       " (('My', 'wife', 'and', 'I'), 50),\n",
       " (('and', 'the', 'food', 'is'), 50),\n",
       " (('was', 'my', 'first', 'time'), 49),\n",
       " (('one', 'of', 'my', 'favorite'), 49),\n",
       " (('the', 'rest', 'of', 'the'), 48),\n",
       " (('I', \"can't\", 'wait', 'to'), 47)]"
      ]
     },
     "execution_count": 16,
     "metadata": {},
     "output_type": "execute_result"
    }
   ],
   "source": [
    "text = ' '.join(train_10000_eng.text.values)\n",
    "text_trigrams = [i for i in ngrams(text.split(), 4)]\n",
    "Counter(text_trigrams).most_common(20)"
   ]
  },
  {
   "cell_type": "markdown",
   "metadata": {},
   "source": [
    "Oddest words"
   ]
  },
  {
   "cell_type": "code",
   "execution_count": 17,
   "metadata": {},
   "outputs": [
    {
     "data": {
      "text/plain": [
       "[(('qualified,',), 1),\n",
       " (('exuded',), 1),\n",
       " ((\"'cool'\",), 1),\n",
       " (('Danny.',), 1),\n",
       " (('accord',), 1),\n",
       " (('b-day.',), 1),\n",
       " (('Terroni.',), 1),\n",
       " (('raptor',), 1),\n",
       " (('flats',), 1),\n",
       " (('gripe...no',), 1),\n",
       " (('GPS?',), 1),\n",
       " (('yardage',), 1),\n",
       " (('caliber,',), 1),\n",
       " (('troon',), 1),\n",
       " (('Quintero',), 1),\n",
       " (('parking....my',), 1),\n",
       " (('pefect',), 1),\n",
       " (('Dewy',), 1),\n",
       " (('appoinment,',), 1),\n",
       " (('in...)',), 1),\n",
       " (('HVAC/Electrical/etc...',), 1),\n",
       " (('electrical....(I',), 1),\n",
       " (('NHW',), 1),\n",
       " (('compressor',), 1),\n",
       " (('verified',), 1),\n",
       " (('TUESDAY',), 1),\n",
       " (('compressor....',), 1),\n",
       " (('occasions....',), 1),\n",
       " (('SH!*',), 1),\n",
       " (('Moe',), 1),\n",
       " (('matted',), 1),\n",
       " (('Choosing',), 1),\n",
       " (('changing,',), 1),\n",
       " (('eats!',), 1),\n",
       " (('loong',), 1),\n",
       " (('lo-mean,',), 1),\n",
       " (('Discovered',), 1),\n",
       " (('Beach.',), 1),\n",
       " (('Thrilled',), 1),\n",
       " (('favs:',), 1),\n",
       " (('DELISH!)',), 1),\n",
       " (('is..',), 1),\n",
       " (('Woo',), 1),\n",
       " (('Che.',), 1),\n",
       " (('grilles,',), 1),\n",
       " (('bugogi',), 1),\n",
       " (('thicker,',), 1),\n",
       " (('Louie,',), 1),\n",
       " (('hmmm,',), 1),\n",
       " (('names),',), 1),\n",
       " ((\"'flatbread'\",), 1),\n",
       " ((\"'tacos',\",), 1),\n",
       " (('specialized?',), 1),\n",
       " ((\"'asian\",), 1),\n",
       " ((\"sauce',\",), 1),\n",
       " ((\"'12'\",), 1),\n",
       " ((\"'5',\",), 1),\n",
       " (('singing,',), 1),\n",
       " ((\"'it\",), 1),\n",
       " ((\"somewhere',\",), 1),\n",
       " ((\"'let's\",), 1),\n",
       " ((\"drink'!\",), 1),\n",
       " (('hoopla',), 1),\n",
       " (('pedestrians.',), 1),\n",
       " (('t.o.',), 1),\n",
       " (('piazza...might',), 1),\n",
       " (('cobblestones',), 1),\n",
       " (('though...better',), 1),\n",
       " (('distillery.',), 1),\n",
       " (('food/drinks',), 1),\n",
       " (('scoreboard',), 1),\n",
       " (('keeps!',), 1),\n",
       " (('amusing',), 1),\n",
       " (('experience.Ordered',), 1),\n",
       " (('Yada.',), 1),\n",
       " (('Dina',), 1),\n",
       " (('Yemen',), 1),\n",
       " (('master.',), 1),\n",
       " (('Samples',), 1),\n",
       " (('EZMart',), 1),\n",
       " (('Ames.',), 1),\n",
       " (('saxby',), 1),\n",
       " (('denizens',), 1),\n",
       " (('bodied',), 1),\n",
       " (('A+++',), 1),\n",
       " (('Ultra',), 1),\n",
       " (('Cooling.',), 1),\n",
       " (('&Pylte',), 1),\n",
       " (('YUMMMMMMMMMMMMMMMMM',), 1),\n",
       " (('consumer.',), 1),\n",
       " (('finish...',), 1),\n",
       " (('Africa...\"',), 1),\n",
       " (('\"famous\".',), 1),\n",
       " (('zagat',), 1),\n",
       " (('exaggerated',), 1),\n",
       " (('Dor-Stop.',), 1),\n",
       " (('incredible?',), 1),\n",
       " (('jumbot,',), 1),\n",
       " (('verbally.',), 1),\n",
       " (('catch.',), 1),\n",
       " (('flavor/seasoning',), 1),\n",
       " (('(tasted',), 1),\n",
       " (('powder-based).',), 1),\n",
       " (('wetter',), 1),\n",
       " (('scrambled.',), 1),\n",
       " (('Edmonton,',), 1),\n",
       " (('MEH.',), 1),\n",
       " (('advantage)',), 1),\n",
       " (('\"Hi\"',), 1),\n",
       " (('you?\")',), 1),\n",
       " (('thrusting',), 1),\n",
       " (('fliers',), 1),\n",
       " (('WITNESSED',), 1),\n",
       " (('guarentee',), 1),\n",
       " (('drummed',), 1),\n",
       " (('expire).',), 1),\n",
       " (('cringing',), 1),\n",
       " (('sip).',), 1),\n",
       " (('GOING',), 1),\n",
       " (('distractions)',), 1),\n",
       " (('13/30',), 1),\n",
       " (('Froyo',), 1),\n",
       " (('Kokomo.',), 1),\n",
       " (('networking',), 1),\n",
       " (('colleagues!',), 1),\n",
       " (('sport.',), 1),\n",
       " (('Hotels.com',), 1),\n",
       " (('CPKs,',), 1),\n",
       " (('top-of-the-line',), 1),\n",
       " (('strip-center',), 1),\n",
       " (('(save',), 1),\n",
       " (('cleanest',), 1),\n",
       " (('cooked.Not',), 1),\n",
       " (('Before,',), 1),\n",
       " (('\"French',), 1),\n",
       " (('Grocery\"',), 1),\n",
       " (('\"French\",',), 1),\n",
       " (('\"Grocery\"',), 1),\n",
       " (('tostadas.',), 1),\n",
       " (('chef!!',), 1),\n",
       " (('antipasta.',), 1),\n",
       " (('waiter\"Jordan\"',), 1),\n",
       " (('Hawaii?',), 1),\n",
       " (('mega-bucks,',), 1),\n",
       " (('Franklin',), 1),\n",
       " (('Crafts,',), 1),\n",
       " (('Wal-Mart',), 1),\n",
       " (('crafter',), 1),\n",
       " (('Oahu',), 1),\n",
       " (('California:',), 1),\n",
       " (('beads,',), 1),\n",
       " (('baubles,',), 1),\n",
       " (('frames,',), 1),\n",
       " (('Franklin,',), 1),\n",
       " (('cashieer',), 1),\n",
       " (('super-friendly',), 1),\n",
       " (('cafe~',), 1),\n",
       " (('Coffees,',), 1),\n",
       " (('well~',), 1),\n",
       " (('\"minor\"',), 1),\n",
       " (('$54',), 1),\n",
       " (('skyrocket',), 1),\n",
       " (('15-18',), 1),\n",
       " (('clinica',), 1),\n",
       " (('familia',), 1),\n",
       " (('expensive?',), 1),\n",
       " (('guys?',), 1),\n",
       " (('slices...on',), 1),\n",
       " (('Henderson,',), 1),\n",
       " (('Sam.',), 1),\n",
       " (('lesbians.',), 1),\n",
       " (('LGBT',), 1),\n",
       " (('...weird)',), 1),\n",
       " (('massages,',), 1),\n",
       " (('(peeled',), 1),\n",
       " (('eat)',), 1),\n",
       " (('Ethnic',), 1),\n",
       " (('Cajun,',), 1),\n",
       " (('2:30pm.',), 1),\n",
       " (('Arizona...',), 1),\n",
       " (('appreciative.',), 1),\n",
       " (('elote',), 1),\n",
       " (('specialists.',), 1),\n",
       " (('5:30pm',), 1),\n",
       " (('\"ok\",',), 1),\n",
       " (('under.',), 1),\n",
       " (('Hhhhhhoooorible!',), 1),\n",
       " (('RECEPTIONIST',), 1),\n",
       " (('HUFFED',), 1),\n",
       " (('PUFFED',), 1),\n",
       " (('\"ok,status',), 1),\n",
       " (('quo',), 1),\n",
       " (('restaurant\"',), 1),\n",
       " (('transplants',), 1),\n",
       " (('2).',), 1),\n",
       " (('seated.\"',), 1),\n",
       " (('SIT',), 1),\n",
       " (('COMMUNAL',), 1),\n",
       " (('TABLE?\"',), 1),\n",
       " (('serval',), 1),\n",
       " (('tables(besides',), 1),\n",
       " (('EMPTY!i',), 1),\n",
       " (('when?',), 1),\n",
       " (('defeat',), 1),\n",
       " (('COMMUNAL?',), 1),\n",
       " (('charge\"',), 1),\n",
       " (('side......',), 1),\n",
       " (('\"....In',), 1),\n",
       " (('54',), 1),\n",
       " (('mark!',), 1),\n",
       " (('will......and',), 1),\n",
       " (('GRADE:',), 1),\n",
       " (('FAIL!',), 1),\n",
       " (('greatest?',), 1),\n",
       " (('evolves',), 1),\n",
       " (('leaps',), 1),\n",
       " (('Roll?',), 1),\n",
       " (('scientists',), 1),\n",
       " (('instead?',), 1),\n",
       " (('sectional.',), 1),\n",
       " (('snatching',), 1),\n",
       " (('\"Sugar',), 1),\n",
       " (('Raw\",',), 1),\n",
       " (('critter',), 1),\n",
       " (('nice.)',), 1),\n",
       " (('tolerating',), 1),\n",
       " (('moi.',), 1),\n",
       " (('(outside',), 1),\n",
       " (('Savannah).',), 1),\n",
       " (('fancy-pants',), 1),\n",
       " (('chicken-y?',), 1),\n",
       " (('uber-romantic',), 1),\n",
       " (('not-great',), 1),\n",
       " (('table.....Sigh',), 1),\n",
       " (('389,',), 1),\n",
       " (('june',), 1),\n",
       " (('11,2016,',), 1),\n",
       " (('8:45pm',), 1),\n",
       " (('Airport,',), 1),\n",
       " (('Crown',), 1),\n",
       " (('junk.',), 1),\n",
       " (('TRIED',), 1),\n",
       " (('backseat.',), 1),\n",
       " (('SQUEEZED',), 1),\n",
       " (('weave',), 1),\n",
       " (('junkpile.',), 1),\n",
       " (('headrest',), 1),\n",
       " (('BLARING',), 1),\n",
       " (('Dangerously',), 1),\n",
       " (('Louis-Simon',), 1),\n",
       " (('Ca',), 1),\n",
       " (('Roule.',), 1),\n",
       " (('perched',), 1),\n",
       " (('\"Dining',), 1),\n",
       " (('Arroyo\"',), 1),\n",
       " (('dining/lounge',), 1),\n",
       " (('table),',), 1),\n",
       " (('unmotivated',), 1),\n",
       " (('upscale-casual',), 1),\n",
       " (('match..',), 1),\n",
       " (('saying..',), 1),\n",
       " (('Wiseguy.',), 1),\n",
       " (('wiseguy.',), 1),\n",
       " (('pizza),',), 1),\n",
       " (('splurging',), 1),\n",
       " (('while?',), 1),\n",
       " (('juggernauts,',), 1),\n",
       " (('LGO,',), 1),\n",
       " (('groovy.',), 1),\n",
       " (('adjective',), 1),\n",
       " (('skeletons',), 1),\n",
       " (('overshadow',), 1),\n",
       " (('interesting--short,',), 1),\n",
       " (('pie!',), 1),\n",
       " (('down),',), 1),\n",
       " (('jenga).',), 1),\n",
       " (('meal!!',), 1),\n",
       " (('\"conservative\"',), 1),\n",
       " (('Republican',), 1),\n",
       " (('mayor',), 1),\n",
       " (('\"Trib\"',), 1),\n",
       " (('Greensburg',), 1),\n",
       " (('strike.',), 1),\n",
       " (('Press,',), 1),\n",
       " (('1992',), 1),\n",
       " (('Mellon',), 1),\n",
       " (('Review,',), 1),\n",
       " (('conservative,',), 1),\n",
       " (('afloat.',), 1),\n",
       " (('1992,',), 1),\n",
       " (('\"Pittsburgh',), 1),\n",
       " (('Review\"',), 1),\n",
       " (('Democrats,',), 1),\n",
       " (('strike,',), 1),\n",
       " (('absorbed',), 1),\n",
       " (('publication',), 1),\n",
       " (('supermarkets,',), 1),\n",
       " (('stored.',), 1),\n",
       " (('comics,',), 1),\n",
       " (('obituaries',), 1),\n",
       " (('ads.',), 1),\n",
       " (('low-lit,',), 1),\n",
       " (('BYOB!',), 1),\n",
       " (('eaten!!',), 1),\n",
       " (('go-',), 1),\n",
       " (('tempeh',), 1),\n",
       " (('night!!!',), 1),\n",
       " (('lot!!!',), 1),\n",
       " (('65+',), 1),\n",
       " (('45+',), 1),\n",
       " (('helluva',), 1),\n",
       " (('meal.\"',), 1),\n",
       " (('ROACHES',), 1),\n",
       " (('不要在这里吃！',), 1),\n",
       " (('我们刚在这里吃午饭，在我们的汤里发现了一个蟑螂，我把它展示给服务员，她说：哦，对不起。你不必付饭费\"，这意味着他们的厨房里有很多蟑螂，他们知道，她一点都不惊讶。',),\n",
       "  1),\n",
       " (('ommmmmg',), 1),\n",
       " ((\"Roberto's,\",), 1),\n",
       " (('curiosity,',), 1),\n",
       " ((\"Ami's\",), 1),\n",
       " ((\"Angeles'\",), 1),\n",
       " (('Koreatown',), 1),\n",
       " (('Koreatown,',), 1),\n",
       " (('enclave',), 1),\n",
       " (('\"halmoni\"',), 1),\n",
       " (('grandkids,',), 1),\n",
       " (('\"Express\"',), 1),\n",
       " (('crib.',), 1),\n",
       " (('\"express\"',), 1),\n",
       " (('configure',), 1),\n",
       " (('respectively).',), 1),\n",
       " (('verdict?',), 1),\n",
       " (('bu,',), 1),\n",
       " (('bap,',), 1),\n",
       " (('Delicous!!',), 1),\n",
       " (('against?',), 1),\n",
       " (('altercation,',), 1),\n",
       " (('deprecation',), 1),\n",
       " (('atmospheric',), 1),\n",
       " ((\"mark...I've\",), 1),\n",
       " (('downpoint.',), 1),\n",
       " (('anyway),',), 1),\n",
       " (('fresh.....',), 1),\n",
       " ((\"Italian...it's\",), 1),\n",
       " (('waterfall/pool',), 1),\n",
       " (('$5-10',), 1),\n",
       " (('fleek!',), 1),\n",
       " (('(strange',), 1),\n",
       " (('know),',), 1),\n",
       " (('Monorail',), 1),\n",
       " (('air!',), 1),\n",
       " (('Literally,',), 1),\n",
       " (('bells',), 1),\n",
       " (('friendly;',), 1),\n",
       " (('Damian',), 1),\n",
       " (('eighty',), 1),\n",
       " (('SIDE',), 1),\n",
       " (('EFFECTS',), 1),\n",
       " (('prescribed.',), 1),\n",
       " (('is.\"',), 1),\n",
       " (('elderly!',), 1),\n",
       " ((\"Lee's.\",), 1),\n",
       " (('prob.',), 1),\n",
       " ((\"won'\",), 1),\n",
       " (('registered',), 1),\n",
       " (('psssh',), 1),\n",
       " (('bye!',), 1),\n",
       " (('blah!!!',), 1),\n",
       " (('POW',), 1),\n",
       " (('BANG.',), 1),\n",
       " ((\"Ashley's\",), 1),\n",
       " (('exhibition',), 1),\n",
       " (('animation',), 1),\n",
       " (('cartoons',), 1),\n",
       " (('SpongeBob',), 1),\n",
       " (('SquarePants,',), 1),\n",
       " (('Looney',), 1),\n",
       " (('Tunes,',), 1),\n",
       " (('beer/pint',), 1),\n",
       " (('empanada..',), 1),\n",
       " (('(running',), 1),\n",
       " (('(non-toxic',), 1),\n",
       " (('materials,',), 1),\n",
       " (('insulation,',), 1),\n",
       " (('museum!',), 1),\n",
       " (('piggy,',), 1),\n",
       " (('11:50',), 1),\n",
       " (('matinee!',), 1),\n",
       " (('Tequila.',), 1),\n",
       " (('\"one',), 1),\n",
       " (('hundred,',), 1),\n",
       " (('spiny',), 1),\n",
       " (('plants\"',), 1),\n",
       " (('that...they',), 1),\n",
       " (('tequila...lots',), 1),\n",
       " (('tequila...a',), 1),\n",
       " (('siphon',), 1),\n",
       " (('1978',), 1),\n",
       " (('Nogales',), 1),\n",
       " (('evidently,',), 1),\n",
       " (('agaves',), 1),\n",
       " (('believed).',), 1),\n",
       " (('club\"...nice!',), 1),\n",
       " (('club\"',), 1),\n",
       " (('bulletproof...I',), 1),\n",
       " (('\"tequila\"',), 1),\n",
       " (('agaves,',), 1),\n",
       " (('(whoever',), 1),\n",
       " (('\"they\"',), 1),\n",
       " (('control...I',), 1),\n",
       " (('juice:)',), 1),\n",
       " (('club...you',), 1),\n",
       " (('thanking',), 1),\n",
       " (('stars:)',), 1),\n",
       " (('euphemism...dear',), 1),\n",
       " (('privilege:)',), 1),\n",
       " (('today...no,',), 1),\n",
       " (('Tecate',), 1),\n",
       " ((\"cerveza's\",), 1),\n",
       " (('silly...dad',), 1),\n",
       " (('buying:)',), 1),\n",
       " (('BTW).',), 1),\n",
       " (('tacos...(ok,',), 1),\n",
       " (('salty...and',), 1),\n",
       " (('salty...',), 1),\n",
       " (('jam-packed',), 1),\n",
       " (('tacos...I',), 1),\n",
       " (('club:)',), 1),\n",
       " (('Haylee',), 1),\n",
       " (('y.o.',), 1),\n",
       " (('jeep.',), 1),\n",
       " (('(Camry',), 1),\n",
       " (('SE),',), 1),\n",
       " (('visually.',), 1),\n",
       " (('bleached',), 1),\n",
       " (('blond.',), 1),\n",
       " (('(Meaning',), 1),\n",
       " (('fades,',), 1),\n",
       " (('Sunny',), 1),\n",
       " (('Clay',), 1),\n",
       " (('achievement.',), 1),\n",
       " (('deliver....This',), 1),\n",
       " (('family/table',), 1),\n",
       " (('conveinent',), 1),\n",
       " (('\"Mike\"',), 1),\n",
       " (('shake.....which',), 1),\n",
       " (('Relaxing',), 1),\n",
       " (('Table-side',), 1),\n",
       " (('Humor',), 1),\n",
       " (('Physician,',), 1),\n",
       " (('Jongeys',), 1),\n",
       " (('anesthetic',), 1),\n",
       " (('Hummmm...',), 1),\n",
       " (('\"new',), 1),\n",
       " (('drugs\"',), 1),\n",
       " (('\"better\",',), 1),\n",
       " (('injections',), 1),\n",
       " (('momentary)',), 1),\n",
       " (('\"at-home\"',), 1),\n",
       " (('post-surgical',), 1),\n",
       " (('Kyou',), 1),\n",
       " (('free-gluten',), 1),\n",
       " (('(bun',), 1),\n",
       " (('requested)',), 1),\n",
       " (('whack-a-mole',), 1),\n",
       " (('\"Southern',), 1),\n",
       " (('Burger\"',), 1),\n",
       " (('spooky)',), 1),\n",
       " (('adequately',), 1),\n",
       " (('toppinged',), 1),\n",
       " (('burning,',), 1),\n",
       " (('(yea',), 1),\n",
       " (('gloves!)',), 1),\n",
       " (('reclaimed-paper',), 1),\n",
       " (('capacity.',), 1),\n",
       " (('location(',), 1),\n",
       " (('problens',), 1),\n",
       " (('york',), 1),\n",
       " (('SLS.',), 1),\n",
       " (('Landmark',), 1),\n",
       " (('Village.',), 1),\n",
       " (('cosy',), 1),\n",
       " (('$0.85',), 1),\n",
       " (('bag)',), 1),\n",
       " (('\"etsu\"just',), 1),\n",
       " (('$8.95',), 1),\n",
       " (('Toronto),',), 1),\n",
       " (('lacking/confusing',), 1),\n",
       " (('Baldwin.',), 1),\n",
       " (('Baldwin,',), 1),\n",
       " (('Konnichiwa',), 1),\n",
       " (('Bocca.',), 1),\n",
       " ((',felt',), 1),\n",
       " (('balyaged',), 1),\n",
       " (('constantly!',), 1),\n",
       " (('bellpeppers,',), 1),\n",
       " (('Pam',), 1),\n",
       " (('willingly',), 1),\n",
       " (('accommodated!',), 1),\n",
       " (('(Matt!)',), 1),\n",
       " (('visit--worth',), 1)]"
      ]
     },
     "execution_count": 17,
     "metadata": {},
     "output_type": "execute_result"
    }
   ],
   "source": [
    "text = ' '.join(train_10000_eng.text.values)\n",
    "text_trigrams = [i for i in ngrams(text.split(), 1)]\n",
    "Counter(text_trigrams).most_common()[-500:]"
   ]
  },
  {
   "cell_type": "markdown",
   "metadata": {},
   "source": [
    "Here I found two sentences in Chinese:\n",
    "- (('不要在这里吃！',), 1),\n",
    "- (('我们刚在这里吃午饭，在我们的汤里发现了一个蟑螂，我把它展示给服务员，她说：哦，对不起。你不必付饭费\"，这意味着他们的厨房里有很多蟑螂，他们知道，她一点都不惊讶。',),  \n",
    "\n",
    "Most of these rare words have some punctuations."
   ]
  },
  {
   "cell_type": "code",
   "execution_count": 18,
   "metadata": {},
   "outputs": [
    {
     "data": {
      "text/plain": [
       "[(('visit!', \"Haven't\"), 1),\n",
       " (('years', 'bc'), 1),\n",
       " (('something', 'drew'), 1),\n",
       " (('whites', 'mixed'), 1),\n",
       " (('with', 'bellpeppers,'), 1),\n",
       " (('bellpeppers,', 'onions'), 1),\n",
       " (('tomatoes,', 'avocado'), 1),\n",
       " (('fruit,', 'with'), 1),\n",
       " (('muffin.', 'Super'), 1),\n",
       " (('Super', 'healthy'), 1),\n",
       " (('with', 'Pam'), 1),\n",
       " (('Pam', 'instead'), 1),\n",
       " (('they', 'willingly'), 1),\n",
       " (('willingly', 'accommodated!'), 1),\n",
       " (('accommodated!', 'This'), 1),\n",
       " (('server', '(Matt!)'), 1),\n",
       " (('(Matt!)', 'was'), 1),\n",
       " (('AWESOME!', 'Come'), 1),\n",
       " (('and', 'visit--worth'), 1),\n",
       " (('visit--worth', 'it!'), 1)]"
      ]
     },
     "execution_count": 18,
     "metadata": {},
     "output_type": "execute_result"
    }
   ],
   "source": [
    "text = ' '.join(train_10000_eng.text.values)\n",
    "text_trigrams = [i for i in ngrams(text.split(), 2)]\n",
    "Counter(text_trigrams).most_common()[-20:]"
   ]
  },
  {
   "cell_type": "markdown",
   "metadata": {},
   "source": [
    "### Check bad words"
   ]
  },
  {
   "cell_type": "markdown",
   "metadata": {},
   "source": [
    "#### First emoticons"
   ]
  },
  {
   "cell_type": "code",
   "execution_count": 19,
   "metadata": {},
   "outputs": [],
   "source": [
    "def find_emoticons(text):\n",
    "    emoticons = re.findall('(?::|;|=)(?:-)?(?:\\)|\\(|D|P)',text)\n",
    "    if emoticons == []:\n",
    "        return False\n",
    "    else:\n",
    "        return True"
   ]
  },
  {
   "cell_type": "code",
   "execution_count": 20,
   "metadata": {},
   "outputs": [],
   "source": [
    "eg1 = np.where(train_10000_eng.text.apply(find_emoticons) == True)[0][0]"
   ]
  },
  {
   "cell_type": "code",
   "execution_count": 21,
   "metadata": {},
   "outputs": [
    {
     "data": {
      "text/plain": [
       "\"Man, I love Toronto! Hiding in a strip mall on Overlea, find a dingy looking restaurant that serves up fantastic, cheap kabob...be warned regardless of when you come here you'll likely be waiting for a table as this place is always overrun with people...If you're a fan of perfectly grilled spicy meat, you must try this place out...now that I've been here I need to limit how many times I go here per month :)\\n\\nTake the drive out and have some kabob...if you don't own a car, borrow one or get a zipcar membership...totally worth it!\""
      ]
     },
     "execution_count": 21,
     "metadata": {},
     "output_type": "execute_result"
    }
   ],
   "source": [
    "train_10000_eng.iloc[eg1].text"
   ]
  },
  {
   "cell_type": "markdown",
   "metadata": {},
   "source": [
    "Here we can find one  :)  together with two '\\n' "
   ]
  },
  {
   "cell_type": "code",
   "execution_count": 22,
   "metadata": {},
   "outputs": [
    {
     "data": {
      "text/plain": [
       "\"Man, I love Toronto! Hiding in a strip mall on Overlea, find a dingy looking restaurant that serves up fantastic, cheap kabob...be warned regardless of when you come here you'll likely be waiting for a table as this place is always overrun with people...If you're a fan of perfectly grilled spicy meat, you must try this place out...now that I've been here I need to limit how many times I go here per month :)Take the drive out and have some kabob...if you don't own a car, borrow one or get a zipcar membership...totally worth it!\""
      ]
     },
     "execution_count": 22,
     "metadata": {},
     "output_type": "execute_result"
    }
   ],
   "source": [
    "re.sub('\\\\n','',train_10000_eng.iloc[eg1].text)"
   ]
  },
  {
   "cell_type": "markdown",
   "metadata": {},
   "source": [
    "#### Check typos"
   ]
  },
  {
   "cell_type": "code",
   "execution_count": 23,
   "metadata": {},
   "outputs": [],
   "source": [
    "# Most packages can't handle some words like 'nooooo'. \n",
    "def check_same(word):\n",
    "    intervals = {}\n",
    "    for index,letter in enumerate(word):\n",
    "        if letter == word[index-1]:\n",
    "            if letter in intervals.keys():\n",
    "                interval = intervals.pop(letter)\n",
    "                lastguy = interval[len(interval)-1] \n",
    "                if lastguy[1] == (index-1):\n",
    "                    lastguy = (lastguy[0],index)\n",
    "                    interval[len(interval)-1] = lastguy\n",
    "                    intervals[letter] = interval\n",
    "                else:\n",
    "                    lastguy1 = (index-1,index)\n",
    "                    interval.append(lastguy1)\n",
    "                    intervals[letter] = interval\n",
    "            else:\n",
    "                intervals[letter] = [(index-1,index)]\n",
    "    return intervals"
   ]
  },
  {
   "cell_type": "code",
   "execution_count": 24,
   "metadata": {},
   "outputs": [],
   "source": [
    "# I have never seen a word with three continuous same letter, so I will delete till two.\n",
    "def no_more_than_2(word,dupli):\n",
    "    for key in dupli.keys():\n",
    "        for interval in dupli[key]:\n",
    "            length = interval[1]-interval[0]+1\n",
    "            regex = '(%s'%key + '{%i})'%length\n",
    "            word = re.sub(regex,key+key,word)\n",
    "    return word"
   ]
  },
  {
   "cell_type": "code",
   "execution_count": 25,
   "metadata": {},
   "outputs": [],
   "source": [
    "from pattern.en import suggest\n",
    "from itertools import combinations\n",
    "def right_spelling(word,dupli):\n",
    "    key_list = []\n",
    "    for key in dupli.keys():\n",
    "        key_list.append(key)\n",
    "    n = len(key_list)\n",
    "    for i in range(n):\n",
    "        for comb in combinations(key_list,i):\n",
    "            for letter in comb:\n",
    "                regex = '(%s'%letter + '{2})'\n",
    "                new_word = re.sub(regex,letter,word)\n",
    "                if new_word in brown.words():\n",
    "                    return new_word\n",
    "    return suggest(word)[0][0]"
   ]
  },
  {
   "cell_type": "code",
   "execution_count": 26,
   "metadata": {},
   "outputs": [],
   "source": [
    "def no_typo(word):\n",
    "    if len(word) == len(set(word)):\n",
    "        return word\n",
    "    if suggest(word)[0][1] == 1:\n",
    "        return suggest(word)[0][0]\n",
    "    else:\n",
    "        duplicates = check_same(word)\n",
    "        two = no_more_than_2(word,duplicates)\n",
    "        suggest_two = suggest(two)\n",
    "        if suggest_two[0][1] == 1:\n",
    "            return suggest_two[0][0]\n",
    "        else:\n",
    "            return right_spelling(two,duplicates)\n",
    "        \n",
    "        return right_spelling(word)"
   ]
  },
  {
   "cell_type": "code",
   "execution_count": 27,
   "metadata": {},
   "outputs": [
    {
     "data": {
      "text/plain": [
       "'finally'"
      ]
     },
     "execution_count": 27,
     "metadata": {},
     "output_type": "execute_result"
    }
   ],
   "source": [
    "no_typo('finaaallly')"
   ]
  },
  {
   "cell_type": "markdown",
   "metadata": {},
   "source": [
    "#### Lemmatization"
   ]
  },
  {
   "cell_type": "code",
   "execution_count": 28,
   "metadata": {},
   "outputs": [],
   "source": [
    "from nltk.stem import WordNetLemmatizer\n",
    "from nltk.stem.porter import PorterStemmer\n",
    "from nltk import word_tokenize, pos_tag\n",
    "from nltk.corpus import wordnet"
   ]
  },
  {
   "cell_type": "code",
   "execution_count": 29,
   "metadata": {},
   "outputs": [],
   "source": [
    "from nltk.stem.porter import PorterStemmer\n",
    "porter = PorterStemmer()\n",
    "def tokenizer_porter(text):\n",
    "    return [porter.stem(word) for word in text.split()]"
   ]
  },
  {
   "cell_type": "code",
   "execution_count": 30,
   "metadata": {},
   "outputs": [],
   "source": [
    "def get_wordnet_pos(tag):\n",
    "    if tag.startswith('J'):\n",
    "        return wordnet.ADJ\n",
    "    elif tag.startswith('V'):\n",
    "        return wordnet.VERB\n",
    "    elif tag.startswith('N'):\n",
    "        return wordnet.NOUN\n",
    "    elif tag.startswith('R'):\n",
    "        return wordnet.ADV\n",
    "    else:\n",
    "        return None\n",
    "    \n",
    "wnl = WordNetLemmatizer()\n",
    "def lemmatizer(text):\n",
    "    tokens = word_tokenize(text)\n",
    "    lemmas = []\n",
    "    tagged = pos_tag(tokens)\n",
    "    for tag in tagged:\n",
    "        wordnet_pos = get_wordnet_pos(tag[1]) or wordnet.NOUN\n",
    "        lemmas.append(wnl.lemmatize(tag[0], pos=wordnet_pos))\n",
    "    return lemmas"
   ]
  },
  {
   "cell_type": "markdown",
   "metadata": {},
   "source": [
    "#### Stop-words"
   ]
  },
  {
   "cell_type": "markdown",
   "metadata": {},
   "source": [
    "I think words which mean negative are important."
   ]
  },
  {
   "cell_type": "code",
   "execution_count": 31,
   "metadata": {},
   "outputs": [
    {
     "name": "stderr",
     "output_type": "stream",
     "text": [
      "[nltk_data] Downloading package stopwords to\n",
      "[nltk_data]     /Users/joeyqiang/nltk_data...\n",
      "[nltk_data]   Package stopwords is already up-to-date!\n",
      "[nltk_data] Downloading package punkt to /Users/joeyqiang/nltk_data...\n",
      "[nltk_data]   Package punkt is already up-to-date!\n",
      "[nltk_data] Downloading package averaged_perceptron_tagger to\n",
      "[nltk_data]     /Users/joeyqiang/nltk_data...\n",
      "[nltk_data]   Package averaged_perceptron_tagger is already up-to-\n",
      "[nltk_data]       date!\n"
     ]
    },
    {
     "data": {
      "text/plain": [
       "True"
      ]
     },
     "execution_count": 31,
     "metadata": {},
     "output_type": "execute_result"
    }
   ],
   "source": [
    "import nltk\n",
    "nltk.download('stopwords')\n",
    "nltk.download('punkt')\n",
    "nltk.download('averaged_perceptron_tagger')"
   ]
  },
  {
   "cell_type": "code",
   "execution_count": 32,
   "metadata": {},
   "outputs": [],
   "source": [
    "from nltk.corpus import stopwords\n",
    "stop = stopwords.words('english')\n",
    "stop.pop(stop.index('but'))\n",
    "stop.pop(stop.index('not'))\n",
    "preposition = ['of','with','at','from','into','during',\n",
    "               'including','until','till','against','among',\n",
    "               'throughout','despite','towards','upon','concerning','to','in',\n",
    "               'for','on','by','about','like','through','over',\n",
    "               'before','between','after','since','without','under',\n",
    "               'within','along','following','across','behind',\n",
    "               'beyond','plus','except','but','up','out','around','down','off','above','near']\n",
    "for prep in preposition:\n",
    "    if prep in stop:\n",
    "        stop.pop(stop.index(prep))"
   ]
  },
  {
   "cell_type": "markdown",
   "metadata": {},
   "source": [
    "#### Convert n't to not"
   ]
  },
  {
   "cell_type": "code",
   "execution_count": 33,
   "metadata": {},
   "outputs": [],
   "source": [
    "def no_abbreviation(text):\n",
    "    text = re.sub('n\\'t',' not',text)\n",
    "    return text"
   ]
  },
  {
   "cell_type": "markdown",
   "metadata": {},
   "source": [
    "#### Adversatives"
   ]
  },
  {
   "cell_type": "code",
   "execution_count": 34,
   "metadata": {},
   "outputs": [],
   "source": [
    "but = ['yet','however','nonetheless','whereas','nevertheless']\n",
    "although = ['although','though','notwithstanding','albeit']"
   ]
  },
  {
   "cell_type": "code",
   "execution_count": 35,
   "metadata": {},
   "outputs": [],
   "source": [
    "def change_but(text):\n",
    "    for x in but:\n",
    "        text = re.sub(x,'but',text)\n",
    "    return text\n",
    "def change_although(text):\n",
    "    for x in although:\n",
    "        text = re.sub(x,'although',text)\n",
    "    return text\n",
    "def change_adversatives(text):\n",
    "    text = change_but(text)\n",
    "    text = change_although(text)\n",
    "    return text"
   ]
  },
  {
   "cell_type": "markdown",
   "metadata": {},
   "source": [
    "Now I want to capture the key information near but and although."
   ]
  },
  {
   "cell_type": "markdown",
   "metadata": {},
   "source": [
    "def although_phrase(text):\n",
    "    words = text.split()\n",
    "    for (index,word) in enumerate(words):\n",
    "        if word == 'altough.':\n",
    "            for x in range(index,index-10,-1):\n",
    "                if re.sub('(.*)\\.([a-z])\\..*','\\\\2',str(wordnet.synsets(words[x])[0])) in ['v','adj']"
   ]
  },
  {
   "cell_type": "code",
   "execution_count": 36,
   "metadata": {},
   "outputs": [],
   "source": [
    "def preprocessing(text):\n",
    "    # 取表情\n",
    "    emoticons = re.findall('(?::|;|=)(?:-)?(?:\\)|\\(|D|P)',text)\n",
    "    # 去回车\n",
    "    text = re.sub('\\\\n',' ',text)\n",
    "    # not\n",
    "    text = no_abbreviation(text)\n",
    "    # 只保留字母\n",
    "    text = re.sub('[\\W]+',' ', text.lower())\n",
    "    # 统一转折词\n",
    "    text = change_adversatives(text)\n",
    "    # 词性还原\n",
    "    tokens = lemmatizer(text)\n",
    "    text = ''\n",
    "    for index, token in enumerate(tokens):\n",
    "        # 去拼写错误\n",
    "        #tokens[index] = no_typo(token)\n",
    "        if token in stop:\n",
    "            tokens[index] = ''\n",
    "        else:\n",
    "            text = text + tokens[index] + ' '\n",
    "    return {'text':text,'emoticons':emoticons}"
   ]
  },
  {
   "cell_type": "code",
   "execution_count": 37,
   "metadata": {},
   "outputs": [
    {
     "name": "stderr",
     "output_type": "stream",
     "text": [
      "100%|██████████| 9956/9956 [00:52<00:00, 188.48it/s]\n"
     ]
    }
   ],
   "source": [
    "from tqdm import tqdm, tqdm_pandas\n",
    "tqdm.pandas()\n",
    "dictionary = train_10000_eng.text.progress_apply(preprocessing)"
   ]
  },
  {
   "cell_type": "code",
   "execution_count": 306,
   "metadata": {},
   "outputs": [],
   "source": [
    "y = train_10000_eng.loc[dictionary.index][\"stars\"]"
   ]
  },
  {
   "cell_type": "code",
   "execution_count": 38,
   "metadata": {},
   "outputs": [],
   "source": [
    "emoticons = [dictionary[i]['emoticons'] for i in train_10000_eng.index]"
   ]
  },
  {
   "cell_type": "code",
   "execution_count": 39,
   "metadata": {},
   "outputs": [],
   "source": [
    "texts = [dictionary[i]['text'] for i in train_10000_eng.index]"
   ]
  },
  {
   "cell_type": "code",
   "execution_count": 40,
   "metadata": {},
   "outputs": [
    {
     "data": {
      "text/plain": [
       "['total bill for horrible service over 8gs crook actually nerve to charge u 69 for 3 pill check online pill for 19 cent avoid hospital er at cost ',\n",
       " 'adore travis at hard rock new kelly cardenas salon always fan of great blowout stranger to chain offer service but travis take flawless blowout to whole new level travis greets with perfectly green swoosh in otherwise perfectly style black hair vega worthy rockstar outfit next come relaxing incredible shampoo get full head message could cure even bad migraine in minute scented shampoo room travis freakishly strong finger in good way use perfect amount of pressure superb start glorious blowout not one not two but three people involve in best round brush action hair ever see team of stylist clearly get along extremely well evident from way talk to help one another really genuine not corporate requirement much fun to next travis start with flat iron way flip wrist to get volume around without over make look like texas pagent girl admirable also worth note not fry hair something happen before with less skilled stylist at end of blowout style hair perfectly bouncey look terrific thing well awesome blowout last for day travis see every single time out in vega make feel beauuuutiful ',\n",
       " 'to say office really together organized friendly dr j phillipp great dentist friendly professional dental assistant help in procedure amazing jewel bailey help to feel comfortable not dental insurance but insurance through office purchase for 80 something year give 25 off of dental work plus help get sign up for care credit know nothing about before visit highly recommend office for nice synergy whole office ',\n",
       " 'go in for lunch steak sandwich delicious caesar salad absolutely delicious dress with perfect amount of dressing distribute perfectly across leaf know go on about salad but perfect drink price pretty good server dawn friendly accommodate happy with in summation great pub experience would go ',\n",
       " 'today second out of three session pay for alalthough first session go well could tell meredith particular enjoyment for male client over female but return teeth fine pleased with result go in today in whitening room with three gentleman appointment start out well alalthough person in service industry always attend to female clientele first couple arrive unbothered by sign wait turn check on after original 30 minute timer to ask ok attend boyfriend on numerous occasion well men would exit room without even ask look to see irritation half way through another woman show up explain deal to in lobby admit timer must reset half way through process reset boyfriend leave rest gentleman furthest away from time to come in redeem deal get set give timer before leave at point time at 10 minute reset 5 minute ago accord to sit patiently whole time with major pain in gum watch time until lamp shut off not reset two others explain deal to guest but never check on time light turn off release stance of mouth to relaxed state assume get thirty minute session instead of usual 45 but to come in at point teeth formula not burn gum neglect for 25 minute but begin to burn lip begin squeal slap chair try to get attention from room in panic in much pain by time enter room already out of chair finally acknowledge ask could put vitamin e on gum burn picture at point treat two gum burn neglect irritated to suffer want to leave wait for boyfriend keep harass about issue say well burn come with teeth whiten totally agree under justifiable circumstance would not irritate could easily avoid check on even second time could let know not never check on physical health could not even take two second to reset timer even admit to accuse come in to but light off for solid two minute before could not stand pain admit reset every 15 minute mean for 25 minute not bother to help at guest in lobby proceed to attack well simply want to leave after way treat also expect refund for not get complete session today due to neglect fact wo not return for last fail to even scream from door continue to until boyfriend down step never in life appalled by grown woman behavior claim to in business for 10 year admit wrong but not make guest feel unwelcome ca not job properly ',\n",
       " 'first to admit not excite about go to la tavolta food snob group of friend suggest go for dinner look online at menu to nothing special seem overpriced im also not big on order pasta go out ala outnumber thank goodness order sea bass special to die for cooked perfectly season perfectly perfect portion not say enough good thing about dish server ask seem proud of dish say not chef incredible job hubby get crab tortellini also love heard mmmm good from around table waiter super nice even give u free dessert of last people in restaurant service slow place pack but jug of wine large group with good conversation not seem to bother anyone order calamari fry zucchini appetizer leave out mussel sea bass special highly recommend chicken parm crab tortellini also good big chicken romano bit bland house salad teeny make reservation but still expect to wait for food go with large group of people plan for to loud not go with date unless fight not feel like hear anything to say ask to sit in side room available ',\n",
       " 'tracy dessert big name in hong kong one in first markham place for many year come in for chinese dessert must say selection increase tremendously over year might well add price also increase tremendously well waitress give u tea could taste red date in fancy simple taro with coconut with tapioca pearl like 5 25 something basically dessert 5 crazy literally make dessert at home for bowl would probably cost like 0 50 year ago think still get for like 3 4 reasonable but wow 5 little over top for dessert although must say tracy dessert little on expensive side also saw item on menu like fish ball chicken wing shave ice friend get mango drink with fresh mango in also surprise many people come to tracy dessert after work come on sunday table always fill think amount of table perfect one really wait for seat for long time but table keep fill up table finish ',\n",
       " 'place go down hill clearly cut back on staff food quality many of review write before menu change go for year food quality go down hill service slow salad 15 bad get not worth spend money on place many option ',\n",
       " 'giant best buy with 66 register not get big deal about place ',\n",
       " 'like walk back in time every saturday morning sister in bowling league after spend quarter play pin ball machine until mother come to pick u up sister dare play machine hard afraid of tilt show up freeze game on hand bit gentler want to make sure get quarter worth place row row of machine really old of mid 80 theme even pac man fun to spend afternoon play machine remember fun of early teen year ',\n",
       " 'walk in around 4 on friday afternoon sit at table off bar walk out after 5 min not even think realize walk in but everyone at bar notice walk in service non existent at best not good way for new business to start out oh well location at about 5 different thing over past several year add to list smdh ',\n",
       " 'wow surprised at one two star review start with tender calamari alalthough marinara sauce bit bland but touch of salt make right husband veal with pepper say delicious tender mash potato perfect salmon diablo also delicious salad beautiful dressing serve on salad nice amount end delicious meal with piece of tiramisu server matt right on pleasant knowledgeable about menu appetizer salad entree time perfectly love salad not mind entree serve still eat problem let dinner cool to right temp for to eat comfortably wonder sometimes people not appreciate relaxing take time to eat wonderful beautifully prepared meal wonderful atmosphere relax chair super comfortable certainly back give try not always go by review bottle of riesling calamari app two delicious entree dessert for 92 well with ',\n",
       " 'michael from red carpet vip amaze reach out need help planning soon to sister in law bachelorette group of 10 girl little overwhelmed but michael save day everything super smooth easy get good deal best time ever book hotel bachelorette package for great price save contact info for sure reach out on next vega trip ',\n",
       " 'not believe thing change in 3 year pick up duck congee sometime in winter hubby sick disappointed ginger fish sauce taste like go bad never bitter today hubby want to eat since crave duck congee place not serve duck coleslaw side wait about 10 minute to get menu after place order wait another 5 minute to get tea place bring with menu could go on with detail but gist of story understaffed staff slow bad part of service server make u feel bad for ask for anything like take order arrive place order before another couple bside u at least 10 minute ahead but somehow couple receive pho before mine almost eat pho before mine come out ',\n",
       " 'ca not really find anything wrong with place pasta pizza amazing high quality price reasonable owner staff friendly in downtown check place out lot of people think downtown lot of option around but not always case also lot of poor quality food in downtown well ',\n",
       " 'great lunch today staff helpful in assist with selection knowledgeable on ingredient enjoy bbq chicken with tika masala sauce really good naan bread biryani with chicken also yummy fun to see food prepare in tandoori ovens great addition to fast casual scene in cleveland ',\n",
       " 'huge slim fan since open one up in texas about two year ago use to live place never disappoint even great salad grill chicken plus fresh brew sweet tea best ',\n",
       " 'good selection of class of beer main twice first time fry chicken delicious but warn extremely salty could not even finish last piece of chicken after experience salt overload second time come on wednesday not know bbq night completely different menu not offer anything from original vegetarian friendly menu menu one vegetarian friendly option eggplant sandwich vegetarian in party say awful also on bbq night choose 2 side except out of side except 2 fry potato salad ca not say thrill to carb heavy side with carb heavy main run out of side early in evening service not great avoid come on wednesday ',\n",
       " 'food always good price reasonable alalthough not exactly restaurant like snack bar limit menu walk up to counter place order wait minute for to prepare order pay cashier search for table kind of like sandwich shop still much good choice for value hotel deli on strip ',\n",
       " 'pick meat on planet chef make mexican style dish with amazing flavor wow fish lamb taco to die for drink great well ',\n",
       " 'plumbsmart provide superior service from begin to end able to repair badly damage sewer pipe with one day notice particularly pleased with attention to care clean up landscape after job complete competitive pricing excellent service make first stop for future plumbing need thank to wayne whole team scott b ',\n",
       " 'unfortunately must recommend not to conduct business with fast fix jewelry watch repair staff completely unprofessional never treat rudely in life actually shock walk away think wow people even job never write negative review before usually chalk up to someone bad day work in customer service for 10 year know exhaust bad day happen but special occasion drive 30 minute to try to find someone could help repair watch band barely greet upon arrival right away felt like bother girl behind counter obviously want to leave blond kid work snap at ask question ask in order to clarify say snap say already tell even authentic shouting at over shoulder work on something else shock stand put watch away awkwardly leave with one else say word to lot of place fix jewelry in city take business elsewhere recommend people read review place not deserve loyal customer base ',\n",
       " 'pettuccine fresh make in morning delicate yummy owner staff super kind delightful also veal piccata classic love restaurant ',\n",
       " 'give place star would hot pot although im not good judge for anything besides shabu must say quantity small price expensive for quality quantity taste of soup base bland put hot water in sauce selection limit not fresh clean from perspective love hot pot would never go back home make hot pot much good place without even try anyways good appetite for hot pot favor skip place make miserable ',\n",
       " 'review in regard to experience watch superbowl 51 february 5 2017 at westgate in theater auditorium watch game somewhere else to unfamiliar with big game experience at westgate typically would get in line to watch superbowl in theater portion of hotel around 8 on superbowl sunday line get extremely long but early get in line choice of seat significantly improve after wait in line for hour notify low portion of theater reserve for pay customer previously purchase wristband for 100 include alcohol hot dog instead would seat in balcony portion of theater problem something different say mistake at 1 30 pm send upstairs to balcony to take seat prepare to watch big game at 3 30 take seat one of u in group of 8 hold seat rest of u go out to casino floor gamble go sport book place couple last minute bet please note patron leave auditorium receive hand stamp wristband to allow reentry to theater but instead tell by westgate staff hand stamp wristband would give on choose to leave would not allow back in wow right after wait in line morning want to go downstairs to play blackjack place bet at book maybe bite to eat food make available upstairs would out of luck nice work westgate seat upstairs stuck with food soda available for purchase beer water sell in balcony food counter at 1 45 p after vigorously complain to westgate staff to usher with yellow jacket security with black jacket at 3 04 pm wristband give out at 3 18 hot dog soda make available for sale in balcony believe direct result of upset patron like seat in balcony level in summary for big sportbook in la vega place dysfunction fail to satisfy basic request to provide food comfort to bet patron total mess place suck watch big game bet money else ',\n",
       " 'end up raku close receive great rating on yelp glad come one of good meal start off with mushroom dish lettuce wrap amaze lettuce wrap like flavor party in mouth also panang duck terrific highly recommend three dish one dish not good seabass with drunken noodle overall excellent meal intimate setting great service definitely back ',\n",
       " 'try place girl away for month really want to try to wait until come back nobody hold candle to but toe desperate go in almost twice usually pay to begin with before start pedicure specifically tell already gel polish on toe not tell right extra 5 wait until time to pay not charge for but charge kind of extra fee not even ask for also inform girl toenail loose need glue look at phone of sudden felt sensation rip off toenail without even ask another girl come put acrylic on since nail underneath 1 2 grow not tell much would even ask permission charge at end added stone massage barely massage rub stone up low leg couple time last about 30 second ask for design use to get board with bunch of design to choose from not even ask want paint line on two toe charge 5 dollar for ugh not care ugly toe look next time never go anywhere else besides bella nail rock place appal not want to make scene pay money but never go back ',\n",
       " 'love place downtown but scottsdale location manner sit at bar for 10 min bartender ignore u menu water walk out could care less ',\n",
       " 'best chinese resto highly recommend 5 star let u support business best in west valley trust wont gi wrong come to place ',\n",
       " 'go last weekend pretty disappointed not one thing picture recommend on yelp good start off with steak grill skewer ok nothing special freind get lasagna get special chicken dish pretty bland lack kick waitress really nice get manger to switch out dish freind get hamburger get shrimp scampi hamburger well lasagna but still lack flavor scampi well chicken but also still under season noodle bit under cook with big name attach to restaurant go on empty stomach high hop service great give three star ',\n",
       " 'place epitomize rumor transformation in process of take place in pittsburgh great food drink service but atmosphere second to none definitely must visit for local visitor alike not feel like in pittsburgh ',\n",
       " 'keep appointment on time pretty efficient but disappointed in think girl not know go on with car tire guy help out tell two front tire tread extremely low would need two new tire in month two tell could show tire on much would take car to discount tire tell tread actually still really good for many mile on car tell price of two tire around 280 buy two new one couple month before price buy two new tire tire pressure light come on not long after honestly feel like tire not even new not look worth 280 ',\n",
       " 'meet friend for dinner tonight server bring u one menu after bring u couple of coke not come to table for 20 min after try to get attention time walk by decide to order off bartender receive starter main at time wing brisket mac cheese alright at best at point not see server since bring food to go to bar for napkin refill on coke actually saw server hover over u put tip into handheld credit card terminal food somewhere between okay decent service somewhere between piss poor terrible ',\n",
       " 'another solid bbq place in calgary definitely great place to go crave something smokey delicious actually notice place wander by walk downtown impossible to miss lovely smokey bbq smell on block but look kind of like hole in wall entrance not look like update in year ok add character entire decor wood country to include buffalo head on wall also downstairs live music on weekend ok onto food couple of time think comment on menu pretty well friend order brisket catfish veggie burger mac n cheese cesar salad chili garlic fry to review place base on delicious garliciness of fry would 5 star review hand down mean seriously vampire beware but everyone else enjoy plenty portion size huge go hungry prepare for to go box grant every time go love food much eat entire meal bet at point in time wonder give place 4 star well not everything amazing garlic fry bourbon apple fairly tasteless chili ok meat tough service also ok but catfish delightful mac cheese also delicious brisket quality specialty cocktail also pretty good beer price pretty decent great place to go for long lunch after dinner drink even weekend brunch vegetarian option on menu ignore buffalo head on wall believe even gluten free option well fairly good place to go with large group make sure to call ahead in like say earlier great place for good time smokey flavor ',\n",
       " 'one day after satisfy frozen yogurt crave at kiwispoon get invite out to eat frozen yogurt at piccadilly rare opportunity to truly compare two yogurt place try three flavor chocolate pumpkin caramel sea salt add topping of brownie bit chocolate caramel turtle mochi overall like yogurt well at kiwispoon frozen yogurt seem less rich in piccadilly flavor not strong price per ounce also marginally high at piccadilly definitely plus to piccadilly yogurt although like topping well althought mochi taste good brownie piece big chocolate caramel turtle go great on ice cream chocolate caramel turtle standard topping for frozen yogurt ice cream place also with huge map of cleveland height behind cash register feel like authentic neighborhood froyo joint ',\n",
       " 'party of 3 order fish taco pork belly banh mi corn beef hash benedict bam ham everything delicious esp pork belly banh mi tender juicy baguette nicely toast love crispy fish taco compliment chip salsa fresh super good crispy service excellent waitress great job check up on u serve u really want food option but full next time visit definitely come back ',\n",
       " 'dinner at bellagio buffet last night service ok server great but kind of forgot about u towards end of visit food cold good thing crab leg suppose to cold taco freshly make food under single lamp not heat food at let server know food cold tell manager in charge come over to ask problem say go to talk to chief idea actually happen although not see after half buffet close well not many option must say rather go to rio buffet for high end casino horrible experience ',\n",
       " 'flat out fantastic twice croissant bomb ca not wait until try item new breakfast spot in ahwahtukee service great well family run business come support ',\n",
       " 'note 1 visit breakfast lunch overall excellent high end buffet but dessert section need little work highlight dip foccacia pizza in chimichurri sauce best pizza ever prime rib excellent hate crab leg in general but everyone else say great really fresh cooky must try cooky get lucky grab white chocolate macadamia cooky still warm crispy on side chewy mouth wateringly good mean stuff beyond belief but could not stop eat get in during breakfast time try portuguese sausage breakfast food really worth avoid gelato bar look good but texture like soft serve at dairy queen hate disappointed shrimp pad thai serve ice cold gross ',\n",
       " 'year out from surgery with sac wish could turn back time promise great thing butcher body leave body alone not bad out to perfect often talk about ruin good body never forget dirty nasty slipper come into operating room run from room ',\n",
       " 'best wonton soup ever delicious food great service chicken satay roti c wonton soup one of fried noodle shrimp dish definitely back ',\n",
       " 'never experience discrimination last night at place with 2 female on dress heel place diverse far everyone dress dress heel jean flip flop short etc immediately notice large group of people of particular race come from back of line go inside althought nothing of assume on list get weird notice guy work door walk back fourth scan line for people would pull out let go inside every time happen to group with caucasian people 4 caucasian girl in front of u behind group of 4 black male girl pull out of line take to door to go inside talk of list guy tell must on list leave guy leave watch happen quite time before give up remove from line stand in front for really long time with acknowledgement from guy work door funny thing not make big announcement must on list to get inside walk up to particular group tell in low tone would leave know not of dress look let people in with jean flip flop ultimately let in by bouncer at side door nothing special go on in to picky about let inside like night at suite safe to say never step foot in place ',\n",
       " 'dinner food excellent service could not good thanks jose back for sure ',\n",
       " 'go saturday for dinner 2 1 coupon price 37 for two people good deal large space open layout time year ago eat mostly crab legs prime rib provide self serve drink area think good not to flag down staff to get drink want one in situation unlimited alcohol wine beer bar area with one bartender work bunch of tv to watch get update on game would not go out of way but in mirage hungry eat another 2 1 coupon would not spend full retail price eat buffet on strip well for price point ',\n",
       " 'take kid to hang out on one fine 72 degree sunny saturday in february go over bridge come from aliante casino cant miss nice view of waterfall at forefront of park bad playground nice thing vouch for playground nice fence in little area decent amount of playground equipment swing slide table bench like soft material use playground equipment build on also sand lot area dinosaur bone prop day go playground pack kid run into go down slide kid actually wait to get on swing after decide to walk around to check out rest of park see duck everywhere especially in pond nice waterfall go into unfortunately nice stuff end everywhere on path walk on green duck crap bring question kind of spray force field on playground duck green duck crap anywhere in playground im also curious to many people would actually spread out blanket picnic on grass for crap over well review im start to get gross out think about day after carefully try not to step on crap go to car make mental note to make sure to mention green crap saw in review to not hesitate in mention to everybody know either make plan on come think about thing positive think of about to come on diet after see green crap probably wont much of appetite definitely get exercise try to avoid step on stuff yeah im not worried about come back to place time soon in lifetime think lol maybe duck ',\n",
       " 'reason frequent paul ace over big name home depot low personalized assistance big name brand provide yes bit not at level paul ace hardware in tempe need help ready willing to help in every aspect of project store manager bra personally go out way to assist in gather material need for current project know store bounce around to show option seem to recommendation on project guy must love know everything in store constant yourselfer always please with help receive thankful place in neighborhood ',\n",
       " 'in need of burger close location from work not typical fast food joint always like to choose signature burger opt for spicy cajun burger combo up with beer batter ring jones strawberry lime soda small location with even small patio maybe 8 bar stool on cramped balcony look onto charles street but definitely sit outside grab seat luckily patio vacant late afternoon topping spicy cajun burger avocado jalapeños lettuce jalapeño havarti tomato cajun spice smokey chipotle honey mayo ample topping on burger enjoy avocado on burger overall not spicy but good kick from sliced jalapeños meat grill perfectly taste average but find small compare to bun bun soft taste good but not hold up against burger topping at end leave with lot of bun burger beer batter onion ring thick batter on ring golden brown crunchy filling drink jones strawberry lime soda yummy not sour but good balance overall prompt friendly service quaint little patio average burger but good for quick fix in satisfy burger crave ',\n",
       " 'good not make to 5 star due to price bit high for amount of food location bit unsavory decor atmosphere surprisingly nice from outside expect to run down inside staff nice surprised empty dining room for friday evening get vegetable samosa to start order chicken tikka masala lamb rogan josh rice plain naan complaint lamb could tender but everything flavorful delicious would definitely go give chance ',\n",
       " 'employee to busy chat with one employee head out drive thru window talk to people entire time cook come from outside make food hand before make food ',\n",
       " 'random hole in wall locate in park rd shopping center never hear of until fateful st patrick day another beer in order after make way enjoy patio decide food next venture after second alcohol visit excite to taste vegetarian option grill cheese with spicy asparagus portobello let tell grill cheese amazing add interesting touch become addict happy with sandwich also tasty appetizer of goat cheese fritter with red wine sauce goat cheese one of favorite fry anything make good in love ther service great accomadate large group time with 7 20 people great staff awesome menu choice go back ',\n",
       " 'lady beware not ever take machine to 35th ave sew vac on northern break elna machine repair spent over 10 000 at store over year long time customer bill owner son rude to nothing to resolve broken machine disgust bill owner daughter would not thing to help repair man break machine terrible to bring nice sewing machine in to repair people break in possession not want to damm thing about like big screw to wo not buy another thing from people for way treat even material over price in market for another machine but wo not go ever machine still need to take care of still not resolve issue still break happen repairman service machine wish never take machine to 35th ave sew vac shop cant people up to take ownership to responsibility for mistake go to kings sew machine much good service dont break machine ',\n",
       " 'th service hit miss sometimes staff personable attentive time ask come staff often gtfoh stamp place permanently across forehead patron to go with otherwise deem guy would say continuo visit for great hh but several option close to home with food drink option for to choose from think today may last visit ',\n",
       " 'great cocktail good food overall first class restaurant ',\n",
       " 'receive mailer althought okay let go walk in on monday afternoon greet by bartender wear cute shirt say bar baby cute but never get name look over menu ask good say club order yes good beer club on white toast serve with fry watch sport center really felt at ease good music playing go back ',\n",
       " 'company host dinner award night at hotel last night experience best could imagine work with kristine cole fantastic communication always on point walk in to blow away by set up compliment on food night come into work today to flood with email on impressed everyone with presentation staff to help u great believe tim in charge anna one gentleman with make u laugh give u privacy need back recommend to everyone ',\n",
       " 'yes boba tea explosion in full force to lee lee international supermarket in chandler many time but never notice little gem next to until couple year ago boba tea house serve up of best boba tea in valley long before become big thing fantastic array of flavor drink choice to choose like fruit slush snow milk tea pudding mango jelly coffee jelly etc even snack like popcorn chicken fry tofu fry staff super friendly price reasonable still laugh at friend idea boba tea afraid to suck up one of chewy ball thing lol in case not know boba tea flavored tea usually with milk to chewy tapioca ball fruit jelly add think super delicious today get blueberry milk boba tea make for perfect snack in middle of day another favorite of mine honeydew milk tea ',\n",
       " 'yum kale grit would definitely menu choice unique farm fresh delicious ',\n",
       " 'ooooooh yummy red meat eat midwestern girl 9 best steak remember in know long damn good mac cheese tasty tasty side try snicker dessert basically two cookie ice cream sanwiches with bit of snicker sister get super fun complaint really loud waaaaaaay many annoy veil tot bachelorette party for taste but hey palm ',\n",
       " 'burger phenomenal galley boy melt in mouth pair with potato teaser milkshake like heaven on earth ',\n",
       " '1 advertise vegetarian dinner for price pay really would like nice cut of meat 2 way over price dinner for 2 with 2 blue moon beer 1 10 glass of wine 165 tip tip over 25 server great experience of eating in dark pretty interesting experience 3 food meh would okay with everything else food outstanding really not probably eat 3 bite of dinner entree to taste different ingredient far from savory could use even pasta something couple of dry taste like hush puppy would impress little tell server not enjoy would offer to try one of others but not make big deal like say before really nice dessert literally save grace in give 2 star server experience in dark to honest incase others go in expect non vegetarian meal ready for 200 vegetarian dinner also not like review on facebook page block from comment on people talk crap about not handle truth allow others to put down ',\n",
       " 'at least pink concession stand by section 3 unqualified server not tell wo not take cash seriously wo not take cash manager would not even take cash to another register line stupid long worker incapable of handle slight issue sit upstairs next time come to knight game ',\n",
       " 'wonderful experience sit outside on patio watch food channel listen to music go over menu great conversation with out out of country guests patio good place for kid patio drown out even loud child need for food with great bite to spot wait 20 minute for table for 8 at peak dinner hour of 7 8 server quick to greet u get drink to table order sashimi wonton taco sausage cheese dip with pretzel wrap with pepperoni tuna fresh wonton not greasy wasabi sauce with enough zing but not enough to over power tuna pretzel cheese dip nice hot pretzel sprinkle with parmesan cheese crisp entree big enough to serve two people beef brisket beef short rib pork rib caesar salad bacon cheese burger pack with flavor caesar salad come with huge garlic crouton daughter cut up use to finish up sausage cheese dip caesar dressing fresh corn bread macaroni cheese side tasty order cheesecake for dessert large enough for party of 8 leave of ask server to put pretzel fudge sauce potato chip on side instead of on top stomach sensitive may want to ask for various sauce on side not place to miss not food spicy dance of happy on tongue in tummy for people may much but for good thing ',\n",
       " 'tell many great thing about place but entire experience awful food not good way greasy fry luke warm tray literally cover in grease need about 50 napkin shower after service pretty awful ca not believe pay 14 for small meal with extra fixing on national cheeseburger day of day disappointment never go back since best thing about soda but pretty difficult to mess up ',\n",
       " 'come for midnight launch of psvr after previously tell by another employee week prior to get at 6 01pm to get one of six extra system not pre order first come first serve end up not able to get system come in yesterday woman behind counter tell write down name number of people want one day prior account for previous employee even tell first person to ask about organize tell employee customer could put name down on psvr could get system last night not illiminate chance of get system at gamestop but make late for to go to department store stock far away line already form at location not happy ',\n",
       " 'place quite possibly favorite restaurant in phoenix favorite chicken scarpariello pizza sangria wife ca not decide between four dish daughter love penne ala vodka lasagna ravioli mario son work hard to please never bad meal see bend over backwards to try take care of obvious jerk plus to top off local school invite local pizza place to present to class on make pizza recycle issue mario come talk to kid adult place treat marketing event bring coupon get idea good at neighborhood gem ',\n",
       " 'man love toronto hiding in strip mall on overlea find dingy look restaurant serve up fantastic cheap kabob warn regardless of come likely wait for table place always overrun with people fan of perfectly grill spicy meat must try place out need to limit many time go per month take drive out kabob not car borrow one get zipcar membership totally worth ',\n",
       " 'today first time see staff at bella smile great experience alalthough not currently live in las vega plan on come back for checkup problem may arise wait time whatsoever out of without drop of pain discomfort manager severn accommodate get business from family friend in town ',\n",
       " 'take kid several time never to wait 5 minute go right up sign in usually call u back right sign paperwork doctor always super nice daughter stitch nervous wreck staff try hard to make comfortable give stuffed toy nice wish would open bit earlier in day otherwise great ',\n",
       " 'normally give restaurant at least 3 star long good food but group quite disappointed with restaurant grant expect lot from italian restaurant in venetian but also think fine expectation to eat at price first change reservation say could accommodate time clearly not seat at fold table in hallway next to restaurant quite literally in food court next to kiosk sell trinket to tourist whatever ambiance restaurant might offer mystery to not switch reservation not possible to accommodate change fault would not blame know throw table together table chair look different from rest of one set up in front of restaurant but not off to side like expect to pay lot in venetian but expect to blow away would prefer din at several place walk at on way to one pay 17 for spaghetti carbonara tasty well balance sauce with decent amount of pancetta but finish whole thing ca not finish entree at olive garden for price also eat piece of bread one of friend order chicken kabob know sell at italian restaurant one single kabob with perhaps 4 5 piece of chicken 4 5 vegetable on bed of rice cost 25 absolutely outrageous to top off tell waiter celebrate birthday say ok expect would receive dessert customary receive nothing of course waiter not seem keen on give u time of day not know expect to remember birthday ',\n",
       " 'not familiar with scottsdale guess restaurant fairly new atmosphere great lively but but loud huge wine drink list food really good highly recommend ahi tuna appetizer ravioli skirt steak ',\n",
       " 'hand down best bloody mary ever many thing in bm veggie mmm bacon nail appetizer also burger with fry know fry could good presentation not disappoint ether nice great seat outside alalthough sit inside would love to see restaurant near hometown seriously get bm rock guy ',\n",
       " 'charge twice expect to pay guy at counter small talk ask want additional insurance say initial tell to not notice one thing initial collision waiver insurance not need end up double original cost not walk through additional cost may even purposely misleading by distract with small talk experienced traveler nothing like happen to before return car express surprise at doubled cost essentially say well sign worth anyway never rent from payless ',\n",
       " 'quiet bar grill great waitress margarita pizza good small sign out front almost miss place ',\n",
       " 'come out say would job in amount of time say would take for amount say would cost sell exactly need to hopefully keep basement from flood not try to sell bunch of thing not need subsequently quote 1 3 of waterproof guy willing to bet basement stay dry long thanks to nick crew donnells ',\n",
       " 'first yelp restaurant soo good felt compel to yelp about go for dinner with friend of mine really nice space staff amaze chef even come out to table cool food well think even discerning top chef judge would impress across board tenderloin mac cheese well tomato two way excellent choice ca not wait to go back cielo kudos ',\n",
       " 'overall food really good bruschetta seem to tad bit much olive oil on anymore on would not eat husband chicken parmesan order salad with grilled salmon say tasted good salon cook perfect also enjoy whatever dressing wish would on side for whatever reason pour on also come with cup of on side agree price seem bit high for experience similar feel to bravo but service not at level but from experience sever not know anything about menu fry in fryer expect at 18 plate ask of food allergy but make sure to note allergy on order appreciate music also not match setting really want to relax but music super up beat almost rush to leave try in month update review ',\n",
       " 'prc consult on 2 tile roof replacement at apartment community manage in great phoenix area prc thorough catch number of item roofer need to correct on job communication great roof major investment professional help manage installation money well spend specific service provide initial condition spec report roughly 5 job inspection per property ',\n",
       " 'awful place staff not nice rude never seem to want to help at service not up to par always out of bagel ',\n",
       " 'many great about yoga factory excellent teacher friendly professional patient with practice but know to push to meet goal amaze location easily accessible easy city parking nice large space in hot room never feel like elbow room compromise room get pack facility clean neat love choice of decor highly recommend for first timer for someone frequent practice friendly welcome place ',\n",
       " 'idea owner problem but incredibly rude wife on hand super nice odd mix great space rude owner coffee average ',\n",
       " 'use to work food service manager at time recommend try defalco know food well excite to try one of favorite spot place really really good lot of authentic italian choice even grocery section with ton of legit italian goody chicken parmigiana sandwich to die for anytime ex manager come back to town leave for vega think miss defalco anything else in valley sure to stop by grab favorite grub parking bit tricky during busy hour wait time for food get bit long recommend call order ahead of time unless want to take look around wait first timer ',\n",
       " 'early past january need to find furnished rental in uptown charlotte market really idea of to look glad find sell on charlotte site recall trade email phone call with chip helpful in answer question meet at 626 north graham show unit available between chip sylvia sell on apartment get paperwork go enjoy stay last 6 month 3 month initially sign up for come time to give notice sylvia give detail need pretty much in initial lease agreement kind enough to give ample notice to show apartment during last 30 day without much inconvenience sylvia help tie up loose end even arrange to pick up lamp for need to repair move out would certainly reach out to team at sell on charlotte kind regard john ',\n",
       " 'really enjoy come locate near walnut st mean parking difficult not realize hot pot individualize give pot over electric hot plate adjust temp also hot water on side in case run out fulfil for 15 small area also section for to customize sauce ',\n",
       " 'ok purchase item from rc wiley spend lot of money but never 500 credit limit after purchase fridge iwent to use towards ny bed room purchase longer available due to pay off soon apparently since pay 500 in 2months instead of 25 in 10 month attempt to question mean anything couldbe supervisor emele pretty much tell u to take fly leap serious spent 2300 at ashley furniture rc wiley apparently ball not need to buy anything good luck u poor customer service rep represent like making company look bad ',\n",
       " 'let start by say love aveda decide to try salon big mistake explain want to stylist even show two photo easy to get cut wrong since short hair also show photo of exactly not want ask not like about photo explain section in back act like understand cut finish spin around literally exactly show not want mortify try to grow hideous cut out nothing blend butcher hair to make matter bad not even friendly head to different salon today to try get fixed ',\n",
       " 'place take forever come to find out not oil filter hour half into wait napa part guy pull up 10 min later hmmm but not even let know go on never go back ',\n",
       " 'cut little dive bar in city chill vibe cheap yummy drink delicious food family laura excellent bartender make u feel right at home bonus point look like cute little house must see in area ',\n",
       " 'really happy to unique place like in phoenix tea tasty interior well lay out definitely come back ',\n",
       " 'darn northerner really know to make goooood eggplant obsess like seriously obsess with eggplant mince pork dish sound simple but never good everything else on menu decent dumpling xlb noodle etc but eggplant to die for go for authentic side of menu avoid americanized dish ',\n",
       " 'wonderful experience with dr beals treat son see for about 8 month satisfied with care receive dr beals helpful never feel rush to get out of office patient in answer question one of thing appreciate never felt like solution to throw bunch of med at son conservative start on low dos move up comfortable son love come to appointment play with minecraft toy in office ',\n",
       " 'come to loco on mill since open love come especially on sunday for football game on great bloodys awesome breakfast loco local watering hole always great time with staff ',\n",
       " 'order combo 3 come with two plate rice bread one skewer of chicken breast kebob one skewer of koobideh one skewer of barg kebob 3 grill tomato plate of parsley slice radish bunch of basil salad meat flavourful not dry juicy taste good definitely lot of food for two people waitress friendly attentive read another review not accept amex yeah really not but ask before pay for meal ok ',\n",
       " 'hey want to say everytime eat since late 90 nothing but good wing good beer good time wait staff terrible slow non attentive eventually get food beer im busy either catch up with friend pull out cell phone chat with friend weird but fun cheer ',\n",
       " 'not sure post negative review of place on point girlfriend dinner last night with reservation set for 6 p seat by 6 05 server william awesome fast attentative really one of best server encountered dine out lot order eat crab leg fresh hot delicious feel sticker price high but must 5 bucket equate to 10 buck pound negative feel could address table make of type of epoxy resin outside may melt something sticky residue on table top play napkin over acceptable girlfriend definitely return to pickle bill fantastic evening last thing to note service great even although place pack ',\n",
       " 'after huge fan of mission decide to try place out see by owner even although skeptical could possibly great to surprise live up to others tell ambiance amaze much like mission candle light up entire place outside patio quite large lot of seat available staff great helpful with make suggestion on menu favorite item on menu scallop apple caramel upside down cake cook to perfection melt in mouth great wine list perfect setting to enjoy glass of wine great date night spot recommend to friend ',\n",
       " 'best thai food ever love mango curry especially everything great bubble tea nice service polite ',\n",
       " 'shop for several year always enjoy saving but year shop for hoodies for less fortunate thank antigua ',\n",
       " 'awesome pool party wish tad interactive aspect want hot girl guy spray champagne over u dance with u ',\n",
       " 'terrible experience with dr jennifer vonya novak front office change primary care to dr novak take 3 week to get appointment 4 new patient day wait 3 week for tell 7 45 appt get to office at 7 45 actually 7 47 accord to cell phone door lock office hour post 8 00 to 5 00 could see through glass door not anyone at desk area l leave go home call 8 answer call at 8 10 lady say miss appointment could not see today argue door always open at 7 45 unapologetic offer next day appointment like favor since miss appointment keep call dear incapable of know appointment time find condescend needle to say not go to dr novak let friend know office procedure unbendable arrogant rule ',\n",
       " 'love pizza but try to stay away for dietary reason go last week with daughter mom pleasantly surprise thin crust new york style pizza at good price menu kind of simple but way place nowadays friendly staff clean simple surroundings ',\n",
       " 'excited for happy hour heard great thing food less average charge 10 for bread apps greasy fry still spend 250 on happy hour menu for group of 4 first review on yelp cared enough to take time to write sorry wo not come back ',\n",
       " 'excellent shortbread koodos to ms mary oh good chocolate crunch shortbread cooky ',\n",
       " 'family come in on wed night for dinner party of 6 plus baby use high chair to wait about 10 min to seat get to table against wall half booth half chair husband ask to sit at another table but hostess say baby between table customer next to u luckily great baby table booth dirty floor sticky gross to kick fork out from under seat service subpar but waiter nice take 20 min for boy to get drink refill well sparse to say least order steam broccoli actually raw come out first time but believe microwave to warm up poor daughter in law charcoal patty send back take good 25 30 min to replace bad part son sensitivity to gluten order gluten free bun but give ciabatta bun not realize until already eat half burger husband bring issue up to manager but not really contribute anything to situation send burnt burger back waiter solution for inconvenience free appetizer card to redeem next time come in live 3 1 2 hour from mesa disappointing to run into kind of service definitely not pleasant experience ',\n",
       " 'five star highly recommend place in mood for authentic latin american cuisine come from someone raise in latin america usually skeptical of restaurant claim to latin american food alalthough dish try to imitate latin american style usually come up short completely miss subtle flavor make dish suppose to but chica completely nail whole chicken with chimichurri must share among four people small dish delicious well mini arepas come with guacamole really nice surprise empanadas simply amazing taste like one back home besides latin music on point cocktail great ',\n",
       " 'oooh momma flavor strong with one clean fast friendly everytime but not weird sterile like baja fresh glad open ',\n",
       " 'lk great technician make feel relaxed comfortable well extremely attentive to nail ',\n",
       " 'oh gosh not go to write much except delicious come of review seriously worth drive spring roll delicious noodle ye saw with shrimp pretty much lick plate plate go by look well good already plan next time come server sweet sweet girl soft spoken but perfect server take picture of food but dive in clean plate lol oh well 254 pic for to choose from ',\n",
       " 'amazing clean pretty best service in las vega everyone nice design perfect ',\n",
       " 'amazing place full of authentic decor ambiance papaya salad refreshing full of flavor combination pad thai with pork beef shrimp enough for two meal thai toast for appetizer consist mince chicken shrimp bake on toast serve with cucumber salad u must try ',\n",
       " 'not pleased with experience for price expect good ambiance good presentation steak season cook well family enjoy good cut perfectly to person speculation also service perfect server althoughtful attentive without overly interrupt not need anything but for high price of everything not steak on menu would expect place to feel exclusive fancy not loud felt like nice bar rather fine dining establishment to shout over noise place not even totally full sunday even plate also nothing special to look at of price expect frills meat separate side come out plainly put onto plate effort put into presentation even casual restaurant throw green garnish on dish for little extra aesthetic probably wo not return pay much like to feel little pampered ',\n",
       " 'work at well fargo right next door to rubio on 24th st baseline out main goal satisfy customer use vision value say rubios relative everyday go to rubios for lunch make feel at home like value customer by show quality service go over beyond standard for not sale chimichangas but manager george great cook take upon to fry burrito for george great leader represent franchise at high level last but not least priscilla shift leader light up whole room with smile soon open door well deliver excellent service thanks rubios da quon yourbankteller ',\n",
       " 'wiki wiki like middle ground from typical gas station auto wash full service wash with personal touch start out by order service at one of 3 electronic kiosk everything touch screen give 4 choice but suggest additional upgrade to wash pay move on to wash someone assist in get car line up in track put car in neutral in minute car move through wash come out end come out option of use one of several free vacuum powerful great alternative to full service place quick not to wait for someone to towel dry car ',\n",
       " 'please read before buy session with about year ago buy groupon horrible experience never use groupon for service get pay for in case less lesson learn use clump of lash fall off within 12 hour eye also completely bloodshot from whatever glue use let know even send picture of eye red painful althought infect blame on offer to fix for money decline way let damage lash before since with professional never happen love lash service at wishful winking spot in liberty village ice on badlashes cake over hour half late for apt claim never book even show text send with confirmation whole time wait gut yell listen ',\n",
       " 'get monthly massage for past five month couple of therapist good lack experience stocking stuffer for husband schedule appointment for to meet with roberta capable therapist arrive for appointment name not show on schedule but gentleman work front desk clearly remember schedule appointment with blame on glitchy new schedule software extremely disappointed embarrassed since gift but else could but reschedule appointment set with roberta through desk attendant for afternoon husband arrive afternoon place with different therapist confess not know to work with specific shoulder issue reschedule get ridiculous consider cancel membership over ',\n",
       " '2x not impressed first time figure give second try latte not impress rather goto starbucks adjacent to spot ',\n",
       " 'tone down version of king street location gotstyle great store primarily for service receive definitely not for everyone price tag attach but shop at place like holt renfrew even bay place considerably well in opinion reason sale agent well pretty good sale twice year tend to go but size obviously issue at time appreciate carry various price point in mid to high range overall would not get formal wear from personally rather go to u pay half price for quality but ca not excellent selection great tailor find cheap tailor in toronto but at least at gotstyle not to go through hassle of find right tailer trust store excellent selection of casual clothing interesting cool clothing piece definitely go to place anything like not know to buy jean last visit at store jannette spend great deal of time educate friend on to dress leave store uncharacteristically self aware of but really learn great deal in process ',\n",
       " 'red velvet cupcake amaze buttercream frosting fantastic also like brownie location could not good say could not find romantic date spot wo not give 5 star although since dry cupcake in past seem to always run out of good stuff mostly red velvet on weekend time make over ',\n",
       " 'disagree with couple of review read dr miller one of best doctor ever see see work with many medical professional detailed show concern regard aspect of health refer several people to highly recommended ',\n",
       " 'experience go from bad to worse place filthy employee extremely rude pawn item go back to pick up place close go back first thing in morning to pick up item tell finance charge double for day late ',\n",
       " 'love place lot of great healthy option excellent variety friendly staff exorbitant price not beat hold by someone care about but enough melancholy from go forth eat healthy ',\n",
       " 'receive great service highly recommend stone law client for many year attest great work ',\n",
       " 'normally stop for breakfast travel through calgary international airport one of restaurant available pass security fare ok for decent breakfast good coffee 15 dollar for breakfast ',\n",
       " '5 for 6 til 7 awesome great deal not sure first time go dress up okay to wear jean nice top but everyone either in business casual work clothes jean would recommend get little early fill up quickly get at 6pm by 7pm pretty full recommend to many of co worker friend to try out far anyone go come back to say great time surprised with 5 for 6 til 7 deal ',\n",
       " 'first time definitely impressed groomers work etiquette lovely usually need work come to little schweenie mix glad go to definitely back ',\n",
       " 'reason even give place 2 star of food drink service but probably bad ever use to emphasis on tense go every tuesday for trivia night guy hosting awesome service absolutely horrible every time except for girl name jess wait on u rest of waitress completely incompetent utterly rude off bat begin order appetizer waitress stop u ask go to complicate not forget to put in order for 1 of 3 appetizer order take about 15 min after get 2 of to even bring to attention for not even apologize after 35mins someone else bring food out finally to go to bar ask someone to come take drink order task also mess up order special of big margeritas to receive small mason jar of mostly ice tell free but honestly not even worth after time saw waitress visibly talk about u point with another waitress completely unprofessional different waitress to bring u check mess up waitress tuesday before accompany by crummy service realize not bad busy night tuesday for cry out loud but woman really bad at customer service definitely not recommend go not know exactly original waitress but check say joanne g also post experience on facebook in hope get well train care staff ',\n",
       " 'horrible experience go in to get full set french tip guy rude never say word yank at hand cut real nail after tell not to complain about bubble dust inside acrylic act like could not see two day later nail lift bubble appear never go hope others not waste time money at place ',\n",
       " 'stop by for little shopping mall nicer plenty of store nice way to spend hour before head on to another adventure ',\n",
       " 'hope every person follow everyone know anyone contemplating establishment read first never bother to give place with crappiest staff of time second althought earlier today friend drop in to grab lunch staff either lose dog morning absolute bad attitude ever see in human not nasty woman serve avoid type of pleasantry but yell across two worker line of patron ask want from end of shop ask server for lettuce onion roast red pepper on sandwich quite literally moan loud follow with yell ughhhhh god help before add topping to turkey sandwich one of server ask u food for to go original server say aloudly to go hopefully wtf love to know terrible human think find jaw on floor wonder althought headache friend decide right would never return would let review go untold to everyone know feel owner somehow to to blame hell allow someone miserable represent livelihood not expect livelihood for much long ps maybe server look little less wake up at next job ',\n",
       " 'cafe maya new coffee shop in location not much change alalthough inside seem bit spacious cozy offer of typical coffee drink price reasonable couch large chair well around 10 wooden table with chair offer food menu for breakfast lunch but not dinner also reward punch card for loyal customer place usually pretty quiet chill not busy good place to go for casual studying parking lot to hope to find street park spot available nearby main limitation drive overall nice little coffee shop ',\n",
       " 'wild every night favorite place hand down in az night life contagious iv never disappoint with sunday fun day every sunday corn hole competition crazy drink special like penny refill also to try duck pork taco hefe hamburger favorite margarita on menu la chica flaca want fun place to get lunch drink look to go crazy night spot ',\n",
       " 'service amaze christina extremely tentative take care of whole group ask about split check from beginning for large group convenient ',\n",
       " 'right off bat need to tell love thrift store shopping adore occasionally sultry dream about okay stop saver heaven hell of la vega thrift store to willing to get dirty to get on knee repent to suffer through repeated disapointments in order to achieve nirvana of true thrift store find first trip out chew up barbie doll incomplete board game second trip set of christmas light mark for 2 at walmart from but on third trip back chimera unicorn 36 1970 black velvet painting of two tiger in flagrante delicto elvis cookie jar wine cooler make out of abandoned suit of armor red leather michael jackson thriller jacket bronze toreador sculpture 12 99 ah thrift gasm thank savers see next week ',\n",
       " 'family visit location since open ca not really remember year alalthough several of review to with bad customer service find definitely staff turnaround issue go often during summer well year round actually lol never cold to get ice cream in az right anywho ice cream always yummy experience of kid able to run back forth back forth try new flavor decide one to pick always fun sadly smile face might not always but thankfully always smile on face transfer to weather staff like not lol ',\n",
       " 'for 5 different tattoo could not happy with work artist eric r always incredible job attention to detail second to none recommend to friend incredibly pleased with work artist friendly make experience much good 5 star highly recommend to anyone ',\n",
       " 'take good take bad take fact of life at fieramosca old like know theme song ever go to restaurant with great expectation base on review leave disappointed experience call cozy but for table layout in main dining room claustrophobically cramp want seat on patio on friday saturday in summer make sure to reserve several day in advance reservation take by phone admit helpful even take 10 ring for to answer surprise restaurant in price range not online reservation in house transform into restaurant entry hallway narrow someone go out nobody go in vice versa even little claustrophobic warn wo not comfortable food complimentary bruschetta plain pizza crust with bruschetta top fall off not flavourful go to la bruschetta to find out mean to taste caesar salad crispy romaine hint of fresh garlic parmesan but dressing seem watery crouton like rock bread basket know crouton like rock crust on bread hard worry would break tooth also find strange to serve whole wheat bread expect crusty italian bread spaghetti carbonara reason come hubby crave carbonara base on great review althought would try but find fieramosca version disappointingly bland even with extra parmesan cheese fresh ground pepper linguini di mamma ninetta love mushroom but surprise many in dish with 3 small shrimp small piece of chicken scatter throughout little garlic flavour dish edible but far from great tiramisu coffee flavour make tiramisu before in countless restaurant know lady finger to dip in coffee before cover in cream miss coffee altogether cream seem to whipped cream none of yummy marscapone expect libretto tiramisu in jar might not traditional in presentation but flavour fieramosca lack favourite dessert well leave disappointed lemon sorbet frozen sorbet in scoop out lemon menu say import from italy actually like good sad face tiramisu hubby swapped with usually love anything lemon find odd aftertaste joke jet fume to bring frozen sorbet from italy but truth perfume wear by woman at table next to thankfully arrive dessert entire meal not ruin but smell overpower give u headache want to get out of fast since with cramped layout almost on top of table lady please not drown in perfume go to restaurant ugh tl dr meh bottom line nothing horrible but nothing great for price disappoint not worth second visit 2 star bump to 3 service good search for pasta carbonara continue maybe trip to nyc even rome ',\n",
       " 'please try place food incredible tell people run super appreciative of everyone come through door proud of food make sure to tell make in house e of anything lady serve u must significant influence on food tell from mexico city lot of food make from city influence tell visit mc in january encourage to try enchiladas down to prove similarity enchilada unlike ever perhaps suppose to chicken not wrap in tortilla two tortilla sautéed in green chile fold over lay at bottom of dish top with lettuce chicken crema good stuff best ever mean warn dish indicate spicy spicy spicy enchilada ever but appreciate spice gf but fortunate in decision to get carnitas would not able to handle enchilada by way carnitas excellent well place get five star ca not wait to go back please please try place empty walk in shame lot business base on quality of food service also affordable chicken enchilada 9 carnitas somewhere around maybe 12 ',\n",
       " 'great environment love meat jun flavorful also give side dish definitely bonus ',\n",
       " 'mess in line over hour still about 10 people in front of stuck with company usually use next counter two over come base on sw airline suggestion email ugh ',\n",
       " 'not normally say thing best but best fajitas ever chip perfect salsa perfect bean dip perfect best fried ice cream ever plus service great ',\n",
       " 'great venue every seat in house awesome twice for britney another time for jlo fantastic performance sexy sultry high energy love love venue ',\n",
       " 'not visit kent office but office of dr brown in fairlawn lack in compassion clarity kindness professional ethic judge base on pharmacutical history not even glance at stack of medical record bring with treat by of best in country at john hopkins walter reed to treat unprofessionally in office insult to profession not waste time with dr brown ',\n",
       " 'definitely spot to check out look for quality sandwich at reasonable price shop staff friendly willing to accommodate request favor get one of steak sandwich off of menu amaze ultra favorite also cancun fry awesome 1 order for sue big enough to serve 2 people maybe even 3 one of peppis take credit card well not fyi ',\n",
       " 'best vegan gardein chicken plate with broccolini blow away decor cute nicely dimly light romantic chic recommend come vegan look for good dinner ',\n",
       " 'din time with family keep come back despite miss really want to fan of place although red salsa good hot green satisfy less adventurous guacamole make to spec at table delicious pretty much 4 year old eats normally get taco either brisket fish really great although not fan of mango salsa in general last night guac couple of wednesday special margarita right althought chip taste little stale although small bowl couple with distracted waitstaff become empty quickly wife split main dish special baked brisket enchilada recommend by waitress huge definitely enough for but not care for not seem to much beef in mostly sauce cheese awhile before go think stick to taco in summary lot to like but say stick to basic ',\n",
       " 'thank much tanner fantastic job super nice clean shop respectful professional great thanks ',\n",
       " 'well first time try place since open not long ago want to try something different order half sub soup special althought expensive ask like 9 over 20 with 2 special drink not even fill up for kind of money soup come in small container sub small for half disappointed in much come on sub make with back to not see item put on not even ask want on proceed to make way want honestly say get much for money at subway for much less make sub way want get full sometimes even leftover soup hot good flavor but small container fill above half not get much at over not favorite sub place not happy not sure would go back ',\n",
       " 'love come to pastel favorite item black sesame crepe green tea crepe waffle good but personally like crepe ice cream whip cream not sweet like recently try matcha batter crepe not bad but prefer stick to plain crepe with green tea black sesame ice cream think pastel great dessert spot after dinner around area outdoor seating also make perfect date spot in summer ',\n",
       " 'cute place visit relative in area go to grab coffee breakfast egg sandwich get on bagel huge tasty but pretty greasy coffee really good service fast friendly recommend ',\n",
       " 'go to vegas memorial day weekend but time with girlfriend want to try place since love much come with hubby time try angry dog amazingly deelish friend get chili homemade by buldogis dog bulgogi bowl fry euro fry with kimchee add love 2 friend chili dog say chili good one of not even hotdog fan love ever in vega must ',\n",
       " 'good environment order famous meatloaf large but little bit salty waitress not friendly but overall great experience ',\n",
       " 'food taste ok like pasta selection but seafood choice at look for seafood skip place ',\n",
       " 'perfect grill cheese amazing worth repeat visit chicken club lack unique flavor average blt great with bread make sandwich for side tomato soup delicious perfect complement to grill cheese shoe string fry great nothing not to like about green pea salad in peanut sauce delicious definitely return for another try ',\n",
       " 'good fresh home cook food love breakfast especially biscuit gravy small quaint place get busy decent pricing ',\n",
       " 'go today to upgrade to iphone x awesome to work with mirror everything from current phone to new one save much time aggravation to knowledgeable friendly highly recommend ',\n",
       " 'soon park car rude elderly lady come out say parking space reserve understand read on sign lady family member din at hong kong garden for dim sum not automatically mean everyone look to eat craving for deli sandwich in end up walk in to purchase 2 plan receipt still in hand not go around assume start off with horrible service end up keep car park whole afternoon take space lady rude also would nice to offer water for customer wait for to go order ',\n",
       " 'live in mexico for several year always look for authentic restaurant la taquizza good job menu diverse include many of favourite dish not typically find in canada food much well in house take out order many dish off menu love anything carnitas fact decent corn tortillas huraches great bit biased about taco al pastor since live in puebla but still ok ca not miss mandatory churros although amaze ',\n",
       " 'fun experience alalthough sit in dark get old pretty quickly expect food go to amaze but ok nothing fabulous for price pay expect high end cuisine say eat with eye wonder not visual of food part of food taste bit bland for interesting experience to eat in complete darkness wonder room look like food look like at point people end up eat with hand ca not see on plate ',\n",
       " 'blown away by sophisticated beautiful hotel one of best in la vega decor breathe take place always smell like magical garden with many top notch restaurant spa service show club to choose from vegas luxury last time stay july 2011 big disappointment total of 8 of u one of bed break fell flat to floor foul play 6 out 8 of u leave with kind of bug bite look like terrible case of eczema rash mechanic curtain not work main v not work actually disappointed understatement disgust 5star resort hotel fail u miserably please view picture of rash ',\n",
       " 'brussel sprout nacho really good reviewer mention time everyone always love careful easily fill up individual taco burrito great also of salad love big portion size great classic margarita well love place for group esp on sunday day happy hour ',\n",
       " 'gluten free option promise try turkey sandwich with avocado large portion delicious 5 choice of iced tea blend free refill coffee choice make for perfect girl afternoon lot of seat outside on cover patio parking fill quickly but plenty of option on street at municipal bldg ',\n",
       " 'great lunch experience today at rubios not start out way but quickly turn check out since use promotion use yelp check in offer for free entree with purchase of drink awesome way to try something new also ocean day insulate bag day really nice use grocery shopping summer transport hot food to keep warm chimicurri steak burrito with chip well cabo platter burrito taco steak burrito really good of chimicurri sauce refreshing light taste shrimp burrito come with platter not good heavier on rice bean not feel like enough shrimp but taco make up for drink different refresh pomegranate lemonade by odowalla use real sugar instead of corn sryup really recommend go to rubios for lighter refresh meal try fish taco sign up for club for email on special offer ',\n",
       " 'come to place base on yelp review not disappoint get chicken wing to start kao soi with chicken dish from chef special steam fish coconut curry chicken wing good especially hot sauce gelatinize cool kao soi best ever excellent portion ans chicken tender fish coconut curry good not much of curry but still flavourful service fast people friendly kind definitely go back to try menu item ',\n",
       " 'great food in homely mexican set tomato soup amazingly delicious chicken dish great close to intersection of college yonge one of non fast food mexican restaurant in village area search for non commercial din experience with homemade dish place to come ',\n",
       " 'ikea experience adore ikea nothing well to see piece in functionality work in room hence showroom go to ikea simply must to enjoy top floor showroom area would give to ikea in nc get first apartment not item affordable but see ikea recommendation of to decorate supply organize living space in 640 sq foot miracle totally work somehow find want to go live in space small ikea intimidate in size much stuff but well worth always go to ikea with list of item need for home always find also find much to leave with great part of ikea price reason to get furniture item load car truck van with purchase to save cost of ikea good thing saving pass along to shopper favor plan day go spend hour upstairs in showroom lunch in cafe rest bit venture downstairs to get stuff heart desire ikea experience ',\n",
       " 'not let location look of building fool tell best place for authentic mexican eats not stop eat taco gringo omg yummy everything cook to order right in front of place compare to hispanic food in california to try definitely deserve 5 star ',\n",
       " 'love eat king crab leg on tuesday service good food good enjoy quick soup salad for lunch ',\n",
       " 'go seriously not disappointed one bit crave breakfast food decide to check place out share skillet breakfast side of cook to perfection super tasty atmosphere cute clean want for enjoy breakfast really make day awesome server tina cool upbeat easy to talk with accommodating server could ever hope to plan on return for good eats to see tina ',\n",
       " 'curry really good but small portion for price garlic chicken not satisfy since dry spice plain chicken kinda hard presentation ok get ta order rice seperate service fine server pretty casual with guest would come back for curry but not for tandoori kabob ',\n",
       " 'base on food alone would 3 star but thats not case arrive after 5pm private party go on but look to well take care of wind down after place order get drink find table go back to wait for food tell bring out to u after 15 minute watch someone order after u receive food go back up to desk watch food sit on counter for another 5 minute before finally bring out not full order take food runner 3 separate trip heres run down of order pull chicken not actually pull but dice dry turkey good moist tender pull pork good lot of flavor mac cheese not best but not bad greenbeens good hot side get banana bread pudding full of butter but not horrible overall food 3 star service 1 ',\n",
       " 'not best part of town not particularly good particularly bad service even food not best but variety awesome unlike many place everything pretty good place good dish two but rest stink not china king solid food not chinese either pizza even macaroni cheese find along with huge salad bar dessert bar real ice cream not soft serve machine ',\n",
       " 'from out of state roll up richard greet u great customer service thanks much ',\n",
       " 'husband use to order from like to admit almost weekly pizza pretty mediocre but really cheap convenient cheesy bread sub chicken finger onion ring pretty delicious always order online love right around corner delivery always under 45 minute yes lazy really hate winter delivery people always super nice sadly to go screw up good thing go last time order for pick up 20 year of junk food ordering teach pick up to take half time of delivery order cheesy bread philly sub onion ring ask for ranch instead of marinara with cheesy bread request ranch for onion ring pay in advance add 20 tip on take out thinking would help make up for inconvenience cost of ranch request order exact thing for delivery previous time with absolutely problem by way husband show up about 20 minute after order not not food ready but apparently not even start in hurry wait almost another hour seriously from order til get home hour fifteen about one minute drive to get food not comp discount offer voucher coupon anything open food sauce of kind wait long time starve pretty piss about oversight after hop in car say literally around corner junk food ai not without ranch for dippin walk in everyone in kitchen one at counter but clearly see although nobody shout greeting right with finally girl walk toward front although not at speed anyone in restaurant business use tell husband wait ridiculously long time for take out order get home sauce could like six container of ranch get with order may excessive amount but low blood sugar brain at point figure throw anything at to appease dissatisfied customer screw up instead look at computer say need to get person take order idea but say new say fine go in to kitchen to tell another girl drop to go tell old man assume owner certainly bos expect to greet with smile apology at least help take aback to get brusk questioning of order also need to look up on computer for godforsaken reason like amnesia not remember tall skinny dude leave after wait for order for hour tell order like on crack problem say yes know order but request ranch even add generous tip in case want to charge for rudely ask many want incredulous ask like freakin inquisition problem with ranch robbery people always walk in make up story about not get ranch with order start take container out of fridge upset by point not even know say prompt say wow really something else four container of ranch on counter snatch could turn around to walk out at point yell after 75 cent piece may mutter something in return door close behind honestly think disrespectful customer service ever receive certainly top list bad interaction confrontation with stranger ca not believe anyone would treat talk to anyone like let alone proprietor to customer work in restaurant for seven year one of cardinal rule up apologize make mistake 99 of time people completely understand offer discount freebie mistake completely forgotten realize one care ever read husband already chastise for waste energy on but incredulous about entire thing cathartic feel well although of little comfort next time want cheesy bread with ranch to order elsewhere ',\n",
       " 'find out about secret treasure love studio staff not practice yoga in studio for but place welcome to yogi of level love power flow with shannon get great energy inspires to challenge love love love studio go for first time park off glenway by bank easy to find ',\n",
       " 'din couple of week ago on saturday night actually sit at bar with three fellow diner absolutely amazing even food wine service make for perfect experience try almost appetizer small plate exceptional standouts almond spread harcha bread quinoa salad beef kefta share fish tagine for 4 also excellent highly recommend place know back ',\n",
       " 'love place come whenever in town for business taco tuesday deal unbelievably amaze taco two dollar but could charge much for quality also good ipa on tap five dollar pint of staff incredibly nice great music also love fact ton of monitor everywhere see game from every angle of venue also great outdoor seat area right on sidewalk locate on busy downtown corner suit people watcher well ',\n",
       " 'great food greatcustomer service mess up order realize apologize return money ',\n",
       " 'love place great atmosphere sport bar but with right amount of class great house beer friendly serve staff amaze drunk food fun place to go with friend ir family adventuruous take on traditional bar menu ',\n",
       " 'around 45 for dinner on friday night snow kind crab caviar steak tartare type of meat cut sushi soups asian cuisine pasta pizzas literally think about almost everything try really good dessert section flavor one of best recommend for sure ',\n",
       " 'find out about gem from man co worker use to live in apt complex live in about mile away from apt finally give try back delicious chip mini tortilla break off with salsa yum food delicious not remember last time go but manage to finish half of to take home taste well later imo portion generous fill wait staff always nice attentive remember first time visit pretty busy but not to wait long for table in mood for mexican food not want fast food experience definitely choose place ',\n",
       " 'go in on friday since stroll around venetian come across place wait not bad around 1pm probably 25 minute max place serve variety of latin american cuisine include tapas taco burger standard pricing for vega order brisket taco not feel taste anything out of ordinary service okay but althought really awesome for server to ask party right away allergy item not enjoy eat but portion on small side perfect to lunch not want lug leftover around ',\n",
       " 'pay for view of strip disappointed view pool saw through ti facade trump tower not worth extra price restaurant choice great food good casino fun room okay would think twice before stay customer excellant staff out stand ',\n",
       " 'like 80 hair band music place to audience really get into well from flashlight lighter to hair extension feel like enter time machine to past show high energy amaze cast perform at level on daily basis especially dancers story somewhat contrived try to fit much into show in order to justify certain song choice but of song excellently perform worth visit for nostalgia alone ',\n",
       " 'place rule best tacos in town not pricy always clean awesome patio staff friendly welcome def back ',\n",
       " 'overall food not good explain but place may still worth local time importantly money let explain not many old restaurant in town not seem to value frequent patronize place around put out food for long time think even food not show stop place tremendous character charm old western vega feel to bob taylor establish in 1955 old restaurant in las vega throwback to rugged carnivorous cowboy culture exist in town for decade still exist appreciate slice of vega kitch bob taylor offer food issue with charm could place go wrong place could great really great but not put enough care into food order rib eye ask for to medium rare worry about overcook figure mistake make in medium range instinct correct but steak close to well in total three steak at table seriously overcook in steakhouse with man task with grill steak sigh fourth steak smoke prime rib cook properly but prime rib cook ahead time right prepare for overcooked piece of meat occasional red meat eater suspect steak would not treat with attentive care tell walk in large grill at front of restaurant with number steaks cooking on but chef not watch meat not even in front of grill nowhere to see walk through door at least 4 steak cook arrive figure steak would receive lack of attention order simple naked potato side salad to accompany steak fine but not much room to mess up potato iceberg people rave about garlic bread think rest of meal mediocre cheesy bread become highlight meal ok inexperienced cook could make at home with sourdough butter three type of cheese people in party order mushroom rice side dish not good after taste grateful to pass on wet mush service waitress attentive responsive willing to return overcooked steak wo not back but glad to visit historic spot service 4 star kitch 4 star food 1 star ',\n",
       " 'azzip pizza literally good many time time get big zip for 8 22 place amazing pizza cook in about 2 minute build concept never bad experience also go about 4 time week not worry hit gym sometimes ',\n",
       " 'love place go time wing best cocktail good well price not confuse with terrible place with similar name on thurnderbird 43 avenue ',\n",
       " 'compare over easy with place maybe not find ultimate sunday morning family breakfast place but definitely drop by with pal for home style fry in everything expect from 10 15 breakfast give 4 star waitress really nice friendly kick start of good morning go with big breakfast for 12 hungry tell pretty full by end of would not want lunch ',\n",
       " 'take 6 30am class muscle sore from crossfit need good stretching really need yoga in life class fantastic nice 60 minute class heat music lovely yoga instructor voice soothe think soo important great class feel refresh great studio well nice roomie look forward to next class ',\n",
       " 'food prepared fresh flavor great eaten three lunch great service combined effort on top of need ',\n",
       " 'eat at new india bazaar for dinner take to go order samosa pani puri chaat gobi samosa good big main dish gobi really great vegetarian seem like eat chicken but cauliflower dumpling gobi comfort food appeal pani puri chaat weird never before not comparison description sound yummy but not total cost about 14 would recommend restaurant notice pastry case with dessert plan to come back to shop best price see on neem toothpaste ',\n",
       " 'awesome food service really wish one in oahu server on thank for work out fit in party of 9 ',\n",
       " 'go yesterday get best service ever get at restaurant waiter help on grill constantly check on to see everything ok food great service everything pricing great well come out to around 18 go back to vega for birthday next month try sushis ',\n",
       " 'four star to expensive place saw two dollar sign for place but four dollar sign not remember order but come to 75 00 2 bacon egg sandwich 2 breakfast sandwich 2 breakfast dessert 2 juice water pretty sure order taste good at 2 30am hungry order to go since place pack from clubbers hotel guest remember not to wait long after place order remember scarf down in matter of minute vaguely remember crawl into bed soon after ',\n",
       " 'tale of two location aka avoid 7700 autoplex go to 616 w baseline first good 616 w baseline loyal repeat customer of cobblestone auto spa ever since encounter jared one of manager at 616 w baseline first time go car detail for 150 after discount detail little rushed location extra busy day also short staffed result appear to minor scratching jar immediately on ball work to scratch buffed out fix impressed with watch saw masterfully handle customer issue like mine impressed enough tell man to face go to loyal customer directly result of good work not good with name date but remember man name job with pride after jared become fastpass customer still remain one cobblestone pay close attention kind of employee need of bad 7700 autoplex first go to location need oil change 616 location not oil change get heavy up sale routine but go with anyway also get wash far standard of 616 location let slide off day go second time for wash also standard also let slide go to get wash yesterday not wash worse ever but car interior look bad come out before come to begin with carpet barely vacuum at dust small dirt everywhere never even attempt to clean real evidence anything white stuff rub into grain of dash around driver side air condition vent also several new white smudge on back of seat well seat back headrest of side of back seat point out mess on dash initially try to say dash paint wear off able to remove of white stuff look lot like car wax with thumb nail manager not remember name worthy of remember want to get day over want to fill out damage report remain reasonable but refuse to drop know cause problem at point 3 of employee involve seem concerned with get day over fix problem disrespectful discourteous finally after saw light of day not damage but stuff manage to smear into dash ask to come back next day obviously fix problem right much effort go home frustrate but moderately satisfy car would fix next day next day examine content of back seat toss about with care effort to clean anything discover pair of woman panty place in center of floor of back seat keep in mind floor mat not vacuum but toss on back seat know not wife small woman of rather robust size also obviously clean panty gather one of employee fat girlfriend wife miss something from laundry suspect gift for complain about condition of car fact make late from rush home to see next episode of moronic reality tv result livid try to cooperative reasonable reward with insult add to injury go to 7700 location immediately complain clearly find action of but undetermined employee humorous go to make attempt to secure apology terminate maleficent employee reluctantly look at fix area of dash mess up make halfhearted attempt to fix at point dash look little good but not bring car in tire of deal with lazy incompetent fool pride in work decide to take car back to 616 location jar to rescue take car directly to 616 location saw jar busily work with staff pull up greet courteously by one of staff after check in call out to jar explain situation to dutifully seek out to resolve issue return car to former glory not problem staff not cause but fix lesson never go to 7700 location always go to 616 location cobblestone bad manager make for bad staff great manager make for great staff ',\n",
       " 'visit place several time great happy hour price regular menu price reasonable entree big enough to share favorite fish taco tend to get pretty busy on friday night sometimes bit of wait overall thumb up ',\n",
       " 'location excellent restaurant beautiful food awful server rude impolite group of 6 people whatever order bad another one even little daughter love french fry could not eat not fresh althought artificial ',\n",
       " 'favorite burger joint simple but delicious service always great with cheerful greeting happy smile ',\n",
       " 'good place always willing to stop by n shop hate dnt kniwn for but of buttenders help out ',\n",
       " 'juan always busy always good great food but excellent friendly service keep people come back dozen of time date night with family with kid girl night always wonderful try shrimp ceviche ',\n",
       " 'come in town for country concert good way to start day everything great service amaze from time walk in door sit at table to surprise beer whiskey tap at table pay by ounce screen to show drink food great whiskey burger favorite for country fan must in scottsdale ',\n",
       " 'fabulous friend take last night wonderful food panang curry duck fry rice chilean sea bass wonderful combination of flavor ',\n",
       " 'skeptical about spot first almost impossible to find good authentic legit spot on la vega strip for exotic cuisine hispanic asian middle eastern etc want one go off strip second place proudly serve middle eastern also greek food usually miss authentic flavor for example serve jewish latke israeli middle eastern humus greek moussaka usually much for fusion but food tasty even tough not 100 loyal to original flavor shape of middle east food yummy to give round of applause for hummus simply really good lamb shawarma also good branzino fish with labaneh on point even although hostess terrible job server lovely bottom line worth visit solid 4 star spot trust know food ',\n",
       " 'bad before overpriced horrible service group say really thirsty could please bring water look at menu good frickin bring waiter pushy rude l w say not interested in hear special read anyway constantly try to upsell u every order place follow by pause well know would really good follow by big description of expensive item add on desperately needed water take almost twenty minute to get to table table next to u seat at least five minute after u receive water drink first course before even get water sound like obsess about water in desert dehydration joke indicative of quality bad bad of service receive sushi good but not great main course simple but extremely expensive side extra spend about 250 for three people on basic food glass of wine never never never never ',\n",
       " 'hand down best pizza place in mentor pizza delicious smell alone enough to make drool cheesy bread soft cheesy goodness pizza good for leftover next day service staff friendly 5 star for sure ',\n",
       " 'go with ziti remember sauce awful pasta in pool of water sauce zero flavor feel like sauce make break meal tasteless garlic onion wine basil nothing portion also quite small for price clearly boxed pasta not homemade stingy surprise high review on actually experience family experience not great guess decent place for family but would definitely go to different italian restaurant look for good food ',\n",
       " 'usually go to lindo michoacán want mexican at sit down restaurant but felt like talk husband into try juan ok hooked service great get fajitas for 2 with steak chicken add cheese good lot of flavor love fideo soup chip with onion pepper salsa bean dip good alalthough not favorite gripe smell of fajita leave smell like work grill clothes saturate with smell skin felt greasy notice smell cloud of smoke in restaurant sit down sure not to anything special plan after eat price on par with mexican restaurant get enough to eat definitely back pack febreeze ',\n",
       " 'research people place completely unprofessional go in for juvederm procedure in lip disappointed by way look right after procedure even several week after lip extremely painful swollen bruise disproportioned place not good place to go to for lip augmentation aware choose good md ',\n",
       " 'service prompt good order roti canai excellent also fill chicken curry for roti not thick think good combination dip also order lamb curry forget exact name rendang flavor good but not like taste of meat chicken beef version probably well lamb meat feel taste like lamb sweat at least imagine to give 4 star not satisfy with lamb meat of item bit pricey excellent like beverage grass jelly drink malaysian iced tea definitely come back next time ',\n",
       " 'extremely annoy venetian chooses to broadcast fox news at vip lounge against customer employee would consider harassment since neither choice to change channel try complain to employee state not able to change channel trust venetian customer employee not want to force to watch fox news please change to neutral channel cnn provide transparent news ',\n",
       " 'boyfriend go for dinner evening say awesome prepare drink powerful make mistake of get tequila shot on side but frozen margarita house drink not need needless to say take time drinking eat could travel home safely fantastic time definitely visit restaurant by way chicken shrimp spinach entree john mahi mahi taco good ',\n",
       " 'remember go to salon year ago love fast thier service under 45 min glad not change refill on seaweed bio gel nail with air brush french manicure saw on yelp not even know option nail tech nice understand want fast without sacrifice quality sadly complain place locate in markham out of way would cool open up another location in north york downtown area ',\n",
       " 'regular at chipotle in california first visit to chipotle on la vegas strip pretty new place think take veggie bowl in rice undone fajitas burn quantity offer less usual unhappy with place ',\n",
       " 'guy really great easy to work with provide valuable service work with sammy to coordinate night out with 10 girl for bachelorette party in vega decide to go to tryst sammy patient in take multiple phone call answer question even throw in couple of extra perk at request pre pay service great company take total cost of evening divide per person create link online girl go pay ahead of time not to deal with large bill everyone credit card at end of night easy someone from company in constant contact with lead up to night out sammy know large of group important good table to u call night of to let know different well table open up give to u at extra charge craig host for evening contact promptly to provide detailed instruction on to meet craig wait to greet u promise walk u right into club to table bottle mixer waitress wait craig stop back couple of time before leave to make sure settle good time contact sammy couple time throughout weekend for various thing helpful even although not use for additional reservation night out plan ahead way to go come to vega not think to use outside vip company to plan not really see disadvantage to would definitely call red carpet vip ',\n",
       " 'bad get 45 minute after store suppose to open not ready order sandwich oven not turn on ask long employee say minute 8 minute later oven still not preheat let know to go pull sandwich out of oven cleary sandwich would not prepare correctly not take sandwich to leave to get to appointment quick stop for coffee breakfast to go over 15 minute send in complaint to head office slow response could not give credit but would send over coupon for couple of beverage ridiculous want refund on sandwich never take pas by second cup 5 day week go to keep on driving stick with starbucks also steer clear best example of bad service ',\n",
       " 'go to dr goth for couple procedures include wisdom teeth to suspicious oral growth remove one word fantastic staff excellent art in dentistry patient care unsurpassed cut dry dr goth outstanding man to see in pittsburgh area ',\n",
       " 'love west side market but ca not stand crowd parking general gentrified douchery seem to accompany entire process for not worth enter food peddler farmer market not know whose idea to plop down produce centric farmer market style grocery store in heart of cleveland old brooklyn neighborhood but like to shake hand doctor order imagine bright airy open market full of colorful fruit vegetable from farm around region row of farm fresh egg cooler fill with amish chicken local ground beef yeah right really true not say place perfect but for area of cleveland know for shady strip mall bar giant cemetery breath of fresh air cleveland rest of nation need encourage consumption of fresh local food to offer fresh seasonal fruit vegetable with everything from plump bing cherry to exotic fare like chayote california avocados bakery with cleveland favorite like kugel kolaczki deli stock to overflow with meat cheese from over ohio pennsylvania bulk section with plenty of flour rice pie filling nut seed goody giant bag of peanut onion apple carrot wall of bulk candy package in little container perfect for hide in cupboard behind quinoa flax seed reasonable price not cheap fast food but gon na spend money somewhere not make health could go on on about of product manage to cram into place about friendly staff but want to leave something for to find out on first visit know not west side market not nearly sheer volume of item of venerable food mecca but worth pay visit anyway neighborhood feel parking intimate experience support local business eat local food give something back ',\n",
       " 'oh man go to long review want gist god awful not go dissapointed with everything get home to write review first of vietnamese pho soulful dish pho today bad thing ever parent come to visit with sister friend after long day want to finish with hot bowl of pho see place even walk by eat at sura smell tantalize to go try althought would good idea to try jenni pho grill tonight walk in saw place not busy maybe about 7 table get seat fairly quickly server pretty nice parent attempt to order in vietnamese but server inform u not speak cool cool big deal seem like nice kid after go downhill from order three bowl of pho dac biet two order of pho tai finish order with two thai tea jenni jelly drink two water family wait around water drink nothing watch three table get seat order food get food before even anything on table after 25 min wait waiter finally come back with two water ask service slow state two waiter say sorry fine for after get water nothing else come to u watch table come in after u eat one even finish before serve after another 35 minute food finally come out first two dac biet bowl last three finally drink come out well work at boba place before make thai tea not take hour for wait for long really anticipate for great bowl of pho oh man wrong broth lukewarm could not even finish cooking meat broth tasty funky make with pre make powder parent watch one cook constantly taste broth saw bone make great broth bowl mostly disappointing broth little meat noodles ate want to get out soon possible ask for to go cup for thai tea take long go to take home take almost another five minute to get plastic cup in end terrible family go home unhappy thing love food work in industry timing important two server rough but not excuse something wrong go to take little longer inform customer bad part watch table come in before u eat before get anything never go back really hope clean up act lot of pho place out not fix thing bury beneath rest ',\n",
       " 'great wing breakfast pretty good also cook great job on food not drink ca not say anything about but over good neighborhood place ',\n",
       " 'bad service ever one take 10 minute to get one drink out 3 people behind counter include manager talk thing ',\n",
       " 'drive late at night lucky to find last room available at location front desk clerk breanne super nice helpful hotel felt welcome clean walking in room different definitely stay not explore amenity ',\n",
       " 'christian joe 5 star thanks for quick resolution get tech schedule best could quick could professional whole time ',\n",
       " 'look at picture picture of insect about to eat really hungry decide to stop by eat thank goodness second plate not full gulp down first plate soup of toscana serve management provide friendly compensation but not want anyone to get poisoned sooo yeah eat at risk ',\n",
       " 'im obsess with place best dish to try include pozole really filling great for freeze outside taco dorado best one try in city enchilada during morning on weekend best well delicious really want to try real huevos rancheros try place in neighbourhood to claim to offer trust none of authentic always great experience keep good work price good also consider freshness quality of food one of best place to eat without break pocket ',\n",
       " 'challah french toast pair with turkey bacon pretty awesome breakfast thoroughly enjoy but felt staff lack in service nice not prompt would disappear for quite time not know people call out short staffed one plan to stay awhile food good although ',\n",
       " 'food great server karu bomb cool nice good look guy perfect spot for bring friend group great atmosphere great menu choice spicy but good haha defenitely come back ',\n",
       " 'chilaquiles on point buy last save for breakfast today sauce tortilla good ',\n",
       " 'e mail head office month ago about lousy experience at yonge college street location never receive response never huge fan to begin with but confirm thing for oh cobb salad not chicken in anymore rip off ',\n",
       " 'much good coffee big chain great place for quick lunch breakfast drive through make caffeine fill ups easy ',\n",
       " 'use to work for skechers in las vega year ago everything at store except store much small especially clearance section try on shoe really greet but one check up on blah oh well ',\n",
       " 'restaurant real local secret open since 1965 original owner chef still cook in kitchen on monday night at 10 00 restaurant close happy find amaze food wonderful authentic italian atmosphere friendly well timed service in english french italian ',\n",
       " 'couple day ago adopt little sayuri from arizona humane society entire process seamless evident in society best interest to make sure lovable pet find right home first go in to see couple of puppy really like 2 in particular already dog at home boyfriend not able to join put one of on hold hold pet for day go back hour later require already dog must introduction to make sure good match dog love sayuri but not fond of dog like to say dog choose new puppy adopt puppy also recieve free exam through vca animal hospital think wonderful since adopt rescue dog intimidate overall facility extremely clean staff helpful on top of about friendly imagine people heart of gold would absolutely recommend az humane society to anyone want to add to family ',\n",
       " 'for service on 2000 honda accord vtec ex major service 1 time belt water pump tune up etc basically everything recommend tell need to want car to reliable not issue go ahead with required maintenance 1 month after major service radiator blow open come back from flagstaff ok understand thing break etc take to arrowhead honda service explanation since replace water pump with new one must increase pressure in system since radiator old new water pump find weakness in radiator tell common ok get explanation but case month go common knowledge not recommend replace radiator with major service car would not leave strand also recommend power steer pump replace system flush etc hate not right first time to bring back wait for to get air out of system new power steer pump would stop make noise go to dealership service department know honda well break unfortunately even change everything initially recommend still miss item of change not back since mistake ',\n",
       " 'dr roach staff wonderful keisha amazing groomer love place clean efficient state of art facility ',\n",
       " 'love location christina server morning fantastic former waitress understand hectic overwhelm morning shift get but attentive friendly always keep cool even with ton of table food bring to u within ten minute of order successfully tame hangry beast brew modification to order correctly food pretty good highly recommend banana nutella crepe overall impressed with recent visit keep up good work ',\n",
       " 'good luck get appointment before end up in e r ',\n",
       " 'not into seafood but husband birthday love option seafood make happy husband say great ',\n",
       " 'review for gym facility never try tanning purchase product solid array of cardio equipment weight machine free weight include olympic lift platform power cage combo with bumper plat another power cage smith machine pro 24 hour access with keycard contract membership option locker bring lock sweat towel provide friendly employee con shower inconsistent membership rate friend get quoted several different rate pay small space get packed of equipment show sign of wear rip pad on weight machine crack in weight bench pad number rub off on of dumbbell ca not tell weight would not think would hard to slap sticker on but way for month often dirty especially mirror in front of power cage always people spit spray over personally wipe weird black brown splotch off olympic lifting platform people shit during squat always build up next time go overall decent gym get job live in area ',\n",
       " 'service pretty bad two grouchy lady deal with u at entrance to wait ridiculously long for table even although restaurant almost empty to sit far away from food possible ask to sit closer say ask say one cover area seem like could easily fix make one exception mean buffet wo not need much service luckily lady take drink order pretty nice come over often to clear plate refill mimosa food at buffet one of good buffet in vega definitely well monte carlo harrah but nothing compare to paris mirage tell caesar palace best but never from look of sure million time good place want relatively less expensive buffet of food tasty fair amount of variety might want to go especially for mimosa get great deal from tix4tonight definitely check out tix4tonight service like before go anywhere in vega one really cool feature salad bar make salad fresh for really enjoy chinese chicken salad also dessert area choice lot of buffet although execution of not great definitely worth go to for food but really althought service bad out of restaurant go to in vega for reason probably wo not go back but would not tell people not to go ',\n",
       " 'companion go to live kitchen on impulse happy to say delicious worth companion get arugula harvest salad get pad thai arugula harvest salad tasty of component come together well pad thai also flavorful awesome sauce good afterburn to would highly recommend come to try food vegan vegetarian otherwise ',\n",
       " 'place bring back many memory with family for year unfortunately service food quality go down during recent visit notice close down second half of seating area disappoint in book go with family usually big party would accommodate fine but to separate family sit at different table booth to fit poor choice in close extra room after year service for food depend on day glendale host event not recommend lunch dinner but breakfast like ordinary restaurant on cleanse one weekend awesome enough to give egg white even although not on menu ',\n",
       " 'go for brunch shrimp sushi snow crab leg crepe make to order prime rib etc etc add drink mimosa love 76 00 for two after tip would go back for sure ',\n",
       " 'freak bomb macaroni cheese everything else awesome well great service everything outstanding ',\n",
       " 'order akropolis pizza pork gyro first thing notice pizza come out vibrant topping tell veggie fresh by look at gyro one of best fry awesome great service really care about give good experience definitely back ',\n",
       " 'bad experience ever guess first time leave negative comment but definitely for wo not go back anymore make reservation for day arrive tell not remember confirm appointment n already guest wait but close in hour still lady tell ok could sit down n soak foot into cold water n after 20 min lady tell n another girl actually could not help u today close soon n one of staff actually to leave soon not know good guess never know ',\n",
       " 'let start out ambiance of facility amazing classy but not compensate for service receive first person at door walk in notify 30 minute wait for preparation honestly feel come in 30 min earlier instead of make customer wait little disappointed 2 group of woman with sundress come in 30 min after receive food before to happy medium not right to let sex sell slogan consume site of customer treat fairly equally to honest wish go to ihop but try to good person support black business place not recommend to anybody know food on scale of 1 10 7 service well give 8 meal salmon grit ',\n",
       " 'avid hookah smoker with pipe of probably little knowledge about shisha procedure need with know place not clean pipe after use state with another review really not matter whole lot flavor interested in double apple eventually end up taste use standard bowl to hold shisha get 2 piece of quick light charcoal place need to get customer satisfy understand use ql but never beat flavor duration of natural wood coal even compress coconut shell for burn could spend hour discuss pitfall accolade in term of hookah side of business but would likely end up sound drab sum up quick never smoke hookah before want fairly decent experience place give 65 75 good first smoke someone avid smoker pipe out pay for elsewhere for know up right move to food drink selection fiancee try of juice find to on whole quite good oasis cocktail kind of cream but to identify order without of time due to particularly odd flavor leave linger on tongue fiancee partial to strawberry banana honey drink order 2 3 of at time for long visit hummus flavor pretty well order shish kabob come out cooked right last visit shawarma good pretty solid food drink dessert hookah lay back atmosphere heater outside get cold thing could use smidge improvement serve girl tad hard to find potentially go 30 45 minute without see one anywhere give place shot near area ',\n",
       " 'not offer refund charge for cancel flight even month in advance try not work with dont use cut rate airline ',\n",
       " 'nice hotel ever stay in in vega find great deal during week could not pass up clean staff friendly much food to choose from downstairs pretty convenient location on strip well definitely stay ',\n",
       " 'wonderful dinner experience hubby come couple month ago first time at sushi samba not reservation but able to seat u at sushi bar a5 wagyu gyoza tender not overdo tuna tataki chicken samba good size portion el topo roll chef sashimi selection tonkotsu ramen everything order super yummy definitely come back next time in town would recommend make reservation next time sushi bar kind of tight order good amount of food not much room ',\n",
       " 'danielle perfect server always smile come around enough but not much make good suggestion generally let u silly nearby table neighbor great food fresh tasty crab top chicken juicy flavorful man ravioli something also tasty fresh pasta good meat sauce salad soup breadstick always wonderful also get bruschetta really perfect not specialty not gourmet perfectly normal fresh tasting tomato basil olive oil yumminess also trio of dolcini dessert make perfect could tiramisu limoncello strawberry stuff overall even although really busy wait for about 20 minute for table alalthough waiting in bar drink hardly count wait with excellent service great food place definitely get 5 star from for chain restaurant definitely something ',\n",
       " 'truly disgust by service of restaurant come in with family mom dad say 10 minute wait say okay notice short with staff wait patiently till seat at table but 10 minute turn into 30min wait hostess sit u at table say may awhile wait after see 2 server walk by u like not exist hostess later seat another table 4 caucasian customer still patiently wait for around another 30min 4 sit down asian waiter quickly come to take order get waiter attention say excuse come first make up excuse say oh wait on different table probably waiter busy know excuse disgusted tell hostess waiter wait on table after u say oh well say would probably long wait hostess audacity to say oh but serve people come before say before wait 30min at table know sit u at table say depend in end leave restaurant hungry go to much well restaurant serve u well call rice paper ',\n",
       " 'review 189 2016 arrive at hertz at around 2 15 pm on aug 24th able to get rental in about 20 25 minute pick up process pretty simple either go to customer service rep use self serve kiosk end up lady assist on kiosk phone pretty friendly but lot of up sell kind of bothersome not need big car economy size since 2 of u understand probably work off of commission but sometimes unnecessary to try convince to get something not need return process pretty quick easy well end up get charge for extra day bring car back 1 5 hour after pick up time since flight not leave until 8 pm bad not grace period for regular customer car fine not get anything fancy kia nothing much to write about fact clean not smell bad like rental encounter elsewhere ',\n",
       " 'sooo good bulgogi dog craving right tasty want to go back try carne asada fry see soon ',\n",
       " 'occasion over last week to experience sport medicine physical therapy department outstanding drs anthony tony walker jennifer hannon great team really know stuff beyond know stuff continual dialogue with patient on appointment begin discuss exercise work feel work not would get into plan for day go forward involve in therapy continue in joint planning over month of treatment administer tablet form of survey ask about condition affect life after therapy run course complete survey before after record of condition impressive give people cycle through practice clear facility therapist something special good resource for of u ',\n",
       " 'use to come lot best boba place around but lately tea taste like water sugar flavor tea taste but texture of boba good squid ball still great but guess like slush blend drink still good still come closest by house ',\n",
       " 'use to 8 99 for haircut 9 99 cheap compare to hair place still but place not professional one employee talk over head seriously 5 minute haircut not understand last time go refuse to take even although still open hour before closing hour still open stand in front of glass door lady sweep by ignore disappoint about but go back since second chance exist go couple time not happy about service cut give three star price cheap quality cheap ',\n",
       " 'show fun but expect from hype get pick over chippendale cuz idea of australian men with accent much hot american dancer p call in to purchase ticket hour before show say not table to fit 5 girl would to separate into two table fine but get 2 completely empty table in front of stage sale people really unorganized to not notice available ditch booth go straight to front table give much good view show def entertain with finely sculpt men rip off shirt dress up in fireman spartan outfit occasional view of g string not welcome something about man in g string wrong know but but entertain emcee accent hot bod think find attractive out of guy pull lot of bachelorette birthday girl onstage to participate of old woman althought cool also run around through audience well matter seat think able to get up close with one of guy downside although at end of show welcome to go to front of stage pay 20 per person to take pic with guy to receive one picture offense but total rip off to fantasy female stripshow take pic with for free much good attitude lot friendly to talk to after show annoy stand in like decide against take picture after show even annoyed girl behind u ask take credit card wtf men seem way jaded full of may good to look at but off stage total jerk good show ok entertain interactive althought nice would go although probably not next time try chippendale maybe attitude good ',\n",
       " 'din teppan twice la carte twice teppan well price great food but chef tire understandable not type of showmanship get elsewhere but good chef la carte sushi great pot of soup huge delicious local place well service on point attentive last time come ',\n",
       " 'come in toronto friend insist on drink gator bait before leave to go home place scream new orleans to service friendly like south sit at bar drank able to see shuck oyster right in front of u pretty cool not try food but menu look tasty try back in town but gator bait drink delicious ',\n",
       " 'absolutely complaint stay in bella suite with view fantastic room amazing service friendly staff reason not get 5 star room service yeah yeah know expect to pay high price for room service food but 34 for hot tea doughnut ouch charge 5 for room service but think free ',\n",
       " 'food best greek food in arizona price not bad service great really fast ',\n",
       " 'really quaint place for whole family row of pinball machine vintage modern also various arcade game like super mario bros centipede crane game for plushie need coin machine to turn bill into coin for machine vend machine in case feel hungry thirsty play staff walk around to make sure machine run refund one of fails play towards back old pinball machine seem to out of order in process of restoration really neat to see believe also prize counter in back although not sure would work dimly lit building allow light of machine to illuminate area great place to hang out play good ol fashion arcade game ',\n",
       " 'understand la vega over price but 50 for pitcher of mediocre sangria 1 2 way fill with ice with not slice of fruit in sight annoy friendly staff food fish taco not nearly good time before conveniently locate close to convention center get pack event go on ',\n",
       " 'love come back to location one of best one to try buffalo not top service from metro center store always get help out by chelsea awesome always smile make u feel at home also team captain always check to see good with order drink ',\n",
       " 'good bad for sure place nothing compare to dowd davidson but job would give another star but tell raise already high price plus people not seem to understand one way sign in parking lot parking lot in general def honk yell at for follow rule front desk help always pleasant get to normally not best of interaction with patron wait in line but seem to idea on side of town locker room decent nothing special plenty of open locker time of day rarely find solo in sauna steam room swam need to get on never use basketball court anything outside stick to weight room never to wait on bike treadmill look for stair climber another story although bike near nice dowd thing ever to wait on free weight plenty of weight but not much room at to use want lay down bench probably to wait especially at peak hour in close go plus 24 hour harris teeter right nobody look at funny for sweaty in gym clothes but somebody call ask want to go to nice location ',\n",
       " 'food good waitress inventive thing felt sick after eat not sure stomach not able to handle but felt terrible staff at front friendly talkative ',\n",
       " 'look forward to eat for long bad on birthday food good but service deplorable not go to rehash much apology to man bro know also hop for good appetizer by far best thing entree good with red meat star peach cobbler desert top swear merely microwave one slice of grilled peach put candle on nothing to make think birthday dessert for highly recommend flight of 10 20 30 40 yr old port mellow out complete waste of skin server not sure althought look unable to tip for spendy bill not enthral table next to u with montana story but brother aptly reconfirm tip expectation with 7 much in opinion for not give diddley about someone chosing restaurant to celebrate in ',\n",
       " 'hy steakhouse contemporary elegant traditional steak house with lot of open space intimate dinning experience start with famous cheese toast oyster rockerfeller 6 sweet savory but small oyster beef tartare make table side serve with small biscuit end off with 22 oz porterhouse steak cook perfectly to order enough for of u server friendly insightful always cater to need at table server also helpful but tend to table alalthough several mistake on bill initially wrong food drink extra item bill server fix everything easily room dim ambiance intimate in conclusion food quality above standard service cleanliness high atmosphere intimate food old fashion come for great steak right at slightly high price range keg ',\n",
       " 'mr cool heating air conditioning come to rescue for on short notice able to work on swamp cooler many company not three dog of foster dog start to heat up in vega worry swamp cooler not seem to blow out air cold normally start read review message company on yelp to see would work on swamp cooler answer of one charge high fee to come take look provide estimate often fee not apply towards repair cost mr cool not charge estimate fee derek come out to house next day derek thorough investigate problem explain everything wrong without condescend act like clueless offer estimate for service even tell could shop around for estimate to certain get good price already shop around bit happy to proceed with help swamp cooler part large not space to keep in van but derek assure could buy part complete repair next day explain husband would need to wait until friday get pay for repair kind enough to work with u could come to arrangement for payment would not to deal with house hot come back next day for good amount of time swamp cooler take time for repair thorough explain everything to ask question about to best maintenance swamp cooler happy to answer glad choose mr cool would highly recommend derek patient kind hardworking swamp cooler pain for repair affordable for repair sure even well with ac unit thank derek mr cool house get soooo cold like ',\n",
       " 'one of favorite place to eat in town best bean dip ever owner kind highly recommend margarita on rock chicken taco ',\n",
       " 'first time ever come even although live less mile away to admit fantastic order surf turf taco plate of taco full of flavor tasted fresh get spanish rice instead of bean delicious not dry over cook like place young man at register chris helpful with order extremely pleasant definitely come back to check out 1 50 taco on tuesday ',\n",
       " 'go to see brent spiner guy play data on star trek talk at convention cool open little talk by tell u about night before truly unique din experience go to burrito boyz regret not get large pretty much bang on little to regret come to burrito boyz burrito big fill to point of burst with delicious flavour usually go for small large really large but indulge in get variety of meat choose from favourite chicken halibut beef everything great really even level of spice always bang on for request withhold certain thing like hot sauce jalopenos but trust not bad ',\n",
       " 'go for lunch get grilled cajun chicken sandwich salad of fine service really good overall not bad place but nothing spectacular ',\n",
       " 'battista hole in wall awesome go for first time in vega for kickball tourney wakapalooza early october teammate huge fan suggest place to rest of team for big team dinner saturday night locate right next to flamingo hotel stay able to walk over restaurant pretty big but table sort of cramped together in small room decor awesome definitely friendly local vibe since party pretty big about 14 of u to wait bit before get table not big deal since start pre drinking at bar price range for meal depend but range from 23 40 get unlimited red white wine with meal although plus meal come with minestrone soup italian salad garlic bread pasta side homemade cappuccino order lasagna huge probably eat quarter of before get full probably would not full not fill up on garlic bread but could not help garlic bread ah mazing cappuccino really good of hot chocolate coffee to honest service good kind enough to split party in two to help make check easier even gentleman come serenade u with accordian would definitely come back ',\n",
       " 'speechless without word to properly describe place everything about place amaze staff food everything eat one meal today make count by get 2 meat plate with brisket rib with grit bean side rib to favorite but mind blow by jalapeño cheddar grit lord brisket bean oh hell kidding ca not put in order eat everything not know bekke but get one hell of pecan pie name after ',\n",
       " '4 5 star extra star for legendary iraqi fish dish know masgoof fan of fish dish must delectable technique use for thousand of year in iraq entire fish evenly flay open nail to plank of hickory wood usually sprinkle with little olive oil perhaps tamarind paste place in 45 degree angle by charcoal fire traditionally large freshwater fish use but at chateau fish of choice tilapia quite good suspect best method to prepare dish result charred surface of fish but of juiciness trap inside delectable not often get pleasure of enjoy nice masgoof in case find kabob house to boring not not love almighty kabob come to expect kabob place outside of middle east detroit even western europe never get right every time hope normally end in disappointment for never make trip to iran in 2007 in kabob paradise but chateau kabob locate in frankophilic metropolis of montreal rare pleasure of maintain hope in washington dc need to cling to place like shamshiri alboorz to get kabob fix but even get repetitive after especially not single kabob house in region even hold candle to two place therefor not particularly incumbent of to reach for star chateau kabob right about close get to of legendary place find in iraq iran latter of reign supreme in world of kabob at chateau spice right juiciness on par meat superb in excellent kabob perhaps one of underappreciate technique chateau also get right rice superb fluffy velvety aromatic interior décor of chateau good kind of surprised at first come to expect persian arab restaurant expect sport of gaudy hideous interior know to man appear guy tasteful enlist help of someone to actually design space with althoughtful layout pleasant finish aspire middle eastern restauranteurs tend to think best interior designer on planet until actual design space glad guy at chateau hire designer along with fish delicious kabob good company make chateau pleasurable experience worth revisit ever in montreal seriously hankering for kabob hat off to owner chef always in restaurant tend to guests of nice people meet ',\n",
       " 'go to nail salon for 8 month go to ahn great never hurt cut cuticle always get gel manicure pedicure fantastic job tool clean sterilize salon pleasant to in ',\n",
       " 'much food not good for diabetic food delicious spread of waffle protein omelette veggie omelette brioche french toast chicken waffle between 6 of u oh leave off apple pancake great tracee best waitress lead great happy birthday ',\n",
       " 'decent burger not live up to hype although one thing concern gal cook burger long hair not tie back fyi in case squeamish about pluck hair out of food ',\n",
       " 'jodi salesperson design of layout of cabinet excellent jayson instal cabinet professionally staff material use high quality ',\n",
       " 'wow fresh ripe sweet right in back yard watch customer go in out of small location in strip mall always want to try glad ca not wait to come back try everything else ',\n",
       " 'listen at review for place get hopeful signature poke bowl bland not quite sit right in stomach maybe much sauce comparable to salmon sushi ingredient in bowl with way much rice bad love poke bowl high hope for place 2 star for nice interior ',\n",
       " 'could give place 0 star would rude unprofessional personal locker to put purse in to shop with ask to go put purse in car excuse even legal go to replace purse content someone steal personal item not sure run place but insane policy clearly negatively impact business bad move bad business move go across street to sally ',\n",
       " 'one of favorite for cheap fast tasty mexican definitely low key casual but for scrumptious chimichanga with terrific queso heavy on tequila margarita place ',\n",
       " 'confession to make obsession with tongue right folk tongue love name animal duck pig cow definitely one of best eating part of animal think about something else guy dirty mind p asian parent indoctrined love at early age discover jewish deli into tongue liver yum pretty much love hit up inexpensive place to nosh kind of depress in vega well on strip pass by famous deli basically rape wallet imagine happy to find bagel cafe hubby get pastrami order tongue sandwich perfection really not hard on wallet either best part try slice of boston creme cake totally junky good ',\n",
       " 'quite possibly bad meal in age service glacial order house salad but tell not ingredient list on menu available end up with plate of arugula tomato with not tasty french dress wait for over hour for main course to arrive general jackson chicken menu promise boneless marinate chicken deep fry toss in spicy savory sauce serve with jasmine rice broccoli napa spicey sauce sauce spicy unable to even taste chicken rice strictly uncle ben saw broccoli napa couple beer before meal wait total bill 55 not tightwad but dinner in little strip mall restaurant not set back 55 else delectable battiste dupree not hidden gem others tell about hope mileage differs ',\n",
       " 'good clean place to get mani pedi two come to 39 with tax great job of tv over watch tv freindly staff go back for next mani pedi update great manicure get last way through vacation to mexico without much chip regular manicure not with shellac after two day back to work polish mad silverware start to chip up star from former 4 to 5 impressed return with friend ',\n",
       " 'interior super cool chill place numerous decorative piece look carefully harajuku penicillin amaze especially penicillin dash of islay really take to next level bartender look passionate main bartender joseph amaze def worth stop by ',\n",
       " 'great food good vegetarian option always busy lot of great sauce to choose from ',\n",
       " 'first time buyer excite to go in buy first car last week of november 2014 at begin owner nice give detail of car buy mini cooper know issue in transmission witch promise would cover with insurance asc warranty vehicle protection plan within three month 3000 mile contact several time for to get car fix keep say would fix after holiday january february pass car not fix but contact one la time tell would give one month tell work on still tell imported part witch not easy to find tell take legal action answer with whatever to with arrogant tone unprofessional till say never contact to keep updated give solution believe patient at time incredible claim to legal business contact demand solution highly suggest think twice about go read another review regard several comparable issue never experience horrible drive first car with bad transmission really want to warn not go never write review but really want let people know people commit fraud aware of location ',\n",
       " 'disappointed with customer service from server to owner really surprise bitch order western omelet with hash brown crispy get omelet cheese in hash brown barely cook in addition want coffee refill one ever come back to ask u inquire about cheese server tell not come with ask owner say not correct way western omelet traditionally serve argue with about history of western omelet instead focused on customer happy especially since tell first time excite to try food quite honestly not look for class lesson go out to eat want good food good customer service get neither today correct thing for server half wit owner would to say sorry sir but would happy to redo omelet with cheese make u another order of hash brown make sure crispy but guess none of happen cook in restaurant whole life never hear of omelet not come with type of cheese even correct in history definitely fail at customer service skill in addition pay for food tell take cash to go out get cash to pay for horrible experience not sit well with almost say screw but conscience say not go back pay bill long story short want good customer service u want good food would recommend go to denny bob evans oh yeah one thing star choice would put none ',\n",
       " 'let say shock people super friendly food donuts close to work price not bad reasonable great place to relax get work ',\n",
       " 'really enjoy ashley ami salon great job friendly professional usually get hair go to mi of quality of highlight price price affordable highlight fantastic thanks ashley highly recommend ill back ',\n",
       " 'brandy amaze love personality make of u feel welcome at studio great technician to boot highly recommend see place interested in great photo of baby ',\n",
       " 'to vintner grill twice in two week recently first on administrative professional day for lunch pack food delicious usual with vintner service not great waiter friendly saw but could not keep up in section hubby also go back on friday at 2 15 for liquor lunch must say one of best dining experience in la vega food excellent always but for first time service by mark impeccable table possibly but something tell find go to server from on make great recommendation timing of everything amaze sit outside enjoy champagne heavenly please go to vintner grill worth drive from strip patient in case service little slow besides never know celebrity may see ',\n",
       " 'whoa red carpet handle business wait line hassle seriously although worry about line in vega pregame in room immediately step into club give million star walk into x problem 9 dude walk into ebc problem 9 dude crazy huge 30 passenger limo gmc kodiak something ridiculous could not make bachelor party well use for long live come to vegas staff great with email phone correspondence thank annie not go wrong with shell out extra dough book vega club experience wont disappoint ',\n",
       " 'never to akina for ayce dinner for wonderfully price bento box set lunch bento box set at 5 99 come with miso soup salad 3 cali roll box large usually like 3 4 different thing in e tofu mixed veg main course rice value wise get to one of best lunch get for 5 99 ',\n",
       " 'guy literally save rfp due during holiday with computer printer crashing in serious bind usually go to staple printing center but could not get in time get on peoria chamber website international minute press desert sky printing come to rescue finish printing rfp turn in with 1 hour to spare recommend highly ',\n",
       " 'great taste deep dish pizza make mean calzone well little sad not use fresh mushroom ',\n",
       " 'never disappoint with place but to eat at restaurant but ahi bar amaze always come in to get spicy ahi bowl side of ahi yummy ',\n",
       " 'think first people encounter courteous friendly critic inside of melt little front desk helpful friendly therapy excellent even decide to join wellness program accommodating manageable for expense ',\n",
       " 'terry owner fix car for year consistently great work completely trust opinion tell think wrong course of action see many of project over year in many different stage of completion always look run superbly shop always full of car from different decade in for different type of work reception area make up in tiki type theme visit definitely something cool to look at wait would recommend shop to anyone with old car need fix whether mean get oil change major restoration work ',\n",
       " 'one of favorite place to eat food delicious fresh almost everything make with tofu substitute owner friendly food truly superb ',\n",
       " 'recommend vet by friend go to for year not disappointed doctor youssef first help boyfriend cat horrible hairball stuck in stomach show much compassion understanding for animal hard not to believe truly care for well not afraid to tell harm pet overweight tell straight up let know cause harm uptight suburbian not go to tell kill dog feed puppocinos start take dog after express hatred of previous vet felt big deal could always muzzle sedate for check ups felt ridiculous bring to doctor youssef felt everything in power to make comfortable with staff even let take around whole building to get use to price fair trustworthy vet but to meet one conversation with tell not care about money truly one of in business care about animal love guy much recommend to best friend get cat take to well get cat spay offer to keep overnight for free drive away for but well worth would drive to boulder city to to keep guy vet ',\n",
       " 'on saturday afternoon for lunch party of 6 server great on top of fill drink make sure to bring out extra ask for with meal turkey chipotle club wrap ok nothing special but not bad fry good husband open face meatloaf really disappointed not even eat half ',\n",
       " 'go for saturday brunch wait doable compare to buffet pay about 38 person standard for vega buffet but everything underwhelming nothing really stand out from selection for price to pay little extra recommend wicked spoon bachannal ',\n",
       " 'happy client for several year ashlee take time ultimate care to outstanding job every time receive ton of compliment on lash natural look ashley true lash artist 100 satisfied every time ',\n",
       " 'brandi awesome love demeanor personality excellent stylist also cosmetologist know real deal see one back for sure scalp message perfection relaxing blast talk shop with highly recommend lady ',\n",
       " 'chad instal new heavy door for require modification specialize hardware work excellent precise complete sooner expect polite knowledgeable trustworthy definitely offer future work to already recommend to friend ',\n",
       " 'to start beautiful venue definitely hidden gem in gta but please careful get everything in write george christakis co owner of venue manager of crystal fountain devious sketchy check out venue one crystal fountain meet george definitely rude lacked professionalism leave with bad impression fast forward week spot estate banquet email arrange to meet up show up one appointment with to see pass meeting off to someone else without inform u venue beautiful price in budget want to proceed could work out food detail girlfriend not like unprofessional manner of george later find out ask indeed george from crystal fountain call george next day to discuss food option say yes everything want could for price discuss taste include for 6 people ask to send email confirm speak about on phone email arrive simply generic assorted veggie assort cake hors oeuvre well tasting for 2 people well up amount of people to guarantee for price call back to discuss verbally tell u would include but ask to email u specific refuse in arrogant tone inform u expert in field not give specific grill veggie base on buy for price wedding arrive almost year later discretion desserts pastry would provide needless to say tell unless could establish write contract outline would provide for price pay would walk away say way go to put anything detail down in writing to trust walk please wary of george unscrupulous venue nice private but way go to ruin special day by get involve with shady business dealing ',\n",
       " 'buy house safe with dial type lock definitely secure bit slow to open make want to use safe less often business card from safe keeper attach to open instruction leave by seller go online find website email regard change to electronic lock reply in affirmative next morning call schedule work within two day of first contact service technician vid on time knowledgeable personable complete changeover in timeframe quote even explain everything about safe locking mechanism answer question great experience with top notch company could not pleased ',\n",
       " 'not sure happen to futo buta but past couple time come not receive dirty utensil ramen not good recently take family over food bland overly fatty really hope get back on track one of favorite restaurant in charlotte ',\n",
       " 'believe negative review come after round of golf in order to dinner brew service not terrible non existent waiter seem to take eternity to take order order penne with italian sausage to find out out of sausage waiter suggest alternative go ahead order end up with penne with canned tomato sauce swear frozen meatball at 12 shame with food beer not ask want anything else check drop off service food bad never return ',\n",
       " 'love pub food not great but stick to pub grub faves fine best part about place staff girl work amaze ',\n",
       " 'simple but tasty wrap corn chowder soup ok but ravi soup great with lot of authentic indian spice ',\n",
       " 'love johnny rocket not sure go on at location off day but chicken sandwich inedible taste like nuke chicken shake normal quality great shake server kind would one star but not for two positive recommendation to pass on location not fair example of typical johnny rocket quality ',\n",
       " 'engine in warranty from lkq guy to install replacement tell in day ok go notice engine take out carelessly leave ac dangling not remove to install new engine big deal till understand rest cheap way to not refill system right after go to get car say notice ac not work wrong coolant add to radiator not use regular green yellow ford require say come get fix ac tell hour later pcm computer well ok guy short out thing wrong valve rattle after 2 day with lkq say go to send inspector drive past noticed mirror loose break on side anal come to car buy new in 2007 enough take home enough forget 4 bolt 2 in wrong spot one digging into power steer rack power steer bottle crack on bottom from poor removal hide fact crack on low nipple ac system claim not hold r 134a remove ac later lose ring fill leak short ac protective diode not pcm place might good for oil change tell to but tell know not bring in like bahahaha back yard weekend mechanic able to figure out unskilled for task make sure with huge online review on every review site place not place to take car peddle bike for matter replace ring pull diode get ac work after vacuum refill armatures guess get to go to ford spend 80 on new power steer bottle tell lkq to send money first get car know under warranty from lkq try to get to pay 45 per hour on top of 55 hour get under warranty tell not touch until contact lkq try to scam out of 45 hour x12 hour not stupid lkq pull out right but agree to for 55 hour but skill guy not worth minimum wage ',\n",
       " 'place okay sangria watery unflavorful but get buzz part of point of drink but like craftily concoct cocktail elixir one not but use lot of buts unchicken waffle quite okay use veggie meat quite good job make like chicken since ca not roscoe cause veggie spot trick roscoe in europe would different story hit spot come with sweet potato mash collard green on side super healthy crazy amount of butter oil but taste amaze but definitely could use side of syrup on not nearly sufficient enough atmosphere not to like cafe like crowd but alright spot may may not go back ',\n",
       " 'not praise place enough 10 star give 10 star rating call about custom light need for handicap van schedule appointment for to come in see jay for advisement service impeccable pricing reasonable honest plan to go back for custom work let everyone know great place to deal with nice relief find great business many questionable business day highly recommend ',\n",
       " 'authentic rustic full of ambiance great for family aswell romantic dinner ahhh memory ',\n",
       " 'new to calgary homework on line settle for capo for one of first meal out not disappoint 9 table restaurant intimate contemporary but not stuffy decor washroom spotless service friendly on point truly want din experience to cut above rest attentive without intrusive food gnocchi suggest to u by guest seat nearby hear new to town selection wonderful pillowy dumpling puff with lobster truffle oil sell husband share plate of deliciousness restaurant split plate for in kitchen problem fresh bread come with shallot butter wow must try love flavour butter for main meal trio get dock side perfect scallop perfect shrimp tender buttery fish filet ask for husband choose meat option could describe filet butter love everything else accompany small hot pot with fresh veg inside in butter broth hit well sparkle volcanic water nice change for u wine list beyond impressive one glass red white mmmmm everything 100 italian include waiter nice to see knowledgeable about menu passionate about serve chef obviously take lot of pride in work create for u perfect plat end of meal sadly come alalthough stuff choose to share lemon curd with berry plate to cleanse palate best choice could of make to find out next time come enjoy location of capo in inglewood quite central waiter call taxi for u even wait with u outside chat with u until cab come gem of eatery afford to splurge highlight of week would recommend to anyone ',\n",
       " 'never belizean food hear of right in front of building for 7 month finally make way over dang good chicken fell off bone order tamale since special right huge for 5 50 wait long skeptical at first not know to expect owner super nice ',\n",
       " 'fajitas on fire 5 beer in bucket for 15 good chip salsa mariachi band strategic tv for seat excellent margarita kid friendly place rock out of place in la vega to pick for cinco de mayo food drink music pick one base on yelp review first time visitor definitely return soon arrive early to avoid long wait drunk people by time leave might people try to avoid drink aside enjoy flaming fajitas order fajitas for 2 with steak shrimp enough for 2 people hub make 7 fajitas from meat ca not speak to of food oh wait remember amazing desert sopapilla top with ice cream strawberry delish meet juan owner welcome u little toddler juan say build place to accomodate family daily happy hour restaurant wide not exclusive to bar like many place in town daily happy hour from 3 7pm look really good server friendly service great mariachi band added bonus would love to return to hear good place worth visit good food good drink good price good service locally flame fajitas ask for ',\n",
       " 'drive thru style smog station conveniently locate close to dmv bit of trouble find via google map behind 7 11 across street from smith super quick service in about 5 minute 10 10 would recommend ',\n",
       " 'over price nasty nacho meat salty could not eat try to sell regular bottled water for 7 never go to place place suck ',\n",
       " 'after day of shopping at local mall with dinner still hour off friend pop into grazie base on recommendation from former phoenix resident for snack not hurt hotel up street after quick review of menu pizza seem best option settle on capricciosa tomato sauce mozzarella artichokes olive mushroom salame ham parmigiano reggian pie emerge from wood fire oven pip hot with slightly burnt crust last approximately 5 minute before vanish into hungry belly wine list italian well price with many by glass selection opt for nice barbera pour generously into large glass regular living in area ',\n",
       " 'amaze first visit corporate still oversee operation during first week of open second visit horrible wo not return salad watery tasteless fry old burnt overseasoned restaurant dirty table sticky staff impatient unprofessional ',\n",
       " 'unfortunately not understand negative review maybe bad timing but love crazy burger bring american friend green burger impress about good super friendly staff make sure every condiment ketchup napkins etc not expect service at from burger joint but pleasant addition come back for food exceptional service never nice experience at burger joint before recommend crazy burger combo onion ring boylan black cherry soda alalthough bit messy delicious love every single bite of definitely come back soon ',\n",
       " 'listen people spot stop pay much at over price place portion small mash potato green place portion size mean to fee horse not mouse like place like come back over over plus gf live not far convenient ',\n",
       " 'really like bookstore for dvd music selection nice clearance section with top end dvd go for two dollar staff pleasant clean well organize ca not speak for book section but to shop for book also gadget nice easy to find parking outside one complaint would apparently not check for region of dvd purchase several not make for u region total waste of money overall really like shopping recommend to anyone ask ',\n",
       " 'third time eyelash good service awesome staff reasonable price highly recommend ',\n",
       " 'terrible customer service overprice one mechanic at shop 3 week to fix bike owner dale kieffer rude never come back yamaha dealer price excellent service ',\n",
       " 'ping pang pong always outstanding choice in term of chinese food in valley surprising chinese restaurant inside hotel casinos really sub par basic essence of clean fresh friendly definition food quite authentic server work quite hard decent presence of managenent staff to ensure smooth operation xo sauce tasty but careful order on side charge for not exactly cheap still quite pleased with food service upon every visit for number of year definitely recommend ',\n",
       " 'wish could give place 0 star issue before with seat take 15 minute place empty one time but tonight take cake go to get food at 2am pull into drive thru at 2 32 wait for 15 minute get trap in drive thru by curb vehicle for 25 minute get incredibly feed up walk inside 2 table seat already eat one woman order at counter go in ask worker at counter shut down drive thru could inform people wait at speaker stick want to leave say not know shut down drive thru but take order like doesnt help u still stick in crappy little drive thru not even want to order anymore say would meet outside didnt by way but line start to move say whatever decide to still order already wait 40 minute after get person in front of u through drive thru tell u to hold on minute back up inside but not at parking lot 2 car 3 people behind u in line inside server sit at table texting not tell busy staff get pay for nothing yell get pay for through speaker time to answer tell to calm down but could not take damn order finally leave with out even place order after 49 minute not return by review for place check yelp before ever come in first place go to mentor one after get serve right away ',\n",
       " 'not best pizza but not bad 7 pepperoni but plenty of variety guy behind counter super friendly remember cash ',\n",
       " 'actually visit village seafood buffet at rio three time time enjoy tear on whether to give 3 4 star reason choose 3 want plethora of seafood know come good eats but on expensive side option always solid depend on visit choice vary bit expect to wait in line for bit come with empty belly want to get for money ',\n",
       " 'not listen to low review wish literally bad go through two of router break one not get u anywhere near speed pay for call chat with multiple people before could get replacement router finally get replacement thing seem okay but completely break in less month wo not even turn on anymore suggest go buy new router from best buy btw not sell dsl router anymore wtf charge ridiculous ship price for replacement for item not work properly every time chat with get different answer transfer to about 10 people before even get close to answer question not use service might cheap but not cheap enough to deal with b put although ',\n",
       " 'great food price serving generous atmosphere good nice place for traditional mexican in old town really like pollo relleno ',\n",
       " 'average food service spotty depend on time of day look elsehwere surprise still in business ',\n",
       " 'paco taco real deal in spite of great yelp review still reservation about eat at another texmex chain good could althought well totally nail from complementary chip dip to sauce stain on napkin din area empty people at bar upon arrival for late lunch adlai server helpful with recommendation knowledgeable of menu overstuffed grill chicken taco arrive with mexican rice mixed cabbage coleslaw charro style pinto at incredible price of drum roll please 7 buck buddy try paco taco shred beef equally tasty serving huge everything fantastic premeal chip salsa deliver to table immediately chip thin fresh place clean attractive sanitation rating 95 for long time charlotteans like may remember place old manzetti go back soon place got ta try ',\n",
       " 'not green thumb much enjoy low maintenance plant around house nice to able to walk into bonafide garden centre proclaim want plant hard to kill without judgment consistently find staff helpful courteous best stand by plant with 3 month satisfaction guarantee ',\n",
       " 'food great rib eye sirloin pretty basic cut correctly mushroom ravioli appetizer special tuna well decor nice make place nice one for special dinner others mention pricey with good tip for good service at 185 for two appetizer two side two steak one glass of wine hummm ',\n",
       " 'not stay at hotel but visit hotel shop beautiful place not crowded quiet peaceful love place hotel locate on strip on north end less crowd on north mall right across street hotel many high end store for shop lv cartier etc but regular mall across street with macy forever 21 etc gondola ride nice but short 19 95 person 10mins long stay in door out door with gondola hear out door well at night of light great overall experience wonderful restaurant awesome shop ',\n",
       " 'excellent service quality buy car car first oil change service professional definitely recommend place since buy car everything free for first time check receipt price decent compare to auto service centre ',\n",
       " 'out shop gross get hankering for mexican food border mx best rat option come up overall food pretty good chimichanga al pastor flag enchilladas guacamole chip although really slow come out despite not busy enchilada not hot missus expect would say drink include really good micheladas good guac excellent overall leave pretty happy yelp special churros nice touch not area in lot but definitely impress with authenticity lag temperature of food little off ',\n",
       " 'like thin greasy pizza alexander pizza good for 6 large pizza nice deal admit flavor marginally good caesar 5 pizza problem sparse cheese cardboard box pizza sit in literally soak wet from drench in oil alexander pizza also serve italian greek entree meal pizza disappoint but homemade ranch dressing out of world creamy thick nicely season to go with surprisingly fresh salad ranch dress really superb family run place seem nice not friendly bunch of people but tell honest work hard ',\n",
       " 'lovely food also happy to eat at location of paradise bakery fresh ingredient make good alteration ask for great for vegetarian well non vegetarian fact location in tempe marketplace make high difference enjoy outdoor seating in evening ',\n",
       " 'love little cake but owner bad enemy to business friend take go on cupcake tasting day say good product await grand finale walk in store not know owner until friend point out leave want to take look around nicely decorate but could clearly see person in charge slightly annoy want to browse before buy explain first time at store push to buy large cake explain not from scottsdale one person not go to buy large cake start talk bit could see employee sort of clam up idea go on choose little cake sort of customer service go out window money transaction occur not even say thank unusual for bakery business deal with customer upset quite frankly angry want to turn around return cake tell owner to keep money not rich passionate about bakery tour around in new town to support local business genuinely interested in hear about seasonal cake try to sell hear through local love cake but not owner in shop rude give two star like cake but service caustic could not justify score cut people off feedback receive from previous customer local friend say not build rapport with service worker always new person make wonder go on try to figure out stay in business but hear contract keep afloat to sell cake to prominent medical clinic love cake store creative but sense level of stress turn off economy one thing but in u customer service not take lightly probably seek out another nothing bundt cake for product but not return due to principle of rude service ',\n",
       " 'din at many vega buffet wynn paris mirage etc find underwhelmed everyone raf about bellagio buffet but keep wish go to wynn decor decent quality of food good but not much of assortment go for 4th of july brunch at around 11 30am sushi bar not open not single pasta dish slice of meat get fatty veiny drink take 20 minute to arrive say fruit fresh yummy melon berry etc dessert good but not enough to make want to come back ever ',\n",
       " 'two different experience with carpet monkey in instance person come to clean on time easy to get hold of company need to also call around 15 30 minute beforehand to let know on way great help since to drive 45 minute to meet nice know far price also quite good since request 4 room upstairs hallway stair downstairs bedroom first experience on 09 15 person come to clean mark not satisfy at with work not clean good 2 inch from wall around whole perimeter of house stair look bad before come soo many stain say come out still carpet extra crunchy after dry time try to mention something to would always get response for 28 30 year would not really listen to concern in normal situation would warrant instant 1 star review since choose company base on over 500 positive review picture seem great work get on 09 15 not anywhere near picture look like but instead of rush to yelp figure company not 500 plus good review for nothing call up around 09 20 really appreciate company commitment to customer call believe owner pick up remember correctly name rick tell everything happen cooperative about fact not satisfy at with mark work say send right hand man joe out quickly able to schedule for 09 22 communication easy with company on top of rick tell second visit would not of charge saturday come get phone call from isaac say on way great communication not worry much not joe at door like tell since isaac seem like know to in situation previous work not satisfactory let show not satisfied could see of stain not come out say go over area surprised since althought go over area with spot but go over everything over everything look lot well stair actually look like clean time isaac also go ahead riser not expect stain would not come out but mention to u overall work actually resemble of yelp picture carpet not nearly crunchy dry after isaac go over also put corner protector on wall appreciate something mark not first experience not good at but company quick to help resolve issue reiterate want customer to happy would whatever could to ensure alone earn praise from since show care enough to at least try make thing good second experience with isaac way well communication with company breeze thank isaac rick ',\n",
       " 'mike crew good job on backyard waterfall waterfall about 20 year old lot of crack leak water also part of palm tree grow out of stonework knowledgeable experienced prompt to minute felt good job with crew on site of time for job would highly recommend use ',\n",
       " 'food great price reasonable give nice amount of food for pay for ',\n",
       " 'new favorite restaurant in surprise not hard to surprise full of nasty chain restaurant but want to eat darn good vietnamese food place pho of type amaze even to go also try spring roll make sure wrap in lettuce with bit of mint texture bomb fool get little crowded around 6pm of sun city eats dinner around time show up around 7pm fine ',\n",
       " 'great steak great service cool venue alalthough die down bit place still always on radar for good food ',\n",
       " 'oh gosh bombbbbbbbb place amazing food incredible almost everything on menu milk shake happy hour every day between 3 p 5 p with half price milkshake first time go in tell first time give sample of of different sauce two favorite sweet heat creamy garlic staff incredibly friendly personable restaurant clean hand wash station pretty neat go check out not disappoint ',\n",
       " 'eat at pan asian about 15 time take several friend give 5 star food insanely good anyone give food less 5 star beyond food critic eat at hundred of restaurant pan asian up of one of time favorites anyone give place less 4 star beyond always go to negative nellys look for complain about give space decor 4 5 star small decor minimal but work miso soup massaman curry basil fry rice thai iced tea fav at moment wish eat right ',\n",
       " 'soup sandwich wow great ca not wait to return ',\n",
       " 'avoid company recommend in midst of overcharge 100 for nothing insist to prove not owe by go to inconveniently locate office wo not take letter fax rude on phone to to watch every month bill inaccurate overbilling u before not recommend ',\n",
       " 'to honest bit disappointed original philly but bland even need to add bit of salt to bring out flavor of red sauce note sauce not at spicy ill say ensure to keep food warm even for pick up thats nice cheese still hot at home also people really polite nice but not place ill try anytime soon ',\n",
       " 'dismal lukewarm defrost taste texmex glop mumbly unengaged waiter clueless manager see u with barely nibble entree on plate shove forward for pickup thank u perfunctorily for patronage from texas hill country down jail critter serve up grub bad for protection never never never back to yard house for real food ',\n",
       " 'thing find interest about place self tap table not sit at service horrible bloody mary disgust place sausage fest many guy also extremely disappointed by small dance floor know dierks bently sellout open bar in old town scottsdale place not true to country root at ',\n",
       " 'eat for friend birthday before see ka theater right next to restaurant in mgm grand great before after show restaurant reservation seat right away after check in with hostess restaurant open see bar kitchen casino floor order special night pappardelle pasta chunky tomato sauce shred lamb kale truffle infuse breadcrumb freshly shred parmesan tear between several item on menu but want special since in vega for weekend phenomenal rarely eat lamb delicious incredibly tender taste delicious sauce thick almost like tomato chunk but not even feel like eat tomato sauce balance of sauce meat kale absolutely perfect also moscow mule cocktail expensive decide to go for one alcohol others in group several cocktail extremely tasty additionally try bite of friend bite of spaghetti meatballs meatball melt in mouth sauce phenomenal linguini clam come in decadent white wine sauce with perfectly prepared clam french onion soup rich buttery taste phenomenal bring u chocolate cheesecake complimentary birthday dessert write happy birthday in raspberry sauce cheesecake chocolate drizzle on top edible pearl garnish plate waiter say always surprise to chef prepare for complimentary birthday dessert yes restaurant pricey alalthough not by vega standard but excellent meal receive spectacular service waiter take excellent care of u really funny make sure everything come out perfectly bussers constantly refill water ensure everything need incredibly unique delicious restaurant ',\n",
       " 'groupon decide to check out steak good server lack busy loud not bad but first time not familiar withthe menu of u steak salmon salmon come with side steak not wish server would tell u about menu ask wa not side server check in never offer anyone refill of drink felt like put out by groupon not want to deal with u prob wo not return ',\n",
       " 'best fried pickle in town great price fabulous friendly staff zero complaint ',\n",
       " 'last year on vacation great experience ultimately lead u to spend good amount of money get gorgeous pendant love salesperson tell pendant make of white gold not quite sure to believe but love pendant setting pearl of course problem try to wear pendant regularly find skin would rash wherever pendant would rest on skin rashes with low quality metal skin not rash with sterling silver white gold business claim to sell still love pendant but not know to suppose wear in for short period of time make sad really really like pendant ',\n",
       " 'great customer service lisa marie big help with decide need with many place to choose from great to find national level business treat like new neighbor ',\n",
       " 'first want to say group amazing time at encore beach but end up drop ton of cash read review carefully notice people best time usually one buy lily pad couch area 500 minimum for couch area by blackjack table but tell 100 worth bottle of vodka order food yummy one ugly thing about place although remove 1 star not allow oversized bag backpack force to check for 20 20 insane really piss off group at first cause 2 of u with big bag but at least let u put together for 20 total jerk sure good reason for not oversized bag but not tell u one mess up thing happen approach by promoter night before after leave x offer u free admission cabana for free like hell yes get to encore beach guy not around one would help u stick pay for spot pretty piss about but not let ruin time get over end up pay ok back to good about place people friendly everyone to good time talk to lot of people couple next to u on couch awesome overall sooooo much fun great music dancing in pool at area would not much fun not pay for space although suck up pay else stay at hotel pool also awesome at aria ',\n",
       " 'awesome smoke shop ca not say bad thing about place son dad really nice provide great customer service always come for hookah flavor coal continue to ',\n",
       " 'amaze burger combination of ingredient fantabulous difficult to favorite yes every item on menu ',\n",
       " 'ok buffet pricey something in neighborhood of 48 think but go to tix4tonight similar vendor buy voucher for 2 get into buffet for 33 change total of 35 10 saving bottle of ok wine 12 buck become really fun even complain food not prepare like 5 star restaurant but guess not 5 star restaurant decent buffet try little lot of everything fun lot cheap fancy chef name place in hotel oyster crab kind of fish shellfish lobster of lot of veges dish really like dessert selection but admittedly full of wine crab scallop oyster desert start look less attractive food critic say like restaurant fill up nightly for year year something real people like not forget to hit half price ticket place for discount voucher before go ',\n",
       " 'place serve consistently good americanize middle eastern food tuna lamb plate good flavor wo not blow away but about everything on menu tasty well prepared wait staff knowledgeable about food time waterworks location not liquor license but state wine store nearby bring bottle into restaurant ',\n",
       " 'bruh stickler for good wing like to point eat from about 4 place find place to usually inferior to one make with brother place grade dive dump small old need remodel but wing still great get crispy right service nice buffalo seem like standard combo of whirl frank someone mix in way exceed standard buffalo combo also enjoy dry cajun sirachi bit of miss although also get fry get small give many but man good in short take from wing expert bad review bunk base on customer bad service ',\n",
       " 'despite decor food amaze dad fajtas first night in scottsdale boy surprise waitress amaze tell u unique way to get to grand canyon not regret salsa amaze mom probably eat of ever go back hopefully go back for mexican on 2 15 2012 ',\n",
       " 'good tex mex food live close easy for good margarita decent service prefer local mexican place but place good closeby upset not get work discount anymore but return ',\n",
       " 'chip salsa fresh tasty could fill up on addictive love paco taco with braised beef charro bean many different tequila drink menu extensive impressive margarita unbelievable highly recommend ',\n",
       " 'not go especially not for full hour table massage never try chair massage ca not speak to but table massage not great experience spare detail but definitely not recommend place ',\n",
       " 'great location convenient to light rail apartment complex sea salt chocolate new favorite back for flavor ',\n",
       " 'go since summer glad discover jem joint beat sushi spot even although izakaya menu extensive faves obviously tsuki must try place grill squid cook to perfection also rare nowadays sashimi salad to die for tamaguro roll with red tuna tomato garlic sauce mean everything else iv try also delicious lunch box of great value place great ambience music service always consistent place good for quick lunch big party nice dinner simply spot to go to ca not wait to go back ',\n",
       " 'love love love kelly discover spot taste of scottsdale tour stop for dessert restaurant give feel of elegant irish pub pool table dart board put green huge patio in past always althought of kelly bar late night hang out not really thing but wrong menu look amaze award win four cut burger try next time dessert delish doughnut hole kelly twinkie excellent impressed with service greet right away eat dessert manager chef stop by to check on u impressed chef manager care much about experience service glad find new gem in old town scottsdale ca not wait to go back to kelly ',\n",
       " 'start come for first time today little shocked at price already sit down with two little one hungry not go to try look for another place to eat order fried pickle to start with wow could not believe size of thing shortly after get meal portion huge finally understood thing price way everything sooo good definitely eat ',\n",
       " 'in mesa for morning find gem greet with big smile friendly service almond latte really good like really good live in mesa regular for friendliness good coffee really nice environment busy but nice quiet feature seem bit rare in experience need coffee in mesa go to place ',\n",
       " 'debate about write review love cupcake excited store store inside mall cute staff amicable but not overly helpful ok cupcake look good but look not even for cupcake get lemon raspberry coconut well key lime cake pop try cake pop first gummy tasting neon green to key west never saw neon green key lime take bite out of coconut one cake per se not bad but frosting taste like oil not appetizing close little container try lemon raspberry guess spoil by cupcake in town neon yellow color for cake get citrus see picture cake taste like one from grocery store end up throw in garbage make sure to smoosh down in case miranda moment watch sex city get at least know wo not tempt at mall anymore guess thankful ',\n",
       " 'local favorite hole in wall serve home cook food not disappoint order two egg over easy with bacon rye toast food cook to order hot tasty bacon thick crisp flavorful like hop would waitstaff friendly take great care of u chat with everyone come in make feel at home one reminder go bring cash crest debit card take ',\n",
       " 'nine person group stop in experience glendale glitter celebration for dinner try to call ahead make reservation but inform not take reservation eat from 1980 forward to today familiar with menu layout not busy hostess get u right in let u pick out want want to sit menu felt abbreviate in relation to remember from year past maybe limited holiday menu anyway food good but nothing pop get feel chip come out of big bag not warm hot salsa ok but little thin nothing on menu could not find at generic mexican style restaurant overall meal good price reasonable but hop to show place off sort of let down live music guitar player singer not bad would return yes for quick lunch but really think place perform potential ',\n",
       " 'impressed jim from dodge plumbing come out today present rational logical argument for company not take money to convert over to electric tank less water heater due to out current logistics electrical set up instead forgo stick with gas system to save u money although could go along with estimate soak u for money nice to get honest feedback jim seem to great deal of varied construction experience to give ',\n",
       " '3 5 patio great spacious selection of beer menu also great come of sophisticated menu variety order steak tartare okay but steak tartare right before skip use chicken egg yolk tartare not season enough leave to desire salmon quinoa bloat duck fry quite good large portion in term of fruity beer not like friend cherry beer remind of medicine taste but peach beer quite interesting bitter althought seating with half booth half stool bit weird apparently back not like backless chair either way would come back want beer in less rowdy bar with interesting menu for food ',\n",
       " 'resident of mountain edge obvious miss necessity trader joe even settle for sprouts costco nice big gym but place bark dog place buy dog phoebe food get groomed phoebs even on first name basis in local gem staff knowledgeable about thing dog love baby much love literally less mile from casa yes pup lucky even spoil with location jealous jealous ',\n",
       " 'pastry pretty good but iced coffee terrible taste liked iced tea iced coffee to make comparison but much well iced tea even hate to say love local coffee shop but ca not recommend coffee hope food well ',\n",
       " 'guarantee leave with full happy tummy not good great customer service amaze ca not beat complementary bean dip salsa food always fresh never disappointing fajitas always good choice order fresh guac prepare at table like dinner show definitely back whenever in town ',\n",
       " 'recently visit pieology for first time with friend recently really pleased with selection taste of pie for set price pick crust base sauce topping regardless of amount variety pizza make to order place in oven for maybe 5 10 minute gluten free option well for need overall to say fan of pieology return in future staff friendly efficient relatively quiet late afternoon wait negligible check out ',\n",
       " 'good protein omlete flavorful food staff friendly go back try of dish ',\n",
       " 'troy recessed lighting back in january amazing job home struggle since ceiling about 16 17ft high get job fast easy beautiful great experience ',\n",
       " 'delicious oatmeal raisin cookie cute little spot decor nice little place to sit chat over coffee lunch ',\n",
       " 'after spontaneous visit to piccadilly sell on artisan organic froyo with vegan option skeptical hold out for long on visit but pleased with overall experience decor trendy interest cleveland centric offer great vegan option group enter store warmly welcome give explanation of everything work per ounce froyo place with lot of possibility choose artisan organic tart yogurt vegan blueberry mmm one thing to note vegan make with coconut milk not creamy melt bit quicker not use to vegan thing yum lot of top option along with organic mochi ton of fruit also nutella flavor bubble usually go with mochi fruit with froyo of fresh turn out to bit pricy but willing to pay for whole thing from froyo to overall experience ',\n",
       " 'place best friend get takeout from time great exercise total indecision right up to choose food sooooooo many choice thai vietnamese chinese sushi tottie delicious sugar cane chicken pho pad thai in mood for price pretty reasonable portion decent not overwhelm but everything flavorful distinctive ',\n",
       " 'way overrate owner manager seriously lousy attitude overprice for sure bumper place to go for crab legs not mushy like pickle bill river right outside place feel justify increased pricing ',\n",
       " 'food pretty good but price high waitress great job until ask need change ',\n",
       " 'book session decide to also use coupon for free easter collage girl tell would take 45 min to print show up 45min later guess issue format to print out correctly hour half total spent wait guy keep say wait give free print already wait hour half along with session time five month old not go to deal with much longer not travel to chandler often live 30min from location tell need to mail to leave furious never update area manager contact miss photo mail also one of frame for ',\n",
       " 'holy make fresh at table guacamole heart skip beat think about tex mex fine dining at finest also important note one of top five place to drink house margarita ',\n",
       " 'long time fan of chick fil not walk in expect to compare two but order sit down serve could not help service good not well at cfa sauce well chicken everything clean thoroughly impressed would like sandwich option think next time get chicken strip end up eating chicken off pimento crunch sandwich impressed ',\n",
       " 'come on whim to try out with fiancée not impress at order street corn queso super lacking on flavor also pull large chunk of butter from try to save little with sauce tray even add salsa to still not sonoran dog look like from previous day typical dry wrinkle snap day old dog brioche bun soggy from much butter taco cold could not even finish meal salsa highlight of lunch also watch server shatter glass over ice well proceed to use ice glass break into to serve customer never return ',\n",
       " 'disappoint price expensive for food quality first of green tea red bean ice cream on menu ice cream bar one per person on menu not say limit secondly way much rice on sushi guess thats make money lastly ipad service stupid to wait for someone to confirm overall not good reataurant for sushi ',\n",
       " 'great food try chop huge friendly service down home atmosphere ',\n",
       " 'hair in food drink multiple time to send out food drink back 3 different time about 10 deep in out party 2 booth seat directly next to one table order chicken taco minute server sit plate down notice hair in take right back one of margarita come out immediately after long strain of hair float on top server take right away apologize table order nachos guess hair stick in queso time server stand wait until look over nacho notice hair say wow guy see not hair short brown cut with cap on return nacho decide not to order anything else never return ',\n",
       " 'worry about therapist but not customer go on for awhile one time miss forget about appointment charge 60 say least charge normally full price of service important not to miss appointment not give automated text reminder within 1 2 hour of appointment like place ',\n",
       " 'important thing for restaurant food safety clean see get from dish bug maybe still forgivable but cockroach mean restaurant really dirty nasty not take kitchen clean job seriously ',\n",
       " 'wife participate in walk decide perfect opportunity to give famous river cafe try beautiful spot great ambience greet by couple friendly hostess show to indoor table patio full get great spot by window open great compromise experience menu not lot of lunch option brunch focus of day one offer somewhat difficult to figure out frustrate order bison burger wife flatbread food come quickly enough not busy but go awry bison burger small but could not finish strange flavour to make sicken after potato salad accompany good flat bread not good must something wrong with sweet but pungent smell taste to not one to complain but server finally return quality check not see until with place wife mention little weird server concur something seem off promptly take item off bill appreciate but also expect not edible overall glad go wonder about place but would hesitant to go back ',\n",
       " 'even although not much luck at location over year still stop by at mall still longtime fan of brand since high school mind still optimistic look at black wool boucle motorcycle jacket on sale for 49 99 regular price 89 99 try on today fit like dream husband say enough jacket although but still debate after need to shop for next trip to hawaii next month comfy shoe on top of list pretty active on vacation walking everyday thing for u layout of store recently change woman clearance section on far right of store near dressing room rest of markdowns really not impressive jean mark down to 49 99 generally not buy jean at price see search for best deal still pretty high for sure still stop in although in future due to optimism love for brand ',\n",
       " 'best barbecue side of mississippi come car wash detail pick up petroleum slap lip around best barbecue in arizona hot diggity ',\n",
       " 'great fresh food filet mignon asparagus quick friendly service warm atmosphere reason for 5 star rating busy for 9pm on tuesday night local love bar area good for din tv with baseball playoff good for entertainment ',\n",
       " 'first bike jt helpful along with staff friendly really take time to help find need for really long time but never get feeling annoyance really take go out of way to make sure get answer to make informed decision but would highly recommend come ',\n",
       " 'check place out for dinner during race week alllright order thunder thigh sound like buffalo wing make w chicken thigh but end up w regular wing not sure get wrong order call thighs wing either way disappoint but wing pretty decent after get over sadness at table chicken sandwich sausage pepper hoagie pork chop chicken report good not mine pork ok but not out of world sausage messy but good marinara sauce on unexpected mac cheese little greasy but pretty good for biker bar label saw about 2 bikers rest of crowd regular peep girl wear skimpy outfit not family place for sure ok but not die to go back right away ',\n",
       " 'to whomever lucki thai lucki actually spell with sheesh embarrassing beyond yes realize intentional misspelling of name of restaurant lucki thai not miss on many mark for opportuniti to dine in get carri out order deliveri stop from lucki on many occasion in last month tell matter method decide to go with for thai food fix wo not disappoint first time lucki din in tom yum soup with shrimp crab fry rice tom yum soup consistently good know since staple of every single order make with lucki since always hot with perfect combination of sour spicy load with mushroom ample amount of shrimp large order feed 2 perfectly crab fried rice not something tend to order but lucki version definitely pack lot of crab flavor also not shy with egg on rice egg slut like anthony bourdain please mix of delivery take out many time since every time delivery at house by promised time usually well before food almost always ready to go arrive for carry out order of item order time curry phenomenal spicy eggplant entree wish could explain make eggplant stand out over place similar dish but usually gobble up fast time for to remember particular about dish absolutely delectable also huge fan of brown rice option even although 2 extra lucki brown rice one of in city feel worth whatever upcharge want for pretty sure not brown rice but mix of wild brown rice also really like rad na although laziness know bound in felt like lot of work eat truly shameful order not completely thrill with far beef pad see ewe flavor nice but beef tough chewy simple misstep forgive to admit almost give 4 star instead of 5 for thing get on nerve bit with lucki thai thus far spice consistency start by order level 6 7 normal go to at thai joint but not find spicy enough settle on 8 at place would feel like burn hole in esophagus with swallow get delivery week ago order 8 literally zero spice actually might get into negative quite frustrating suspect move into 9 10 category chef stop even pay attention probably dump whole barrel of ghost chile into pan next move but alas service food simply good even with inconsistenci sorry could not resist ',\n",
       " 'food great walk in one dark haired guy greet u say first time in to say nothing order 3 salad 4 meatball one cheesy bread one order of 4 canolis to go order take about 25 min to fill sit at old card table appear to in need of replacement two chair grab another for third person leave room for two table with one chair use restroom not clean at alalthough tp provide guy take order prepare food another customer come in stand probably five min for guy make food to come out give order customer leave one come out to get order finally get food bring out in plastic to go container salad delicious in spite of dry chicken dressing in small individual serving to open meatball fantastic moist best cheesy bread also delicious dining room small think gear towards pick up take out mostly not enjoyable environment for dinner great food although would get takeout eat in like real plate silverware also nice to get appetizer before main course instead of after food good one star for din room experience ',\n",
       " 'yum could eat every day favorite special burro second would to two taco beef chicken delicious affordable quick take tortilla home for later ',\n",
       " 'one of best hole in wall spot to in year fresh home make tortilla great steak people amaze come with party of 10 ppl food fast delicious prefer perfect definitely back ',\n",
       " 'wow great sub of fantastic especially like rosemary bun staff alway great up beat positive attitude perfect for quick lunch ',\n",
       " 'send to vision source south hill for second opinion enjoy appointment with dr strain find to knowledgable attentive but incredibly displease with treat by staff go through vision insurance with staff member assume information add to file call month later to order contact tell could not pay for contact come pick up need to pay for over phone never pay for contact before pick up before but figure not big deal difference between office get statement for order realize charge full amount not run anything through insurance company call back meet with answer say would call back later never call back finally learn vision insurance never add to file after go through information second time assure would file claim with insurance company would receive check soon never in back forth anyone from staff apologize recognize make mistake in fact everyone talk to seem agitated to reprocess claim month later receive refund along with updated billing statement amongst revise patient insurance payment statement describe revision necessary read patient originally not say to use insurance pay in full for contact decide day later would like u to bill vsp refund remain balance first medical establishment come in contact with require to advise of desire to use medical insurance professional medical establishment run benefit check inform customer of cost prior to perform service feel dr strain highly qualified ophthalmologist exceedingly disappoint in professionalism efficiency of office staff at point not see return in future ',\n",
       " 'cleveland breakfast many time perfect every time best egg sausage breakfast in town not know but scramble egg best ever try to duplicate at home without success get thing every time go scramble egg with sausage potato toast with side of guinness yum ',\n",
       " 'alway stop in town amazing fresh food really good price friendly service drink menu good variety well ',\n",
       " 'from la look for awesome cut in vega get from favio take time give exactly want definitely back ',\n",
       " 'awesome guy soooo hot nice host london amaze at mic get crowd excite highly recommend place ',\n",
       " 'drop by in hope of find atkinson peanut butter bar first try from honey salt candy bowl after search minute find also bum store not carry peanut butter twix anymore but happy also find at rocket fizz on way out wifey grab rc cola try key lime pie soda pretty good search for candy soda pop grow up with longer find good chance find later would bring back bubble gum flavor taffy tidal wave gum come back to life green apple favorite aloha yelp 100 challenge 2013 3 100 retro return ',\n",
       " 'two thumb up pho soup banh minhs sandwich to die for not to mention chinese food choice place hole in wall but food choice awesome locate 5 mile from airport traffic parking not problem either staff courteous get order right ',\n",
       " 'draft beer selection great tapas style menu perfect match upstairs great after work gathering place but best thing about place bartender name siti sp one of best in charlotte ',\n",
       " 'excellent ramen one of best restaurant in charlotte small area limited seating arrive early ready to wait recommend bowls sake flight sure to get green tea ice cream ',\n",
       " 'go to see exhibit killer heel greatly surprise shoe breathtaking for real show lover like everything from classic pravda to crazy lady gaga shoe great girls day on hot day ',\n",
       " 'fresh quality sashimi great lunch time price try for lunch fan quality japanese restaurant in city but amaze even although korean great value for money great decor swift service ',\n",
       " 'great ambience decor food delicious pan fry fish street side indian noodle hongkong chicken name to start with ',\n",
       " 'ice cream ok to pricey bought two cone charge 20 00 for cone one scoop first likely last time place with great flavor reasonable price ',\n",
       " 'after living in tempe for several month not find nail salon go on yelp find nancy review look pretty good decide to give try like of review mention salon not look like much from outside but on inside everything great facility clean but make difference for fact staff friendly welcome of technician talk with client even friendly group conversation between everyone in salon comfortable of lady in during appointment regular client nothing but good thing to say about place after learn first time loyal clientele always good sign johnny acrylic nail full set totally in love with great job also really personable another awesome thing about salon offer 5 discount to anyone pay in cash 5 not lot but still pretty cool little perk definitely return ',\n",
       " 'one of favorite breakfast place to go to with high school son love food love good breakfast joint ',\n",
       " 'husband order wed cake saw beautiful white 3 tiered pyramid shaped cake in really big julia robert movie really want one go in to baker wee to see could make owner not tell by manager lady speak to one make cake anyway saw movie know exactly cake ask for even make 2d drawing of write down note take order say rent movie take one look at before make fast forward to wed day arrive at restaurant dinner reception for first time get to see cake wow almost faint include picture way to describe ugly original agreement in size 12 x 12 square 10 12 tall like say pyramid get 8 square base next layer 6 base top layer 4 base whole cake 2 foot tall look like chinese pagoda layer on 4 tall stick best part airbrush with brown color like marble brown 1 2 diameter ball on top turn out owner never see movie apparently pyramid before end up make cake never call u manager lady with question try to figure out from note understanding of embarrassed night everyone keep ask cake suppose to keep say snow white pyramid next morning drive down to bakery furious say not refund 300 spend on work on day best say sorry basic cake 30 value for free get cake week later for birthday never ever return to baker wee sad greatly impact special day demand refund but give up on argue back fourth not change anything after not want money want cake anyway would not recommend last bakery would rather make homemade cake also wish way to choose 0 star on on ',\n",
       " 'go to itech custom for quick quote on iphone6s screen front camera crack itech fix for 75 sprint go to charge over 150 thank definitely back for issue with phone repair extremely happy impressed recommend itech custom to of friend ',\n",
       " 'choose place to split lunch excellent choice waiter enthusiast funny good beer selection mostly bottle refresh after much walking blt fry green tomato appetizer must split blue plate for meal watermelon tasty chicken well chicken not anything special for but by mean fried chicken expert downfall restaurant bit dark for lunch ',\n",
       " 'enjoy nee house immensely service issue fantastic chinese food food order spicy green bean perfect chow fun chicken perfect great place perhaps expectation set by bad service review but not disappointed ',\n",
       " 'in town for convention look for something away from strip find place on yelp not disappointed mango margarita tasty shrimp tacos waiter mistakenly bring fish taco actually quite good well apologetic point out replace quickly possible ',\n",
       " '30 minute wait but play foosball sow to pass time brisket nacho really good bacon mac n cheese burger good but not great motley cue sandwich rally good lot of mean could probably split between 2 people wing cut presentation staff eh mean place busy time to friendly to damn tourist ca not say blame neat experience def worth trip next time def try desert time full ',\n",
       " 'get chance to check out spot catch up with business contact for coffee gentleman work morning patient in explain offering coffee smooth need bit of almond milk kudos to cafe for available option pleasure of enjoy croissant right amount of flakiness big expect atmosphere casual lay back look forward to try place out later in day ',\n",
       " 'use honest air for second time year certainly live up to name first time in heat of summer water start drip from ceiling home warranty say would four day saturday husband out of town elderly parent stay with before anyone could out to service home immediately look up local company call honest air at 3 30pm on saturday someone out to house by 4pm gentleman show up instantly able to locate problem solution terrible install design by home builder dad actually able to make repair with technician direction service charge reasonable relieve to able to continue use ac call out today to check system vent not blow equally throughout house result in hot spot cool spot technician come out look at system of issue due to cheaply make house back in 1999 spend about 20 minute teach u to good air flow utilize vent in house wisely kind respectful clean whenever need ac furnace repair replace even check up on always use honest air ',\n",
       " 'gorgeous hotel felt like vip definitely next best thing to real venice in opinion lot of pool to choose from great casino convenient location close to everything would definitely go ',\n",
       " 'yes good get in way of pinball machine parent much fun cross one off bucket list plus get to take walk down memory lane look at machine love machine tell history year etc keep up good work pinballers ',\n",
       " 'besides walmart ghetto inconsistent charge about 15 16 dollar on oil change ',\n",
       " 'come for lunch 16 99 per person include drink huge selection flavorful not typical buffet great place ',\n",
       " 'schedule spa day for on vacation beautiful cozy robe access to steam room sauna jacuzzi enjoy hot stone massage with aromatherapy foot soak from begin to end wonderfully relax able to also use nice shower to finish visit highly recommend ',\n",
       " 'always greet everyone with smile enter even super busy excellent customer service never problem come to store highly recommend go see mitch go above beyond ',\n",
       " 'terrible gym ceiling in men shower room fall apart sauna not work properly for 6 month change room freeze cold in winter management could care less stay away from good life ',\n",
       " 'not deserve star from out of state check engine light come on to get back on road today not appt not like know need to get oil change mazda sorry try to work in but not fair to customer about appease customer about to get on road to find out wrong safely drive home not know check engine light go to come on understand about appt but gee ca not see issue may drive ',\n",
       " 'venetian beautiful hotel many cool fun thing to see get suite room huge reason for 4 room service food not great item leave from previous guest in room tell room service not thorough job ',\n",
       " 'after agonize over to one upscale meal in montreal decide on chez l epicier glad tasting menu wine pairing note 2 course not come pair journey include savory macaroon amuse bouche gazpacho gnocci cod goose foix gras taste small but hearty with delicious inventive sauce wine great run gamut of classic french wine well pair service perfectly pace with server prepping next course pour wine another server serving explain dish able to get day reservation on monday night space about 3 4 full meal take 2 5 hour due to numerous tasting relaxed pace decor modern chic bar area to bite drink dress code not feel out of place not in jacket but recommend make dress up night ',\n",
       " 'surprised happy about find store not seem promise from outside but best selection of dress awesome service definitely know business helpful in quest to find perfect dress 9 month later 3 day prior to wedding go to final fitting to discover seamstress alteration make dress tight something suppose to simple fix end up mess dress with 2 day leave mean not enough time to fix anything customer service good manager lady not really helpful definitely low opinion about store selection of dress carry good service amaze get business follow ups fitting alteration book monday to thursday customer service experience quite bad ',\n",
       " 'to chuchai 5 time trust on get sticky rice crispy duck would give 5 star but last time food arrive cold ask to reheat come back to table cold second time patio great people watch spot in summer plus bring wine help keep cost down see tad overprice ',\n",
       " 'love place admit stick on old fashioned turkey sandwich with cranberry sauce real fresh roast turkey think roast daily but not sure on great wheat bread sauce bit of bite compliment sandwich well huge help of turkey setting in old pecan grove with mature tree grass relaxed kind of place to enjoy phoenix weather food with close during summer ca not wait for to open back up in fall perfect end but desert hommade terrific ca not get past pecan pie perhaps best in phoenix crust right flaky load with pecan hungry write review ',\n",
       " 'love saver deal great staff positive good quality not see much of anything with stain etc on everyone great attitude clean make special trip to vegas past weekend from la hit local saver include one in henderson almost 600 late deal with adhesive for four pair of boot 10 pair of shoe saver deserves five star adhesive on back of price tag hard to remove frustration level palpable put on inside of shoe bottom try to remove leave gooey residue but fun slip on pair of shoe in warm weather foot sweaty ignore schmuck sound lift up foot to walk due to stick to shoe not feel good put price tag directly on leather not stick leather breathes synthetic material use for inside of shoe adhesive really thing lead to frustration still love store anyway but would great help not frustrating ',\n",
       " 'not hilton but clean comfortable safe choose to stay simply close to client office every hotel double rate due to spring training by baseball team look much well on inside outside at first little concerned but place tight security large balcony stay for several day find motel to exceptionally clean owner operator friendly room comfortable balcony chair to sit outside but bring one out from room great water pressure close to downtown could walk to restaurant not to pay for park old tv but good selection of cable tv microwave small frig internet free high speed added bonus for price range ca not beat would stay one of best frills motel in two block away high price hotel happy could save buck ',\n",
       " 'not normally like to but to after terrible experience centurylink bad customer service ever experience two week ago put in order tech schedule to come in yesterday nobody show up nobody call to reschedule today call on phone for almost two hour transfer to four people tell to reschedule for thursday nothing could to help early even talk to supervisor bad supervisor ever deal with two hour later to wait until thursday nobody apologize nobody seem to care tell not come thursday cancel service go with cox also whole time on site talk with live customer service rep online try to figure out but tell could not anything today bad company award go to centurylink ',\n",
       " 'bad starbucks ever wait time always crazy matter time one person work always out of baked good in particular cake pop like would not suggest starbucks to stop into unless absolutely nothing to nowhere to wait ',\n",
       " 'food ok nothing special taste like frozen food chicken breast over veggie son southwest wrap think best part sauce use smoothie concentrated mix real fruit not cup tea family run joint fine but find out family operate not fine scene husband wife argue about daily duty cant keep every day along with wife grill pun intend daughter about let dog out homework on not eves drop stand 10 foot away from table hard not to hear leave stuff at home nobody want to hear ',\n",
       " 'admit not try italian restaurant in toronto but of one try ciao place go to multiple time let count way 1 reserve table always ready 2 amazing service 3 fabulous wine selection 4 patio feel european in summer 5 portion huge 6 quality taste of food amaze 7 in yorkville perfect locale for quaint after dinner walk 8 olive with bread delish feel like probably lot reason but also feel like enough to make want to check out for ps sure to order mushroom risotto divine ',\n",
       " 'wonderful person talented piercer awesome job professional highly recommend ',\n",
       " 'good price huge pancake available place bit breakfast diner ish fine since breakfast diner probelm server seem little impatient service fine but could use little friendliness anyways place nothing special but in area try out get exactly expect walk in big surprise derek ',\n",
       " 'skeptical about great review after take car into shop wo not take car anywhere else in phoenix area crawford auto repair extremely thorough pinpoint noise to three contribute factor rock in tire roof rack bolt something in sun roof love detail orient guy give list of recommended repair not push overall experience great find easy to schedule appointment respect fact honor estimated time frame love communicative highly recommended ',\n",
       " 'wo not go back food at best mediocre in flavor texture eat shrimp blindfold would not able to tell shrimp place use to great chinese food but apparently not ',\n",
       " 'rude staff slow little to communication between team grumpy short response from multiple staff keep get order wrong nerve to argue with lady about cause line to go slow not argue make right starbucks nyny disappointing today would not recommend come back to one ',\n",
       " 'hidden gem decor bit dated but pizza awesome from chicago pizza king pizzafarros favorite in scottsdale ',\n",
       " 'reservation walk in pointless to make reservation make reservation day before for 11 00am next day morning arrive not serve but ask to wait pointless for reservation at time still take walk in people reservation under queue with walk in after 30min ask much long wait lady answer idea not know avoid restaurant ',\n",
       " 'amazing collection of incense salesman really kind good knowledge about incense help choose sandalwood look for give extra stick for free definitely go back next time visit toronto ',\n",
       " 'first important thing need to know place not family friendly leave kid at home certainly not welcome allow inside but make sure leave kind of expression of joy at door before enter second thing to know indoor voice whisper excitement guarantee wo not ask to leave yes pinball arcade but museum pinball hall of fame third last thing think to know not to expect favorable employee characteristic at least not from guy with gray ponytail especially not from actually maybe avoid contact with possible understand 3 essential thing sure to enjoy time with row of pinball machine plenty to check out variety not lack certainly stretch 10 20 into good couple hour worth of play duck hunt big tease never in work order ',\n",
       " 'not expect to order sweet sour anything place bit authentic average canuck might like also tuck away off davis drive off harry walker way to find to look behind hotel noodle dish great pad thai less sweet interesting usual portion bit on small side but din room back time far wo not last time room to grow on rating let clear food taste much good mandarin but less mainstream late chitose newmarket desolate in good chinese food category cambodian noodle king go to ca not justify drive to markham ',\n",
       " 'come weekly to volunteer for backpack program not aware of program three square provide backpack of food for hungry kid enrol in school lunch program in order to give food for weekend really great program serve approximately 7000 kid in multiple school county in nevada admit backpack mostly full of stuff never eat give kid chocolate milk frost flake vienna sausage etc still think worthwhile program proud to one of people help stuff pack with food get out to hungry kid ',\n",
       " 'first time visit sabor today say absolute spectacular culinary experience latin street food fresh tasty empanadas perfectly cook juicy not dry at street corn favorite of mine best far highly recommend shrimp steak taco soft great flavor order sliced avocado creamy cold quacamole together with rosa sauce fresh lime on side make for meal level above pay for expect love many choice to choose from to make up meal satisfy food craving preference might fresh clean on top of staff friendly helpful joy kid love perfect little addition to davidson well definitely see u become regular ',\n",
       " 'tonkatsu ramen with black garlic oil nori extra tamago amaze definitely add black garlic oil must everything prepared fresh from scratch definitely worth come back to customer service excellent truly love experience chef super helpful really care about customer simple place with small menu but ramen delicious noodle freshly make well pork soft boil egg perfectly make not overly season would recommend come ',\n",
       " 'ok place u right from start wife finish run marathon extremely cold see shiver waiter bring cup of homemade chicken vegetable soup on house day service really great from start to finish food excellent standard fare for grill but tell prepare really care la wrap wife soup really good make fresh homemade soup every day back give try ',\n",
       " 'service always sweet nothing spectacular happen with food make place cheery comfort not easy for space work with good casual spot for drink munchies in cute neighborhood but nothing to write home about on normal day ',\n",
       " 'coffee pretty gross cappuccino barely foamy coffee kind of rancidly bitter ',\n",
       " '10 time time service excellent slow down little since grand opening like place to allow to improve continue to frequent convenient location quality of food still great nothing hidden about prepare wait in line to order view openly prepare food know clean up to standard complaint ',\n",
       " 'frybread good but not enough substance get water down bean hardly ground beef mostly lettuce ',\n",
       " 'never bad experience delivery pickup whatever food always turn out good for yesterday save grace papa john let down severely pizza hut quote hour ish wait time fine know about not promise 30 40 minute end up over hour like pj at house with pip hot delicous pizza in about 25 minute love ',\n",
       " 'yes good get dr dameron team make go to dentist actually really good experience whole staff professional kind accommodate not to mention happy hygienist best staff dr dameron work beautifully teeth never look felt well highly recommend whole office to anyone need work not disappoint ',\n",
       " '3 laser tattoo removal before come know get honestly not even go over way with laser quite bit of tattoo untouched go somewhere else for remainder not worth pain not even go to make difference ',\n",
       " 'pleased with visit yesterday staff friendly get drink out fast not sure want but help by young lady name bella really take time to listen know want even continue to talk with after buy coffee employee really make day continue to come back to location ',\n",
       " 'say unsalted edemame not expect appreciate friend live in japan say unsalted default but not way prefer crab leg not great either but crab leg not bring to buffet opportunity to eat irresponsible amount of sushi able to complain about on internet ask to exercise even bit of discretion not interrupt unrestrained gluttony appreciate at time but wonder sleep at night watch gastronomic self destruction shift after shift althought sushi pretty good go in afternoon pay dinner buffet price on weekend selection pretty good every time return stuff really surprise sashimi well cut good variety of sashimi one strong but dont remember maybe hamachi roll roll well for freshness think hamachi maybe off sure depend on go tip guy work buffet well server althought good enough to warrant service friendly althought weird drink come in massive beer stein not exactly mesh with contemporary asian fusion decor classy understated group think somebody birthday engagement something clear good place for group of people to go want to eat lot of sushi want to go to restaurant with variety of asian dish plus lot of sushi not expensive good choice wish not in bumblefuck south kankakee hope location not deep six place but back ',\n",
       " 'square play host to many thing throughout warm weather month staple for live right downtown favourite thing about fountain in summer free movie night at sunset byochair but sometimes square best nothing go on instead big empty space available for time out away from crowd right across way at eaton centre ',\n",
       " 'locate at venetian hotel in las vega great service fast slow depend on busy order beef broccoli chicken chow mein soft noodle small wonton soup not like green bell pepper in chow mein next time order without today order noodle soup with chicken vegetable definitely hit spot add soy sauce chili for flavor one of favorite chinese restaurant ',\n",
       " 'never problem at one until today guess to busy to care about quality of food order regular asiago ranch spicy chicken sandwich get food at window always quality check matter look at sandwich honey mustard on last time check honey mustard ranch two different thing send back girl make come to window argue make correctly say asiago ranch not yellow not taste like honey mustard say know make right say ok well not want take back bring another one time regular chicken sandwich with ranch packet yeah pay 7 dollar for ranch packet with chicken sandwich sweet girl right nasty attitude to boot take into store time manager show ranch in bottle suppose to on sandwich remake wow imagine someone new to make without attitude still disappointed money money matter spend at expect to get ask for with money not something feel like free styling ',\n",
       " 'mother birthday party on 10 29 16 great time food music waiter great thanks lyles ',\n",
       " 'love place great to neighborhood center with good food great coffee patio great year long ',\n",
       " 'shaunz sell unique shirt ever come across staff quality of clothing selection incredible thank shaunz for sell shirt online ',\n",
       " 'highly recommend spa asian foot massage spa dime dozen out but one professional clean overall pleasant place to get massage out of towner take evening off main strip take cab out to chinatown strip get foot massage dinner tea downstairs visit shop on part of town ',\n",
       " 'treat to lunch even for free lunch not satisfy first french onion soup little flavor almost water down cheese overcook clump bread bread in soup short rib for entree rib extremely dry overcook portion small meat inedible not even finish meal flavor infuse sauce cook onto meat flavor from meat extremely disappointed guess garner majority of business from out of towner stay in hotel connect to definitely not in lunch rotation downtown ',\n",
       " 'love ny city pizza pie excellent rendition of share portion of ny in desert ',\n",
       " 'appreciate staff clean facility responsiveness to maintenance request utlized gym access to wi fi in office with issue ',\n",
       " 'little pricey but worth crepe delicious get seafood chicken pesto really cute back area service good would come back ',\n",
       " 'search for close shipping center near find safe ship to honest choose business primarily of high rating to ship two extra large package to hawaii want tracking arrival signature but not want to pay arm leg for ben of great help get best deal possible with package specific weight dimension could not happy with experience highly recommend safe ship to anyone ',\n",
       " 'husband bring for 2nd year anniversary love ambience of place include music environment food amaze order truffle fry great order spicy seafood pasta husband order amazing chicken rice au gratin cocktail awesome great night service fast waiter pleasant to talk to not pricey either surprise give amazing service definite go ',\n",
       " 'two thing like eat drinking gastropubs really let at time well already on good footing with gaspar nice place inside cozy warm feeling with dim but not dim interior expose brick wood tip get in either on rue de la commune rue saint paul through hotel to attach time come sat at bar receive excellent friendly service first time monday evening dead late november cold outside bbq bourbon bacon burger lot of b cook like not ask want not think to specify stupid still taste good cook bit less could top 20 burger for also sub fry out for cheesy mash tater extra charge yummy oh pint of beer beery good second visit thursday night place much hopping live music drink special generally good vibe in place steak frites cook to medium specify ask time good although not exceptional fry aka frites good highlight of meal believe not pea soup good almost lick bowl finish bet order next time oh house beer two 6 pint bet back probably soon ',\n",
       " 'fan of pita jungle since asu day live down street from apache location live in arcadia area one frequent not notice huge difference between two location great food stone server usual portabello burger balsamic marinade use fantastic presentation little messy but hit lip good pas on new potato for steamed spinach pretty amaze everyone know hummus rock love let split up small order between roast bell pepper jalapeno cilantro like little hummus sampler for less 5 service spotty especially come to drink refill but surprisingly never order come out incorrectly normally would not surprise by standard service expectation consistently fulfil but baked server fact remember steamed spinach substitution every time kind of impressive good job stone server maybe work on drink thing although ',\n",
       " 'nothing bad in true amazing bagel bakery section always love sandwich omelet good remember use to in sun coast hotel amazing sugar free dessert not know make anymore sad but go good ',\n",
       " 'to come today son want falafel ball for dinner go to costco walmart nobody carry hate customer service but love product today at checkout not get hello but get thankyou nice day maybe thing start to look up need to never anybody in store probably busy on saturday today 3 checkout open not queue at ',\n",
       " 'arrive for reservation at 7 15pm seat u right on time resturant fairly loud at first but family dinner croed clear out at 7 30pm quiet down food service outstanding at reasonable price highly recommend mimi late dinner ',\n",
       " 'overprice for get skirt steak stringy tough much good meal at mad mex server extremely impersonal rush out not return ',\n",
       " 'dr bang by far best chiropractor ever to chiropractor crack joint call day but dr bang believe chiropractic not about crack bone find movement alignment through stimulation heat therapy electricity couple device actually not start adjust joint until 4th visit every session feel lot well run facility by come in personable experience around highly recommend ',\n",
       " 'restaurant gem service spectacular food terrific base on yelp review order traditional greek salad absolutely fantastic light dress huge size totally delicious strongly suggest go live entertainment beyond expectation treat like value guest try spanokopita delicious belly dance live music with incredible singer delight ',\n",
       " 'see packhouse not packed house see already not really thrill about come to joint check review not really poppin look at pic not enough of menu look okay but always down for something new different homie eager to check place out not welp not good friend order packhouse burger ca not burger right something seriously wrong wrong not but twice homie decides to get thing not want tomato jam allergic to tomato want cook medium well want tomato jam meat to cook medium follow far ask for mac cheese side side note not fry not even sweet potato fry like forreal tho anyway bring out homies burger friend dish bring out food last ton of mustard on burger literally taste mustard kill meat like cow not dead before cook make sure kill grill after bite notice not tomato jam come to find out switch homies burger alalthough meat well dry well homie break out tomato allergy over burger nice enough to comp burger ask want new one good with also say would give u free dessert okaaaay new burger come out get topping right chef not enthusiastic with mustard second go round but meat still dry over cooked sigh whatever could not finish burger like meat choke hazard mac cheese aight love gouda but not hittin ah well homie say crab cake juicy not get much else from meal but say place 2 star worthy well also get complimentary bread butter after get food homie to ask for bread butter strange not need at point dessert forget to take pic actually really good hummingbird cake moist not sweet not like nut but several bite anyway cause flavor really good oatmeal cream pie cookie joint pretty good but not fan of nut thick creamy ice but anyone down for would love service top notch give 20 of bill would ca not fault staff but sorry guy food need work location setup dope vibe chill everyone really attentive nice work on food see place get pack with quickness ',\n",
       " 'like to come every 3 6 month not huge on injera every quarter to half year enough to get fix love place every single time go except last beautiful waitress really helpful in help choose dish last visit always delicious unfortunately last time go dish recommend taste like old chinese food strange but probably 10 time time delicious go to assume one off bad day give another try honestly food generally really good filling price decent groupons available for place lot nervous about go wait for groupon to available cover half meal for 2 3 people place usually pretty packed but on week night usually get seat without to wait ',\n",
       " 'beauty salon business well around area many dimple great shake conveniently locate to run errand brown know eyebrow threading would inexpensive ace eyebrow threading 4 usually go for at place tax on cash payment not racist but white place charge not great job always find indian arab place to go to for thread hurt but come out look fabulous worthit ',\n",
       " 'listen not complain get in late guy at door rude get get past 11pm think kardashians mean seriously get bottle service every single time not get later 10 1030 pm sure club may still empty but would muchhh rather hang out at sickkk table wait in line for 2 hour amaze club game willl fun highly recommend table keyyy get tire of dance for hour go back to table with chick hang out for quick 20 back at go nut ',\n",
       " 'hawaiian korean restaurant bring back to local cuisine of hawaii order meat jun combo plate good soy dip sauce for meat jun bottle sell in market deifinitely stop by to try item on menu aloha spirit deifinitely alive well in la vegas thanks to russel ',\n",
       " 'get apple fritter want to love much texture nice apple chunk perfect but greasy lose good flavor to grease honestly disappointed not satisfy at nice even warm one lowly apple fritter up wish less greasy ',\n",
       " 'love salad go healthy delicious food on fly best drive through in surprise friendly staff fast service love every single thing try off menu ',\n",
       " 'eat sushi long time place wonderful great sushi strongly recommend eat enjoy ',\n",
       " 'stop for lunch after dam tour base on yelp review starve place hit spot favor get cheese stick yum girlfriend bacon burger say top notch bbq chicken salad also good service good in 6 thumb up from 3 of u ',\n",
       " 'great place stay at hermosa inn dinner breakfast at lon include part of package warmly greet by gentleman host upon enter dinner fantastic strip steak perfectly cook flavorful start with tortilla soup finish with panna cotta but favorite part of meal side of truffle fry wow althought great local beer option from mcfate brewing on tap rare to find on tap around valley outside of brewery server pleasant helpful wife get birthday card from staff since birthday return for breakfast next day breakfast menu considerably small lot less option but food really good ham cheese omelette great large portion of toast accompany omelette crispy potato come with omelette really good overall really great experience would not hesitate to return for upscale meal ',\n",
       " 'to sakana twice for lunch time happy with sushi service instead of create long roll with piece of sushi create short fatter roll make for big piece of sushi ok with say quality of fish rice seaweed good to good 3 roll walk away full content not best sushi ever but great choice in scottsdale in area look for good sushi restaurant recommend try sakana out ',\n",
       " 'absolutely point in come come late not daybed wo not anywhere to put stuff nuisance bag check but line long plus sometimes not want to stand entire time in pool after stand in long line in sun saw girl get hook up to iv take out on wheelchair stay classy vega also water get murky after really want to go in would put at risk for foot fungus stds decide to go go in with full fledge self confidence people flaunt stretch mark cellulite goody ',\n",
       " 'place gross understaffed give super dry day old chicken in ceasar salad water make sick hop truly not food poison but definitely feel sick to stomach after eat not eat ',\n",
       " 'fasten vibe vega strip friendly staff take care considerably current love scenery thank azuza staff xoxo ace encore ',\n",
       " 'second visit first back during ce in jan with young friend visit vega for first time never bloody mary service good large bloody mary impressive jack daniel chocolate cake to die for like enough to want to go except for big bloody mary meal slim jim pickle cheese cube pepper candy bacon sausage red onion see pic large u6 shrimp miss everything else disappointment service strange smile abundant but everything else about service off from scarce server to not willing to take order for breakfast from u but table seat after u serve by someone else get breakfast to long take to place order to long take to get order get wing terrible even although signature dish bland small bone break with sharp point bone chip throughout think about not know not complain send back maybe consumed consume bowl size meal of bloody mary go back for stay away for everything else well jack daniel chocolate cake make compelling point two star even one not for bloody mary meal jack daniel chocolate cake ',\n",
       " 'brfc solid place to try really good chicken happy on recent visit to brfc chicken combo tender juicy crispy flavorful like to order chicken tender combo dip in different sauce husband really enjoy plan on return pro friendly efficient service order at counter clean modern decor with plenty of seat table option large window large tv watch football during one of visit combos include shoestring fry small cup of coleslaw fry skinny crispy salty plentiful coleslaw bit bland for taste juicy chicken nice crisp crunch with tasty flavorful season chicken delicious with slight spicy dry coat hint of cajun not find to greasy breading light not overwhelm boylan pop serve at soda fountain sweeten with cane sugar refillable iced tea sweeten with honey unsweetened refillable milkshake thick creamy husband always order one with chicken honey dip sauce option wildflower chipotle wasabi honey flavor love honey option for chicken tender dip sauce option habanero hot sauce brbbq barbecue dip lunch box special deal f 11am 4pm 3 whole wing fry drink 8 buck con seem bit pricey for essentially price little high would expect for chicken joint look at 10 15 person for combo but find to high quality chicken joint upscale atmosphere for fast casual restaurant review 1 for 2017 ',\n",
       " 'pretty good for first time ubereats delivery experience mediocre but pizza one of best try far order mediterranean lot of flavor from different veggie spice complaint crust bit dry little olive oil would not hurt captious about pizza but honestly state would order another one in future ',\n",
       " 'attended hosted multiple event at sigmas train executive offsite meeting retirement party staff professional organized every detail consider from extra insulate window to keep out street noise to decaffeinate ice tea touch trainer meeting facilitator could wish for in technology variety of space whether board room lunch cafe formal reception area training room ',\n",
       " 'would not consider aunthentic mexican food like hubby but sure tasty portion nice price right thoroughly enjoy chimichanga enchilada especially seafood enchilada flavourful think little suprised to find really like food american mexican food but good service recieved 5 star everyone nice notice mostly teenager work friendly helpful check up on u to make sure everything alright but not overly obtrusive to feel bother put restaurant to shame not even type of restaurant definitely make regular place to go to ',\n",
       " 'want to try place since open finally go saturday evening sit on patio delicious cocktail eventually go in sit at table for dinner chicken waffle appetizer delicious for entree order shrimp grit steak everything delicious except for cook could not get steak right try three time to achieve medium rare but could not get right fortunately for waitress fabulous upset about would take back to kitchen even before opportunity to complain manager stop by apologetic give u gift card to come back even although would probably never order steak definitely back for ambience drink yummy food but of for excellent customer service rare to find day well trey thank ',\n",
       " 'brunch sunday with friend meal good mean option limit but over solid brunch come to brewsters on one occasion ca not speak to service before at another location in calgary place not busy staff rather slow but food good complaint on southwestern omelette love salsa inside yummy really add nice touch to meal price also fair decide to branch out from usual egg benny nice change ',\n",
       " 'amazing food friendly atmosphere keep u come back hubby vegetarian love choose anything off menu for of u taste delicious ',\n",
       " 'not sure rate restaurant walk in to get soup around 4pm in destroyed need of something would clear sinus hot sour soap always trick tell could not order cup supper time okay order bowl of soup to take home 11 00 okay thing look like cup soup not fresh good although not sure would go back price seem high for bowl of soup 11 00 not great much but broth ',\n",
       " 'neighbourhood bar love staff often drink with til wee hour great daily food drink special cheap pool dart good atmosphere for sport game on one of many television ',\n",
       " 'not good way to watch movie sound incredible picture awesome actually travel 1hr to see movie at theater ',\n",
       " 'breakfast today for about 25 with tax fee include but 2 of party of 4 cover by bed breakfast deal from jw marriott not charge for kid food ok but plentiful make 5 star for ambience patio with beautiful koi pond cascade refresh in summer morning staff attentive amd at 10 breakfast end at 11 but not fell pressure at nobody give u look for take fruit with u on way out ',\n",
       " 'get another cut first ever straight razor face shave from thom slick boy book appointment with master barber mad skill take time make right make feel comfortable with laid back vibe easy conversation not disappoint walk out look feel awesome ',\n",
       " 'really confuse about high star rating actually excite for airport food due to high yelp review dial down expectation get teriyaki chicken with brown rice rice chicken really dry veggie soggy service great unlike poster but not make up for food maybe order wrong thing price right under 10 for food with tax ',\n",
       " 'helpful staff location little farther home depot after yelp coupon price for item purchase on par with lowest home depot big box store ok but try to support local economy with adequate selection friendly staff close location continue to spend money ',\n",
       " 'fresh delicious go to poke spot in city generous portion clean great selection of accouterment ',\n",
       " 'fantastic experience at barber shop claude fantastic great person to talk to in chair art to not haircut take time great conversation with patron wealth of knowledge on area fantastic person to talk to greatly appreciate service skill kudos to claude ',\n",
       " 'venetian elegant distinguish resort casino gorgeous romantic decor interior on way to room greet by candlelit hallway ceiling to light way even although not try restaurant bouchon smell emanate from kitchen make mouth water casino expansive sign everywhere for easy navigation room huge clean well maintain convenience store bakery coffeeshop locate at entrance to casino near elevator to room plus need to get quick pick up forget to pack something venetian must stay ever in la vega give din gambling stay experience never forget ',\n",
       " 'experience with dr malek nothing short of fantastic staff professional kind great at answer question without pushy sale like dr malek kind retain professional demeanor honestly first time meet with almost wish bit friendly vs doctor patient but obviously experienced competent on day of surgery appreciate bit of professional distance keep felt comfortable in hand under care staff great about work with crazy schedule finding time would work for everything upfront zero hidden charge unexpected cost dr malek customize procedure to obtain best result for particular situation explain to in detail suggest felt best approach result incrdible use word magician quite time speak about dr malek skill pain discomfort exremely minimal ca not begin to describe thrilled choose to procedure to dr malek ',\n",
       " 'visit beltway for first time during hunt for first handgun at beginning of year from first interaction with branden gather honest forthright several visit well inform but might not answer to question but would help search for proper answer rather mislead buy gun several accessory scope from after offcourse due diligence extremely satisfied with purchase expect friendly personnel reasonable price great communication at beltway ',\n",
       " 'disappointing overpriced mediocre food refried bean serve with fajitas hot not burn tongue but throat well ',\n",
       " 'get one of bad haircut of life from girl name alex to go home use clipper to cut away terrible job terrible beware ',\n",
       " 'wife ate pizza from another place vinnys sandwich huge huge much eat half could not eat give half to old lady later day saw walk down strip say sandwich excellent to wife really like much for one person to eat ',\n",
       " 'yeah service continue to go downhill take money elsewhere pay for work not even wipe dash of interior outside still crap over go back inside ask for refund place suck ',\n",
       " 'people amazingly friendly helpful high integrity feel happy to find move back to phoenix need someone to care for car ',\n",
       " 'wow delicious not picture to post eat everything fast use check for free coffee tea to start munch on complementary granola nice roast salty sweet flavor savory crepe come out quickly breakfast burrito for custom buckwheat for white cheddar since out of gouda with local ham mine come with side of dressed green complement crepe well disappoint could order scramble egg on side want gooey poach egg already crack egg skip egg finish up main course sweet crepe come out surprised full from one savory crepe but make room for half of simple bruleed crepe with nut really taste quality of crepe minimally dress finish with complementary dessert of chocolate triangle rise infused marshmallow roast right at table overall happy with experience friendly service strike up good conversation with server find everyone but cashier to friendly definitely back soon ',\n",
       " 'keep in mind eat in awhile cuz food cheap taste ok wait staff from about 11am on pretty nice before time get ready to deal with dawn of live dead like piss off zombie suck cuz place best deal before 11am 2 49 breakfast everything from egg benedict to salad bar salad bar basic cheap square crouton fake baco bit half wilt take time pick out good lettuce leave crap to another patron haha lettuce ok dressing get ca not fresh stuff at price back to egg benedict everything on benny cheap english muffin toast never see before hash brown way crispy like eat unflavored pop rock hollandaise sauce ok in hungry either cheap on budget stop on in sunset station close by 7 8 buffet way well ',\n",
       " 'come on saturday night for dinner to celebrate 25th birthday with best of company fun entertainment delicious food before but always sit in front of restaurant clue huge place sit in back seem many of large birthday party seat ambiance of restaurant dark jungle esque remember correctly lol ruckusy vegas appropriate drummer scandalous but h0t dancer go up down aisle provide for fun entertainment but enough of on to main event party of 6 decide best to super nice server suggest omakase style cucumber cocktail on house bring of u mini cocktail to start meal off nice considerate of nice refreshing definitely get appetite go trio appetizer platter consisting of well salt edamame roast shito pepper deep fry string bean serve in delicious chipotle aoli sauce 3 delicious but think favorite would to roasted shito pepper with drizzle of lime juice for nice kick yellowtail sashimi mini taco sooo fun delicious great fushion idea restaurant accommodate mention to 1 of girl allergic to cilantro bring out special lobster taco for for flavor bold taco shell nice crispy but think still enjoy dos camino mini taco well to die for ahi tuna over piece of bamboo basil leaf interesting combination probably least favorite dish of night basil leaf bit overwhelming cover taste of ahi much filet mignon with oversized asparagus meat tender well cooked pink in middle not big beef eater eat edge of piece but friend seem to enjoy definitely not one of top dish of night but still yummy asparagus but quite delicious probably cook in butter hahaha take good bite on outside nice tender on inside sea bass with oversized peruvian corn yummmy sea bass nice flaky flavoring bit salty but feel like at restaurant tend to bit mean everyones bit intoxicate salty food people want lol peruvian corn really fun to eat friend really enjoy but definitely like summer sweet white corn on cob well mushroom pot on crack definitely show stopper of night flavoring of sauce texture of 3 4 different mushroom happiness sauce like cream of mushroom milky full flavor salty hint of sweetness good needle to say take bite smile in satisfaction star at knew rice need to soak up bomb sauce 4 different sushi roll bring out last 3 5 star 4 decent nothing really to rave much about unfortunately big big sushi lover off chart roll ca not pretend anything to die for first time come friend order for table definitely think make difference really scrumptious dish wish could order for friend to try perhaps next time prepared lol overall rating food 3 75 star except for mushroom pot on crack 4 5 star for food for first time come 4 25 star drink 4 star for cucumber cocktail bottle of santa margaritta pino grigio presentation 4 star service ambiance 4 star give place 4 star mainly great time night company keep definitely play big part in food goood bit definitely great place to go with group thats look for good eats good drink great time bottom line definitely go back ',\n",
       " 'always take care of at company first visit to location since move from east side tony really take care of with price match guy great at customer service left extremely happy need tire must visit ',\n",
       " 'purchase two carpet go for third today first two work out fine save little money by limited customer service but good variety long good with look on today find carpet want ask sale guy to come over to price out 8x10 give price agree go to write u up go to pay notice price different quote from 10 minute ago by about 40 say need to buy 8x12 instead not use for 2 well neither not in agreed upon price remnant cut but want bottom line not honest not honor direct quote give of feel like take advantage of people by give price change without tell good carpet variety but lack of integrity honesty maybe new guy but owner not help careful price give pay bill ',\n",
       " 'daughter boyfriend excited to go pay almost 200 for 2 buffet of buffet 24 hour pass crab sushi shrimp oyster about 2 hour later start feel sick for next 2 day could barely move vomit diarrhea cold sweat whole vacation ruin return to rio seafood buffet talk to manager mike fill out security form with emt mike tell u even although get food poison from seafood could not use 24 hour pas could not give refund but offer free buffet want to eat really good luck eat go to casino to gamble money not health ',\n",
       " 'one of coworkers mention little spot hear about not far from work today for lunch of u decide to check out personal favorite place hole in wall joint walk into restaurant definitely provide vibe miss dee owner believe one of nice owner meet at restaurant immediately come out of kitchen personally greet u with amazing hospitality give u low down of spot answer question about food onto meat potato literally three of u get large loaded potato top with different meat one beef brisket pull pork get buffalo chicken not expect food to come out in minute like microwave everything freshly put together beyond worth meat cook to perfection with amazing flavor throughout potato combine with melted cheese sour cream delicious topping potato ca not beat definitely return customer to try out various customizations on loaded potato ',\n",
       " 'enjoy excellent service good food salad perfect soft shell crab chicken liver broad pasta excellent scottish beef good extensive wine list wonderful experience good value for price ',\n",
       " 'miss tram much wish could take with to az know want exactly want hand to look whenever need to fix nail without complaint always happy to perfect hand ',\n",
       " 'today friend come in for body massage let tell staff consistent ask okay give massage in troubled area relax clean not get misuse name but fantastic job come home feel relaxed with tight pressure in back happy friend choose place ',\n",
       " 'look for new groomer old one move out of town ask groomer at time would recommend mention diane at razzle dazzle start with say little hesitant about take kid to anyone 1 razzle dazzle out of way about 10 mile 2 new glad call diane after talk to on phone felt confident one would take over care for little one take kid to razzle dazzle for couple year diane simply amazing let say would travel additional 30 mile mean diane would still care for kid ',\n",
       " 'call at 10 30 say ill in 15 minute give close at 11 arrive with party of 15 mention on phone deny extremely rude lack of professionalism courtesy ',\n",
       " 'five star for iced espresso bianco not iced coffee fan whatsoever but amaze at venetian for date night dinner show get early to walk around stop in to get drink take chance on drink get caramel flavor but not to flavor happy about not sure layer but frothed milk on top mix on with stir flavorful drink really keep coffee flavor without get dilute by ice caramel wish one later today ',\n",
       " 'love buffet to comparable to buffet at wynn prime rib warm snow crab legs ceviche sushi omelet bar little of everything ton of dessert well define lay come back next trip to vegas ',\n",
       " 'oh goodness to start pleasure of enjoy bbq chicken bean potato salad about week ago not meat perfectly tender juicy but bean oh god bean talk about perfection on top of delicious food service receive beyond 5 star offer sample work tell could bring food into at convenience but not take advantage assume would able to catch outside take look at option unfortunately for walk out of building steven pull away saw although express sadness in miss opportunity kindly without hesitation pull over prepare dish of choosing gracious even give small story of get start would recommend holy smoke bbq to anyone everyone heart belly full thank for extremely generous service ',\n",
       " 'good food but service suck waitress apparently in rush serve appetizer burger plate at time not ask for desert bring bill credit card machine together almost clean table sit at table smile care almost rude ',\n",
       " 'store nice men department downstairs sale item way in back near dressing room check out for great deal salesperson friendly helpful store great coffee shop right by men department get drink pastry comfy seat make for great little coffee spot club monaco bit on pricey side but usually find great sale great value ',\n",
       " 'love nail salon friendly attentive make experience fun nail turn out greeeeeeat move across town but still nail salon travel for good service ',\n",
       " 'pro love lee location favorite to go to since near home everything would want even grow sake collection restock lot staff really helpful always ask question nice pretty knowledgable always good price con sort of back alley private area little cluttered heavily stack inside overall by go ability to make out into good time ',\n",
       " 'food pretty good but overprice thing irk basically alcohol in caesar order small two not even tipsy taste of alcohol feel of super lame also happy hour ',\n",
       " 'say about place not already say hype true lucky to nationally renown chef chris bianco stay in phoenix year pizzas perfect pasta surprisingly great fresh resist order pizza menu often change new addition recommendation usually worth take not but to original downtown location intimidate by reservation expect to long line for reputable place town country location fashionable shabby chic not intimidate parking kind of cluster look forward to come on next possible date night ',\n",
       " 'but another example of business cash in on location at expense of quality cocktail chain restaurant worthy wine list weak seafood barely competently prepared calamari good worth serve with large pool at least 2 cup of seasoned mayo lobster roll rubbery tasteless bun exceptional but salmon kirkland best crust with pecan sprinkle hmm grouper sandwich passable mccain fry yum day sunny company excellent note pump ouse grill on lakeshore park next time enjoy wing ',\n",
       " 'previously review remove let try start to come in 2011 love neos but could would give place zero sherrie girl always laser comfortable to around six treatment go up sign up make new package soon six up sign up time although speak to monica before sign anything want to make sure would get refund for treatment sherrie to leave to move location well aware policy not consumer friendly well guess move location nobody tell appt cancel call neos to see deal brian super rude say would never agree to refund even although write in chart say make worth to drive way to another office 45 minute from house drive 20 to peoria offer free microderm 20 tell not want one say would suggest since face need detailing not rude not know get well tell tech charlene great well sherrie lot experience not think professional to talk trash about former employee especially many treatment with request chart to fax to nobody get back to two treatment leave would not refund treatment even although loyal customer for long instead of microderms about pay for gas mile super rude service not go ',\n",
       " 'after afternoon hike along river in dire need of sweet sweet therapy close proximity to downtown decide to venture towards lickadee split on coxwell soft spot for soft serve confectionery with ton of selection to choose from lickadee split classic popular awesome joint for cool treat ever in east end of city beware one scoop massive one thankfully person help recommend first see quantity before keen on jump on two scoop wagon thankfully one enough jen take something like chocolate fudge for over decadent every chocolate lover love gold ribbon mix of caramel chocolate vanilla truly love trio of flavor complement one another truly delicious ',\n",
       " 'country fry steak would recommend pretty small in dining area would not recommend group large 4 even 4 push knock off 1 star for cash ',\n",
       " 'certainly fun place to shop sale people nice really not clue about anything parking always mess buy jacket today unusual rear pocket ask purpose really not know best guess could for carry sky pole lol not shop often but first place come look for sport equipment clothes not rely on staff research before arrive buy many item include sky inline skate ice skate odds end good selection pleasant staff not bright bring light bulb lol watch out for parking on side street get tow never fun ',\n",
       " 'great little find with great n orleans style food blacken trout mr bill crayfish share appetizer of fried green tomato normally not care for collard green but delicious to try bread pudding room pleasant staff good food ask for oh yeah great variety of libation thank for new tega cay eatery good ',\n",
       " 'first visit to top golf bring two family member visit for holiday overall concept quite fun activity alone would rate 5 star really fun something imagine over over social event two star ask major issue with place test patience first off walk in total pandemonium come at 3pm on friday two line queue but signage help to line for to even stand in line turn out first line membership line everyone need 5 membership second line to check in by scan new membership card ask whether want bay on specific floor of task sound easy but still wait in line for about 40 minute to accomplish two task entire time everyone else in line talk about inefficient place would think manager would see rearrange thing to make easy after really want beer could through two round at bar in amount of time spend wait around to check in after still go to bar two round wait good selection of beer bartender fast to see want booze waste time in get get text message bay ready require u to go muscle into line tell check in staff ready irritate everyone in line obviously butt in but thats way like guess head to bay with bay concierge give u down low on mechanic of play not intuitive thing in world but work start hit ball waiter show up literally walk u through entire menu page by page explain burger appetizer frozen margarita like never to pub before not know slider mind pay by hour at place someone take time quite annoy order bucket of beer chip guac shoo off get back to golf beer arrive chip arrive waiter arrives stay get chatty about football family from grandma in colorado like work after christmas sort of topic none of u care to talk about ugh leave u alone for golf beer not new pal chip come out one in party lean over to server say know one thing thats miss in place server lean in interested napkin napkin on table server launch into story about napkin another server spill huge tray of soda into bussing cart knock over someone golf bag on on on napkin stop talk star at u ask could napkin oh yeah moment oblivious at time shoo waiter off to get another bucket of beer refill of chip come back with beer chip chatty guy table refill of chip take about 20 minute come at odd time expect home for dinner but burger sandwich on table look good kicker although near end of session new buddy server out of blue tell u day after christmas five hour wait run out of food booze kegs etc tell u go to get lot of negative review for on email service card send to next day after play ask u would not mind mark everything 5 star really need good mark would buy u desert say yes ok business guy in come out but whole reason for get feedback from customer to improve figure out fail fact 40 minute check in process run out of beer one night napkin on table seem to ton of staff walk around but not help bottleneck issue management need to aware of but instead try to bribe rate way want to rat place would piss off really fun concept but try on nerve big time ',\n",
       " 'try nichiban for first time definitely to agree with review from user for restaurant small place tuck in little corner of small plaza right across pacific mall at steele kennedy but food delicious big fan of salmon sashimi ask sashimi bento main course contain sashimi replace with salmon sashimi yes salmon sashimi bento box accordingly nothing but praise for quality of sashimi taste of tempura spicy salmon sushi even salad accompany bento even give u huge plate of grilled salmon piece on house also quite yummy aspect improve to add little dessert at end green tea ice cream like many little sushi restaurant tend to but content with place definitely return to place whenever in area ',\n",
       " 'alalthough vibe terrace nice trendy about place to offer come for drink dinner cocktail 10 pretty small not strong but good variety food average at best quite overprice not authentic at but guess for bar to expect pad thai flavourless honestly thai express good snack to share super pricy for 10 for 3 tiny satay skewer another 10 for 4 tiny piece of popcorn chicken on small bed of rice youre come for drink wouldnt say not go but youre look for drink asian food would 100 brasserie pamika much well in term of flavour authenticity also cool trendy vibe ',\n",
       " 'travel to restaurant for year ca not believe out of gaucamole lock door abt 4pm one couple eat slow svs think good even svs server close during day at least 1 fam member need to around happen trust fam bus to someone else food ok but well disappointed but w return ',\n",
       " 'oh gosh fell in love with place today lot of vegan option delicious food fav falafel baba ghanoush friendly service price reasonable ca not wait to go back for open face eggplant soon ',\n",
       " 'snobbish receptionist good waiter food identical to cheese cake factory finally invent slice of cake 1750 calorie art but 500 calorie diet cheesecake pretty good empty at lunchtime ',\n",
       " 'fantastic time on fence about dress until find one love happen to one of rachel favorites give great service incredibly helpful clear on option for alter dress amaze with suggestion take venue overall style into consideration ',\n",
       " 'love sonic raise in san diego not sonics super excite to see over town location closest to house one visit often never bad service of order taker server friendly burger nothing spectacular but good love option to tater tot fast food place offer well drink best part love customize soda to add flavor combination nothing like raspberry limeade on hot day dessert also pretty delicious best time of year red velvet cake blast wish carry year around pumpkin pie blast also really good seasonal treat wish open 24 hour but believe open fairly late until 1am night ',\n",
       " 'hand down best jerky buy sweet heat for perfect amount of heat eat entire bag in one sit son love teriyaki beef could not forget fur kid buy bag of beef bag of turkey top ten dog treat go crazy for stuff customer service awesome really cool guy work shop love place ',\n",
       " 'stay at hotel on strip even stardust frontier around encounter atmosphere check in line restaurant pool nightclub of hotel hand down venetian palazzo best to offer in luxury yes club well tao good restaurant grand lux but hotel with not great service great decor room venetian like hotel focus on one great trait day club night club room accommodation but venetian across board table loose room suite family side of pool adult side cosmo catch up although but yeah venetian definitely tight butthole ',\n",
       " 'first let explain 2 star decide to try out sushi after friend say good get to smokin fin at 6 30 pm thinking plenty of time before happy hour menu over at 7 00 pm but wait list 40 minute long not get seat until 7 10 pm since happy hour over not get happy hour price even although wait on list for 40 minute leave bad feeling about service management hear couple express opinion about thing but management say sorry for good part restaurant nice atmosphere relax inside outside food presentation impressive service ok sushi cut think cook perfect dinner not good would not return since food good give smokin fin another chance on next sushi crave ',\n",
       " 'egg celent delicious would definitely recommend give 4 star wish option on menu not want bread opt for salad at additional cost alalthough salad good not sure about arugula with scramble egg slice of cheddar cheese ',\n",
       " 'good could not really tell over heat know go in like spicy often think place under estimate spicy think food not enchilada spicy service great atmosphere in restaurant colorful great experience but probably wo not make onto regular rotation ',\n",
       " 'look place up before make appointment april great job to wait even with appointment but apologize service daughter to satisfaction hot stone massage great get full foot calf massage part of 20 great price good service oan little dusty in may want to look into remodel but not go to increase price ',\n",
       " 'good spot to satisfy late night korean crave hot bubble gam ja tang hit spot on cold night seating comfortable service little lacking but courteous could with side in good place look for straightforward comfort food ',\n",
       " 'still best dinner buffet on strip start with king crab shrimp cocktail move on specialty meat everything sings quality especially hand make dessert ',\n",
       " 'go in with felt like laundry list of item to accomplish completely dread actually greatly postpone visit incredibly surprise at great simple to accomplish need ashley lovely greet at door to begin process of help figure out need to go to for help stephan incredible with assist every need answer of question make process simple possible thrill with service receive at location glad make move to boa ',\n",
       " 'always 6 month checkup go well brian on time knowledgeable answer question with patience with husband highly recommend ',\n",
       " 'review difficult to write mixed floral department one of best greg in meat department extremely helpful management horrible store certainly not represent safeway stand for live in goodyear part of year in san ramon california part of year state of art store in san ramon one would rival speciality grocery store know one in goodyear horrible by conparison often food even old people generally nice but management of safeway need to major update fix store ',\n",
       " 'amy amazing outstanding example of go above beyond not thank enough for take time out of time off on saturday to ensure take care of father in law pass away late friday june 2nd go to funeral home at 12 noon saturday june 3rd to make arrangement for visitation funeral graveside service leave after 2pm go to another florist in area friend of family offense to florist selection slim picking not seem accommodate since low on fresh cut flower of prom weekend wife upset want perfect flower arrangement for daddy begin call to realize florist shut down close shop early on saturday also know sometimes shop owner still around work even although shop close call talley leave message shot in dark wife not want to wait until monday to figure out visitation schedule for evening after about 20 minute of give up phone ring amy take time to talk with u outside of business hour sympathetic compassionate towards u circumstance trust expertise experience to provide u with beautiful flower plant combination arrive to funeral home monday evening look for flower plant arrangement wow beautiful wife start cry exactly want amy go above beyond for u expert knowledge combine with take time to listen to u to understand wish produce amazing arrangement example of floral experience would recommend amy talleys florist with full knowledge of interact with actual customer ',\n",
       " 'highly recommend chandler crossroads clean invite front staff helpful polite always smile on room clean welcome plenty of therapist with strength competent take therapist not not good to find one for ask for heather g but prepare to book at least 3 week out want yes worth always look forward to next visit check place out leave relax well take care of ',\n",
       " 'best interview several pool company talk to countless friend coworkers about pool building experience could not find one person love pool builder happy to say pick winner find thunderbird by search internet could not find bad review love website photo schedule appt with le designer le wonderful total opposite of traditional pool salesman take time in listen to need want challenge live on large parcel of land want pool to focal point draw gorgeous design continue to work with u until love plan budget give go smooth still in awe cynthia call every day to tell schedule would in yard every single person on time get job scheduled friend family could not believe speed quality of pool finish about 5 week absolutely love pool search for incredible pool spa builder please favor call thunderbird continue to share recommendation to anyone else look to build pool ',\n",
       " 'nice place seat after short wait on patio remember correctly water dispenser for wait place pack seat ok small menu not really combo for lot of good look food on daily special list problem to come specific day today daily special steak egg jalapeño hash thingy run out of steak tell make decision easy get jalapeño hash thingy food ok well execute but nothing jump out to special deserving of hype would possibly go back in neighborhood likely daily special one seem excite not near matt nothing make worth drive ',\n",
       " 'come on super bowl sunday visit friend live not far from place decide on place to watch game couple of friend suggest casino big sport book place also would not packed crazy casino on strip casino about 15 20 minute drive from strip immediately greet with large screen in preparation for super bowl even volume turn up people in area could listen also tv over blackjack table spend second half watch game also aquarium aquarium theme restaurant in fake mermaid swimming in aquarium people take picture with afterwards tv in restaurant show super bowl well sign up for player card get free buffet not take advantage of although ok place overall but sport book area definitely cool place to watch game watch game play penny slot get free drink ',\n",
       " 'place look hopeful on outside but actually pretty bad maple glazed salmon burnt lack flavor asparagus come with pretty disgust soggy waitress great side caesar salad good experience horrible simply due to blasting crappy music well probably not eat ',\n",
       " 'little gem open up month ago run by people amena cafe on sahara near bannon st start with hummus tapas tapa not spanish variety of small serving of various culinary concoction but dippings for pita bread order whole wheat regular pita nice warm hummus rich flavorful open face eggplant huge mound of food with many different taste could use touch tahini on side would good but freshly make good enough for two meal never shawarma before order chicken beef in combo special chicken spicy halal beef tender spice perfectly thing one might want to know not into spicy food tell staff chef back off on spice important child people not normally eat spicy food not concern at offer freely dessert magnificent order of bakalava heavenly kunaffe with goat cheese out of world enough to take home for another meal decor need work to give place intimate atmosphere pizza joint for many year but not let stop from go in chair not standard plastic wood bottom would not take much to get place little elegant in meantime go see amer get taste sensation fix tell nick sent ',\n",
       " 'omg good ca not wait to go back love atmosphere food amaze eggplant one of favorite culinary experience of life not leave anything in plate thank guy ',\n",
       " 'everything pretty good but beef in mongolian beef chewy weird texture know always 50 50 chance try new chinese restaurant rest of food good noodle really good fried rice ',\n",
       " 'adult grill cheese novel concept food good not great wait long prepare for long wait place always pack bread quite greasy but innards excellent along with gigantic portion ',\n",
       " 'okay full meal with drink for less 20 somebody say value come for brunch on saturday around 10 00 relatively full order malaysian curry chicken with rice 6 50 malaysian street style sandwich 5 99 soy milk tea 1 80 hot honey lemon juice 1 80 malaysian curry delicious but really really oily could literally see pool of oil gathering on top of bowl fine with probably still enjoy sandwich highlight really fill but still super light tasty bread white toast crispy butter stuff with everything promise but not make feel gross afterwards with tea great comforting saturday morning meal locate right beside erindale go station in plaza sushi tei chili chicken house wonton chai noodle among others on northwest corner of creditview burnhamthorpe minute away from mavis exit of highway 403 place really give bang for buck plus food delicious prepared fresh overall really enjoyable meal total with tax around 18 00 with tip pay around 21 00 great go to cheap eat in mississauga food actually decent back ',\n",
       " 'really not know to rate place come for brunch on sunday at 12 30 with reservation side note awesome place take brunch reservation place start but back to review come at 12 30 with boyfriend promptly order caesar bellini order of donut duck scramble two egg breakfast yes fatsos at heart drink come in timely manner donut wait wait wait wait wait by mean slow eater not stick around for long after finish food but not leave restaurant until close to 3pm quite absurd long main dish take to arrive definitely unimpressed with service for food call decent donut delicious but chocolate mousse like dip come with rather tasteless actually actively not like chocolate dip love chocolate duck scramble good but nothing special love potato but everything else normal honestly best part about place in opinion take brunch reservation like decor inside apparently popular drink spot but probably wo not back for brunch unless want order of potato bellini ',\n",
       " 'best chinese food in lkn area never disappoint with take out get speak english well ',\n",
       " 'order from pizza hut often always order similar order stuff crust pizza with chicken bacon onion on half order today pizza onion on whole thing manager rude not want to replace pizza after tell come in talk to store manager change attitude toward situation ',\n",
       " 'price good service professional quality outstanding guy connect to guy at toronto could not happier with of service use regularly would not hesitate to recommend ',\n",
       " 'excellent chaat okish biriyani great service fresh food place clean lively unlike indian restaurant visit dead ',\n",
       " 'fly on pizza sit out ew disgust would not recommend unsanitary ',\n",
       " 'alalthough problem with front desk staff love place of doctor nice caring sweet attentive doctor ever see not know would without michael tucker best ',\n",
       " 'love almost option available in vegan version yum move sad not longer able to come make one last trip today hope consider expand enjoy yummy item ',\n",
       " 'get pepperoni sausage half sheet pizza from last weekend delicious pepperoni awesome sausage piece huge like small meatball sauce thick sweet like ton of cheese on pizza cause to upset stomach aftward not fault not go into building to pick up pizza ca not say like to eat in ',\n",
       " 'lot to like about crepe bar feel cool inside with independent vibe valuable commodity in suburban phoenix bustle noisy inside enjoy but may negative to crepe reasonably price come with salad unexpected appetizer portion of granola crepe good but not excellent portion little small expect unfortunately during peak time expect difficult time find seat long wait for food also option for non pork eater limit place ideal for kill time sip coffee on weekend but not for much else ',\n",
       " 'greasy unappetizing fry food low quality ingredient pretty much taste never ',\n",
       " 'cheap ticket awful staff probably good idea get self serve kiosks remodel nice but not make up for lousy customer service rude popcorn maker ',\n",
       " 'search for best beautician with great customer service skill hairstylist apply weave over rasheen skill surpass expectation rasheen expertise in use of different technique would best for natural hair apply weave show care about natural hair hair look amazing receive many compliment ',\n",
       " 'heard great thing about toast for breakfast lunch althought might get try for dinner walk in around 6 30pm on friday night restaurant about half fill plenty of seat in front of restaurant but party of four seat in back beside bathroom back door sit for minute not want to difficult affect order in server sat but really could not take cold draft from back patio door constant bathroom visit politely ask could move to front hostess oblige but not seem happy about server continue to wait on u sit in front glad not want to make lose table bring loaf of soft bread to table pretty tasty but butter little different sweet butter with orange zest tell out of ricotta ravioli dish happen to eye but tell substitute mushroom ravioli order mushroom ravioli husband lasagna friend order chicken pot pie white meat chicken marsala with ravioli side server come back out tell u enough ravioli for one of u friend change order to green bean mash potato side meal come out serve ravioli tell by server find ravioli in back um okay would nice to know before get meal already look forward to eat dish althought order serve 2 mushroom ravioli 1 ricotta say much good mushroom tell by friend chicken marsala chicken pot pie good husband lasagna good but rich could eat couple bits could not finish mushroom ravioli bland tasteless cream sauce watery not enjoy main dish at on bright side although get salad really enjoy small blue wedge salad large portion with fresh cooked crispy bacon on top really good server disappear eat meal lady refill water take over table close check leave see server sit behind bar playing on phone chat with guest probably not return to toast for dinner seem way to pretentious not impress by food 93 5 sanitation grade ',\n",
       " 'always must visit on vegas trip st louis crepe ham cheese nutella peanut butter banana yumm place consistently delicious every time 20 minute wait worth for crepe try find table early on since seating share with café next door seem little pricey at about 10 but not pricey in vega ',\n",
       " 'turnhouse grille lot of restaurant in charlotte miss personality memorable food turnhouse locally staff with people genuinely want to to make experience memorable john katie regularly tend bar amaze with creativity homemade bitter signature drink sam to greet with smile knowledge of menu food simply spectacular kitchen staff spot on with creation presentation favorite eats shrimp burger hef wing salmon blt pork chop wake up from coma to eat shrimp burger simply delicious friendly place to hang out with friend ',\n",
       " 'extremely friendly staff small seat area nekter juice bar but problem always get custom order correct issue love location conveniently close to physical therapy clinic run on antigravity treadmill block from obgyn office ample parking ',\n",
       " 'use eat24 take out great pizza wing good worth use over hut in future ',\n",
       " 'yoli great place to breakfast staff wonderful always receive great customer service price great food wonderful portion size leave quite full usually ca not finish meal end up with nice snack for later ',\n",
       " 'look for good customer service stay away from restaurant lady work from never say hi to customer go restaurant yesterday surprised rude attitude to customer ask to about seat say go seat still dont know answer with harsh tone voice ',\n",
       " 'schedule for cleaning ask for miss julia great ',\n",
       " 'im give place four star for sentiment taste but food decent falafel gyro sandwich on small side but tasty make in flash basic middle eastern grocery well hot dish classic dessert baklava cashew finger great place to get feta dolmas tabouli hummus baba ganouj excellent ',\n",
       " 'bad experience ever with dr torres find out pregnant in july but end up miscarriage in september appointment with cold shoulder not feel really listen to to say about pregnancy far apparently after 1st blood test estrogen low prescribe progesterone 100 milligram day thing not work out come end of september end up schedule c at appointment express probably estrogen issue since 2nd miscarriage not know by smh already frustrate with location doc tell to get go follow up not even check not undress ask question anything wrong try to get pregnant right away want birth control pill prety much end of visit doc not seem to care about well not care enough to take good precaution with blood result oh ask question before surgery answer personal call in front of talk about hurt hip trip aka vacation feel well get rest slowly walk out of room horrible waiting time for location 2hrs plus would not go to location ',\n",
       " 'favorite place to go for sushi of ambiance service overall quality of menu item ambiance welcome literally with chef server acknowledge every patron entrance with warm greeting per japanese tradition never get busy over crowd reason to awkwardly wait around ever good place for first date not sushi romantic like but never startlingly quiet loud enough go on in restaurant to keep everyone interested without obnoxiously distract since space not large usually one server on duty but always somehow manage to attentive to table one thing out of ordinary always to ask for bill pay directly at cashier not could wait for hour before server would offer to bring over fish always fresh inventive favorite sashimi salad time favorite vinaigrette perfect tartness in contrast with thin strip of salmon tuna octopus mackerel could eat forever menu item always cute beautifully present even local nod to flame with red mile roll red hot flame roll give sushi din chopstick 5 star rating for overall awesome dinner destination ',\n",
       " 'mixed review about fresh from food creativity standpoint appreciate on of menu item but get come for matter to mainstay for meal option travel fresh fresh bowl juice yes might rice steam green but sauce enhance everything come for healthy vegan food really want not care for vegetable to make into unrecognizable small creative portion with say fresh still interesting spin on menu notably quinoa onion ring out of world homemade hot sauce equally good finish half jar with every meal wish somewhere like in calgary ',\n",
       " 'second maybe third time in life in outback come late roll really not enjoy crowd head straight for bar pleasantly open kayla bartender make flavored ice tea not want water regular unsweetened ice tea cheer to make huckleberry moonshine cocktail 140 calorie meal 11oz center cut steak sweet potato brocoli cheese food deliciously season back ',\n",
       " 'fulfil bucket list item get nose pierce shop beautiful clean staff super friendly nervous but piercer calm down with sense of humor great place nice to quality shop on westside ',\n",
       " 'decent dim sum but expensive pot of tea cost money automatically add gratuity to bill take walk up to dundas spadina for good price ',\n",
       " 'love place simple price fair waffle good sunday day to say enough of twig berry want pancake well at least waffle alalthough big banner state serve pancake but really go to waffle cafe for pancakes name tell specialty anyway waffle with blueberry strawberry bananas pass on chocolate chip whip cream powder sugar hey break lose on food choice but not want to go crazy maybe carve rib later night know save food karma point also staff in place friendly helpful fun good to hear youthful energy enjoy work instead of normal job type of employee staff give good service enjoy would definitely come back good food good service fair price oh forget to mention also cool smoothy get lychee yum love fruit ',\n",
       " 'good food around meal begin with complimentary side korean restaurant know for in addition to usual sprout kimchi etc island style also give boil peanut nice touch go wth cold noodles half half for meal really like dish with side offer nice taste wish could spicy but in end contently full happy with choice 14 for dining experience well worth restaurant mom pop feel seem authentic in every aspect good option for eat in area ',\n",
       " 'swear serve size place could easy 4 1 2 star husband along with boy in sc last weekend for scheduled maintenance on one of suv since appointment early rush out without breakfast of course entire time in wait area search for food place bookmarked by go to check out after see menu vegan option boy vegan arrive boy place busy people stand outside wait for table go in to see list work sheet of paper on landing with one man several set of people in extremely small 6ppl capacity entry way flag down server come to take name others wait name down explain to u at long table in middle work basically table 1st come 1st serve add name to list put on wait for table around room on outer perimeter tell 30min sit in car husband go inside every 10mins to see come up since not take number buzzer totally not mind process at seem down to earth not commercial after about 40 plus minute get table hungry order chef special vegan dish vegan dish on list immediately tell chef special sell out happen about half hour before order mean seat would not get to mind like 11 30am insert kanye shrug read on special menu skillet with lot of yummy veggie enjoy type of meat ask skillet could make for minus meat waitress agree order husband order veggie egg omelet dish with sweet potato waffle toddler pancake fruit look honest run down on skillet cauliflower squash sweet potato red pepper super tasty but extremely small egg white omelet with veggie goid sweet potato waffle hubby not impressed state to soft texture not expect look forward to check out item wo not come hungry ',\n",
       " 'awesome breakfast rubin benedict wow good love kid friendly mom approve in fact florentine benedict good service price ',\n",
       " 'wow new nexgen technique instead of old gel nail method luv tommy great job harsh chemical horrible soaking in poison everyone try totally recommend ',\n",
       " 'absolutely amazing think chipotle for enchiladas nice patio plenty of room inside food really amaze price great not in area actually worth trip order 2 chicken enchilada back to try taco ',\n",
       " 'love barnes noble but store not deserve to carry name terrible representation barnes noble care anything about brand reputation get to story immediately clean up please start in bathroom horrendous ',\n",
       " 'remember come to buffet at bellagio several year ago for sunday champagne brunch blow away one of best brunch ever eat alas recent trip not make nearly stellar impression bring mother for birthday dinner last month want to share with wondrous buffet remember well get off to bad start son fell asleep in car on way over five in pool day carry into restaurant at register discover child price would pay 30 to enter with sleep child mom birthday go with but annoy child go to eat 30 worth of buffet food want pizza dessert not much else of course not want to wake up at refuse to eat much of anything pay for to sit cranky bad for adult meals food fine prime rib ok but mashed potato awesome mother crab leg love must sample every dessert serve one good last waitress kind of lazy to wave down to refill water really food pretty good maybe son behavior color opinion on meal but ca not help but feel like over pay nothing remarkable offer service iffy food unexceptional well dessert pretty great but not need to pay almost 100 for family to eat dessert not feel love for place time ',\n",
       " 'move from new york to charlotte hard time find threading salon decide to give place shot happy with result customer service spectacular reasonably price satisfied with eyebrows look definitely come back recommend for anyone thread eyebrow never want to wax ever ',\n",
       " 'normally not like fancy cupcake consist of half ice in volume not big fan of frost much like eat heavy creamy sugar place but light fluffy icing actually look forward to bite into on amazing ',\n",
       " '2015 st patrick day festival highlight saturday morning parking available for free at 1 park garage near city hall locate at basic road lead street access from basic road 2 parking garage near justice facility locate at water street near basic road access from either water street texas avenue must see carrolier academy of irish dance child participate in parade schedule event throughout weekend lead by debbie carroll shelley locklier two dancer irish dance teaching credential teacher travel world with michael flatley lord of dance fun for child include ferris wheel carousel since la vega valley not permanent ferris wheel carousel to ride enjoy take twirl on ferris wheel ticket 4 ticket per person carousel ticket 3 per person but adult free stand next to small child on ride ticket 1 25 would like to see great use of food truck saw pizza mexican filipino hot dog cupcake snowcones come on la vegas valley food culture come out show u offer ',\n",
       " 'everytime in town hit place for curd beer brat spend whole sunday watch football blast crowd time little annoying but college place love mustard selection curd must ',\n",
       " 'give someone make laugh friend for life big fan of comedy zone killer year with show kudos to crew for bring in great talent big name in 2013 locate saloon at nc music factory yes feel like in someone basement but not in rub lotion on skin kind of way drink reasonably price bottled water menu typical bar food but pretty decent bar food at service good but to bad experience venue set up great seriously not bad seat in house pick online buy ticket local opener always hit miss headliner worth price of admission look for something different to recommend check comedy zone calendar catch show personal must see list make sure to go every time guy in town bill burr sell out pretty much every time buy immediately announce josh wolf know from chelsea lately shark after dark pauly shore warn filthy language ',\n",
       " 'never disappoint pick up slice at desert ridge slice kid love fan of nyc triangle slice plus pick up weekly magazine read in shop well ',\n",
       " 'reason not rate 5 staff not best with design like to design on nail hesitant to of one want end up hawaiian flower on toe ok but not best impressed by cleanliness of salon large polish selection nail last long time mean lot to friendly humorous use english talk to patron with great think price great for waxhaw area pay 57 without tip for full set french manicure with sparkle pedicure with design use to pay 75 for service at last salon definitely go would recommend make appointment saturday go turn people away ',\n",
       " 'love nicole fabulous bartender always give u great service love wahoo salad with fish ',\n",
       " 'wake up earlier week with crazy case of torticollis could not turn head to right spasm like crazy go to joint on wednesday thursday friday today quick easy adjustment back to almost 100 today mention offhand tmj for 3 week two second of adjustment bam fix heck not ask about before sign up for monthly program for sure take full advantage of ',\n",
       " 'nice relatively new mesa gun shop in old bank building w clock tower on main st good price decent ammo inventory helpful knowledgeable friendly staff veteran with modest veteran discount on purchase new favorite gunshop in area ',\n",
       " 'excellent customer service want to thank omar in particular for attention to detail personal touch to make sure car service to best of ability customer make feel value special see business always busy definitely return recommend store to friend family love new tire wheel from discount tire ',\n",
       " 'purchase pot herb before less impressed gnat root rot commonly see upon close inspection to dig around to find to take home place bit of drive for want to sure need in stock before drive down on hot day call to ask about specific kind of planter pot in stock wait about 5 minute to call pick up end call back wait another 5 minute for someone to tell type of pot in stock but could not give specific on general price point star nursery pricy place amazon home depot lowe tell pretty cheap to take with grain of salt seedling wait couple of day for amazon shipment ca not patron place time around but maybe continue to come back in future ',\n",
       " 'notice 2 guest come sit on 4 seating table owner always make point to move say maybe lot of people in hassle to move later shift to small table consider pretty rude to almost table empty in 2 day visit restaurant never completely full ',\n",
       " 'run run run sham up one side down rent economy car like 40 time local prepay through carrentals com clearly state on agreement unlimited mile drop husband off to get prepaid rental car from ez sleezy car rental of la vega hubby get to counter guess say local need to bring bill from home to prove live get 150 mile per day need to pay big fat deposit clearly say on contract unlimited mile pay in full rude b tch at counter horrible wench with horrible attitude nasty person husband walk over to hertz rent car pay in person 200 00 hold fine 20 00 for 1 day less ez shit hole nasty car scam not rent al on contract say refund matter seriously break contract but change alllll term local prejudice towards u disabled vet marine business owner with 5 year old child with u stay away from place glitter not gold lie steal cheat customer go to anywhere rip off place freaking nightmare local not come at purchase online not matter screw plan on get car somewhere else plan additional chunk of money wont for vacation run run run unless like run around get rip off nightmare use company one problem with bad experience ever rental april 2015 ',\n",
       " 'place over top food great portion hell every restaurant in vega begin serve sumo wrestler family great mix of food mayor of flavortown burger motley que sandwich vega fry not kid fry not side not by long shot meal for 13 filling meal love food but to say motley que best meal of night damn wife always brag about good at ordering place not inexpensive but portion quality make well worth dinner at burgr night before for 100 good option by long shot complaint hostess staff treat like crap number to personality make effort to get excite about meal give cell number text next ask about wait after 45 minute tell texted 6 minute earlier show phone text well also mean apology from either give look like still want in not people to rude to ',\n",
       " 'food good but service always lack 35 minute wait time for lunch unacceptable especially hour for lunch ',\n",
       " 'nice enough theatre but not great overall experience one person work ticket counter at 7pm on saturday night long line to get ticket mean stand outside in sun kiosk screen sound chair good way hot never walk out of theatre with swamp before 10 min of commercial prior to start time follow by another 30 min of preview talk about pinching penny squeeze every ounce of profit out of movie experience liken to one of free iphone game with add run constantly cheap cheap ',\n",
       " 'love food at panera thing about place slow service staff behind counter chit chat with guest not seem to notice people wait in line seem to always wait in line during hour break always rush to eat to make back to office also order salad with cheese but for reason always add cheese always to return food to get order correct wait even longer ',\n",
       " 'good time kind of upset previous dentist leave walk in one day for medical visit whole office different wish would send email something let know like new dr explain everything not issue with staff really nice hate dentist make easy to thankful for ',\n",
       " 'like neon something about say taboo allure to indulge in sort of human vice moth to noble gas flame people seem to slither way to oasis of night incubate amongst in haze of sensory saturation kelly beckons to person want to sit beer person may want to catch someone eye without filter through wave of affliction shirt over rancor of late young ___zy song perhaps someone want to wear argyle sport mustache still think not ironic try to ironic person simply want to enjoy solid bev for price point for chincy pittsburghers well like stiff drink 70 decor somewhere in previous life wear nothing but polyester like miami vice maybe boogie night either way environment always friendly intimate depending on wish cant go wrong with french 57 mac cheese sort of nom nom tab for night at kelly something feel comfortable take home even not take anything else ',\n",
       " 'note restaurant locate in esplandade with amc cinema to east of ritz carleton best bet to park in parking garage go to walk mall even tough to find not give up also longer fuego taco but fuego del mar with seafood centric menu say pretty edgy by time arrive from cave creek out shopping heck of time find place arrive about 8 15 pretty close to closing groupon yelp review say staff like groupon er greet by guy assume gent someone describe xl little round warm welcoming fella beam smile at u wave at dining room tell u to sit wherever want choose cozy booth in corner server in moment with menu take drink order wish remember name dark hair in pony tail glass really personable nice despite end of night late comer nice ambiance expose brick wall soft light great music dh would like playlist trouble hand u menu except for one dish everything seafood fuego taco fuego del mar dh not like fish semi allergic to shellfish ask want to leave say go thru much to find place would order one non seafood dish at least not to make lot of choice dh order pernil asada describe slow cook pork top with mango chile salsa side green chile bacon hushpuppy latin succotash order signature dish of seafood chile rellenos poblano pepper stuffed with shrimp crab tilapia in lobster tomato sauce with hush puppy pineapple serrano cole slaw for drink dh get house red get pomegranate adult lemonade drink arrive in less 5 minute dh happy with something althought would bottom row plonk adult lemonade delicious to careful could drank several of taste like lemonade with hint of fruit but definitely alcohol in entrees arrive within 15 minute of drink dh on one plate three hush puppy latin succotash look delish mound of pork with salsa not super pretty presentation much beautiful mammoth poblano pepper in puddle of light red sauce slaw hush puppy on side lovely presentation comment serve something in bowl although large need to cut problematic like to say wonderful dh meal but basically get one bite of pork would share before devour say one of best pork dish ever enjoy felt like in caribbean get bite of succotash darn look good scarf hush puppy go fast seafood chile relleno best thing ever but good beautifully cook not greasy seafood not overcook at lobster tomato sauce delicious quibble serve in bowl deep bowl small girl might trouble reach in but fairly tall long arm hush puppies shut mouth darlin but dang good lot of lovely bacon flavor hint of heat touch sweet with yankee not add bit of sweet to cornbread whoever make know pineapple serrano cole slaw in citrus non creamy dressing crispness fruitiness heat perfect counterpoint to richness of relleno huge portion end up bring home half relleno slaw two hush puppy lunch yum dh swined plate deli turkey for hahaha bonus end up talk to gentleman in booth next to u interesting musician live over u world europe middle east really neat guy would not live in city but love visit city cause meet interesting people at end pull out groupon give to server apologize hide until end but yelp review indicate groupon er get short shift far service go take graciously with smile say one of issue fuego tacos people order 9 plate proferred 10 groupon not nice btw fuego del mar entree from 20 25 for sure back field trip for u but worth around good experience ',\n",
       " 'first time go to harvey impressed service wonderful cook even come out to check to make sure enjoy meal burger best burger since move to phoenix restaurant self thrill but would recommend to anyone crave incredible burger great service ',\n",
       " 'pretty big portion good for family style walnut shrimp 90 batter 10 shrimp recommend fish filet jelly fish ',\n",
       " 'after get into arguement at another az casino with fellow bj player decide table poker game for 3 card poker specifically love go to wild horse pas casino table dealer dealt with friendly win lose trust see fair share of cooler asshats in casino dealer past friday night especially helpful to friend of mine newbie to 3 card teach basic 27 7 cafe decent food although think next time order side of bacon order of sourdough toast instead of club on sourdough bacon seriously awesome finally many thanks to wild horse pas for 5min 3 card poker table on friday night big thank to dealer deal 3 of kind straight flush cha ching color up yo ',\n",
       " 'excellent for take out delivery food authentic ingredient incredibly fresh necessity in thai cuisine pad thai perfect green red curry consistent delicious eating in but avoid decor date tacky not pleasant environment to dine alalthough server pleasant ',\n",
       " 'nice way to spend morning relaxing by pool enjoy breakfast at terrace pointe café service great food delicious please bring back lobster egg benedict wynn sunrise juice to menu ',\n",
       " 'wonderful fast service receive almost daily update by phone everything need to confirm by beforehand price estimate accurate able folk at bell auto nice understand work well with need ever need anything sure to return ',\n",
       " 'definitely not best look place food ok crab rangoon disgust could not even eat chicken broccoli weird taste gravy really thick rice not best ever take five minute to greet to order food go back ',\n",
       " 'taco good service good neither great twice like taco sauce caddie oh god rate low mexican restaurant nothing spicy nothing ask greet with shrug ask employee another shrug mean spicy salsa sauce nothing spicy sorry sir scottsdale not spicy freak to clear not tabasco anything even close to hot habanero oil ask hot sever tell think vegetable oil hot cause tell truth literally pas next time ',\n",
       " 'first love barbecue second love place serve pile of meat on tray simple creature naked bbq fun fast tasty staff ridiculously nice fun for food side bit lackluster need bit of spicy punch additional creamy fatty goodness but totally okay meat real star try four option agree like brisket pulled pork chicken tasty well overall fun casual lunch with before mention meat on tray would totally stop by for lunch brisket pick up adventure ',\n",
       " 'first time try salmon enchilada with brown rice cajun bean salmon tricky fish mention in previous review happy to taste well cook tender salmon red enchilada sauce spicy but not unbearable cajun bean also spicy but tender make with white bean bean right kind of tenderness to indicate not bean brown rice regular wheat rice great place for baja fish ',\n",
       " 'visit location three time staff nice but get order wrong every time sometimes out of thing standard for ice cream shop out of hot fudge at 6pm know first world problem understand one visit disappoint but three in row probably wo not back give local ice cream place across street carolina creamery try ',\n",
       " 'come on wednesday afternoon jessica kailey amazing drink ice cold perfect staff nice fun love place ',\n",
       " 'for first ever notice think cheat on gasoline near empty get fill up 20 5 gallon pour generally near empty max ever see 18 18 2 reserve look up 20 gallon tank in vehicle after reserve take into account definitely something off machine need to calibrate properly otherwise seem fine kind of dingy for terrible location also would not use car wash touchy kind give car million little scrape ruin paint job especially apparent dark car fix thieving way give em 3 to 3 5 star for need serious cleaning update ',\n",
       " 'tell oven 2 000 degree take pizza 90 second to cook order would ready in 5 minute hang up phone by time get home rubbery word anyway yuck wo not back ',\n",
       " 'actually not first time come time already food pretty good complaint at come for curry rotis order beef brisket curry fried rice 2 extra order of roti wish bit beef in curry thing pretty good little on expensive side portion bit small for price charge guess get away with food pretty good after come back yes but not go out of way to come not usually craving for curry never always find thing on small side lately idea ',\n",
       " 'different to review try fish taco churro definitely superior mexican taco joint around in city ',\n",
       " 'omg not good at usually not give horrible review but father get sick from vermicelli seafood soup seafood not fresh go bad pho soup base alright but meat get stenchy k ow get rotten ',\n",
       " 'come after concert at mgm service excellent food great get to sit near band member see get couple of autographs cool ',\n",
       " 'take daughter to see dr lederman in glendale office need shoulder replacement tell best daughter multiple disability from tbi use of one arm shoulder of course doctor know condition at first appointment say young for replacement last long want to put off surgery suggest series of shot in shoulder not relieve pain next appointment with dr lederman couple year later due to increase pain daughter send to pain clinic say young for surgery rehab would hard shot in shoulder neck not relieve pain prescribe with pain med go on another year cry in pain everyday in night massage up to ten time day buy every pain topical solution could find besides take pain meds cry beg to cut off arm several time finally go back to lederman time daughter refuse to take for answer want surgery dr lederman leave room come back in say not man for job staff not accustom to work with someone with tbi walk out like not already know condition from day one daughter suffer terribly for year of delay surgery refuse to refer u to another doctor turn out to blessing with caring heart dr dana seltzer surgery difficult rehab difficult but get through team pain free with of shoulder movement intact ',\n",
       " 'denny food at beverly hill price one star for decor not food bad egg benedict in entire life bacon dry hollandaise sauce tasteless bland for half belgian waffle saggy whip cream from 99 cent store maple syrup liquid sugar with water dissaiponting breakfast ',\n",
       " 'order out at work every week get menu in mail give try last week pizza hoagy salad pasta dish order with evidence leftover shortly after delivery pepperoni pizza delicious thinner crust place light on sauce prefer pizza coworkers food item enjoy lunch look forward to try menu item ',\n",
       " 'regular cleaning smooth always appreciate timeliness of appointment work perform on teeth pain free effortless much appreciate overall great atmosphere friendly staff across board relax background music top notch dental care deliver enjoyable experience ',\n",
       " 'specifically go to location even although bit far from of friendly staff great recommendation ',\n",
       " 'sicilian pizza amazing alfredo sauce food service great order pizza cheesy bread for pick up everything ready get extra wait definitely back to try of item on menu ',\n",
       " 'craving for quiznos for quite sometime decide to stop in try store out quiznos satisfied lunch craving worker super polite make sandwich with customizations on point thank quiznos keep up good work please open up location ',\n",
       " 'not great food stodgy fairly tasteless dish cold ca not really ask for much out of lunch buffet but surely tasting of something ought to first thing one aim for in food save calorie for something else ',\n",
       " 'hand down worst gluten free cupcake ever not believe anyone would associate product with name terrible not bakery gluten free cupcake superior to one but grocery store box mix like gluten free betty crocker pilsburry first time ever throw away dessert half way through always finish save for later vanilla flavor not problem dry to take sip of water with bite would get stick in throat at fashion square crave gluten free treat favor go to macaroon place disappointed especially consider cupcake 5 after tax one star for gluten free cupcake not not try regular one ',\n",
       " 'sexy swanky art deco craftsman interior with nightly piano serene patio seat for fireside canoodle sunset viewing enjoy early desert spring weather service attentive quick friendly sunset margarita fruity refresh retreat go perfectly with awesome chicken quesadilla not at biltmore for work would found at pool entire stay in phoenix ',\n",
       " 'frankly disappointed guy one of favorite chef know cool love since of humor but menu lack to concentrated good quality hold up to get bacon cheese burger could get thing at half price 3 block down strip seasoning bland lot of grease reason get 3 start guy sure restaurant not represent well ',\n",
       " 'go in to car detail tell would take hour walk away attendant say oh maybe hour half after hour 15 minute ask for status update tell another hour hold captive part with piece quit go to for oil change for reason unable to deliver promise wo not go back for anything except floor mat not get put back ',\n",
       " 'last night great morning leave overs staff polite courteous love beef mongolian feel like bread chicken much mushy but great place fast good clean ',\n",
       " 'first ever barbershop experience not think get good take time with hair to bring to orgasmic perfection explain ',\n",
       " 'amaze pizza alalthough forget cheese stick forgive but not let happen ',\n",
       " 'come with group of 20 to see morgan page on 11 30 12 arrival get to club around 11pm get to club simple take around 15 minute from car to line include bit of pre game entry get entire group on guestlist with 1 1 guy girl comp until midnight sign up on website get text back put on entry line confuse hell with at least 4 different line staff promoter general vip open bar for lady from 11 12 thing bit rush come back to bite in make mistake of leave guestlist line for short staff entry line member of group with female staff member say could get u free in even although guy girl ratio guy speak with personally to make sure of before leave line well lie bouncer upfront simply take first equal ratio of guy girl leave another guy stick pay 40 entry girlfriend not pleased with fact one of group member come stag get in for free not whatever lesson learn not rush in not tempt by open bar short line stick with guestlist approve make sure group ratio even favor girl not listen to otherwise club layout club nice not quite grand spacious xs next door but beautiful venue but main dance floor average size spacious enough not feel like sardine adequate room to dance stair step to climb la marquee lady appreciate main room flank by large tent like area outdoor wading pool patio area easy accessible restroom outside well indoor one get crowd outdoor area ideal for want to socialize take picture take breather etc beautiful bar indoor bar layout terrible maybe 10 foot between bar back of booth for get table 10 foot also serve main walkway to get to tent outdoor area not surprisingly lot of push bouncer shin light tell to move bad of take forever to get drink say before to not by tempt by open bar for lady bar lady get free drink from on top of lady get one drink at time lady plan to for hour get drunk pas drink to guy disappoint outdoor bar nudge in between tent outdoor area empty stress free compare to one inside would recommend buy drink from drink typical vega price expect in neighborhood of 15 per overall great experience at surrender club beautiful group blast morgan page opener rock learn from mistake stay away from indoor bar come with great people one memorable night 4 5 ',\n",
       " 'grand place in many way lobby pretty décor over top disneyland shop great choice of restaurant skew towards heavy food good room big comfortable room probably best reason to book get room during week for 175 less room always smell bit funky first walk in although not sure maybe time to rip up carpet but property crowd crowd not exactly fun type of las vega people like show jersey shore invade place sure average person from garden state enjoyable crowd cheap plastic gaming average strip gaming with lot of slot fun machine ',\n",
       " 'okay expect base on friends referral but food average service slow leave disappoint 38 for steak expect much brussel sprout small plate on point but overall would not return to spot ',\n",
       " 'super quick service from car to terminal vice versa cheap rate also great always find coupon online ',\n",
       " 'fast to go service pad thai make from big noodle use to but good flavor ',\n",
       " 'place awesome atmosphere cozy veteran whole meal free in military for almost 4 year never to place offer something like to veterans pleasant surprise staff nice food great definitely worth stop ',\n",
       " 'first off call guy barley speak english order pizza decide to cancel 2 minute later call cancel but still charge credit card call ask for refund pretty much tell bad beware of would suggest roma pizza good family ',\n",
       " 'real ecuadorian helado de paila gelato beautifully fresh flavorful gelato also wonderful service to boot favorite key lime twighlight flavor owner amazingly sweet people come support business wont disappoint ',\n",
       " 'great quality of food plate look clean appetizing fish fresh well proportion with rice kind of particular about nice service well park bit tight also limited seat especially during peak dinner hour definitely would like to try take out next time ',\n",
       " 'perfect place to relax after red rock adventure great drink great food definitely try philly fry sit in sarah section first time serve u friendly attentive thanks ',\n",
       " 'use to annual vacation to vegas with either girlfriend husband koi place to go to get sushi need ever since go to social house certainly change mind about go to koi girl friend go to social house last saturday little before 5 before restaurant open for dinner host friendly inform u restaurant not open for dinner but girl friend cocktail wait wow love socialite cocktail girlfriend amaze by lycheetini drink incredible definitely give u boost of confidence about meal about to time for dinner pick bottle of sparkle sake call hana awaka sincerely best sparkling sake ever little pricey not pricey in vega but definitely amazing experience to try something new food oh food incredible favorite hamachi jalapeno hamachi tartar miso cod lettuce cup uni of dish nice portion since mean to share althought great concept food fresh nicely flavor actually order dish girl friend definitely in sushi heaven everyone in restaurant extremely friendly seem genuinely happy to work manager come to ask u twice to see satisfy with food good time water never go half empty water busboy constantly refill soon drink for someone drink lot of water with meal constantly ask for water huge plus for ambiance amaze enjoy trendy music but not loud could not hear conversation overall incredible experience dining at social house fantastic meal girl friend still talk about half house after walk out of restaurant definitely one place to visit every time go to vegas ',\n",
       " 'wow place take kid after easter brunch great time get little pricey not careful take extra order of doughnut hole to convince to leave ',\n",
       " 'want to start by say staff friendly knowledgeable but not good experience chronic eye condition require to get hard contact lens for one eye typically to go to oakland to get want to see could find somewhere closer to home get new glass lens new hard lens first lose order for eyeglass never realize until about month after visit call not hear anything get prescription far strong to back off get glass take over two month for hard lens take time to get correct well but expect also take several time ask oakland optometrist to get record fax to mccauley celin at first say never receive but find in another computer system first lens not fit quite right go to wexford office to get checked leave lens need to return new lens come ask for old one apparently lose out somewhere pay for lens with fsa account but tell cover under insurance would take care of not happen call to ask about never get back to go to gibsonia office say owe money fix take several month need glass lens fairly routine in need probably fine but go back to oakland guess office staff ca not handle anything ',\n",
       " 'beautiful facility excellent massage go back tomorrow hopefully every time visit toronto from on ',\n",
       " 'sucker for good falafel place deliver order combo with side of hummus tasty fresh falafel good but little loose hummus would definitely come ',\n",
       " 'use red carpet vip to set up friend bachelor party customer service awesome of phone call either answer immediately get call back within hour everything go exactly say would schedule for 3 separate limo pick ups 3 on time driver awesome courteous also get hosted entry to xs for night with calvin harris dj ing crazy line get in really easy host texted earlier in evening could tell would get to xs arrange to meet u outside club walk u right in past giant line even past endless line for girl group of people wait hour to see calvin harris honestly not say enough about painless whole process awesome of staff throughout whole process guy go to need to get in to crowded event club in vega ',\n",
       " 'sad to see sabrina leave orange county depend on for past 4 year petsitting huge english mastiff sabrina make life much easy to travel with peace of mind know kali would well take care of even give up update picture go not hesitate to use sabrina really fabulous everyone on site say kidding ever come back to c welcome back with open paw ',\n",
       " 'time service super slow to order coffee coffee price not cheap ive sandwich pretty good but heavy people come to use free wifi sit for hour drink water not favourite place inside could fix up little ',\n",
       " 'mexican born raise in california sorry place horrible chili strange taste throw away buy hamburger from b k say lot not waste time could off day for anyways order through drive thru practically yell think omgosh really never try let know like ok lol ',\n",
       " 'love one out rea rd thrilled open near house ',\n",
       " 'good korean grill near eaton centre marinate good get beef ox liver salmon fish fillet chicken pork pork belly fish fillet bland liver meh salmon chicken really flavourable fun place to eat at for date group of friend even alone judgment staff attentive nice considerate big group likely seat on second floor way big caution smell like bbq grill after ',\n",
       " 'not fan overprice over cooked bland burger everything extra fry onion ring ',\n",
       " 'bogo for samsung galaxy s9 in april 2018 arrange for in store pick up get phone pay off old one close tablet line good bill of go down 10 two month later bill go up 60 call verizon say store mess up call store put back on call center get call center to submit form 3x to fix promotion deny for various reason final one account past due charge extra per month pay off file bbb complaint not care call center store fix need to right customer for over 10 year not way to treat long standing client ',\n",
       " 'comfortable surroundings great service food good defiantly back to try rest of menu for dinner well ',\n",
       " 'off season for summer take advantage of 49 00 tune up mine today also purchase condo for mom inspector from realtor referral not allow on roof inspector to check unit hire duke of air need 300 repair seller to fix ',\n",
       " 'best place to get tattoo hand down shop clean guy work good at take lot of pride in work live in texas still fly to phx twice year to fat rat tattoo wo not disappoint in work go promise ',\n",
       " 'like 33 degree outside usually not eat ice cream with glove on three scoop for regular enough for two of u valhrona chocolate really good pumpkin pie ',\n",
       " 'local breeze one of favorite restaurant in city bf go time for brunch also really good burger favorite part about place dog friendly patio usually bring dog little dog bowl with water sometimes even cookie try coca cola ham omelet for brunch ah mazing ',\n",
       " '7 15 17 come to vegas to celebrate milestone birthday saturday seem to want u to at encore beach club entire day night first attend diplo with promoter price ticket for guy lady on free list come around 11 to avoid line easy peasy eat let sunscreen dry spend whole afternoon dancing splash staff great people well hard partying but fight ratchetness people from over time of life rave booty twerk tacular spanking bartender seem to fun people drink saw smile could see diplo from of pool except perhaps front middle people stand dance in front of dj dance with group of 8 4 couple meet plenty of nice people of group come in from over come back for marshmello saturday night nightswim not see since edc last year get great table on lily pad off pool not on pool in case gratuitous splash want dry drinking spot haha view fantastic table perfect vip even invite u into small vip pool behind u get great package start with 2 magnum of grey goose great for group impressed handle large group 12 on table 14 total night speed bump of credit card decline forget to tell bank leave state host alexia beholder of supernatural beauty wait patiently kindly call card over ride security hold calm pleasant simply say happen time in stark contrast to treatment at omnia night before bartender threaten to friend arrest card decline alexia runner damn totally forget name even really nice guy treat u incredibly well come back pour drink throughout night not obligatory first round also make sure stay hydrate super important 100 at night give u right amount of attention class thank guy special thanks to alvin for rockstar treatment at door saturday night cherry on top of birthday weekend truly not expect anything less from encore wynn x surrender encore beach club never get anything less best experience over span of year attend with ticket table best always best thanks ',\n",
       " 'gelato send from god kid desyree make everything go into gelato difference right ',\n",
       " 'go to grocery store lazy to head to winco well over hundred time experience pretty standard for smith store in experience never problem with stocking good item always stock well regardless of in week come not big fan of produce but about 20 of time bring green bean asparagus two day later cover in mold not refrigerator long purchase produce except for in bind store also always clean never see spill poorly arrange merchandise testament to hard working staff staff always helpful friendly not always enough bagger but last time plenty would not even let unload cart separate person in aisle unloaded people cart for first time experience pretty great price bit on high side overall would not shop not use smith card price outrageous with out but end up pretty reasonable remember to use gas point make easier by smith gas station locate directly in front of store definitely need way cart corral in parking lot like at least double amount currently none closer to gas station store busy people lazy to walk cart back to corral see cart fly into parked car on at least three separate occasion hope smith management read review fix problem soon ',\n",
       " 'about two week since omar window tint look great to scrap off old nasty window tint start to bubble work awesome 3rd vehicle for happy every time for sure always keep business with price fair but quality professional service speaks for thanks omar ',\n",
       " 'nestle in for relatively sleepy corner of downtown urban bodega aka urbo feel like something of throwback to of small convenience store use to see line roosevelt row neighborhood back downtown still neighborhood diehard entrepreneur dare to tread could find one of small neighborhood shop sell everything from wine beer to snack to cook essential even household clean item relatively new pure fillmore apartment complex currently first of undoubtedly many new apartment condo complex line 7th avenue in downtown but for near full size grocery store require car reason urbo location make sense find urbo on bottom floor of pure fillmore apartment on fillmore street east of 7th avenue brainchild of desoto central market alum shawn connelly enter through front patio area seating for eight by way inside whole lot of stuff mix into small space behind counter get coffee tea even sandwich make on spot in front of counter essentially small independent convenience store with many of thing expect candy bar meds condiment snack microwavable item beer wine soda well odds end like tissue paper shampoo storage bag well imagine downtown college student live in apartment upstairs hang over tired to drive two mile to safeway instead opt for stop for first stop on saturday morning opt to get quick morning pick up tea sandwich get salted caramel ice tea also available hot turkey sausage egg cheese sandwich on english muffin make to order total cost include tax 10 to fair prepare sandwich in part use microwave not talk gourmet still sandwich hit spot sausage in particular tasty also happy with tea almost taste like southern style sweet tea of sort with caramel accent solid breakfast locally business fill need in emerge neighborhood nothing pretentious good straight forward progressive independent convenience store even not live in quiet corner of downtown worth look sip bite in case ',\n",
       " 'fitness together say nothing but positive thing about experience at fitness together steele creek facility clean well equip staff knowledgeable full of personality wife first show up deal to try five session for 99 dollar talk for about join gym but fitness together much like community of people work toward common goal of get fit take control of health owner joe knowledgeable in fitness exercise importantly nutrition work with u to set up individual nutrition plan exercise program to help u attain goal include with session purchase fitness assessment measure body fat percentage fitness level rest heart rate flexibility factor additional assessment give throughout tenure fitness together member watch total body transformation encouraging atmosphere matter current level of fitness at first dread go to exercise but after see positive change ca not wait to get back like fact session purchase in package without long term commitment but must say continue to add additional session mainly continue to see result wife strong healthy happy thanks to joe knowledgeable helpful staff highly recommend fitness together to anyone look to get into shape tone up lose inch lbs great experience ',\n",
       " 'go to alchemy today friend crave burger never din before but suggest thoroughly impressed bison burger to die for bite instantly want another order blft load with bacon flavor minor issue with first little much aioli on bread second fried tomato red tomato not green tomato find texture of tomato unappetizing also enjoy bloody mary nice local craft beer selection for dessert espresso torte one of best ever service also spot on return soon to get bison burger for ',\n",
       " 'look for big hearty breakfast look far place get exactly look for for pretty reasonable price go with friend after night of ahem good old madison weekend fun exactly need get egg mornay sausage patty poach egg with nice sauce on top of english muffin not enough carbs for come with generous help of fry potato good stuff also random note despite appearance old fashioned diner get hipster vibe from get in ',\n",
       " 'convenience store go one could poster child for wrong with concept need for procurement of gas subject for another forum food option fair game in case like not fair lame ',\n",
       " 'nothing special about expect out of mongolian barbecue style chain choose base meat carbohydrate but not portion set add choice of vegetable watch roast in front of go with chicken rice noodle ginger garlic sauce finished product taste like propane guy fry everything up work hard but effort about best thing say about place still like good noodlecat although not seem to take seriously many of kanji on wall backwards upside down ',\n",
       " 'arrive at 10 00am not able to get full tour until 1 00pm opt for mini tour informative interesting start with brief video about dam last about 10 minute lead to line wait for tour to begin take down elevator into depth of dam get to see working information about build guide entertain well dam entertain about dam tour lol after tour conclude allow to walk outside see dam from great viewpoint awesome time to take picture really enjoy massive beauty of place also small exhibit inside tell about hoover dam build take amazing people build place long ago horrendous condition to endure stand outside in late july temperature top 106 but in sun felt like 120 explore inside exhibit view wander outside walk dam beware leave dam tour area not return one way exit recommend bring lot of water hat heat make explore dam outside almost unbearable after check outside of dam walk over to little souvenir shop buy item by time hot starve stop at small deli snack shop at dam snag table to eat lunch beware get crowd order small deli sandwich chicken tender fry for kid tip bring bag lunch sit on shaded area bench during walk of dam to really enjoy experience subway on drive in to stop at memorable amazing visit one of place see remember forever ',\n",
       " 'suck try to buy texture for paint four guy in department busy bullshit except for black man to work help people also buy toilet month ago say someone would contact in two day little over two week after son end up instal call one star ',\n",
       " 'never rent from budget rent car get totally rip off by employee at phoenix airport location on 5 3 18 add fuel surcharge of 40 to bill despite specifically tell not want would fill car up with gas before return car also tell insurance would 30 not specify would 30 tax for day car ask 61 book on costco become 200 rental tell arizona lot of tax give take long to wait for to prepare contract not read everything 87 year old father in wheelchair with complain to budget later tell sorry sign contract shady shady business ',\n",
       " 'staff nice helpful but price suck over price go with wife sister brother in law want to get tattoos 6 fairly familiar with tattoo pricing long story short wife want small piece around 75 to vegas price maybe 150 want 350 buck must joke right piece maybe 150 200 want 750 point apparently think ink liquid gold something ',\n",
       " 'truly enjoyed work with fred lembo close on first home could not happy with fred team matter happen in process not let u down always back make sure understand route option make process fun excite unlike agent work with fred never make u feel like reluctant to show u property patient with u throughout process give u time space to make decision go above beyond in background to prepare for scenario always ready to go need fred also excellent negotiator help u feel confident comfortable with could otherwise overwhelming circumstance would highly recommend fred to anyone purchase sell home privilege to work with shannan rest of north co team ',\n",
       " 'atmosphere may expect of bar in middle of suburban development but food drink pretty good friend love beer gush over root beer malt berry drink perfect for lightweight wisco porker pizza tasty full of meat would want expect nice bonus free shot after touchdown during badger game woop ',\n",
       " 'atmosphere nice decor cute staff really nice important thing food bomb get buche taco al pastor taco mexican corn on cob al pastor taco best out of of with lot of juicy meat despite look weird dry on meat spinner call buche taco not much meat kinda sad corn delicious but amount of parmesan cheese on top kill bit mole fry amaze ten out of ten come back for ',\n",
       " 'love pastry shop during stay in montreal try bakery near area not believe in go back to place twice explore new town but place good amazing chocolate croissant almond croissant blueberry tart not to mention specialty kouign amann thing not like apple turnover little tart for taste cafe au lait little on light side ',\n",
       " 'loco patrõn favorite mexican restaurant in valley first try loco patrõn not expect to great figure would typical bar food but blow away by delicious food presentation fabulous service always prompt great place to take friend family highly recommend ',\n",
       " 'ex nyer pretty high standard of bagel not disappoint but would not say truly singular in yumminess review base solely on not try dessert anything else of bagel seem fresh others ever nyc bagel before 8am know expectation also feel like bagel kinda skinny hole big use to really fat chewy but pillowy one sigh but really pain to give anything low 4 star lot of traditional jewish nyc deli delicacy really not see out in lv thing really check out rye bread with caraway seed look good dessert section also pique interest please not get black white cookie hell freeze over before anyone ever like trust shop locate in weird shopping complex feel like dr office belongs inside pretty poppin sunday but line not bad in back to try ',\n",
       " 'first to give starbucks 5 star usually fan with say not huge fan of location first of not sure country wide but charge 70c cad to add drop of soymilk to cold brew ice coffee free in u additionally cold brew not smooth flavor of cold brew use to at starbucks third mobile ordering not appear to function for store in canada may app limitation not specific to location on good note bagel edible type of guacamole avocado spread in container good expect update write to corporate on fact charge money to put drop of soy milk in cold brew confirm not correct practice to charge for tiny amount of soy milk in iced coffee ',\n",
       " 'look for sweet fabulous cocktail dress lovely special item for date petal solid choice petal first open take aback by open airy space but also by price at first blush store not offer much under 150 200 besides accessory but over time petal begin to bring in varied selection appeal to wider stylish market still offer 300 450 cocktail dress also showcase variety of merchandise in 75 100 range plus catch on sale day worth trip brand wise find upscale brand like shoshanna amanda uprichard alice trixie frock by tracy reese james jean anlo citizen for humanity mention begin to add affordable piece from greylin la clothing also spy handful of accessory handbag scatter about in range of price overall like petal know saunter back in even to take in lovely dress stun top on display hop continue to add in variety with price point ',\n",
       " 'sample small plate but good staff helpful but beer selection lack sit on patio okay but need to invest in plant for planter old dead plant really not help ambiance of concrete patio ',\n",
       " 'never rent from friend lose key in car lock out of car call but let u wait for 2 hour transfer key company company require u annual fee for one time unlocked finally end up to talk hotel call local key company also make reservation middle car for 120 but last day require 210 include insurance even call for unlock key say not insurance careful about total fee not recommend ask to rent car ',\n",
       " 'go last week complaint make appointment online super easy to schedule place little hard to find but eventually find in one building fill with multiple salon but kelly hair extremely nice chatty tell want make happen also not nickel dime add on surprise price go back ',\n",
       " 'review for take out matza ball soup real hot tasty on rainy day suggestion although sturdy container for hot soup clear plastic flimsy cause burn need plastic soup spoon teaspoon say not plan for soup also think cashier say bagel chip come with soup but none in bag indoor parking best on rainy day good work in progress ',\n",
       " 'seem old tire ate frequently about 20 year ago return for happy hour year use to good place many year ago but many great restaurant open in recent year to eat strange rule about eat in bar area food meh ',\n",
       " 'start go 15 year ago think 10 for sure refer by relative know famous clarance owner of place tell niece of say remember not insurance for glass give reasonable price friendly chatty despite age difference probably not much old child become quick great friend even go over to chat after get glass year later still good friend everytime go in always ask about grandma hard to find good service nowadays keep up year business grow to admit send friend also might need to wait bit longer for personal service but worker nice helpful price still reasonable with great selection ca not imagine to go anywhere else for glass ',\n",
       " 'go in to sell 3 nice old piece of clothing tell after hour stock up on specific type of garment ask would like to donate instead to ask donate say salvation army with arm cross look straight in eye obvious sign of defense lie give thumb up shot smile leave not really trust not sure but feel like shady maybe corrupt probably never go clothes actually go to salvation army next time ',\n",
       " 'recommend to try place by people today first time say come back soon service not sure guy owner but friendly talk story wait for food love food come out within 10 min food try hamburger steak delicious gravy sauce put on hamburger steak perfect also come with onion ring on top love chicken katsu amaze chicken katsu crunchy surprisingly flavor by really not need sauce for best chicken katsu overall journey to get to place take about 30min from house but service food make worth drive also love poster of keali reichel poster but keali reichel happens to favorite place clean service fast friendly food delicious could ask for ',\n",
       " 'service reasonable price honest not try to sell u unnecessary part service back up work well before colburn another plumber company advertise on fwy billboard yes rip off come in to give estimate quote 200 expensive colburn work on for u call office ask expensive person on phone tell u best well to respond best at rip u off hang up phone up let say definitely use colburn enterprise ',\n",
       " 'go to get cup of coffee breakfast expect to wait in long line but after wait for over 15 minute in drive thru finally make up to place order lady rude ask for almond milk say out ask for soy get loud with say say out of everything could find nice approach instead of yell at get to window to pay for able to order tell want food would need to come inside leave dog in car unsanitary for to 3 lbs yorkie in lap handle food never heard of anything stupid in life wo not go back ',\n",
       " 'yeah hear people always raggin about post office but know gang postal service best deal anywhere in world ship stuff over world cheap to use u postal servie of private shipping company fedex ups dhl etc last month in las vega quick trip to watch beloved hawaii warrior play football against unlv in las vega decide to go up with duffle bag for luggage basically away for 2 5 day professional traveler like to travel light take something with on trip sure to use not hate over carry stuff not use learn over year from travel for work to travel efficiently hate carry extra stuff lug excessive weight post office come into play well on trip decide to get to trader joe hawaii thing not tj in hawaii but not gang sure could carry of stuff buy home but due to security tsa rule buy anything liquid paste not over 3 oz kind of carry on catch drift after buy bottle of cookie butter for sweetie like stuff realize could not carry onto plane with next best thing to yes gang go to u post office get one of free flat rate box load up junk buy make sure pack carefully fragile tape up ship out to in case back to da 808 whaaaalaaaah not cheap to ship even cheap pay for airline luggage usually run from 25 to 35 dollar but not to carry home either smart hawaiian eh lol folks ever load up on omiyagi travel may suggest method to work around dilemma in fyi large flat rate box cost 17 90 to ship fit ship medium flat rate box cost 12 65 to ship fit ship post office also automate kiosk nice to still ship item out post office close say come on sunday to ship something out post office close in case ship box out on sunday use kiosk problemo gang easy bruddah win great service u postal service provide mahalo ',\n",
       " 'not go into great detail but bring car in for problem know inspect car give astronomically high quote on repair staff nice place clean neat simply could not afford price give after continue to research repair need shop around for quote know for fact guy quote double go rate end up pay anywho ton of great shop out sure guy good but ca not justify pay double ',\n",
       " 'everything order completely disgust order from late night menu get veggie fajitas bean rice leave out tortilla in togo order bean rice disgust best friend order fish taco end up sort of strange shred fish boyfriend get salmon salad ok but would well but salmon dry leave out garlic fry on top of of disgust food 91 never eat ever ',\n",
       " 'not bad place to camp out for night in cleveland airport shuttle easy to catch employee friendly ',\n",
       " 'choose place open at time want to go pick up dinner at 4pm order papaya salad pad thai ask want mild medium hot stay safe say mild for well get home open up container of stupidly put in one bag dumb papaya salad always cold to remove in car before head home papaya salad not evenly cut shredder not work suppose to pick up like speghetti clump of papaya shred half way could taste onion onion like eat clumpy mouthful of onion horrid pad thai dry piece of chicken zero season awful crap waste of 17 never back not produce thai food worthy instead of drive back to place to return write review stay away go to thai plate try another place guy one open at time want food bad decision stay away head to fridge to eat cracker cheese tick ',\n",
       " 'din at p j last weekend hear many great thing about food service to check out like atmosphere of restaurant little pseudo patio well nice sit out people watch of crazy people come through forum shop server friendly but seem little awkward not make lot of eye contact recommendation spot on enjoy of food over heard server ask table from little overboard every person come to table ask question poor table next to u must answer 15 time little tip hostess ask communicate to server server approach table say hey hear visit from ____ welcome much personal anyhow on to food start out share french onion soup caesar salad tater tot delicious crouton homemade on salad flavorful soup serve in litte crock cheesy tater tot not favorite in town but still good homemade serve with tomato jelly instead of ketchup main course delmonico ribeye oscar style steak perfectly crab meat bernaise amazing could barely eat 1 2 of meat guest lobster mac n cheese different but delicious plenty of lobster meat large portion spinach mushroom thing mix in different side of asparagus amaze cook perfectly al dente also canon potato on side upon recommenation from server glad try actually english food call bubble squeak mash potato saute with bacon chop cabbage top with cheese sauce sound strange but great combination would go back for dish alone for dessert share fresh apple cobbler top with cinammon ice cream warm delicious like apple pie fresh out of oven overall love place raw bar often happy hour special for 1 oyster not casual but also not fussy everyone friendly welcoming food great ',\n",
       " 'in need of home inspection for one year warranty in new construction home clear view great prompt professional thorough find small but important safety issue would never find on glad turn to ',\n",
       " 'first time since move to nevada not sure to expect but staff super nie friendly latasha awesome job with hair ',\n",
       " 'rob awesome meet u at midnight right away could close on house next day save day price fair even print scan email everything back to make convenient for u would use without question ',\n",
       " 'ugh go second time order from crepe club through postmates time big let down order through postmates several time week rarely ever issue know nothing could of prevent unless driver start sample food drink before delivery order regular chicken florentine crepe cold doughy undercooked generously stuffed almost much spinach fresh but not cook like eat salad in crepe mushroom clearly precooked mushroom not totally offend by but put ton in raw crepe not really tasty ice latte option to not add flavor baffle in flavor option not requirement give ca not stand sugar fill syrup pretend to caramel in coffee in special note section specifically ask flavoring add extra shot guess get caramel syrup latte girl even special request field not go to read happen first time order not know ca not see note figure put on postmates confusing chocolate croissant tasty seem fresh nothing special but compare to 10 crepe water down overly flavor latte shin dear management read review common theme crepe undercooked go to bold to name establishment after certain food best knock out of park ihop make good chicken florentine crepe shameful give two shot overprice let down space ca not seem to keep business long 2 year shock stick around ',\n",
       " 'love ambiance of restaurant food amazing service excellent start with famous roy hawaiian martini lobster potstickers for apps scallop swordfish for entree everything cook to perfection dessert lover like especially cake must try pineapple upside down cake serve la mode good first time but definitely dine at roy ',\n",
       " 'today go to rent unit staff friendly helpful place self nice keep clean thanks lot al jeff ',\n",
       " 'really want to love place in neighborhood beautifully decorate with clean interior product stop in before christmas receive welcome tour to get nail last week out shopping decide to stop in see need appointment could take walk in nail tech sit around customer woman at front fluster not appointment ask could get gel manicure customer never feel unwelcome althought about leave finally take nail tech complain about gel on nail tough to get off struggle with 1 week post manicure 3 out of 10 nail chip need to redone lot of kink for to work out hopefully matter beautiful space customer service well product everything ',\n",
       " 'mary husband come out assemble piece large small in good job polite think extend courtesy actually ask to come back another small job need fixture attach to cabinet drawer mary quote price accept agree on date on day suppose to come out about hour before scheduled time mary texted tell husband flat tire late tell problem ok silence never hear back from texted time to reschedule ask everything alright even ask ok know mary get message get read receipt completely ignore strange for work rate four but for appointment cancellation non responsiveness id give zero could stephen w say real pro beg to differ professional run business always respond to customer ',\n",
       " 'place get crowd wait 20 min for table at 12 30pm during lunch rush clear out after 1 30pm waiting after lunch rush portion huge with typical deli style sandwich bagels bakery great item ',\n",
       " 'great columbian street food place lot of option in place locate but think choose right get hot dog columbian style empanada yucca great ',\n",
       " 'love bubble tea shop green grotto nice comfortable atmosphere definitely place relax drink drink good food well give out free popcorn unique cool service great worker also kind great place to go on small cute date would definitely recommend to friend ',\n",
       " 'nice date with bae on friday night order couple of pint enjoy vibe of place overall to share decide on fried jerk chicken wing delicious bae order baseball steak opt for soup salad try bite of steak tasty side of smash fry red potato oh good enjoy french onion soup arugula salad well would return in area ',\n",
       " 'service great food disgust ordered clam chowder barely warm order fry shrimp shrimp not devein seriously pay 18 99 for fry shrimp with poop vein still intact ugh also order plain iced tea frothy super bitter definitely not at impressed wo not return ',\n",
       " 'bricco local junction restaurant truly would like to support but confuse meticulous attention to detail about restaurant decor but in couple of visit with friend one of four in group not happy with select three thrill chef inconsistent try hard to creative always draw to menu with wine pairing on new year last although bricco menu not flow well of wine pairing not make sense to point of request thankfully receive replacement wine would lose hope except main cut of beef with italian pairing to die for let hope for consistency local fill room ',\n",
       " 'locate next to costco near woodbine hwy 7 look like lot of people go for dim sum grocery shopping without to move car but unless take advantage of early bird pricing not not great place for dim sum well quality price choice readily available party of four pay 57 in for 8 dim sum dish plus noodle plate ',\n",
       " 'wife fly out to vegas for 3 day president day weekend 50th birthday reserve car on line at hertz day earlier mercedes c class from prestige collection select reserve exact model option would get mercedes also sign up for hertz gold membership car would ready for u would able to skip usually long counter line at mccarran airport none of thing happen reservation for 3 00 at 2 48 receive email confirmation car ready for even give stall to find car license plate to identify car even color white get to stall car but not car reserve receive confirmation for explain situation to couple of worker walk by tell mercedes earlier but somebody else get somebody else get in stall reserve for right ok over to office to stand in line anyway counter worker tell mercedes available say reserve one specifically choose exact model one supposedly wait for receive email tell tell good car for cadillac go out to see cad see mercedes white one ask for tell hold for someone say yah say ca not ask not say on hold for someone else ask car on hold go to someone else could not explain look at cad tell two to choose from would like good mercedes anyway 2 cadillacs 0 mercedes available anyway agree to take cadillac but leave wonder great about hertz gold club to wait in line not get car reserve promise time to start shop around for new rental car company ',\n",
       " 'ok live in madison for over year try to find place with decent but inexpensive chinese food fugu ok but overpriced delivery slow ichiban seem ok try others with luck finally try double 10 soooooo happy really good but also way cheap anything else find in town really like garlic sauce also super fast service new go to chinese place ',\n",
       " 'first time everything amaze wonderful little gem find in place look like not much out front but charming original in back beautiful patio food fabulous lunch today but back to try breakfast look incredible plus detroit tiger fan add bonus ',\n",
       " 'picture homer simpson see something really delicious want to eat eye close bit mouth water profusely make mouthwatering gargle sound image in head well probably exactly think about eat at jimmy delicious whenever think about instant crave amount of food get for price unbelievable donairs shawarmas big struggle to finish one even stuff to brim ca not bring to throw away always make sick by force feed remain wrap into mouth would not for one second dream of waste jimmy donair know everyone go say thing delicious marvelous nothing else ever satisfy first time go in clue want to eat lucky for jimmy behind counter serve people point in right direction of something yummy super friendly extremely helpful not tell jimmy but kind of little crush on maybe keep go back nah of fantastic food besides donairs shawarmas also bunch of little dessert buy whole display of baklava yummy look treat along with food jimmy also great place to go want to buy shisha hookah pipe large assortment of different size shape flavour imagine smoking seriously love jimmy much miss day friend use to live behind store eat almost everyday to go little out of way to get but totally worth every time love jimmy much positive everyone go love one of awesome find everyone in world know about insert homer simpson drool ',\n",
       " 'first time eat excellent bagel live in montreal lol also lot of seat inside bagel lox cream cheese let tell rank up top with best of friendly staff highly recommend return ',\n",
       " 'go to pep boy at 6pm on saturday of thansgiving weekend everything else close first off store hour accessibility in time of need awesome herold customer service rep help u out big help get everything really understand urgency of problem to drive 550 mile to sc next day delightful to talk to patient understanding well dustin technical rep handle case helpful well really understood budget limit affordable solution to problem would rate guy 5 star of professional friendly understanding way in handle matter oh also able to get big discount on part labor always awesome thank much pep boys especially herold dustin noone else ever respond to call like ',\n",
       " 'hidden gem initially althought drive thru coffee stand to surprise serve breakfast lunch dinner happy hour adorable pet friendly patio busy look like with local patron inside table bar seating cozy fit counter service for lunch check out unique bathroom entire staff extremely friendly go extra mile to make every guest welcome ',\n",
       " 'great location nice employee one of manager kevin help u one time incredibly knowledgeable about item look for well layout of store ',\n",
       " 'great place really small but love comfortable friendly environment kitchen right amazing see thing could off put arizona summer watch from kitchen bar get pretty warm but not sit good friend love place find year before recommend thing bottle of riesling with baked bree blackberry think jam amaze truly particular about type of cheese okay with food allergy catch up not decide immediately would stay for dinner but not choose pasta with lobster in amazing carrot butter sauce stand shepard pie to see to believe amazing food amaze second bottle of wine also amazing alalthough friend finish of food never able to finish full plate of pasta in one sit bring home actually eat left over unlike owner talk to u for bit really helpful talk to bit about emerge interest in make wine beer different outlet would helpful reasonably price not expect really nice of to talk about wide selection of wine beer interesting concoction wish time to try couple of to go back sometime soon ',\n",
       " 'initially pass place up since nestle in typical strip mall off next to kinko off rural road on e university meet friend for quick inexpensive hopefully tasty pre movie dinner at valley art theater on mill decor would call basic frill cafeteria like set up find in many indian thai restaurant frequent practical comfortable staff friendly welcoming menu typical indian fare share appetizer garlic naan vegetable samosa enjoyable beginning love eggplant go to order baingan bharta with rice delicious order mild right amount of kick restrain from not devour whole meal save enough to take home for full meal expect meal great value of 20 with tip not bad for two healthy meal crave indian over near mill return to delhi palace namaste ',\n",
       " 'order from 5 time time different sandwich greasy soak texas style toast bland ever could put anything on to honest taste like hot grease perfect for like indigestion stomach pain over hype restaurant not worth visit ',\n",
       " 'place rock world server super friendly food fantastic come about 2 time week extremely satisfied every time great happy hour denise maggie best ',\n",
       " 'holy crap with bad review ca not believe place eat dinner at last night come around 5 pm sit on patio several server come ask ready to order but not want fry calamari also hot apps but hot platter for 2 grill calamari server nice enough to substitute fried calamari for u at extra charge glass of nice refresh greek white hit spot greek salad super fresh crunchy with perfect dressing right amount of feta platter 2 dolomades good nice mint flavour behind grape leaf house make sausage load of lemon zest in exceptionally flavourful spanakopita flaky buttery delicious octopus nice to say calamari not tender would expect but not terrible also bring u delicious hummus make with fresh chickpea also bring nice help of yummy tatziki on plate service exceptional rarely wait for anything need server ask boyfriend want another diet coke clear cutlery from greek salad replace platter come maybe fluke but absolutely great little nosh come back anytime ',\n",
       " 'not chipotle use to compare to couple year back stingy with everything barely come anymore use to 2 3 time week step up big franchise ',\n",
       " 'active renter manage property in phoenix scottsdale choose over several company honest hard work individual operate business with integrity professionalism manage property well never to worry about detail out of state property owner not want to worry extra hassle take care of everything every step of way communication clear concise timely professional never switch go to another company convinced get honest impeccable service from active renter at reasonable cost for tenant complain hard press to believe rich entire active renter crew treat anyone poorly not service rental in timely manner also people tear up property not property complain get bill for damage probably tenant punch hole in dry wall steal furnace damage landscape tear up concrete driveway etc later complain hold accountable for damage create say people negative comment much likely to post review people with positive comment on 9 to 1 basis for every complaint remember dozen hundred perhaps even thousand of individual wonderfully positive thing to say about active renter but not take time to post review from either property management leasing side not think get good service anywhere active renter provide would recommend without reservation to family member friend colleague best in business high rate of growth proof positive best property management company around ca not go wrong with active renter real deal could give 10 star would awesome p to add individual post negative comment sound childish immature in review resort to name call snake with leg foul language sure sign of someone throw tantrum ask to accountable for action look at review might see pattern ',\n",
       " 'great beer matt cole mature into great craftsman food pretty good overall smokehouse wing best in c town brewben one of best sandwich ever root beer float old timey treat for desert giant portion warn ',\n",
       " 'pleased with everything buy scallops salmon halibut trout owner provide great customer service start carry low acid coffee use to to buy from trader joes in chicago ask to receive fish meat email ',\n",
       " 'pretty rare for to write fast food review but consider always superb experience fair to give credit deserve far know until vegas one freddy location stoke to find out new one open near for fast food consists of maybe 5 place one of serve steak burger may cost average but not by much get 2 different style of burger freddy burger come with pickle mustard onion preference california burger meat but one come with lettuce tomato onion freddy sauce typical thousand island fry sauce spread etc also offer chicago style hot dog grill chicken sandwich desserts service always without doubt amaze train employee well show good quality good price good people favor skip wendy mcdonald for sure pas by taco bell next to place wo not regret ',\n",
       " 'gold pretty good gym for price cheap membership need join snake charge on not expect but everybody get credit card nowadays not basic membership probably come out to around 170 year not bad at to gym around 40 time in last couple of month never see member staff clean equipment make sure wipe down before set staff clean facility empty trash fix break equipment way gym get crowd at time think local football team get discount to workout lol yeah on weeknight bunch of high schoolers work out smartphones try to cool in front of friend still super crowd usually get workout in to flexible creative place empty really bore always positive spin to everything almost everybody behaves willing to share equipment problem with staff definitely friendly big plus overall give gym 3 star good gym with lively atmosphere get workout in with relative ease give higher rating somebody anybody clean equipment not sneak charge within first couple of week know add hidden charge at end ',\n",
       " 'come for dinner before great meal but close to first open time try lunch not wonderful of experience order antipasto to start serve in bowl almost salad on green about 3 small piece of italian sausage 2 thin slice of prosciutto grill zucchini far grilled vegetable mostly green not at good value for money expect order antipasto order gnocchi la trio for entree item with description sound amaze but sauce way thin whole meal fairly bland especially odd since suppose to gorgonzola cream sauce expect to flavourful on another note manager possible owner walk around seem to run place with iron fist simply not nice person at one point hear chew out chef about say something discussion interestingly check in with u mid meal friendly but repor with employee not put at ease less likely to visit place of rat trio 3 actually pretty generous consider experience but waiter kind attentive dessert delicious tiramisu couple with original visit mean probably try place out at least one time to see catch on bad day ',\n",
       " 'star yes star app make select one to post complete b witness customer leave with real stale taste in mouth first dine in experience stale taste not cause by food go with family to location for lunch place busy exactly good store manager would want but good store manager would also want customer leave location feeling respect value fully satisfy with dine in experience experience start out great but slowly show sign head down hill burger come to table before salad shake usually frequent parmatown location seem much professional shake deliver to table chocolate shake make to table but strawberry banana shake pour into wifes lap imagine feels great in air condition room wear short shake pour straight down wife bare leg into shoe onto floor wife receive borage of sorry awesome convey worker feel at time important question worry during situation 1 customer feel 2 help 3 to rectify situation in retrospect receive late food apology wet pant napkin bill to pay for yes bill manager come over attempt to offer apology mop not offer solution to rectify wife ruin clothes meal husband to speak up ask for type of resolution people knack to store manager others not type of manager commonly refer to floater floater manager enough to maintain current number current status quo really talent ability beneficial to improve overall profitability running of store location implement point 1 2 3 take step in right direction needless to say wo not back anytime soon recommend ',\n",
       " 'hear place good breakfast with quality ingredient low price but husband not breakfast person go at dinner time breakfast still available something need to remember go on friday after long stressful week wedding come up week later provide comfort food for u typically not would normally but hit spot fry chicken waffle little dinner breakfast in one husband small chicken fry steak portion large service good food come out hot quick decor cute look like in cozy cabin def go back for comfort food fix ',\n",
       " 'amaze move to new house want to protect after research several security company speak with steve from smart security come out look everything over like consultant for security need make sure to tell u need but also tell u not need not waste money invaluable job difficult of way home design but steve put in lot of time include on weekend to make sure right include camera glass break detection etc stop look around call glad ',\n",
       " 'search for good chinese restaurant wo not break bank find chin amaze 3 of u go out to eat get different dish upgrade to vegetable rice add 3 drink 6 cream cheese wonton bill 33 food spectacular ',\n",
       " 'co worker of mine keep talk about tottie last night finally give try not know different din in order take out but good not blow away but good similar to good chinese take out maybe notch up order tottie roll starter crispy egg roll wrap in lettuce leaf with mint parsley come with sort of sweet sour sauce for dip quite nice atleast think suppose to eat big take out container full of lettuce mint parsley figure drill since not order salad good order tangerine chicken beef pad lard na chicken dish good taste like orange chicken deep fry until crispy toss in sweet tangerine sauce strip of red bell pepper also beef dish like little wide egg noodle chunk of beef onion pea pod bok choy in really good brown sauce order many of dish mild to hot medium hot since share dish not want to blow out of water with spicy of dish next time definitely go hotter dish come with 2 container of sticky white rice exactly sound like not dessert but crispy banana sound great interested in try ice cream keep hear about also really want to try soup sound good in good keep say good price reasonable portion big enough for lunch leftover today worth give try back ',\n",
       " 'pvsec amaze family dog attack by deer take excellent care of dog provide constant update visit to make u feel comfortable possible during traumatic time staff doctor wonderful even able to call in middle of night speak to staff member about dog everyone clearly love animal work make easy possible on family even provide help locate another 24 hour emergency clinic dog relapse month later on vacation out of state would highly recommend clinic to care for furry friend ',\n",
       " 'pretty good food about vietnamese food before place self really nice stand out in pretty old gritty neighborhood get bowl with spring roll with chicken beef by end full for 10 ',\n",
       " 'recently purchase house with pool first time home pool owner want to make sure correctly take water to test multiple time time act great inconvenience for to spend minute test water customer service seem severely lacking often feel like want to leave walk in not greet enter give half hearted answer to question look for good service knowledge please avoid place for one look for new pool supply store ',\n",
       " 'slow incompetent staff food okay nothing special would definitely avoid place next time in vega ',\n",
       " 'good food nice clean place eat buffalo soldier take sweet home alabama home yum ',\n",
       " 'love southview not think ever say love dentist office every member of staff extremely friendly courteous matter time of day everyone pretend to in best mood ever professional clean modern even relax everyone upfront with price want to make feel comfortable possible massage option in chair tv above headphones for tv yes please even although know churn through patient never feel rush out door question concern after initial consultation teeth clean old filling repair even new cavity fill use three part numb process never issue with pain complaint sometimes especially towards end of year appointment hard to book but kind of go place definitely recommend ',\n",
       " 'really disappointed with recent visit to vintage 95 make out every six month always talk up to friend tonight go with husband in law order carafe of sangria always top notch in law order bruschetta end up with ton of untoasted bread with thin coat of ricotta light topping of good quality tomato tasty but not bruschetta definitely not worth 14 husband get artisan board with one meat one cheese for 13 get teeny tiny piece of cheese four thin slice of not good sopressata stale bread 2 cracker raw unsalted almond six grape about half jar of oniony cornichons food huge rip off not at quality quantity get in past save grace of night sangria still think one of best in area but overall not think place worth trip out anymore ',\n",
       " 'clean comfortable nice hot breakfast available egg bacon oatmeal fruit pancake cinnamon roll yogurt biscuit gravy also small somewhat dated exercise facility outdoor pool ac make screeching noise at night wake up otherwise nice stay shuttle to airport handy ',\n",
       " 'feel like friday food menu get bad over year alcohol menu big improvement mean would not want diddy up right particular location hit miss with waitstaff act like love job others look like hate life past couple of time food come out lukewarm at best yesterday happen find lemon seed in brushetta chicken pasta after almost crack tooth on ew alalthough say move bad boy to side act like never saw probably well way seating arrangement like friday booth table bar of four person booth would probably well suit for 2 people perhaps small child wo not find arm room place to set purse sometimes run dinner special appetizer entrée dessert somewhere around 11 99 get 2 for 20 deal come back but cheap ish close to home ',\n",
       " 'groupon good price variety of ball available dont need to use 8 lb ball want bumper lane break down repeatedly even give up power off one time ',\n",
       " 'eat yesterday for first time husband order fish taco five shrimp with sticky rice love dish fish nice slightly spicy sauce on mahi mahi shredded veggie also perfect say would order also like dish asparagus delightful rice section bland but waitress bring soy sauce for improve everything would ask for soy sauce order dish would order also share small dessert in glass boston cream pie tasty happy nice little dessert anything else would much perfect definitely go back price reasonable ',\n",
       " 'never wait less forty five minute to see doctor staff competent satisfy with quality of care receive constant over book definitely soils opinion people go to spine specialist in pain making patient wait for extend period of time in terribly uncomfortable chair painfully ironic please stop over book know nothing greed to bill appointment per day ',\n",
       " 'short pant always waaaay long take pant jean to maria since move to area 4 year ago always wonderful job upfront about pricing would heartbroken ever close up shop ',\n",
       " 'great ambiance great food alalthough policy of reservation drag great place for rib tender fall off bone always order louisiana chicken flattened chicken breast smother with grilled vegetable goat cheese goat cheese like bacon make everything well also try artichoke dip appetizer best out on last visit less week ago baked bean different hopefully hiccup usually incredible service always excellent price reasonable consider portion size ',\n",
       " 'boyfriend really look forward to couple massage on vega trip memorial day weekend research lot of spa review before choose episage glad make right decision first of call 5 different time to see could reschedule appointment since flight time would not allow u to make original one time try to find new opening for u even hour before go schedule u on sunday after call nikki limmie therapist go above beyond expectation for massage set music to would fit bf perfectly teach u mistly bf about tight knot fascia stretch limmie go through number of stretch flexibility therapy on u laugh good time entire session get educate without even realize get educate boyfriend make sure stretch treat body well after session with nikki limmie ca not wait to come back to vegas to go see for another massage best hour half ever wo not disappoint ',\n",
       " 'not bad at standard dish chinese broccoli xiu mai ha cao chicken foot black bean pork rib steam bbq pork bun shrimp wrap in thick rice noodle chinese donut wrap in rice noodle ok rice chicken serve in vertical bamboo cup tasty flavor similar to vietnamese com ga with ginger light soy chicken xiu mai orange yellow egg on taste like crab innards tomal mustard rich super flavorful dumpling pack with meat seafood not lot of filler yay downside offering limited uninspired basic come back in lv crave dim sum important info small establishment push cart server price high ca but definitely reasonable locate inside gold coast hotel off strip next to rio across from palm ',\n",
       " 'know come would long line wait about 25 min not bad menu display around corner nice to look at want to order before get to cashier get infamous slut fairfax sandwich orange juice orange juice taste good refresh taste fresh squeeze slut pretty good egg mash potato with bread to dip sandwich amaze fairfax not disappoint still think of bread soft give try wo not disappoint ',\n",
       " 'wow review on but surprised love gym like lot of gym but love gym start train with bobby at result right before wedding within 10 week of work out with bobby lose about 15 lb 1 dress size husband similiar result arm never look good sincerely beautiful bride at age 43 look well at wedding 1st one first start look at gym struggle with to fit in everything look for in gym time of class co ed could attend small enough for personalize attention motivate enough to keep u come back fun hate work out go to avoid go out for drink dinner need serious motivation group training co ed class offer at perfect time for schedule gym near home owner bobby crazy funny terribly motivate keep u go but really know result fit family lifestyle bobby introduce teen fitness program to son bobby instant hit with pre teen eagerly get in shape learn about fitness gaining confidence fun at result hooked ca not imagine would find gym like try quite gym in valley great thing to say about many of but bobby offer u for family deliver high level of result thanks bobby from of u ca not wait to see look like on wedding anniversary ',\n",
       " 'good chicken bomb biscuit fresh hate service pay for sauce mean buy 12 pc bucket atleast one sauce understand not buy chicken but whatever lol end rant ',\n",
       " 'since come but love little bit loud but ok maybe not fancy of location chicago miami but food awesome love wygu beef gyoza couple roll salad drink etc great menu right to choose from seem in city for moment ',\n",
       " 'food good but take forever seem like need help 20 minute for not busy hopefully next visit well ',\n",
       " 'excellent coffee cake like to die for tortilla soup major hit great experience for first day in vega ',\n",
       " 'read review althought would try yelpers on point with one good asian fare reasonably price nice portion food fresh tasting season not overpower definitely come back service great also hidden gem in hard rock ',\n",
       " 'favorite park in vega 2016 yelp 100 review challenge 12 100 heard about park from family friend over year but not experience till sometime last year after begin come for morning cardio walk run hike several day week agree with many of review for park little bit of everything bad playground wish exist during childhood huge grassy area for picnic soccer lay out to relax read good book write draw see photographer photo session path way to small mountain great for short hike great hike want to solo hike in morning every morning others hike trail morning cardio workout well felt safe knowing others around accidentally fell not cement trail up down mountain dirt gravel careful different pathway up down hill for adventurous soul not recommend for beginner check out trail first before go explore two level up mountain rest at 1st level shade picnic table great view of city at top huge platform with amazing view of city with little bit of nevada history peaceful at top remind love nature city people tai chi meditation in morning either at top of mountain in park peaceful to watch small cement stage at end of park guess for play performance during warm month bathroom clean stocked every morning great park to bring doggy fur buddy well tip not live in mountain edge come from 15 blue diamond 215 buffalo on buffalo road to make u turn to get to entrance of park ',\n",
       " 'look for chinese acrobat in cirque du solei show not go to show but love fab 4 great visual show interpret variety of song to see show alalthough seat good not seem to bad seat in house costume amaze visual masterpiece sound insane like ticket price especially love take sound bite of beatles talk incorporate into show oh wish could bring up music really meaningful sigh ',\n",
       " 'try eggplant sandwich over valley day love eggplant delfaco sandwich on italian hoagie way way much bread bread eggplant eggplant by tasty but get without much bread thank later back to try something else go at 11 on saturday morning still wait over 30 minute for take out order crammed space little italian deli in between italian grocery store price for italian pasta cheese bit over price espresso nicely price at 1 40 for single shot ',\n",
       " 'read good review on place decide to give try not disappointed son really like chicken fry steak could tell handmade with cube steak not frozen patty cinnamon roll also homemade with good icing not sweat like cinnabon also preserve make by owner raspberry out of world buy small mason jar to take home biscuit fluffy grit cook right eggs cook perfectly could use another one come back look forward to try thing to careful drive easily pass to drive back around block recommend come server nice ',\n",
       " 'need to know dry bland burrito taste like cardboard place cardboard in mouth know mean texture similar oh forget order stand for 10 min someone realize not order ',\n",
       " 'omg longhitano absolutely disgust satisfactory meal from arby over hype pos server polite but bit ditsy not understand question ask reply with correct response order alfredo smell look terrible upon arrival but force to at least try huge mistake stab with fork one big massive clump taste like hold together with elmers glue water down flour alalthough luke warm best on surface cold underneath even poor attempt garlic bread laughable someone smear butter on toast sprinkle much garlic salt on pretty damn bad olive garden food tolerable inedible crap friend order big haja steak sandwich call big hard turd sandwich want to provide accurate description bit into literally could not tear one piece off tough rubbery try saw at knife not even make dent mike stop to ask u everything nate express terrible meat on sandwich mike stand not comprehend word say to in fact keep cut nate off say okay naturally nate irritate say ca not eat mike still not get keep talk over walk away never apologize offer to get nate something else to eat not remove cost from bill nothing nate complain to server not understand either nasty sandwich sit server also saw pasta leave untouched but never ask something wrong get kid clearly new to food service industry but seriously wtf husband also order drink from bar first sit down take server over 15 minute to grab from bar nate request rootbeer not take over 30 minute but server bring out rootbeer float charge u extra for ice cream normally would not suggest but since staff ignore complaint food not even edible patience go tempt to leave without pay finally seasoned waitress notice displeasure offer to remove nates sandwich from receipt but take 15 off of alfredo remove charge for ice cream but charge u for 2 rootbeers order 1 explain of staff quit time new hire green still unacceptable not feel anyone competent longhitano hand down second bad meal year ',\n",
       " 'yum not expect to good nice atmosphere wise with name like nando compare to filly much good homemade chip salsa vegetarian seriously appreciate ability to order taco burrito chimichangas with veggie potato plus ca not beat pitcher of equis take off star guacamole taste like come from package place get enough business to use real guacamole worth taste in area ',\n",
       " 'fu ck everything in past place bomb omg taco burger tortas type with fill belly funtacoslv ',\n",
       " 'ca not say enough great thing about experience past weekend go to different location month back leave pretty unsatisfied seem number one goal of location to try sell much possible let know unsatisfied well charge half cost for full hair to lighten go into get dark brown hair ombré realize may take session to get light want but staff not seem to care turn off needless to say scar to try get hair from location search yelp find location on windmill pecos great review call in morning schedule shortly after brittney hair stylist tell about previous experience shock to hear about last experience assure would happy during whole process amaze explain every step hair go from literally line of copper brownish blonde to beautifully dimensioned array of highlight lowlights happy by end ca not wait to go back ',\n",
       " 'omg place amaze food phenomenal but server christina by far best part of meal outgoing funny attentive well inform on menu definitely back for food christina ',\n",
       " 'recently move to aurora from texas always get nail every 2 3 week walk in into nail salon near to stay to talk to people in to explain to get nail to see could make appointment for next day 1 walk in one acknowledge 2 guy ask to walk over to to talk to althought rude personally would not want anyone inquire about nail whilst get mine could excuse tell to wait for minute could talk to 3 tell picture want to show want something could rudely say well over 250 nail polish see color like really politely ask could replicate picture to rudely respond probably not eye contact regard of whatsoever needle to say walk out think rude never set foot in establishment to spend money in poor first impression extremely rude guy speak to first impression everything to to customer not go unless want to treat like second class citizen ',\n",
       " 'try to treat for go to four star hotel but seem hold back on basic amenity proper service unless would buy into atrocious add ons suggest breakfast wifi get into room lamp tv phone etc either plug off on timer could save money on electricity find out want to call guest service to let know tv not work realize in short succession phone not work either not inconvenience safety hazard to ride elevator walk into lobby with slipper with people glance at to stay way for long time give could not find single person to help in big hotel end up to walk outside to street finally get valet to go inside call manager wait out final minute finally find time for four star hotel really nice place clean sheet but unfortunately unpleasant experience great location although ',\n",
       " 'move to phoenix stop at hinckley for much need lighting fan advice not disappointed bridgett incredibly knowledgeable helpful friendly of current need could meet for others bridgett great advice 1 stop for light for long in phoenix btw not think specialist expensive price competitive ',\n",
       " 'fun restaurant with amazing food go to location about every day want to give one try pleased feel like different restaurant of size but great food fun vibe staff great definitely come back on regular to see come in twice week till try entire menu promise glad ',\n",
       " 'look at bad review kind of scared before get vehicle althought keep on hold to experience something go bad would try at rental but whole process smooth book through costco car rental rental bit less get decent rate for insurance reach at terminal 2 parked personal vehicle take shuttle to car rental place reach budget at 9 30am to pick up vehicle one guy in queue rental guy friendly offer 3 flavor of jeep give 2015 model vehicle in excellent condition make sure not mess up with vehicle return 4 star of issue never pick up call before could get jeep before get jeep someone put chocolate inside cabinet jeep manual in lot of chocolate want to know about 4w drive but look like one know to operate google out find answer yes one lady come clean chocolate before get jeep yes impress about whole process of budget sky harbor ',\n",
       " 'best fajita in town in opinion twice thing order fajita for two with beef always awesome delicious staff courteous price reasonable not gon na go anywhere else for fajita from on xd ',\n",
       " 'recently move to az first saturday night come to hooter come right after get off of work to grab wing beer before head home for evening want to say staff extremely friendly fun definitely enjoy visit come back brandi tend bar great to talk to quick witted funny food great on time delicious even although walk in ufc fight go on place pack ability to get food drink out with full house refresh skeptical at first but nail would recommend location to anyone ',\n",
       " 'server slow but at airport food decent but something happen after wth server not pleasant soooooo get 3 star lol ',\n",
       " 'fortune to spend around 20 weekend at venetian include first weekend open always still class hotel wear well look good first weekend room suite big others but even in small suite large hotel junior suite know hotel get act together version of coffee shop grand lux cafe off shoot of cheesecake factory great restaurant show poker room one of best see soon old friend ',\n",
       " 'search for new place to get maltese yorkie groom since not satisfy with current groomer little nervous drop off but lady nice reassure could not pick up until end of day make sure dog time to play run werent in cage day haircut exactly want to look cute smell clean look happy definitely come back ',\n",
       " 'large cirque du soleil souvenir shop with merchandise from mystere store open even show go on less busy before show start ',\n",
       " 'okay know suppose to cheap restaurant in wynn but still talk about 18 burger for lunch cheap relative wait 35 minute for food of course get order wrong mention place like half full good thing not busy might wait hour for wrong order of course add 18 for party of 6 great get to way overpay for wrong food get lazy not want to leave resort bad call ',\n",
       " 'love fry bread excited to try emerson fry bread not disappointed definitely not state fair fry bread gentleman take order lively personable time fly wait for order entertaining order chicken green chile actually longer on menu but hook up glad delicious fry bread perfect would not change one thing about of topping mixed green especially nice definitely upgrade from tasteless iceburg place serve absolutely eat to try steak ',\n",
       " 'bad staff staff not welcome at check in online for two boy within 5 min at great clip on screen show first to get haircut but take in ask staff with raised voice work r next wait for next one repeat take in before u with raise tone bad leave with 2boys from without get haircut not go bad bad staff not curtesy to talk to customer bad staff ',\n",
       " 'many choice shop from place zero customer service follow up company run by absolute e sell kamado rocket beautiful piece of art but not work due to terrible metal work intention of fix 3 000 po not repeat not business with company ',\n",
       " 'say open until 7pm 615pm guy inside say close wo not waste gas to come close early ',\n",
       " 'countless time keep come back of friend hooked delicious salad bowl burger wrap dessert vegan best item include black bean burrito buddha bowl ace of kale salad quinoa onion ring sweet potato fry vanilla cupcake always busy but totally worth ',\n",
       " 'pleasure of din at location of yardbird pretty excite to able to try out new vega location like alalthough definitely depart from southern draw of location authentic kitchen to table feel get usual devil egg chicken waffle cobbler to finish overall chicken not great miami location cobbler bit disappointing but egg delicious waffle on point say pretty solid lunch spot definitely pay visit chance ',\n",
       " 'soooo delicious with burger joint in town one in top three favorite eat spicy burger dog burger juicy flavorful dog spicy different worth 30 minute trip for u to get cute little place with game great service clean ',\n",
       " 'able to get in for 2 pedicure late on friday evening rush short cut attentive finish service even after close time husband happy with much need pedicure also get gel mani nail gorgeous thank to kimberly for excellent job place file file file nail down until paper thin practically peel but kimberly keep natural nail intact absolutely love easter nail definitely return ',\n",
       " 'want place to well would great to fancy mexican option in town think could make into pretty solid little restaurant fix problem drink tasty but heavy on ice charge drink price comparable to boltini down street actually give full glass instead of padding felt bit rip off also wish specialty cocktail selection not sweet cocktail one of u get taco plate get torta plate on side leave lot to desire pretty sure bean rice out of potato wedge fresh out of freezer taco 1 shrimp 1 fish pretty good although complaint not double up on tortilla one of mine fell apart bit steak torta pretty good alalthough would well with pickled chile somewhat annoyed not provide free chip with dinner entree size not big would fine get chip but leave feel hungry another rather big oversight not provide sort of spicy table salsa food not spicy in good mexican restaurant house salsas think main problem cut corner in really obvious way drink load to brim with ice chip table salsa side low quality afteralthoughts even lack of double up tortilla come on guy tortilla not expensive afford to give 4 instead of 2 with 8 entree another weird thing note by dining companion pretty much every mexican joint in town mexican people work back front of house include several restaurant by family front of house waitstaff exclusively white skinny blond lady to conscious decision ca not help but throw at least side eye at establishment decide actual mexican people not classy enough to wait table ',\n",
       " 'absolutely starve pass place decide to give try price decent fry fresh cut amazing burger fresh flavorful would get take next time place freeze imnot sure heat on not enjoyable eating lunch with jacket scarf hat on ',\n",
       " 'stay in many hotel in vega by far for money not find good hotel room for 220 on saturday night room one bedroom with two flat screen 19inch tv in restroom mini bar restroom big enough for 20 people shower deep tub even second restroom could party could sleep 4 5 to always speedy check in out even line with 15 20 people room stay in for under 250 per night actually felt like in fancy upscale suite really cool room ',\n",
       " 'shock philly cheese steak coast to coast include philly in 55 year of enjoy sandwich gilbert geno distintion of one of bad sandwich get large on ok bread with small serve mix of goo remind of manwich out of cincinnati chili either way put geno name on would make joey vento roll in grave ',\n",
       " 'stay across street at wynn post disneyland half marathon leg not really up for lot of walk suggest check out ti for dinner think buffet at treasure island use to call dish something remember pretty good unfortunately buffet know decline quite bit in quality first of meat pre slice crazy slice of prime rib totally dry out start to turn grey turkey fare little good but gravy rescue pretty much everything alalthough either turkey gravy salty speaking of salty curious to try pho guess super salty salad bar instead get various salad make look really good bad one man counter finally ridiculous thing of pre scoop ice cream in dish melt into soup on plus side crab leg not bad enjoy mini donut chocolate cover strawberry hope buffet get act together soon sightly unrelated but first time at ti in long time could not stand smell of casino pump weird coconut sunblock smell over place way bad stale cigarette air yuck ',\n",
       " 'always good time at place ca not beat live music great drink over good energy fishbowl must get by far best bang for bucket would recommend place to everyone ',\n",
       " 'honestly not get everyone in love with place not native move to area many year ago everyone advise family absolutely to try burnt almond torte from prantl to fair great dessert but work across street from for decade office ladies work with bring in nearly everything sell at prantl over last decade cooky cupcake junior pastry danishes donut etc make way into office never wow by of in fact find item to pretty sub par think prantl not true bakery merely shop produce one signature cake would probably deserve five star but not case since to judge on totality of product bakery not burnt almond torte claim to fame recognition find to quite lackluster overall want true bakery treat would suggest la gourmandine for anything vanilla for cupcake jean marc chatellier even somewhat overrated oakmont bakery burnt almond torte pay specialty bakery price but get giant eagle quality fine but at point might well go to giant eagle pay accordingly ',\n",
       " 'lunch at buffet by far best buffet in vega to date travel quite often choice at lunch time bit overwhelming full breakfast choice with omlette station sushi bar meat carve station pasta desert list go on on dissappointment could not eat best 20 buffet variety on strip ',\n",
       " 'place awesome food good not crepe good in year people friendly good barista along with ton of different drink down side open until 2 ',\n",
       " 'look for lancaster end up good bc food pretty good philly with onion mushroom white american cheese homemade chip delicious sandwich lot of flavor without really greasy cheesesteaks often chip good mix of crispy soft expect get homemade chip dish at table chicken club sandwich reportedly good cheeseburger report ok but eat couldnt bad note best sweet tea in year really super delish definetely go back ',\n",
       " 'last time give place try food suck give 2 star on recent vega trip flight at gate nearby decide to give another chance time around food still suck but employee even bad happen order following item bean rice cheese burrito 6 99 bottle of diet pepsi 3 19 since backpack stuff in hand forget bottle of diet pepsi at counter after pay for meal go to counter to get settle in spot to eat get napkin utensils etc 5 minute later call number for burrito starve start to eat after bite notice not soda look around go back to counter employee look at but not say anything walk around look for say to girl cashier think leave soda somewhere see say look at one of guy say something in spanish to say oh think find on counter watch reach into backpack give back to wtf think time watch for people to leave stuff behind take appalling thing still in restaurant not say anything to would good anyway thief always thief for never eat return factor 0 ',\n",
       " 'come for brunch with friend for downtown tempe brunch crawl crowded not think food anything special service slow in defense place pretty pack but dish come out at separate time ambience indoor outdoor seating although careful with outdoors hot in summer shade area food for brunch crawl 3 bloody mary 3 bloody maria 3 breakfast taco get assortment food good but nothing huge to write home over taco tasty but nothing special ',\n",
       " 'shop combine coffee breakfast coffee break item yarn shop make wife happy during recent visit enjoy well make asparagus ham quiche with well dress side green three regular one decaf offering from two area roaster service friendly helpful ',\n",
       " 'great food try santafe skillet delicious but tremendous waiter name david gentleman belong in 5 star restaurant with out doubt make evening for family night shift wow service go one time walk out with smile dennys really lucky to guy wgag great pleasure thank david ',\n",
       " 'back day ago leave rating 3 star service faster time food okay but really not find anything special about bowl of witch brew chowder pretty good coleslaw miss first time overall would say food on par with place fish chip alalthough little expensive might return in area but would not travel across town to go back ',\n",
       " 'boarder grill pretty good food but ok meal consider price expect every meal to exceptional but not blow away every time special place for wife enjoy go drink pretty amazing leave stuff every time suggest anything with steak in ca not go wrong not fan of red meat go for carnitas ',\n",
       " 'still full from lunch at coffee cup in boulder city to eat whole dinner white sangria excellent also salad with asian pear blue cheese crumble dressing mango delicious but best part dessert pineapple upside down cake w coconut ice cream chocolate molten cake with raspberry coulis vanilla ice cream wow awesome not anything comparable to pineapple upside down cake in boston fantastic service excellent ',\n",
       " 'not good extremely slow service chicken not tasty instant mash potato gravy flavor eat 15 people wait in line for service pretty expensive for get wont back ',\n",
       " 'place give buffet good name food always fresh interest breakfast brunch possibly best in la vega friday saturday night gourmet dinner buffet unreal try beef wellington venison steak tartar to name ',\n",
       " 'search for local peruvian restaurant find place on yelp midafternoon atmosphere subdue may refer to place hole in wall but antiquated interior much conducive for large group former location not far away during visit green color décor include large mural blue checker floor tv three row of table stretch across din area santi start with ceviche de pescado 12 95 come with slice of tilapia stack marinate in lime juice spice lettuce yam red onion peruvian corn tilapia fresh nicely season with lime juice without overpower spice nicely embed accompany well eat with sharp onion sweet lettuce peruvian corn yam delicious at first concern about portion size but fish turn out plentiful worthwhile share pollo saltado 11 95 make with chunk of chicken sautéed with chopped tomato french fry red onion cilantro mignonette soy sauce side of steamed rice profile of sauce on point to bolster flavor of chicken red onion tomato also nicely contribute to profile of dish fry tasty fry to perfection glad cut on thicker side to soak up sweet savory flavor wish fry cook down little with onion tomato meet expectation seco de res 13 95 make with stewed beef loin in cilantro sauce green pea serve with fried yucca salsa criolla peruano bean beef nicely season with wine spice nicely stewed tender but also lot of dry spot use of green pea give nice sweet dimension to dish salsa criolla fry yucca also texture sharp bite to refine beef loins love peruano bean nicely cook down subtly sweet flavorful also give side of roasted peruvian corn with aji sauce sauce appear like chunky salsa creamy smooth type usually find in restaurant flavor far reach but number of limitation worth note first unlike peruvian restaurant tumi not offer fresh bread starter for meal secondly service friendly courteous throughout meal but for whatever reason server personally write tip into bill before delivery to table act find unusual offensive disrespectful ironically go to give big tip until happen server but give u two coupon for 10 off time return to order at least 15 worth of food give nice gesture willing to give benefit of doubt but still negatively influenced rating of experience interested diner know yelp currently 10 for 20 deal at one voucher per table would interested in return to try anticuchos ceviche de mixto cau cau aji de gallina chaufa de camaron ',\n",
       " 'great spot for quick coffee latte cap of course japanese style cold brew good selection of pastry snack right in heart of downtown phx even lovely patio to enjoy morning starter ',\n",
       " 'love little liquor store close to house excellent customer service love family small business come about 3 4 time week average bc drinking problem haha never check in bc forget far usually stuff need lot of wine beer vodka mixer name dont something ask brother in law want certain beer didnt owner specially order for always beer in stock owner really care about keep customer happy keep u loyal enjoy ',\n",
       " 'get around 1 45 wait in line for about 15 not bad bad happens place jam pack not locate friend for over half hour play pretty good music bad could not enjoy on mission to find friend find friend one of drunk super drunk within five minute of meet one of puke next thing know force to leave mention to pay 30 service fee to get in but luck ca not blame venue for thing like would good grant entry upon rest of u return to pool sure rule one of happen to entry but absolutely flexibility especially at place bouncer ask for 200 to bribe yes apparently happen earlier in day to friend nightmare try to take care of drunk person get belonging one coat check meaning to take people belonging not allow in hotel unless bottom on reason to get everyone stuff hand room key room number via text althought would easy to get back in alalthough chance slim oppose to two security call for paramedic come to simple check up piss annoy but job complaint from sober person point of view okay get okay to go take friend up to room get back to beach club explain friend stuff room key without not able to get back into hotel not reach friend with phone shoot think not come to vegas one of security people approach ask friend wonderful ask also explain to current situation talk to people at door let in see reasonable flexibility hence two star not one real experience at encore beach club many people stand in water jump up down thing outside pool packed get drink at bar unimaginable line insane with many drunk people still drink know much pee present in water lifeguard annoy hell blow whistle for every single thing splash etc go insanely crazy guy get on stripper pole area even for second althought arrest about to make with many whistle go off issue drop dough could spend purchase decent dslr go for table cabana with wait service otherwise not worth entrance fee by enter although full excuse to at douchiest level possible for guy to act brain for girl want seem like everyone else want at place go without standard party goer in vega but place by far bad lock box available for 20 by entrance not go back ',\n",
       " 'buyer beware buy car from place sell to mean not inspect vehichles for mechanical issue girlfriend purchase car 3 week ago ned new tire oil pan strip out leak oil cv boot rip cam seal leak give 1 month warranty from edmonds completely worthless denied claim drive car back to cali issue ever since ',\n",
       " 'time but close bowling alley to home kid go never problem kid like bowling game zone cost pretty penny but business soda almost much movie theater food not good but not come go back kid ask grateful to nice clean location for bowl near home ',\n",
       " 'one word amaze real southern food not disappoint know southern chef austin take great care of group for bday celebration in vega not easy to please everyone at large table of picky eater look for taste of home fry chicken perfection season well ca not wait to return ',\n",
       " 'horrible service take order of people come in after serve people order after felt like ignore on wait for over 30 minuted say kitchen mess up go to keep customer happy hire staff know ',\n",
       " 'average food service kind of dirty fly go around ignore by two staff member walk up to ask question plastic cup bowl chopstick ',\n",
       " 'great bbq truly like grow up on in alabama georgia variety quality of side add to experience wish amazing peach cobbler everytime visit close to grandma go to get ',\n",
       " 'in morning on saturday line for place stretch around back to elevator clearly 45 minute sort of fast food situation not sit down restaurant by mean buy food fight for place to eat at seating option sure food good base on review but not make special trip to go in area like end up go somewhere else eggsluttiness for u unfortunately ',\n",
       " 'return for second visit on new year eve first visit nye year back in love with place before sure splurge end up on new year eve but worthy splurge nye prix fixe menu in addition to small normal regular menu but since sampler decide to get 5 course prix fixe could try many thing possible love trip to sonoma grille not dinner entire event waitress barb fantastic knowledgeable about menu passionate about introduce new item server recently menu taste test to hear describe everything like in room dish sample explain sonoma grille regularly recognize one of best wine selection in city true markup bit much but pay for atmosphere experience in addition to good california wine love to see bit central coast favorite wine region but name sonoma give pas staff answer question about wine really appreciate start with trio of amuse appetizer parsnip bisque light flavorful oyster weird out bit must admit teeny tiny beef carpaccio perfect in every way one little nibble but insane burst of flavor enjoy wine appetizer bread server come around with selection of four different kind of bread instead of individual table serve bring to table server come with large basket serve piece of choose plus olive oil for dip not know but love little unique aspect of restaurant for large appetizer oh yes two appetizer get jumbo lump crab avocado plate gigantic could easily split one between two of u crab piece huge easily size of garlic bulb suggestion for would to piece of crostini instead of little sliver at bottom actual plate quite juicy crunch of crostini good balance mmm like crab guacamole in word amaze husband get different salad opt for fois gras salad love even although bit squeamish to sample get shall refer to pile beet anyone know know love affair with beet perfect slice of beet intersperse with goat cheese well seasoned wish could eat every day not salad but heavenly but five different option for entree but eye on one thing filet mignon oh word steak cook to perfection tender juicy mouth water remember come with garlicky whip potato broccolini delicately push to side sorry broccoli never go to friend portion huge second half wrap up for lunch next day nearly full for dessert but to make room to try chocolate ravioli little weird texture bit chewy would althought but flavor excellent come with nice blend of raspberry vanilla sauce for dip perfect alongside steaming cup of coffee in another excellent experience barb even offer to keep leftover in fridge until after midnight festivity but afraid forget in massive crowd leave downtown walk back to car anyway not go to let miss out on second meal of filet in aftermath of pittsburgh firework lol one nye tradition plan on keep for many year to come ',\n",
       " 'by far best mexican food in la vega fideo soup load with flavor salsa order lunch combination could try variety not disappoint by of service impeccable definitely back soon ',\n",
       " 'pretty unique place food awesome meet j simpson in order line haha true story ',\n",
       " 'set up appointment night before come in at 1pm on saturday wait charlie full set work look great work diligently definitely come from on ',\n",
       " 'get mani pedis waxing lash technician professional friendly salon clean trendy not for receptionist at front desk back desk may give 5 star review to say never encounter rude unfriendly caustic group of woman tell common complaint owner know but not care ',\n",
       " 'honestly ca not go wrong quality consistent across chain reliable to whatever may use to one tip to customer make online order with steak meat on side never order meat on side pregnant ca not raw meat but love chipotle not want to pain figure order on side cook to well at home get tiny little plastic tub of meat ask lady at register meat on side almost look ashamed say uhh yea photo reference needle to say sure eat undercooked meat sure back sorta suck pay much for food think large container nearby plus know special request oh well lesson learn ',\n",
       " 'old time boot store around walk in greet white gentleman in 50 friendly ask look for find three different pair of work boot to try on sit down measure foot bring out three different pair of boot lace up boot put foot in boot with shoe horn lace up boot walk around decide on pair althought kind of service go red wing boot store still service way use to place awesome white gentleman awesome good price great service well make boot would recommend place to anyone ',\n",
       " 'restaurant really good wonderful dining experience with large group excellent attentive service fresh flavorful ingredient nice plating of entree walk out of full happy would definitely go back ',\n",
       " 'nice wonderful job really pay attn to detail drive across town to come prefer young lady for pedi really take time massage leg lot ',\n",
       " 'kid take for birthday dinner gigantic pork chop generous helping of mash potato rice yes know lot of starch but one of substitute for think brussel sprout not eat but delicious crave pork chop for month thanks harevey for great night ',\n",
       " 'to many of day club in vega hand down encore beach club aka ebc one of best day club go to one of main reason one of best actually game table day club not actually not think day club game table with exception of x but nightclub gambler like gon na want to go also go to book table recommend book lilypads on water chill on lilypad hang out in water best of world in opinion ca not order food from lilypad but order food from grill bring to lilypad good go to book table at ebc make sure go through reputable promoter highly recommend book with ebc vip host brian pfeiffer 773 459 8133 cell phone text amazzzinnngg walk in make sure good answer question go to vegas past weekend blast ',\n",
       " 'food good but not for price pay good for gas station well corn under cook for sure like bbq bean lot feel for amount spend knock sock off taste like cook at home 3 5 but would not let on star ',\n",
       " 'honestly look girl give fiancé come in for appointment disgust to feel judged look at certain way for absolutely reason bug to end not know life not know life not know age one single thing about either of u to add on to 3 reschedules for 2 appointment 2 reschedules for one single appointment in push out one week far one week far until get stuff figure out successfully schedule consistent appointment schedule first ultrasound today woman ultrasound angry woman in put trust in to measure check baby health anatomy rude to fiancé fiancé ask one simple question reply with need to focus right let measurement to add to whole ordeal environment of office not good at watch murder show on tv with child present in lobby blood gore over screen anxiously anticipate answer on blood work from last appointment not give single answer ask show miss appointment to get tell need to get asap well guy actually communicate to lab office paperwork correctly would see go in lab work tell u to part parent consistent with thing in life not try to blame u for miss appointment to get important lab work test for down syndrome birth defect would really love to know result to blood work for first child thanks one last thing to girl short black hair at front desk dermal on neck keep give fiancé dirty look not like get different job quit star may unhappy but not make everyone life miserable of review speak for would suggest go somewhere else anywhere else place would avoid place at cost save headache anger from disrespectful girl at front desk ',\n",
       " 'ice cream great but owner rude everytime go in always something rude to say ice cream get 5 star owner get star ',\n",
       " 'place impress in kind of bad location not noticeable from street on pleasant valley broadview road but through word of mouth hear about place go wow of best sushi ever chinese food on menu much good 90 of chinese place in area quality of food exceptional keep on crave place but not get back but back for sure ',\n",
       " 'arrive at 5 30 sit outside order by 5 35 wait wait wait one check on u 2 people until 6 15 at point ask for food to go got check at 6 20 finally able to pay leave by 6 30 probably of bad service receive at least run behind food take awhile come back explain apologize instead leave wondering wait for food obviously never come until say go to leave take with u would think at point would apologize take something off check but nothing chance wo not back unfortunate spend lot of time in area would great outdoor spot to top off get home open soggy box disappointed at pay 11 for ',\n",
       " 'today first time at naked bbq gladly say wo not last chopped brisket sandwich amaze seriously need to try wayne great help well mannered take time to ask meal experience definitely make experience better pièce de résistance but to bbq sauce good to go buy bottle back real soon ',\n",
       " 'best veggie hoagie ever way well go to subway get something bland run of mill ',\n",
       " 'first time in place pretty impressive like lemon popcorn chicken with green onion good flavor sauce soy garlic chicken wing little sweet actually wish little less sweet garlicy bimbap excellent delicious comforting of course side great usual with korean cuisine overall pretty happy service good even although never fan of press button to get server attention not sure start but bit awkward not classy would come back thing on menu ',\n",
       " 'food average service mostly good try almost every breakfast plate well burger look elsewhere for good eats ',\n",
       " 'serve pretty cold through drive thru food not bad would way well warm although ',\n",
       " 'not think ever type of cuisine before treat get around 8 pack with indian hipster vegetarian dosa quite good also lamb biryani to wait little for table but service fast friendly ',\n",
       " 'cozy campus nice building friendly community but fundamental science math physic astronomy not receive enough attention deserve cmu unexpectedly high bias on subject much emphasis on computer science cmu think big plan to become world renowned engineering school fundamental science must emphasise ',\n",
       " 'buy gear for year up until long haired hippy guy look at minute walk in say rudely take of backpack leave up front seriously really amount of time take to take off put on take forever really go to shove something into backpack fasten to back store ever ask to remove backpack ever specially hippy long haired wipe guy go down hill fast never absolutely never step one foot inside store long breath air oh btw go day buy helmet of decent people azmotorsports yeah expensive but polite actually know about product perhaps high turnover in staff hint of deep lie issue keep bilt crap crappy service from long haired hippy moron ',\n",
       " 'ok sad bum momma mias not come back go to pizza place kill u find out about sooooo excite normally think would want place to different unique thing but happy guy keep to simple amazing pizza before good nice to something close back love wing great delivery wicked fast guess back to sunday night pizza ',\n",
       " 'place locate at heart of eastern always pack food mediocre order confusing staff to ask usher guest in with music loud actually to shout to food preparers want to order pricing not bad although ',\n",
       " 'good selection of specialty pizza 18 range on large but tasty for hand toss pizza ',\n",
       " 'walk out of place without even acknowledge by staff talk with completely ig ',\n",
       " 'hmmmm well wait forever to get food not sure good but after hour wait on not busy day activity saw quick get check after complain about wait shame doubt back service awful still ca not believe manager allow u to walk out of without try to make amends ',\n",
       " 'in current house almost 8 year issue ac unit prior company give run around not honest not fix ac find polar air through friend 3 year ago satisfied since always respond quickly anytime of day techs knowledgable not creep wife out never felt over sell on thing polar air best ac company find in 15 year of homeowner in la vega valley ',\n",
       " 'art of steel eclectic collection of glass steel tile art knickknack gift definitely must browse store in strip district great place to buy gift for hard to buy for friend relative ',\n",
       " 'not even deserve single star but choice stay far away from unethical company avoid reason force to stay with long business internet service provider in boulder city nv sorry to say customer for over 4 year but completely dissatisfy engage in fraudulent bait switch billing tactic after agree to new two year lower rate service agreement bill practically double instead of go down month for three consecutive month nothing but sham every time contact get lose in quagmire of confusion disinformation not to mention bad customer service ever see of people talk about management not able to diffuse escalating issue add fuel to fire company need to rebuild from top on down horrible ',\n",
       " 'not well take care of anymore bathroom dirty yogurt station messy use to love place happen not feel clean ',\n",
       " 'beef plate well chicken delicious soup amaze with freshly brew tea ',\n",
       " 'love place come friend after dinner fine time bonding over quaint tasty beverage like service menu eccentric furnishing about experience really good one come back soon ',\n",
       " 'love place always get chicken kabob come with lentil soup salad delicious little expensive jasmine grill across town but great alternative on east side not interpret gruff nature of owner rude enjoy delicious meal ',\n",
       " 'tire low on way to work one day pull off highway pull into big tire already call job to inform go to late soon pull in ray help right away extremely attentive didnt check tire low make sure tire good dont know sense urgency but quick helpful wasnt even late to work ',\n",
       " 'work with active renter since 2011 refer several of investor client to rich residential realtor important client great experince with investment property rely on for repeat business home sale every one of referred client thrill with service receive from active renter fee typical for industry customer service top notch client ready to sell rich refers back to for listing also notify of off market deal give investor opportunity to buy next rental at discount in addition to refer investor client to active renter also manage personal rental on 15th ave northern phenomenal job find great tenant take immaculate care of property home build in 1960s typical problem would expect with old home active renter good job of respond to tenant maintenance call still keep repair cost down tenant ready to renew lease for third year really help cash flow tenant even ask purchase property unfortunately with good property manager in place great tenant property profitable of investment for to sell ',\n",
       " 'great atmosphere owner super friendly funny butter chicken super delicious mango lassi rich not sweet definitely would go ',\n",
       " 'first time tonight pretty good food service lack but heather save night by step in up parm fry yum green chili pork meat need season but put with tortilla squeeze of lime pico make tasty back to try of menu item ',\n",
       " 'actually call fresh buy market love place best price produce asian supply in area friendly staff ',\n",
       " 'good funghi appetizer ravioli main pasta make fresh daily glass of rise friend friendly service perfection super cute romantic atmosphere come try to impress on first date come like enjoy wining din with good friend come back ',\n",
       " 'rail lot of thing right food fresh well price tasty restaurant nice with bar separate booth table from patio area make access to drink convenient say although service really hit out of park happy hour great on top of also specially price drink day for particular day of week for instance long island ice tea 3 day on friday honestly thing would change la carte side think unamerican to serve burger without fry keep up good work rail love ya ',\n",
       " 'use shop for over 5 year customer service not get good frank price best always fast easily say not go anywhere else with import domestic truck car thank frank ',\n",
       " 'to give one star cause nothing less one star group of 9 want nice last meal nothing come even warm to table after wait hour to receive scallop not even cook baked potatoe cold steak room temperature after review want lobster mac cheese lobster in at 3 of broccoli raab steamed frozen broccoli crown send immediate back make 18 gratuity lousy job sit write wait for check slow go anywhere but especially want nice meal like ',\n",
       " 'edit paul reach out to issue addressed thanks paul review for henderson location could swear submit review happen but somehow disappear weird anyways hear vega location much good shrug two car repair at time vandalism damage actual body work paint fine everything else total disaster one one of car quarter size dent in rear quarter panel seem to cause in shop not notice pick up car at night get screw right car suppose to in for week end up take three rip off front splitter half assedly screw back on without tell about realize one of employee accidentally spill bean after to go back to replace window tint take 3 day big scratch on trunk lid sort of white residue over car seal around window stick up in sort of place sue but tire of aggravation somebody rear end guess insurance company want to send not snowball chance in hell ever touch of car ',\n",
       " 'parking little tricky but totally worth for local gem traditional sesame cream cheese kind of girl but friendly guy at counter suggest pimento blt on asiago go for hot melty crispy quite possibly best bagel sandwich ever want tomorrow ',\n",
       " 'pinball machine slowly work way out of society glad place like exist wonderful love tribute to great past time lot of rare unique long forgotten table play for 1st 100th time plenty of famous table lotr addams family ripley color conversion table well care for always handful of table break seem to actually fix ample parking low table price 5 10 buck get plenty of play time not walkable from strip but cab lyft would not expensive to east highly recommend even passing interest in pinball ',\n",
       " 'about blind shutter come measure instal probably easy satisfying piece of recent home update great product for reasonable cost larry corey best at ',\n",
       " 'amazing lunch back lineup for food truck usually not long of one get food fairly quickly definitely plus since food truck generally suppose to fast get dbl not combo for 8 amaze dbl two piece of schnitzel with cheese bacon sauerkraut inside especially since not great fan of bread buns sandwich burger simply perfect alalthough dbl look small initially fill up for nice lunch schnitzel to perfection not oily but still crispy satisfy but prepare although not salad extremely balanced meal look for green might good to save for cheat day ',\n",
       " 'last week sample different wing place for best wing choose wing time come in last week get little combo for combo want six piece of wing with two different flavor blue cheese french fry texas toast not to mention drink get lot get little side order of carrot but not expensive at today feed wonderful volunteer remodel church kind generous for devote free time to church place order for 30 wing special order ahead of time ready get everything really like way separate cold item put in separate bag everybody love wing include definitely continue come either for lunch special for in future another party definitely get large wing special deal really love wing perfectly cook perfectly season plus best customer service ',\n",
       " 'security awful friend kick in back by group of girl ask to leave not go trash ',\n",
       " 'apparently first review for company ca not fathom others not reveiwed company 23 year old garage door finally give up ghost nite get quote from competitor range from 750 00 to 1 100 00 dollar company come immediately say need new door express to by budget limit new door not in budget friend say contact aaa action door contact josh part owner tell budget limit come out take one look at door say get repair w question need new metal bracing along top middle instal metal bracing in less 45 min operating door save bunch of money ',\n",
       " 'use to one of favorite restaurant but quality drop precipitously food longer anything special service downright hostile last two time eaten server old middle age woman wear way much perfume rude recently make u wait 10 minute before come to table even although one in restaurant ask want menu ask question literally 3 second later ask ready to order could feel animosity radiate from tip less 10 still overly generous use to waiter tipped less 20 in 2 restaurant visit out of probably thousand of visit food bland taste like fast food chinese even chicken coconut soup not taste right best dish damn shame use to one of favorite restaurant guess buy by somebody simply not care attitude reflect by staff good rating probably remnant of old visit would stay far far away from restaurant ',\n",
       " 'interesting restaurant with variety of item on menu come with dragon boat team for dinner quite busy huge restaurant locate in old montreal seem to quite popular consider long line outside luckily reservation for 52 guest private room for many people 2 staff assign to group not enough for food order salmon pizza with arugula nice size quite delicious with good amount of salmon slice on pizza pizza crust nicely prepared for 22 little bit on pricy side but glad order tasty dish for drink order pina colada beer local to quebec overall pretty positive din experience thoroughly enjoy food staff friendly on point with make sure everything pleasant quite extensive menu make difficult to choose 1 item highly recommend place happen to around old montreal square ',\n",
       " 'people nominate for mvp 1 team losing record 2 kid not make star team coach kid something ',\n",
       " 'wow to say not sure happen since last time but like go to completely different restaurant horrible rude service from of waitress not from one people mention tall nasty always look on face like someone take crap in cereal sort of get impression gaijin ie not japanese may piss off even food still taste great but ambiance attitude really really rub wrong way needless to say tip would relish opportunity reviewer tall nasty follow out to parking lot demand tip guarantee would not find to pleasant experience lose customer fan congratulation nasty face ',\n",
       " 'jason recommend penne shrimp dish awesome definitely request jason waiter back ',\n",
       " 'food amazing fresh yummy service fast staff professional over top attentive austin amaze for breakfast wait staff breakfast lunch dinner dessert 1st class ',\n",
       " 'order combo burrito little chicken lot of bean also come with 8 piece of chip for 8 dollar not worth at rather go roberto on fort apache much well at anything ',\n",
       " 'go group of 6 friend waiter sonia great quick to understand pair up to split meal receipt try poutine for first time poutine bom friend order poutine dynamite bit spicy with jalapeños good add little ketchup on top perfect poutine portion also large enough to split between 2 people ',\n",
       " 'great chicago style pizza sit outside to enjoy weather attentive server reasonable price ',\n",
       " 'for reserve word get to place check out nuff say ',\n",
       " 'love place start bootcamp workout 2 week ago already lose 8lbs buy another weigh scale to double check lol well ca not believe come almost everyday love coach everyone come with mission goal really help to keep motivated meal plan for weight loss coach give really work really felt amazing ',\n",
       " 'love chef mary sue milliken susan feniger look forward to experience restaurant during stay first night eat at bar blood orange margarita with mole rim citrus chicken quesadillas good not want to stop eat but stuff on last day lunch also at bar happy hour drink little less expensive spicy shrimp taco food drink service phenomenal price average not overly pricy but not cheap pay for quality in food service go eat ',\n",
       " 'always amazing service today nothing short of free tire rotation car end up die in middle of street in front of front door jumper cable on end gentleman marcos co worker make sure to help without hesitation jump car appreciate guy much hard work put in day in day out thanks for save today ',\n",
       " 'one of best pizza place around ran by great people always friendly service one of rare treasure of elyria daughter love place not try try pierogi pizza delicious ',\n",
       " 'ca not believe service kind patient reasonable food even well good people come back time time alalthough may slow on busy day attitude kindness blow away enough dont mind patient always return ',\n",
       " 'three guy send out take about two hour to empty house about 1 1 2 to move stuff into new house professional entire time personable take impeccable care of stuff nothing damage wrap piece of furniture with pad plastic under 800 for move great to not to would recommend to anyone ',\n",
       " 'buy tire for vehicle from discount tire for year always please with product service customer support anyone in need of tire would not go anywhere else ',\n",
       " 'fun addition to university circle twice time to watch football game at least twenty widescreen tv two story with bar bowl lane on floor take reservation valet park time get chicken tender would not come specifically for food but rather for activity din atmosphere bowl for walk in 35 per hr but 50 per hr for reservation shoe rental 3 entree 10 to 20 mixed drink around 8 to 10 go to place to watch big game bowl with group friends always make for enjoyable event ',\n",
       " 'wait almost hour past appointment call in to book ahead with apology explanation also nail extension for week decide bit long to functional call in to ask could shorten tell would 10 likely not come back customer service seriously lack seem to want to charge for every bloody little thing even price not cheap overlook everything else ',\n",
       " 'best pizza in la vega people work nice polite love place clean place ',\n",
       " 'far good 19 99 get guest in staff nice friendly place way cleaner gym in area downside place get hot seem to crap ac something but overall experience pretty okay tip place get super pack from 5 9 ',\n",
       " 'crepe must try at store drink quite sweet include cold hot drink dessert in cooler terrible look nice for instagram pic although ',\n",
       " 'donut amaze donut shop formerly know presti wo not explain in detail good would mean since close drive by call gillys sniff ',\n",
       " 'pleasant surprise to find quiznos open even well actually sandwich taste great shame not quiznos like one ',\n",
       " 'awesome truck ca not wait for brick mortar location to open nash vega hit chicken best in west coast house pimento amaze ',\n",
       " 'husband stop in to guitar center on saturday afternoon in search of keyboard vocalist but need something simple affordable to help in practicing arrive saw quite busy inside employee busy run around everywhere to help different customer actually little happy about not want to pressure by someone into buy fancy keyboard need able to browse selection try different option decide on after make choice track down employee at front desk tyler come help u right away ask need power source thankful something not think about track down need check u out ask want warranty able to answer question about without pressure tyler super helpful professional efficient thankful one to help u satisfied with experience definitely back to location for future music need ',\n",
       " 'impressed by optometrist in out in less 30 minute paperwork exam order contact really like new system not to say 1 2 bunch of time efficient dr beal also really nice talk through everything appreciate definitely one of best optometry experience ',\n",
       " 'preface review by say long time aveda customer never bad experience in aveda salon say experience stand out others recently move to las vega from denver nervous about find new stylist loyal to aveda stylist in denver for over 5 year love every cut color experiment today take plunge schedule haircut desperately need about foot of hair chop meet jessica immediately put at ease listen to story of hair change over course of pregnancy understand challenge busy mom wisely offer advice on face framing bang maintenance funny smart personable beginning of jessica amaze work after relieve from about 4 pound of hair jessica beautifully frame face shape hair to magnificent style please not miss salon from massage shampoo chair to fabulous stylist leave look best ',\n",
       " 'look for change update from straight boring hair ali magic create custom shag cut look amazing flat iron curl with beach wave oh by way shampoo scalp massage to die for worth spend girl get skill ',\n",
       " 'need beer never to tyber creek not sure keep from go maybe think feeling little neighborhood joint not in neighborhood something either way pretty cool sort of outdated friendly bar irish bar with plenty of great cold beer on tap well appetizer bar menu compete with best of friendly bartender keep drink come not hard to tell people like place definitely come kind of place like ',\n",
       " 'love place high quality not pricey food reason for 5 star review for happy hour prime burger one of favorite burger in town during happy hour 7 for quality bacon burger get choice of cheese get blue side of fry burger lover check out one of best deal in vega ',\n",
       " 'could not ask for ahr mechanical provide promptness honesty value ac go out on sunday call mike technician darold at house in one hour darold friendly sell need to get ac run even comment surprised to see 12 year old ac unit run smoothly clearly not go to try to upsell like many company darold work quietly ac work in under 30 minute cost of ac repair ubiquitously exorbitant ahr offer many discount also offer one year warranty on part replace would confidently call for ac repair may need recommend ',\n",
       " 'red robin hop on friday night service great go matt attentive friendly efficient burger delicious fry best dgb hear music with first bite wonderful combination of favor son royal burger egg beautiful complain bacon taste like microwave bacon but manage to eat every bite red robin hummmmmm ',\n",
       " 'would give zero could talk into service fault for naive trust fast talker soon agree to service pack up leave not even work shady not recommend ',\n",
       " 'professional honest fair pricing dependable not know about rest of yelp viewer out but important trait look for business carpet monkey of la vega deliver of in spade pardon play on la vega spade prompt extremely professional owner incredibly concern with whether whether not happy with service for record extremely pleased almost embarrassed to say difference make on tile night day in house for 10 year regularly clean but never tile steam chemically clean like perform difference happy happen to find via read review on yelp althought give shot glad find rid fence on whether whether not to give shot say would pull trigger call in heartbeat go to carpet tile guy from on ',\n",
       " 'place always chaotic super super super busy but really fun girl know lot of girl would not comfortable fun golfing at driving range but top golf great even not want to play hangout eat drink with friend play whether come for date birthday party in big group whatever may place great for people of age atmosphere really fun super cool idea entertain ',\n",
       " 'eat warm pie on location buying frozen pie to eat at home ever since first location open huge fan of savoury pie honestly not pick favourite like many of pie decide on flavour base on crave at time enjoy braised beef rib beef n beer butter chicken slightly spicy veg ilicious pull pork seasonal flavour great love to try lobster shrimp but sell out whenever visit for sweet pie cheesecake with raspberry fave also enjoy coleslaw dressing tart perfect amount dry apricot add great texture sweetness wish cabbage chop finely carrot julienne but cabbage chop in large piece make for tough texture ',\n",
       " 'amaze steak cheese well philly one ever take little tom order get food but cause good great pizza ',\n",
       " 'terrible expensive experience time first one year ago request part fellow to order new muffler say would in in about 3 day 5 day later call forget to order 10 day later call still forget to order despite in front of counter second situation on nov 4 th 2017 1998 rav 4 not carry charge despite purchase new battery evening before on cold snowy day wife break down on 130th ave e manage to get vehicle far safeway parking lot strand call canadian tire across street speak to manager tell to bring right in well call tow truck wait for 2 half hour biggy busy day for one could imagine bring vehicle in on large flat bead truck ask mechanic want say anywhere drop go inside speak to ron about problem ron super nice guy friendly mention to loose positive cable clamp to tighten need to alternator check new battery die on u after repair complete ron could please safety check on vehicle please come upsell well say 3 different type of safety check felt press need to tell about respective price cut off short instruct to provide with cheap 100 00 safety check in point form blunder commit 1 ron get name wrong sex wrong with stand in front of correct put entirely different name on key tag correct even call back to ensure information on work order complete but not even bother to put down much need information plain unprofessional 2 speak to about purchase new battery night before cable clamp not tight despite not bother to put of on work order 3 never inform of labor cost part cost alternator forth 4 never mention on work order vehicle die drive but instead say stall 5 assistant manager dennis call leave message for rav would not pass safety test battery not work headlight bulb out well of course think 6 assistant manager call second time at residence later next day inform alternator would need replace despite purchase new from one year previous ask much alternator give rough cost say would charge 1 2 guess one hour twenty minute for labour fair enough say go ahead with repair at point figure about 5 hundred dollar by time soak for everything 7 later day pick up vehicle way over above at 683 00 ask to explain cost say busy 8 arrive home look at invoice notice not even take time to fill out top of safety check truth know never probably check thing name policy number make model year of vehicle vin number date absolutely nothing 9 shop supply 35 dollar change two bolt secure alternator to bracket tell 35 worth 10 assistant manager could not provide customer with proper warrantee period for know long safety check good for after sound like professional service to ashamed for treat customer way needless to say wo not back for service reckless unprofessional ',\n",
       " 'spend 45 minute in store shopping for baby home get to check out counter unloaded order cashier start check out call another cashier over tell target store on probation could longer take wic not one sign post anywhere to in store on front window of store isle still wic symbol on cashier say could call front manager tell good go to not take wic leave full cart with tell to go elsewhere get home call corporate office put in complaint person speak with knowledge of but take name say go to look into matter advise to call manager at store call manager at store thing could bother to tell use to take wic but not long tell sign post to shelf still wic sticker on answer to sign on front window say take wic also tell speak with employee regard something look for saw wic check in hand never say anything store take up space go numerous time on sunday for milk egg to find totally out of whole milk eggs please order continue to shop at walmart even although store mile away from manager never even say sorry excuse hang up ',\n",
       " 'well not amazing good place in charlotte to get sushi over charge for drink aside service great place nice would go back likely ',\n",
       " 'go to market time good thing open until 12 stop by place late night bad thing hispanic worker unprofessional speak spanish understand say in spanish inside store experience today bad three of mexican worker use nasty cursing word in front of customer assume one understand say puta bitch whore chingado f u extremely nasty disrespectful cursing word totally gross out tell not use nasty word in front of customer one of joke puta mean pretty in korean of course not really insults korean culture totally disappointed in unprofessional act attitude would like to stay away from store for not matter language speak but never use disrespectful cursing word in front of customer end of line ',\n",
       " 'totally gaudy but great spent 26th birthday wknd also happen to first trip to vegas despite living in la since 18 imagine anyhow stay in suite with step down living room gold in place make wear stunna shade lol definitely check out v bar drink unique place definitely for grown sexy ',\n",
       " 'go to dental care west west side clinic offer by still university since april 2015 come highly recommend schedule appointment change 3 time without approval find out about change show up for originally schedule appointment bad customer service otherwise of resident ok dentist to new dentist every july up to third regular dentist to get appointment need change resident dentist find out many of resident coaching dentist not read file to know go on with treatment before come in bad practice also problem dentist work althought need without discuss with first but not up to after get angry frustrating to go back hopefully 1 time to fix problem create problem root canal crown implant extraction during healing time prior crown teeth shift result in large gap between teeth pain realize problem cause not charge but keep put off work schedule with different resident dentist get work support staff help dentist best front office not much long drawn out process want teeth fix not difficult ',\n",
       " 'place hidden gem move to vegas from san francisco last year several time since take friend last weekend visit fell in love with play yard in back blast much fun drink super affordable adorable waitress name anne marie awesome super nice quick with drink attentive personable server before bit picky but on love place ',\n",
       " 'dr vicuna fabulous thorough not mind ask million question lol patient ',\n",
       " 'new club in hard rock currently hot place in vega similar to rain best club on sunday night hand down ',\n",
       " 'could give 0 star would husband decide to try clicklist function of order online pick up grocery curbside arrive at 7 01 pm watch for well over 10 minute through glass at associate man station take cell phone call cut paper with scissors take selfie not before husband go into store proper to ask about get order well after minute after return to car after talk to customer service decide to film say associate take another call not well over 4 minute of footage of nothing at point hit 20 minute mark of wait husband go back into store meet by c employee manager call associate up admire take call tell u call to let know website specifically state to stay in car come out to phone number instruction to call issue in confirm email receive manager not even apologize for employee try to make amends assure husband card not charge of but cancel order go to smith on sahara nellis normal store not clicklist feature tell happen give u office number to area call well submit screen shot of confirm email order confirmation number 4 plus minute of video to corporate email good luck explain cell phone usage ',\n",
       " 'go look for gluten free fry chicken find new favorite place to eat hate go to strip but for chicken like granny use to make make exception best country chic atmosphere manager legit one of nice dude meet bar menu rock back soon rock yardbird ',\n",
       " 'horrible service communication owner rude lack professionalism even after acknowledge mistake on website lead to believe could get hand wash at 4 45 pm hour of operation 8 00am 7 00pm drive 30 minute not seem to care instead walk away leave argumentative employee behind many option in charlotte to give place business ',\n",
       " 'in n out ok ok truly think people go think cool thing to carl jr burger big carl far good burger ',\n",
       " 'come to meet bff happy hour everything great food drink price service love place atmosphere ',\n",
       " 'let start with positive never bad weak drink at kelly feel reasonably price food try mac cheese ok give much cost kelly two major issue cleanliness service booth cover in crumbs regardless of time of night table often need wipe mysterious sticky stain abound service would not for crazy policy let say sit at table waiter pay attention to go to bar to get drink allow to bring drink back to table to drink at bar kind of catch 22 for reason to give 2 star rating good bar around ',\n",
       " 'ca not remember lunch good today wait last time last about 9 month ago place rock ravi awesome use to pick up lunch weekly sadly move job not around corner long lucky enough to in neighbourhood not turn down opportunity to stop in grab bite to eat always daily special menu post on large blackboard walk in 4 5 type of wrap great get before noon beat rush even get catch in line well worth wait every single item on menu terrific today bring friend for quick lunch combo of corn crab soup lamb wrap wow fantastic combo prefect lunch restaurant small seat about 16 at large communal table about 4 additional table in back space prefer to sit face street could lucky to grab spot at window in spring summer early fall patio open lovely space to lunch thanks ravi team great job hope to return soon ',\n",
       " 'update review but come back to place since like 2 min from house sushi fish good average edible good for quick fix solid 3 star ',\n",
       " 'hear prepare pho delicious crispy vietnamese egg roll nice compliment ',\n",
       " 'purchase used safe on craigslist not safe mind oh to super high security 4000 lb bank safe especially at dirt cheap price list let say four thousand pound two ton about toyota highlander 5 foot tall 4 foot wide about 35 inch deep spend several day call around to place to get move one want to touch thing call safe keeper owner agree to for 800 want to spend cheapskate finally agree since one else would take job glad 3 of guy pick up from warehouse near strip move to home in centennial use two pallet jack assortment of wood block chock floor covering four turn one 36 inch wide doorway later place exactly want scuffed wall indentation in linoleum damage to person property whatsoever not lot impress see review but guy folks whole crew professional safe mover work seamlessly together five star way call need safe moved ',\n",
       " 'venetian straddle dual aspect of early 21st century la vegas well get appeal of calculated imitation adult disneyworld but still polish of unrestrained opulence la vega evolve to sort of dubai with gamble crowd diverse with wealthy foreign tourist guest herd through shopping mall under auspex of pay tour guide certainly monument to global ambition indeed vega evolve imagine open venetian pinnacle of elegance on strip long at summit still fantastic place to stay at room decorate in classic italian motif fairly spacious of aspect of room show age need to call maintenance at one point property indeed huge with lot to offer top notch din upscale shopping considerable entertainment venetian troubadors gondola ride show casinos scale of operation put into perspective by recount check in experience felt like board cruise ship with crowd process walk to cabin excellently but not look for in vacation may need to think vegas thing go off peak during week felt room rate good deal ever go back to vega consider stay ',\n",
       " 'food awesome eat since 2000 pizza good but love sandwich chill vibe ',\n",
       " 'want to like salon seem cute trendy baby really look forward to fresh new haircut unfortunately experience disappoint front desk attendant offer person come in about 10 minute after cup of tea but fail to offer tea until point realize forget to ask want tea well soon bring tea to stylist ready not get opportunity to drink show stylist picture of want explain in detail not want say could proceed to cut hair without converse with at whole time disclaimer curly wavy hair ask for side swept bang blend into layer stylist insist on blow hair out straight finish include full fringe of blunt cut bang on forehead get home examine hair saw layer uneven way to style bang except to pull back with bobby pin go to another salon person cut hair for less salon charge look great every time really disappointed seem like people good experience at salon ',\n",
       " 'snake lattes great customer service really important but often overlooked aspect of business prompt in reply to email try to flexible make reservation two month prior for june 22nd at last minute to change could not guarantee get table but lo behold everything work out love text to let know table ready really hate get phone call food price expensive but with 5 cover time limit happy to pay price everyone really great even pop in to buy game love definitely back with people in tow oh strawberry cheesecake milkshake delicious criticism really need to get proper table for couch area hard to play non board game like carcassonne city on table with slat ',\n",
       " 'love place nail daughter nail friendly staff clean always great job kathy veena great job busy but not mind wait try nail shop around one fav ',\n",
       " 'best fry chicken ever issue persistently with chicken not usually well seasoned but chicken at place wonderfully well seasoned mean even bit closest to bone well season surface meat every bite absolutely delicious tender moist not overly greasy come from south not well fry chicken order blue plate doubtful about spiced watermelon with chicken mean watermelon on main dish with chicken but totally make sense sweetness juiciness of watermelon go delightfully with fried chicken kinda act palette cleanser take away feeling of greasiness totally yum honestly think always try fried chicken with watermelon after not put off by unusual combo spiced watermelon not overly spice taste salt pepper cilantro refresh issue portion size little small compare to usual american size portion but treat ',\n",
       " 'fried rice tasteless tasteless chicken wing dry dry pot sticker doughy doughy yummy yummy not not ',\n",
       " 'figure give another shot well nope thing happen another order of burnt toast love denny honestly think good ihop go to to find another one to go to ',\n",
       " 'after issue with nearby terrible herbst try to use gift card receive go to one in out with issue thanks sarra worth leave one of gift card at store ',\n",
       " 'enjoy luxury like electricity run water keep look wo not find ca not tell many day electric water shut off for hour at time look for place make home susceptible to robbery place for week ago hire painter to come around paint door painter come in morning at work leave door open to let paint dry not home come home around 5 30 pm to find door to apartment completely wide open thankfully nothing steal vandalize but go to show inept complex manager at run safe responsible business report incident to management never receive kind of response unattended apartment leave wide open for 8 hour management could not bother to even call email about situation to top off last weekend to call 911 half naked meth addict try to break into car need place to sleep 3 cop firetruck ambulance end up to come to deal with woman 3rd time in 5 month to call 911 for drug addict in parking lot of complex living not horrific experience dangerous not live living complete nightmare move out month early not worth live somewhere dangerous p 5 star review for place write by employee ',\n",
       " 'since hire new gm place worth come to make ice cream like use to would highly recommend location ',\n",
       " 'two of many many regular at rainbow donut good stuff fresh delicious pastry creative well freshly make breakfast item usually get breakfast burrito yum fast delish always solid service ',\n",
       " ...]"
      ]
     },
     "execution_count": 40,
     "metadata": {},
     "output_type": "execute_result"
    }
   ],
   "source": [
    "texts"
   ]
  },
  {
   "cell_type": "code",
   "execution_count": 67,
   "metadata": {},
   "outputs": [
    {
     "name": "stderr",
     "output_type": "stream",
     "text": [
      "100%|██████████| 9956/9956 [09:23<00:00,  7.58it/s]\n"
     ]
    }
   ],
   "source": [
    "from autocorrect import spell\n",
    "\n",
    "new_texts = ['']\n",
    "for i in tqdm(range(len(texts))):\n",
    "    new_texts.append([spell(j) for j in texts[i].split(' ')])\n",
    "\n",
    "new_texts = new_texts[1:]"
   ]
  },
  {
   "cell_type": "code",
   "execution_count": 76,
   "metadata": {},
   "outputs": [],
   "source": [
    "result = ['']\n",
    "for i in range(len(new_texts)):\n",
    "    result.append(' '.join(new_texts[i]))\n",
    "    \n",
    "new_texts = result[1:]"
   ]
  },
  {
   "cell_type": "markdown",
   "metadata": {},
   "source": [
    "#### Bigrams for phrase"
   ]
  },
  {
   "cell_type": "code",
   "execution_count": 77,
   "metadata": {},
   "outputs": [],
   "source": [
    "from gensim.models.phrases import Phrases, Phraser"
   ]
  },
  {
   "cell_type": "code",
   "execution_count": 78,
   "metadata": {},
   "outputs": [],
   "source": [
    "sentence_stream = [sent.split(' ') for sent in new_texts]"
   ]
  },
  {
   "cell_type": "code",
   "execution_count": 79,
   "metadata": {},
   "outputs": [],
   "source": [
    "bigram = Phraser(Phrases(sentence_stream, min_count=5, threshold=5)) #mincount越小识别出来的越少，threshold higher means fewer phrases"
   ]
  },
  {
   "cell_type": "code",
   "execution_count": 107,
   "metadata": {},
   "outputs": [],
   "source": [
    "test_num = 100"
   ]
  },
  {
   "cell_type": "code",
   "execution_count": 108,
   "metadata": {},
   "outputs": [
    {
     "data": {
      "text/plain": [
       "'excited for happy hour heard great thing food less average charge of for bread apps greasy fry still spend 250 on happy hour menu for group of a first review on yelp cared enough to take time to write sorry wo not come back a'"
      ]
     },
     "execution_count": 108,
     "metadata": {},
     "output_type": "execute_result"
    }
   ],
   "source": [
    "new_texts[test_num]"
   ]
  },
  {
   "cell_type": "code",
   "execution_count": 109,
   "metadata": {},
   "outputs": [
    {
     "name": "stdout",
     "output_type": "stream",
     "text": [
      "['excited', 'for', 'happy', 'hour', 'heard', 'great', 'thing', 'food', 'less', 'average', 'charge', 'of', 'for', 'bread', 'apps', 'greasy', 'fry', 'still', 'spend', '250', 'on', 'happy', 'hour', 'menu', 'for', 'group', 'of', 'a', 'first', 'review', 'on', 'yelp', 'cared', 'enough', 'to', 'take', 'time', 'to', 'write', 'sorry', 'wo', 'not', 'come', 'back', 'a']\n"
     ]
    }
   ],
   "source": [
    "print(sentence_stream[test_num])"
   ]
  },
  {
   "cell_type": "code",
   "execution_count": 110,
   "metadata": {},
   "outputs": [
    {
     "name": "stdout",
     "output_type": "stream",
     "text": [
      "['excited', 'for', 'happy_hour', 'heard', 'great', 'thing', 'food', 'less', 'average', 'charge', 'of', 'for', 'bread', 'apps', 'greasy', 'fry', 'still', 'spend', '250', 'on', 'happy_hour', 'menu', 'for', 'group_of', 'a', 'first', 'review', 'on_yelp', 'cared', 'enough', 'to', 'take', 'time', 'to', 'write', 'sorry', 'wo_not', 'come_back', 'a']\n"
     ]
    }
   ],
   "source": [
    "print(bigram[sentence_stream[test_num]])"
   ]
  },
  {
   "cell_type": "code",
   "execution_count": 84,
   "metadata": {},
   "outputs": [
    {
     "data": {
      "text/plain": [
       "9956"
      ]
     },
     "execution_count": 84,
     "metadata": {},
     "output_type": "execute_result"
    }
   ],
   "source": [
    "len(sentence_stream)"
   ]
  },
  {
   "cell_type": "code",
   "execution_count": 85,
   "metadata": {},
   "outputs": [],
   "source": [
    "sentence_with_phrase = bigram[sentence_stream]"
   ]
  },
  {
   "cell_type": "code",
   "execution_count": 193,
   "metadata": {},
   "outputs": [],
   "source": [
    "result = ['']\n",
    "for i in range(len(new_texts)):\n",
    "    result.append(' '.join(bigram[sentence_stream[i]]))\n",
    "    \n",
    "new_texts = result[1:]"
   ]
  },
  {
   "cell_type": "code",
   "execution_count": 236,
   "metadata": {},
   "outputs": [
    {
     "data": {
      "text/plain": [
       "'first to admit not excite_about go to la Travolta food snob group_of friend suggest go for_dinner look online at menu to nothing_special seem overpriced im also not big on order pasta go out ala outnumber thank_goodness order sea_bass special to_die for cooked perfectly_season perfectly perfect portion not say_enough good thing_about dish server ask seem proud_of dish say not chef incredible job hubby get crab tortellini also love heard mmmm good from around table waiter super_nice even give_u free_dessert of last people in restaurant service_slow place_pack but jug of wine large_group with good conversation not seem to bother anyone order calamari fry zucchini appetizer leave out mussel sea_bass special highly_recommend chicken part crab tortellini also good big chicken romano bit_bland house_salad teeny make_reservation but_still expect to wait for food go with large_group of people plan for to loud not go with date unless fight not feel_like hear_anything to say ask to sit in side room available a'"
      ]
     },
     "execution_count": 236,
     "metadata": {},
     "output_type": "execute_result"
    }
   ],
   "source": [
    "new_texts[5]"
   ]
  },
  {
   "cell_type": "markdown",
   "metadata": {},
   "source": [
    "#### Most Frequent Words"
   ]
  },
  {
   "cell_type": "code",
   "execution_count": 195,
   "metadata": {},
   "outputs": [
    {
     "data": {
      "text/plain": [
       "list"
      ]
     },
     "execution_count": 195,
     "metadata": {},
     "output_type": "execute_result"
    }
   ],
   "source": [
    "type([sentence_with_phrase])"
   ]
  },
  {
   "cell_type": "code",
   "execution_count": 196,
   "metadata": {},
   "outputs": [
    {
     "data": {
      "text/plain": [
       "21756"
      ]
     },
     "execution_count": 196,
     "metadata": {},
     "output_type": "execute_result"
    }
   ],
   "source": [
    "from collections import defaultdict\n",
    "word_freq = defaultdict(int)\n",
    "for sent in sentence_with_phrase:\n",
    "    for i in sent:\n",
    "        word_freq[i] += 1\n",
    "len(word_freq)"
   ]
  },
  {
   "cell_type": "code",
   "execution_count": 197,
   "metadata": {},
   "outputs": [
    {
     "data": {
      "text/plain": [
       "['to',\n",
       " 'a',\n",
       " 'of',\n",
       " 'not',\n",
       " 'for',\n",
       " 'but',\n",
       " 'in',\n",
       " 'with',\n",
       " 'get',\n",
       " 'on',\n",
       " 'place',\n",
       " 'good',\n",
       " 'food',\n",
       " 'go',\n",
       " 'great',\n",
       " 'at',\n",
       " 'one',\n",
       " 'order',\n",
       " 'would',\n",
       " 'service',\n",
       " 'like',\n",
       " 'come',\n",
       " 'time',\n",
       " 'from',\n",
       " 'try',\n",
       " 'make',\n",
       " 'out',\n",
       " 'say',\n",
       " 'also',\n",
       " 'take',\n",
       " 'well',\n",
       " 'love',\n",
       " 'about',\n",
       " 'really',\n",
       " 'after',\n",
       " 'u',\n",
       " 'best',\n",
       " 'restaurant',\n",
       " 'nice',\n",
       " 'by',\n",
       " 'give',\n",
       " 'wait',\n",
       " 'always',\n",
       " 'know',\n",
       " 'back',\n",
       " 'up',\n",
       " 'eat',\n",
       " 'even',\n",
       " 'work',\n",
       " 'need',\n",
       " 'find',\n",
       " 'drink',\n",
       " 'although',\n",
       " 'tell',\n",
       " 'people',\n",
       " 'price',\n",
       " 'see',\n",
       " 'delicious',\n",
       " 'never',\n",
       " 'could',\n",
       " 'little',\n",
       " 'much',\n",
       " 'day',\n",
       " 'way',\n",
       " 'thing',\n",
       " 'over',\n",
       " 'staff',\n",
       " 'table',\n",
       " 'experience',\n",
       " 'use',\n",
       " 'want_to',\n",
       " 'call',\n",
       " 'everything',\n",
       " 'leave',\n",
       " 'menu',\n",
       " 'think',\n",
       " 'bad',\n",
       " 'look',\n",
       " 'first',\n",
       " 'location',\n",
       " 'ask',\n",
       " 'before',\n",
       " 'taste',\n",
       " 'two',\n",
       " 'chicken',\n",
       " 'definitely',\n",
       " 'friend',\n",
       " 'ever',\n",
       " 'pizza',\n",
       " 'right',\n",
       " 'dish',\n",
       " 'ca_not',\n",
       " 'another',\n",
       " 'still',\n",
       " 'meal',\n",
       " 'server',\n",
       " 'room',\n",
       " 'small',\n",
       " 'friendly',\n",
       " 'new']"
      ]
     },
     "execution_count": 197,
     "metadata": {},
     "output_type": "execute_result"
    }
   ],
   "source": [
    "sorted(word_freq, key=word_freq.get, reverse=True)[:100]"
   ]
  },
  {
   "cell_type": "markdown",
   "metadata": {},
   "source": [
    "### word2vec"
   ]
  },
  {
   "cell_type": "code",
   "execution_count": 198,
   "metadata": {},
   "outputs": [
    {
     "data": {
      "text/plain": [
       "4"
      ]
     },
     "execution_count": 198,
     "metadata": {},
     "output_type": "execute_result"
    }
   ],
   "source": [
    "import multiprocessing\n",
    "cores = multiprocessing.cpu_count()\n",
    "cores\n"
   ]
  },
  {
   "cell_type": "code",
   "execution_count": 199,
   "metadata": {},
   "outputs": [],
   "source": [
    "from gensim.models import Word2Vec\n",
    "w2v_model = Word2Vec(min_count=1,\n",
    "                     window=2,\n",
    "                     size=200,\n",
    "                     sample=6e-5, \n",
    "                     alpha=0.03, \n",
    "                     min_alpha=0.0007, \n",
    "                     negative=20,\n",
    "                     workers=cores-1,\n",
    "                     seed = 123,\n",
    "                     sg=0) # sg默认为0，对应CBOW算法；sg=1则采用skip-gram算法"
   ]
  },
  {
   "cell_type": "code",
   "execution_count": 200,
   "metadata": {},
   "outputs": [
    {
     "name": "stdout",
     "output_type": "stream",
     "text": [
      "Time to build vocab: 0.03 mins\n"
     ]
    }
   ],
   "source": [
    "import time\n",
    "\n",
    "t = time.clock()\n",
    "\n",
    "w2v_model.build_vocab(sentence_with_phrase, progress_per=10000)\n",
    "\n",
    "print('Time to build vocab: {} mins'.format(round((time.clock() - t) / 60, 2)))"
   ]
  },
  {
   "cell_type": "code",
   "execution_count": 201,
   "metadata": {},
   "outputs": [
    {
     "name": "stdout",
     "output_type": "stream",
     "text": [
      "Time to train the model: 1.58 mins\n"
     ]
    }
   ],
   "source": [
    "t = time.clock()\n",
    "\n",
    "w2v_model.train(sentence_with_phrase, total_examples=w2v_model.corpus_count, epochs=30, report_delay=1)\n",
    "\n",
    "print('Time to train the model: {} mins'.format(round((time.clock() - t) / 60, 2)))"
   ]
  },
  {
   "cell_type": "code",
   "execution_count": 202,
   "metadata": {},
   "outputs": [
    {
     "data": {
      "text/plain": [
       "[('great_atmosphere', 0.8750365972518921),\n",
       " ('fabulous', 0.8691188097000122),\n",
       " ('amaze', 0.8671000003814697),\n",
       " ('great', 0.8670890927314758),\n",
       " ('service_outstanding', 0.8658528327941895),\n",
       " ('attentive_friendly', 0.8656123876571655),\n",
       " ('terrific', 0.8578321933746338),\n",
       " ('fantastic', 0.8488726615905762),\n",
       " ('amazing', 0.8450025320053101),\n",
       " ('friendly_attentive', 0.8408991098403931)]"
      ]
     },
     "execution_count": 202,
     "metadata": {},
     "output_type": "execute_result"
    }
   ],
   "source": [
    "w2v_model.wv.most_similar(positive=[\"awesome\"])"
   ]
  },
  {
   "cell_type": "code",
   "execution_count": 206,
   "metadata": {},
   "outputs": [
    {
     "data": {
      "text/plain": [
       "[('large', 0.8283247351646423),\n",
       " ('tiny', 0.8128261566162109),\n",
       " ('gigantic', 0.8055514097213745),\n",
       " ('small', 0.7974947690963745),\n",
       " ('massive', 0.7930153608322144),\n",
       " ('ample', 0.7871751189231873),\n",
       " ('sized', 0.7848326563835144),\n",
       " ('teeny', 0.7839747667312622),\n",
       " ('decent_size', 0.7812745571136475),\n",
       " ('big', 0.7703492641448975)]"
      ]
     },
     "execution_count": 206,
     "metadata": {},
     "output_type": "execute_result"
    }
   ],
   "source": [
    "w2v_model.wv.most_similar(positive=[\"huge\"])"
   ]
  },
  {
   "cell_type": "markdown",
   "metadata": {},
   "source": [
    "#### Sensitive Analysis (without tfidf)"
   ]
  },
  {
   "cell_type": "code",
   "execution_count": 313,
   "metadata": {},
   "outputs": [],
   "source": [
    "design_matrix = np.zeros([len(new_texts),200])"
   ]
  },
  {
   "cell_type": "code",
   "execution_count": 314,
   "metadata": {},
   "outputs": [
    {
     "name": "stderr",
     "output_type": "stream",
     "text": [
      "/anaconda3/lib/python3.6/site-packages/ipykernel_launcher.py:4: DeprecationWarning: Call to deprecated `__getitem__` (Method will be removed in 4.0.0, use self.wv.__getitem__() instead).\n",
      "  after removing the cwd from sys.path.\n"
     ]
    }
   ],
   "source": [
    "for i in range(design_matrix.shape[0]):\n",
    "    temp_sent = new_texts[i].split(' ')\n",
    "    for j in range(len(temp_sent)):\n",
    "        design_matrix[i] += w2v_model[temp_sent[j]]\n",
    "    design_matrix[i] = design_matrix[i]/len(temp_sent)"
   ]
  },
  {
   "cell_type": "code",
   "execution_count": 315,
   "metadata": {},
   "outputs": [
    {
     "data": {
      "text/plain": [
       "RandomForestClassifier(bootstrap=True, class_weight=None, criterion='gini',\n",
       "            max_depth=2, max_features='auto', max_leaf_nodes=None,\n",
       "            min_impurity_decrease=0.0, min_impurity_split=None,\n",
       "            min_samples_leaf=1, min_samples_split=2,\n",
       "            min_weight_fraction_leaf=0.0, n_estimators=100, n_jobs=1,\n",
       "            oob_score=False, random_state=0, verbose=0, warm_start=False)"
      ]
     },
     "execution_count": 315,
     "metadata": {},
     "output_type": "execute_result"
    }
   ],
   "source": [
    "from sklearn.ensemble import RandomForestClassifier\n",
    "x = design_matrix[:8000,]\n",
    "clf = RandomForestClassifier(n_estimators=100, max_depth=2,\n",
    "                             random_state=0)\n",
    "clf.fit(x, y[:8000])"
   ]
  },
  {
   "cell_type": "code",
   "execution_count": 316,
   "metadata": {},
   "outputs": [
    {
     "data": {
      "text/plain": [
       "1.4940235404665827"
      ]
     },
     "execution_count": 316,
     "metadata": {},
     "output_type": "execute_result"
    }
   ],
   "source": [
    "from sklearn.metrics import accuracy_score\n",
    "from sklearn.metrics import mean_squared_error\n",
    "y_true = y[8000:]\n",
    "y_pred = clf.predict(design_matrix[8000:,])\n",
    "accuracy_score(y_true, y_pred)\n",
    "np.sqrt(mean_squared_error(y_true, y_pred))"
   ]
  },
  {
   "cell_type": "markdown",
   "metadata": {},
   "source": [
    "#### tf-idf"
   ]
  },
  {
   "cell_type": "code",
   "execution_count": 1,
   "metadata": {},
   "outputs": [],
   "source": [
    "from sklearn.feature_extraction.text import TfidfVectorizer"
   ]
  },
  {
   "cell_type": "code",
   "execution_count": 334,
   "metadata": {},
   "outputs": [],
   "source": [
    "tf = TfidfVectorizer(analyzer='word', min_df = 1, lowercase = False)"
   ]
  },
  {
   "cell_type": "code",
   "execution_count": 335,
   "metadata": {},
   "outputs": [],
   "source": [
    "response =  tf.fit_transform(new_texts)\n",
    "feature_names = tf.get_feature_names()\n",
    "res_df = pd.DataFrame(response.toarray(),columns = feature_names)"
   ]
  },
  {
   "cell_type": "code",
   "execution_count": 336,
   "metadata": {},
   "outputs": [
    {
     "data": {
      "text/plain": [
       "array([[ 0.,  0.,  0., ...,  0.,  0.,  0.],\n",
       "       [ 0.,  0.,  0., ...,  0.,  0.,  0.],\n",
       "       [ 0.,  0.,  0., ...,  0.,  0.,  0.],\n",
       "       ..., \n",
       "       [ 0.,  0.,  0., ...,  0.,  0.,  0.],\n",
       "       [ 0.,  0.,  0., ...,  0.,  0.,  0.],\n",
       "       [ 0.,  0.,  0., ...,  0.,  0.,  0.]])"
      ]
     },
     "execution_count": 336,
     "metadata": {},
     "output_type": "execute_result"
    }
   ],
   "source": [
    "response.toarray()"
   ]
  },
  {
   "cell_type": "code",
   "execution_count": 337,
   "metadata": {},
   "outputs": [],
   "source": [
    "tfidf_train = response.toarray()[:8000]\n",
    "tfidf_test = response.toarray()[8000:]\n",
    "y_train = y[:8000]\n",
    "y_test = y[8000:]"
   ]
  },
  {
   "cell_type": "code",
   "execution_count": 349,
   "metadata": {},
   "outputs": [
    {
     "data": {
      "text/plain": [
       "1.045733370514965"
      ]
     },
     "execution_count": 349,
     "metadata": {},
     "output_type": "execute_result"
    }
   ],
   "source": [
    "from sklearn.linear_model import LogisticRegression\n",
    "lr=LogisticRegression(multi_class='multinomial',solver='newton-cg’')\n",
    "lr.fit(tfidf_train,y_train)\n",
    "y_pred=lr.predict(tfidf_test)\n",
    "np.sqrt(mean_squared_error(y_test, y_pred))"
   ]
  },
  {
   "cell_type": "code",
   "execution_count": 350,
   "metadata": {},
   "outputs": [
    {
     "data": {
      "text/plain": [
       "0.62167689161554196"
      ]
     },
     "execution_count": 350,
     "metadata": {},
     "output_type": "execute_result"
    }
   ],
   "source": [
    "accuracy_score(y_test, y_pred)"
   ]
  },
  {
   "cell_type": "code",
   "execution_count": 342,
   "metadata": {},
   "outputs": [
    {
     "data": {
      "text/plain": [
       "1.4363635380633137"
      ]
     },
     "execution_count": 342,
     "metadata": {},
     "output_type": "execute_result"
    }
   ],
   "source": [
    "from sklearn import linear_model\n",
    "clf = linear_model.Lasso(alpha=0.1)\n",
    "clf.fit(tfidf_train, y_train)\n",
    "y_pred=clf.predict(tfidf_test)\n",
    "np.sqrt(mean_squared_error(y_test, y_pred))"
   ]
  },
  {
   "cell_type": "markdown",
   "metadata": {},
   "source": [
    "#### tfidf with w2v"
   ]
  },
  {
   "cell_type": "code",
   "execution_count": 276,
   "metadata": {},
   "outputs": [],
   "source": [
    "def gettoptfidf_dict(df,k): #top k\n",
    "    list1 = []\n",
    "    for i in range(len(df)):\n",
    "        value = sorted(df.iloc[i], reverse = True)[:k] \n",
    "        names = np.array(feature_names)[np.argsort(df.iloc[i])[-k:]][::-1]\n",
    "        dd = dict(zip(names,value))\n",
    "        list1.append(dd)\n",
    "    return list1"
   ]
  },
  {
   "cell_type": "code",
   "execution_count": 277,
   "metadata": {},
   "outputs": [],
   "source": [
    "tfidf_final_dict = gettoptfidf_dict(res_df,10)"
   ]
  },
  {
   "cell_type": "code",
   "execution_count": 278,
   "metadata": {},
   "outputs": [],
   "source": [
    "def gettoptfidf_word_array(df,k): \n",
    "    list2 = []\n",
    "    for i in range(len(df)):\n",
    "        names = np.array(feature_names)[np.argsort(df.iloc[i])[-k:]][::-1].tolist()\n",
    "        list2.append(names)\n",
    "    return list2"
   ]
  },
  {
   "cell_type": "code",
   "execution_count": 279,
   "metadata": {},
   "outputs": [],
   "source": [
    "tfidf_final_word_array = gettoptfidf_word_array(res_df,10)"
   ]
  },
  {
   "cell_type": "code",
   "execution_count": 283,
   "metadata": {},
   "outputs": [
    {
     "name": "stderr",
     "output_type": "stream",
     "text": [
      "/anaconda3/lib/python3.6/site-packages/ipykernel_launcher.py:5: DeprecationWarning: Call to deprecated `__getitem__` (Method will be removed in 4.0.0, use self.wv.__getitem__() instead).\n",
      "  \"\"\"\n"
     ]
    }
   ],
   "source": [
    "design_matrix2 = np.zeros([len(new_texts),200])\n",
    "for i in range(design_matrix2.shape[0]):\n",
    "    temp_sent = tfidf_final_word_array[i]\n",
    "    for j in range(len(temp_sent)):\n",
    "        design_matrix2[i] += w2v_model[temp_sent[j]]\n",
    "    design_matrix2[i] = design_matrix2[i]/len(temp_sent)"
   ]
  },
  {
   "cell_type": "code",
   "execution_count": 287,
   "metadata": {},
   "outputs": [
    {
     "data": {
      "text/plain": [
       "(9956, 200)"
      ]
     },
     "execution_count": 287,
     "metadata": {},
     "output_type": "execute_result"
    }
   ],
   "source": [
    "design_matrix2.shape"
   ]
  },
  {
   "cell_type": "code",
   "execution_count": 284,
   "metadata": {},
   "outputs": [
    {
     "data": {
      "text/plain": [
       "RandomForestClassifier(bootstrap=True, class_weight=None, criterion='gini',\n",
       "            max_depth=2, max_features='auto', max_leaf_nodes=None,\n",
       "            min_impurity_decrease=0.0, min_impurity_split=None,\n",
       "            min_samples_leaf=1, min_samples_split=2,\n",
       "            min_weight_fraction_leaf=0.0, n_estimators=100, n_jobs=1,\n",
       "            oob_score=False, random_state=0, verbose=0, warm_start=False)"
      ]
     },
     "execution_count": 284,
     "metadata": {},
     "output_type": "execute_result"
    }
   ],
   "source": [
    "from sklearn.ensemble import RandomForestClassifier\n",
    "y = train_10000_eng[\"stars\"].values[:9000]\n",
    "x = design_matrix2[:9000,]\n",
    "clf = RandomForestClassifier(n_estimators=100, max_depth=2,\n",
    "                             random_state=0)\n",
    "clf.fit(x, y)"
   ]
  },
  {
   "cell_type": "code",
   "execution_count": 285,
   "metadata": {},
   "outputs": [
    {
     "data": {
      "text/plain": [
       "1.7187204542915058"
      ]
     },
     "execution_count": 285,
     "metadata": {},
     "output_type": "execute_result"
    }
   ],
   "source": [
    "from sklearn.metrics import accuracy_score\n",
    "from sklearn.metrics import mean_squared_error\n",
    "y_true = train_10000_eng[\"stars\"].values[-1000:]\n",
    "y_pred = clf.predict(design_matrix2[-1000:,])\n",
    "accuracy_score(y_true, y_pred)\n",
    "np.sqrt(mean_squared_error(y_true, y_pred))"
   ]
  }
 ],
 "metadata": {
  "kernelspec": {
   "display_name": "Python 3",
   "language": "python",
   "name": "python3"
  },
  "language_info": {
   "codemirror_mode": {
    "name": "ipython",
    "version": 3
   },
   "file_extension": ".py",
   "mimetype": "text/x-python",
   "name": "python",
   "nbconvert_exporter": "python",
   "pygments_lexer": "ipython3",
   "version": "3.7.1"
  }
 },
 "nbformat": 4,
 "nbformat_minor": 2
}
